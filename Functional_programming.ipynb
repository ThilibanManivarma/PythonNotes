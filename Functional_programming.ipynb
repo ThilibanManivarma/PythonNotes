{
 "cells": [
  {
   "cell_type": "code",
   "execution_count": 1,
   "id": "73574522",
   "metadata": {},
   "outputs": [
    {
     "data": {
      "text/plain": [
       "<list_iterator at 0x7ffae25e88b0>"
      ]
     },
     "execution_count": 1,
     "metadata": {},
     "output_type": "execute_result"
    }
   ],
   "source": [
    "numbers = list(range(1,11))\n",
    "we_are_gonna_iter_it = iter(numbers)\n",
    "we_are_gonna_iter_it  #it shows that its ready to iteration! "
   ]
  },
  {
   "cell_type": "code",
   "execution_count": 2,
   "id": "0a2e297d",
   "metadata": {},
   "outputs": [
    {
     "data": {
      "text/plain": [
       "1"
      ]
     },
     "execution_count": 2,
     "metadata": {},
     "output_type": "execute_result"
    }
   ],
   "source": [
    "next(we_are_gonna_iter_it)"
   ]
  },
  {
   "cell_type": "code",
   "execution_count": 3,
   "id": "db8be37e",
   "metadata": {},
   "outputs": [
    {
     "data": {
      "text/plain": [
       "4"
      ]
     },
     "execution_count": 3,
     "metadata": {},
     "output_type": "execute_result"
    }
   ],
   "source": [
    "next(we_are_gonna_iter_it)\n",
    "next(we_are_gonna_iter_it)\n",
    "next(we_are_gonna_iter_it)"
   ]
  },
  {
   "cell_type": "code",
   "execution_count": 4,
   "id": "cfc9fbfd",
   "metadata": {},
   "outputs": [
    {
     "data": {
      "text/plain": [
       "5"
      ]
     },
     "execution_count": 4,
     "metadata": {},
     "output_type": "execute_result"
    }
   ],
   "source": [
    "next(we_are_gonna_iter_it)"
   ]
  },
  {
   "cell_type": "code",
   "execution_count": 5,
   "id": "1f651bc9",
   "metadata": {},
   "outputs": [
    {
     "name": "stdout",
     "output_type": "stream",
     "text": [
      "6\n",
      "7\n",
      "8\n",
      "9\n",
      "10\n"
     ]
    }
   ],
   "source": [
    "for i in iter(we_are_gonna_iter_it):\n",
    "    print(i)"
   ]
  },
  {
   "cell_type": "code",
   "execution_count": 6,
   "id": "1ce1f7ea",
   "metadata": {},
   "outputs": [
    {
     "ename": "StopIteration",
     "evalue": "",
     "output_type": "error",
     "traceback": [
      "\u001b[0;31m---------------------------------------------------------------------------\u001b[0m",
      "\u001b[0;31mStopIteration\u001b[0m                             Traceback (most recent call last)",
      "\u001b[0;32m/tmp/ipykernel_555402/1767312577.py\u001b[0m in \u001b[0;36m<module>\u001b[0;34m\u001b[0m\n\u001b[0;32m----> 1\u001b[0;31m \u001b[0mnext\u001b[0m\u001b[0;34m(\u001b[0m\u001b[0mwe_are_gonna_iter_it\u001b[0m\u001b[0;34m)\u001b[0m \u001b[0;31m#Once it reaches to the final element it shows that it doesnt have one more element!\u001b[0m\u001b[0;34m\u001b[0m\u001b[0;34m\u001b[0m\u001b[0m\n\u001b[0m",
      "\u001b[0;31mStopIteration\u001b[0m: "
     ]
    }
   ],
   "source": [
    "next(we_are_gonna_iter_it) #Once it reaches to the final element it shows that it doesnt have one more element! "
   ]
  },
  {
   "cell_type": "code",
   "execution_count": 7,
   "id": "ab2996c5",
   "metadata": {},
   "outputs": [
    {
     "name": "stdout",
     "output_type": "stream",
     "text": [
      "1\n",
      "2\n",
      "thiliban\n",
      "xxx\n"
     ]
    }
   ],
   "source": [
    "list_new = [1,2,'thiliban','xxx']\n",
    "l1 = iter(list_new)\n",
    "for i in l1:\n",
    "    print(i)"
   ]
  },
  {
   "cell_type": "code",
   "execution_count": 8,
   "id": "667a519c",
   "metadata": {},
   "outputs": [
    {
     "ename": "StopIteration",
     "evalue": "",
     "output_type": "error",
     "traceback": [
      "\u001b[0;31m---------------------------------------------------------------------------\u001b[0m",
      "\u001b[0;31mStopIteration\u001b[0m                             Traceback (most recent call last)",
      "\u001b[0;32m/tmp/ipykernel_555402/4069969249.py\u001b[0m in \u001b[0;36m<module>\u001b[0;34m\u001b[0m\n\u001b[0;32m----> 1\u001b[0;31m \u001b[0mnext\u001b[0m\u001b[0;34m(\u001b[0m\u001b[0ml1\u001b[0m\u001b[0;34m)\u001b[0m\u001b[0;34m\u001b[0m\u001b[0;34m\u001b[0m\u001b[0m\n\u001b[0m",
      "\u001b[0;31mStopIteration\u001b[0m: "
     ]
    }
   ],
   "source": [
    "next(l1)"
   ]
  },
  {
   "cell_type": "code",
   "execution_count": 9,
   "id": "ee805fb1",
   "metadata": {},
   "outputs": [
    {
     "ename": "StopIteration",
     "evalue": "",
     "output_type": "error",
     "traceback": [
      "\u001b[0;31m---------------------------------------------------------------------------\u001b[0m",
      "\u001b[0;31mStopIteration\u001b[0m                             Traceback (most recent call last)",
      "\u001b[0;32m/tmp/ipykernel_555402/3297044913.py\u001b[0m in \u001b[0;36m<module>\u001b[0;34m\u001b[0m\n\u001b[1;32m      3\u001b[0m \u001b[0mnext\u001b[0m\u001b[0;34m(\u001b[0m\u001b[0ml2\u001b[0m\u001b[0;34m)\u001b[0m \u001b[0;31m#It prints 'thiliban'\u001b[0m\u001b[0;34m\u001b[0m\u001b[0;34m\u001b[0m\u001b[0m\n\u001b[1;32m      4\u001b[0m \u001b[0mnext\u001b[0m\u001b[0;34m(\u001b[0m\u001b[0ml2\u001b[0m\u001b[0;34m)\u001b[0m \u001b[0;31m#it print 'subashini'\u001b[0m\u001b[0;34m\u001b[0m\u001b[0;34m\u001b[0m\u001b[0m\n\u001b[0;32m----> 5\u001b[0;31m \u001b[0mnext\u001b[0m\u001b[0;34m(\u001b[0m\u001b[0ml2\u001b[0m\u001b[0;34m)\u001b[0m \u001b[0;31m#Once it reaches to the end, it wone be priniting no more!\u001b[0m\u001b[0;34m\u001b[0m\u001b[0;34m\u001b[0m\u001b[0m\n\u001b[0m",
      "\u001b[0;31mStopIteration\u001b[0m: "
     ]
    }
   ],
   "source": [
    "list_2 = ['thiliban', 'xxx']\n",
    "l2 = iter(list_2)\n",
    "next(l2) #It prints 'thiliban'\n",
    "next(l2) #it print 'subashini'\n",
    "next(l2) #Once it reaches to the end, it wone be priniting no more! "
   ]
  },
  {
   "cell_type": "code",
   "execution_count": 10,
   "id": "43fe9ade",
   "metadata": {},
   "outputs": [],
   "source": [
    "#Iterator is an object that contains a countable number of elemnets that can be iterated upon! we can traverse/\n",
    "#go through the countable elements we want! and returns a number once at time! "
   ]
  },
  {
   "cell_type": "code",
   "execution_count": 11,
   "id": "15b151ef",
   "metadata": {},
   "outputs": [],
   "source": [
    "#all the objects in python is iterable, but we need to convert it by the method iter(), when "
   ]
  },
  {
   "cell_type": "code",
   "execution_count": 20,
   "id": "00a62e72",
   "metadata": {},
   "outputs": [
    {
     "name": "stdout",
     "output_type": "stream",
     "text": [
      "1\n",
      "2\n",
      "3\n",
      "4\n",
      "5\n",
      "6\n",
      "7\n",
      "8\n",
      "\n",
      "8\n"
     ]
    }
   ],
   "source": [
    "new_list = []\n",
    "for i in range(10):\n",
    "    new_list.append(input())"
   ]
  },
  {
   "cell_type": "code",
   "execution_count": 21,
   "id": "efca4db1",
   "metadata": {},
   "outputs": [
    {
     "name": "stdout",
     "output_type": "stream",
     "text": [
      "['1', '2', '3', '4', '5', '6', '7', '8', '', '8']\n"
     ]
    }
   ],
   "source": [
    "print(new_list)"
   ]
  },
  {
   "cell_type": "code",
   "execution_count": 22,
   "id": "f3f91709",
   "metadata": {},
   "outputs": [],
   "source": [
    "iter_x = iter(new_list)\n"
   ]
  },
  {
   "cell_type": "code",
   "execution_count": 23,
   "id": "ce7196d3",
   "metadata": {},
   "outputs": [
    {
     "data": {
      "text/plain": [
       "False"
      ]
     },
     "execution_count": 23,
     "metadata": {},
     "output_type": "execute_result"
    }
   ],
   "source": [
    "'flux' in iter_x"
   ]
  },
  {
   "cell_type": "code",
   "execution_count": 24,
   "id": "73532a19",
   "metadata": {},
   "outputs": [],
   "source": [
    "#Generators/List comprehensions!\n",
    "#These two will be common operations on an iterator's, if you want to apply some conditions or to trimm of \n",
    "#Some elements and substring we would be needing list comp/ gene comprehensions ! "
   ]
  },
  {
   "cell_type": "code",
   "execution_count": 25,
   "id": "08efae97",
   "metadata": {},
   "outputs": [
    {
     "data": {
      "text/plain": [
       "'flux'"
      ]
     },
     "execution_count": 25,
     "metadata": {},
     "output_type": "execute_result"
    }
   ],
   "source": [
    "'flux    '.strip()"
   ]
  },
  {
   "cell_type": "code",
   "execution_count": 26,
   "id": "3018b239",
   "metadata": {},
   "outputs": [
    {
     "data": {
      "text/plain": [
       "['flux pavilion', 'thiliban manivarma', 'xxx yyy']"
      ]
     },
     "execution_count": 26,
     "metadata": {},
     "output_type": "execute_result"
    }
   ],
   "source": [
    "names = ['flux pavilion     ', 'thiliban manivarma    ', 'xxx yyy  ']\n",
    "names_modified = [i.strip() for i in names]\n",
    "names_modified"
   ]
  },
  {
   "cell_type": "code",
   "execution_count": 27,
   "id": "eb622b98",
   "metadata": {},
   "outputs": [
    {
     "ename": "SyntaxError",
     "evalue": "invalid syntax (1624256373.py, line 2)",
     "output_type": "error",
     "traceback": [
      "\u001b[0;36m  File \u001b[0;32m\"/tmp/ipykernel_555402/1624256373.py\"\u001b[0;36m, line \u001b[0;32m2\u001b[0m\n\u001b[0;31m    Genetaors fucntions allow you to declare a fucntion that behaves like an iterator! we can easily implemet the\u001b[0m\n\u001b[0m              ^\u001b[0m\n\u001b[0;31mSyntaxError\u001b[0m\u001b[0;31m:\u001b[0m invalid syntax\n"
     ]
    }
   ],
   "source": [
    "#we do we need to use GENERATORS! \n",
    "Genetaors fucntions allow you to declare a fucntion that behaves like an iterator! we can easily implemet the \n",
    "iterator by ()"
   ]
  },
  {
   "cell_type": "code",
   "execution_count": 28,
   "id": "326d344a",
   "metadata": {},
   "outputs": [
    {
     "name": "stdout",
     "output_type": "stream",
     "text": [
      "<class 'generator'>\n",
      "<generator object <genexpr> at 0x7ffae0441580>\n",
      "1\n",
      "2\n",
      "3\n",
      "4\n",
      "5\n",
      "6\n",
      "7\n",
      "8\n",
      "9\n",
      "10\n"
     ]
    }
   ],
   "source": [
    "x = (i for i in range(1,11))\n",
    "print(type(x))\n",
    "print(x)\n",
    "for i in x:\n",
    "    print(i)"
   ]
  },
  {
   "cell_type": "code",
   "execution_count": 29,
   "id": "150e79d3",
   "metadata": {},
   "outputs": [
    {
     "name": "stdout",
     "output_type": "stream",
     "text": [
      "[120, 120, 120]\n"
     ]
    }
   ],
   "source": [
    "list_x = [ord(i) for i in 'xxx']\n",
    "print(list_x)"
   ]
  },
  {
   "cell_type": "code",
   "execution_count": 30,
   "id": "a2eb7fec",
   "metadata": {},
   "outputs": [
    {
     "data": {
      "text/plain": [
       "[4, 3, 5]"
      ]
     },
     "execution_count": 30,
     "metadata": {},
     "output_type": "execute_result"
    }
   ],
   "source": [
    "names = ['flux', 'xxx', 'thili']\n",
    "length = list(map(len, names))\n",
    "length"
   ]
  },
  {
   "cell_type": "raw",
   "id": "d25f8faa",
   "metadata": {},
   "source": [
    "Python's higher order fucntion is generally works as it takes an another fucntion and list as an another argument! "
   ]
  },
  {
   "cell_type": "code",
   "execution_count": 31,
   "id": "60e17d8c",
   "metadata": {},
   "outputs": [
    {
     "data": {
      "text/plain": [
       "[115]"
      ]
     },
     "execution_count": 31,
     "metadata": {},
     "output_type": "execute_result"
    }
   ],
   "source": [
    "orders = list(map(ord, 's'))\n",
    "orders"
   ]
  },
  {
   "cell_type": "code",
   "execution_count": 32,
   "id": "ecbfe13e",
   "metadata": {},
   "outputs": [
    {
     "data": {
      "text/plain": [
       "[2,\n",
       " 4,\n",
       " 6,\n",
       " 8,\n",
       " 10,\n",
       " 12,\n",
       " 14,\n",
       " 16,\n",
       " 18,\n",
       " 20,\n",
       " 22,\n",
       " 24,\n",
       " 26,\n",
       " 28,\n",
       " 30,\n",
       " 32,\n",
       " 34,\n",
       " 36,\n",
       " 38,\n",
       " 40,\n",
       " 42,\n",
       " 44,\n",
       " 46,\n",
       " 48,\n",
       " 50,\n",
       " 52,\n",
       " 54,\n",
       " 56,\n",
       " 58,\n",
       " 60,\n",
       " 62,\n",
       " 64,\n",
       " 66,\n",
       " 68,\n",
       " 70,\n",
       " 72,\n",
       " 74,\n",
       " 76,\n",
       " 78,\n",
       " 80,\n",
       " 82,\n",
       " 84,\n",
       " 86,\n",
       " 88,\n",
       " 90,\n",
       " 92,\n",
       " 94,\n",
       " 96,\n",
       " 98]"
      ]
     },
     "execution_count": 32,
     "metadata": {},
     "output_type": "execute_result"
    }
   ],
   "source": [
    "#How are we gonna use if and other operations inside the list comprehension! \n",
    "\n",
    "x = [i for i in range(1,100) if i%2 == 0]\n",
    "x"
   ]
  },
  {
   "cell_type": "code",
   "execution_count": 33,
   "id": "874a999d",
   "metadata": {},
   "outputs": [
    {
     "data": {
      "text/plain": [
       "[2,\n",
       " 4,\n",
       " 6,\n",
       " 8,\n",
       " 10,\n",
       " 12,\n",
       " 14,\n",
       " 16,\n",
       " 18,\n",
       " 20,\n",
       " 22,\n",
       " 24,\n",
       " 26,\n",
       " 28,\n",
       " 30,\n",
       " 32,\n",
       " 34,\n",
       " 36,\n",
       " 38,\n",
       " 40,\n",
       " 42,\n",
       " 44,\n",
       " 46,\n",
       " 48,\n",
       " 50,\n",
       " 52,\n",
       " 54,\n",
       " 56,\n",
       " 58,\n",
       " 60,\n",
       " 62,\n",
       " 64,\n",
       " 66,\n",
       " 68,\n",
       " 70,\n",
       " 72,\n",
       " 74,\n",
       " 76,\n",
       " 78,\n",
       " 80,\n",
       " 82,\n",
       " 84,\n",
       " 86,\n",
       " 88,\n",
       " 90,\n",
       " 92,\n",
       " 94,\n",
       " 96,\n",
       " 98]"
      ]
     },
     "execution_count": 33,
     "metadata": {},
     "output_type": "execute_result"
    }
   ],
   "source": [
    "y = list(filter(lambda x : x %2 ==0, range(1,100)))\n",
    "y"
   ]
  },
  {
   "cell_type": "code",
   "execution_count": 34,
   "id": "e793b76b",
   "metadata": {},
   "outputs": [
    {
     "data": {
      "text/plain": [
       "[4, 16, 36, 64, 100]"
      ]
     },
     "execution_count": 34,
     "metadata": {},
     "output_type": "execute_result"
    }
   ],
   "source": [
    "#Squares of even numbers \n",
    "\n",
    "squares = [i ** 2 for i in range(1,11) if i%2 == 0]\n",
    "squares"
   ]
  },
  {
   "cell_type": "code",
   "execution_count": 35,
   "id": "7d32019f",
   "metadata": {},
   "outputs": [
    {
     "data": {
      "text/plain": [
       "[0, 4, 16, 36, 64, 100]"
      ]
     },
     "execution_count": 35,
     "metadata": {},
     "output_type": "execute_result"
    }
   ],
   "source": [
    "squares_x = list(map((lambda x :x ** 2), filter((lambda x : x % 2 == 0 ), range(11))))\n",
    "squares_x"
   ]
  },
  {
   "cell_type": "code",
   "execution_count": 36,
   "id": "395bf8ec",
   "metadata": {},
   "outputs": [
    {
     "data": {
      "text/plain": [
       "['00',\n",
       " '01',\n",
       " '02',\n",
       " '03',\n",
       " '04',\n",
       " '10',\n",
       " '11',\n",
       " '12',\n",
       " '13',\n",
       " '14',\n",
       " '20',\n",
       " '21',\n",
       " '22',\n",
       " '23',\n",
       " '24',\n",
       " '30',\n",
       " '31',\n",
       " '32',\n",
       " '33',\n",
       " '34',\n",
       " '40',\n",
       " '41',\n",
       " '42',\n",
       " '43',\n",
       " '44']"
      ]
     },
     "execution_count": 36,
     "metadata": {},
     "output_type": "execute_result"
    }
   ],
   "source": [
    "#nested for loops inside the list comphrensions! \n",
    "xx = [str(i) + str(j)  for i in range(5) for j in range(5)]\n",
    "xx\n"
   ]
  },
  {
   "cell_type": "code",
   "execution_count": 37,
   "id": "1a670ff3",
   "metadata": {},
   "outputs": [
    {
     "data": {
      "text/plain": [
       "[0,\n",
       " 1,\n",
       " 2,\n",
       " 3,\n",
       " 4,\n",
       " 10,\n",
       " 11,\n",
       " 12,\n",
       " 13,\n",
       " 14,\n",
       " 20,\n",
       " 21,\n",
       " 22,\n",
       " 23,\n",
       " 24,\n",
       " 30,\n",
       " 31,\n",
       " 32,\n",
       " 33,\n",
       " 34,\n",
       " 40,\n",
       " 41,\n",
       " 42,\n",
       " 43,\n",
       " 44]"
      ]
     },
     "execution_count": 37,
     "metadata": {},
     "output_type": "execute_result"
    }
   ],
   "source": [
    "convert_int = list(map(int,xx))\n",
    "convert_int"
   ]
  },
  {
   "cell_type": "code",
   "execution_count": 38,
   "id": "212b8ffe",
   "metadata": {},
   "outputs": [
    {
     "data": {
      "text/plain": [
       "['b', 'a', 'n']"
      ]
     },
     "execution_count": 38,
     "metadata": {},
     "output_type": "execute_result"
    }
   ],
   "source": [
    "charc_check = [ x for x in 'thiliban' if x in ['b','a','n']]\n",
    "charc_check"
   ]
  },
  {
   "cell_type": "code",
   "execution_count": 39,
   "id": "7551bba3",
   "metadata": {},
   "outputs": [
    {
     "data": {
      "text/plain": [
       "[(2, 22),\n",
       " (2, 24),\n",
       " (2, 26),\n",
       " (2, 28),\n",
       " (2, 30),\n",
       " (2, 32),\n",
       " (2, 34),\n",
       " (2, 36),\n",
       " (2, 38),\n",
       " (2, 40),\n",
       " (2, 42),\n",
       " (2, 44),\n",
       " (2, 46),\n",
       " (2, 48),\n",
       " (2, 50),\n",
       " (2, 52),\n",
       " (2, 54),\n",
       " (2, 56),\n",
       " (2, 58),\n",
       " (2, 60),\n",
       " (2, 62),\n",
       " (2, 64),\n",
       " (2, 66),\n",
       " (2, 68),\n",
       " (2, 70),\n",
       " (2, 72),\n",
       " (2, 74),\n",
       " (4, 22),\n",
       " (4, 24),\n",
       " (4, 26),\n",
       " (4, 28),\n",
       " (4, 30),\n",
       " (4, 32),\n",
       " (4, 34),\n",
       " (4, 36),\n",
       " (4, 38),\n",
       " (4, 40),\n",
       " (4, 42),\n",
       " (4, 44),\n",
       " (4, 46),\n",
       " (4, 48),\n",
       " (4, 50),\n",
       " (4, 52),\n",
       " (4, 54),\n",
       " (4, 56),\n",
       " (4, 58),\n",
       " (4, 60),\n",
       " (4, 62),\n",
       " (4, 64),\n",
       " (4, 66),\n",
       " (4, 68),\n",
       " (4, 70),\n",
       " (4, 72),\n",
       " (4, 74),\n",
       " (6, 22),\n",
       " (6, 24),\n",
       " (6, 26),\n",
       " (6, 28),\n",
       " (6, 30),\n",
       " (6, 32),\n",
       " (6, 34),\n",
       " (6, 36),\n",
       " (6, 38),\n",
       " (6, 40),\n",
       " (6, 42),\n",
       " (6, 44),\n",
       " (6, 46),\n",
       " (6, 48),\n",
       " (6, 50),\n",
       " (6, 52),\n",
       " (6, 54),\n",
       " (6, 56),\n",
       " (6, 58),\n",
       " (6, 60),\n",
       " (6, 62),\n",
       " (6, 64),\n",
       " (6, 66),\n",
       " (6, 68),\n",
       " (6, 70),\n",
       " (6, 72),\n",
       " (6, 74),\n",
       " (8, 22),\n",
       " (8, 24),\n",
       " (8, 26),\n",
       " (8, 28),\n",
       " (8, 30),\n",
       " (8, 32),\n",
       " (8, 34),\n",
       " (8, 36),\n",
       " (8, 38),\n",
       " (8, 40),\n",
       " (8, 42),\n",
       " (8, 44),\n",
       " (8, 46),\n",
       " (8, 48),\n",
       " (8, 50),\n",
       " (8, 52),\n",
       " (8, 54),\n",
       " (8, 56),\n",
       " (8, 58),\n",
       " (8, 60),\n",
       " (8, 62),\n",
       " (8, 64),\n",
       " (8, 66),\n",
       " (8, 68),\n",
       " (8, 70),\n",
       " (8, 72),\n",
       " (8, 74),\n",
       " (10, 22),\n",
       " (10, 24),\n",
       " (10, 26),\n",
       " (10, 28),\n",
       " (10, 30),\n",
       " (10, 32),\n",
       " (10, 34),\n",
       " (10, 36),\n",
       " (10, 38),\n",
       " (10, 40),\n",
       " (10, 42),\n",
       " (10, 44),\n",
       " (10, 46),\n",
       " (10, 48),\n",
       " (10, 50),\n",
       " (10, 52),\n",
       " (10, 54),\n",
       " (10, 56),\n",
       " (10, 58),\n",
       " (10, 60),\n",
       " (10, 62),\n",
       " (10, 64),\n",
       " (10, 66),\n",
       " (10, 68),\n",
       " (10, 70),\n",
       " (10, 72),\n",
       " (10, 74)]"
      ]
     },
     "execution_count": 39,
     "metadata": {},
     "output_type": "execute_result"
    }
   ],
   "source": [
    "[(i,j) for i in range(1,11) if i%2 ==0 for j in range(21,75) if j%2 == 0]"
   ]
  },
  {
   "cell_type": "code",
   "execution_count": 40,
   "id": "cc56b9d6",
   "metadata": {},
   "outputs": [
    {
     "data": {
      "text/plain": [
       "['Hi my name is thiliban and I would like to know that I am gonna be teaching',\n",
       " 'python to the people!']"
      ]
     },
     "execution_count": 40,
     "metadata": {},
     "output_type": "execute_result"
    }
   ],
   "source": [
    "[i.rstrip() for i in open('thiliban.txt').readlines()]"
   ]
  },
  {
   "cell_type": "code",
   "execution_count": 41,
   "id": "941602a5",
   "metadata": {},
   "outputs": [
    {
     "name": "stdout",
     "output_type": "stream",
     "text": [
      "<generator object generator at 0x7ffae0455270>\n",
      "<function generator at 0x7ffae04448b0>\n",
      "[0, 1, 4, 9, 16, 25, 36, 49, 64, 81]\n"
     ]
    }
   ],
   "source": [
    "def generator():\n",
    "    yield [i*i for i in range(10)]\n",
    "    \n",
    "g = generator()\n",
    "print(g)\n",
    "print(generator)\n",
    "\n",
    "for i in g : print(i)"
   ]
  },
  {
   "cell_type": "code",
   "execution_count": 42,
   "id": "dd479ef2",
   "metadata": {},
   "outputs": [
    {
     "name": "stdout",
     "output_type": "stream",
     "text": [
      "<generator object <genexpr> at 0x7ffae0455820>\n",
      "0\n",
      "1\n",
      "4\n",
      "9\n",
      "16\n",
      "25\n",
      "36\n",
      "49\n",
      "64\n",
      "81\n"
     ]
    }
   ],
   "source": [
    "generator = (i*i for i in range(10)) #Here we are returing the object alone instead of returning a list! \n",
    "print(generator) \n",
    "\n",
    "for i in generator: print(i)"
   ]
  },
  {
   "cell_type": "code",
   "execution_count": 43,
   "id": "515599ba",
   "metadata": {},
   "outputs": [
    {
     "name": "stdout",
     "output_type": "stream",
     "text": [
      "<generator object printer at 0x7ffae0455900>\n"
     ]
    }
   ],
   "source": [
    "def printer():\n",
    "    for i in range(1,15,3):\n",
    "        yield i\n",
    "    \n",
    "p = printer()\n",
    "print(p) #As soon as we create a variable yield it automatically treats it as Generator! \n"
   ]
  },
  {
   "cell_type": "code",
   "execution_count": 44,
   "id": "81c4cf83",
   "metadata": {},
   "outputs": [
    {
     "name": "stdout",
     "output_type": "stream",
     "text": [
      "1\n",
      "4\n",
      "7\n",
      "10\n",
      "13\n"
     ]
    }
   ],
   "source": [
    "for i in p: print(i)"
   ]
  },
  {
   "cell_type": "code",
   "execution_count": 45,
   "id": "c81454be",
   "metadata": {},
   "outputs": [
    {
     "name": "stdout",
     "output_type": "stream",
     "text": [
      "<str_iterator object at 0x7ffae044a5e0>\n",
      "f\n",
      "l\n",
      "u\n",
      "x\n"
     ]
    }
   ],
   "source": [
    "#Iterables are almost every where in python! python files, list, strings, set, dict, all the objects here \n",
    "#Are iterables once you make it as iter() --> It turns out them as Iterators! \n",
    "\n",
    "iterators = 'flux'\n",
    "i = iter(iterators)\n",
    "print(i)\n",
    "\n",
    "for x in i: print(x)"
   ]
  },
  {
   "cell_type": "code",
   "execution_count": 46,
   "id": "0388ba7b",
   "metadata": {},
   "outputs": [
    {
     "ename": "StopIteration",
     "evalue": "",
     "output_type": "error",
     "traceback": [
      "\u001b[0;31m---------------------------------------------------------------------------\u001b[0m",
      "\u001b[0;31mStopIteration\u001b[0m                             Traceback (most recent call last)",
      "\u001b[0;32m/tmp/ipykernel_555402/1553313337.py\u001b[0m in \u001b[0;36m<module>\u001b[0;34m\u001b[0m\n\u001b[0;32m----> 1\u001b[0;31m \u001b[0mnext\u001b[0m\u001b[0;34m(\u001b[0m\u001b[0mi\u001b[0m\u001b[0;34m)\u001b[0m \u001b[0;31m#Once all the items in the object of iterables get printed, it stops the iteratioN!\u001b[0m\u001b[0;34m\u001b[0m\u001b[0;34m\u001b[0m\u001b[0m\n\u001b[0m",
      "\u001b[0;31mStopIteration\u001b[0m: "
     ]
    }
   ],
   "source": [
    "next(i) #Once all the items in the object of iterables get printed, it stops the iteratioN!"
   ]
  },
  {
   "cell_type": "code",
   "execution_count": 47,
   "id": "3804536a",
   "metadata": {},
   "outputs": [
    {
     "name": "stdout",
     "output_type": "stream",
     "text": [
      "140715581745072\n",
      "140715581745072\n",
      "140715581745072\n",
      "140715581745072\n",
      "140715581745072\n",
      "140715581745072\n"
     ]
    }
   ],
   "source": [
    "name = 'xxxxxx'\n",
    "s = iter(name)\n",
    "\n",
    "for i in s: print(id(i))"
   ]
  },
  {
   "cell_type": "code",
   "execution_count": 48,
   "id": "a01ee7ed",
   "metadata": {},
   "outputs": [
    {
     "name": "stdout",
     "output_type": "stream",
     "text": [
      "['__add__', '__class__', '__contains__', '__delattr__', '__delitem__', '__dir__', '__doc__', '__eq__', '__format__', '__ge__', '__getattribute__', '__getitem__', '__gt__', '__hash__', '__iadd__', '__imul__', '__init__', '__init_subclass__', '__iter__', '__le__', '__len__', '__lt__', '__mul__', '__ne__', '__new__', '__reduce__', '__reduce_ex__', '__repr__', '__reversed__', '__rmul__', '__setattr__', '__setitem__', '__sizeof__', '__str__', '__subclasshook__', 'append', 'clear', 'copy', 'count', 'extend', 'index', 'insert', 'pop', 'remove', 'reverse', 'sort']\n"
     ]
    }
   ],
   "source": [
    "list_x = ['poland', 'india']\n",
    "print(dir(list_x))"
   ]
  },
  {
   "cell_type": "code",
   "execution_count": 49,
   "id": "890280ae",
   "metadata": {},
   "outputs": [
    {
     "ename": "StopIteration",
     "evalue": "",
     "output_type": "error",
     "traceback": [
      "\u001b[0;31m---------------------------------------------------------------------------\u001b[0m",
      "\u001b[0;31mStopIteration\u001b[0m                             Traceback (most recent call last)",
      "\u001b[0;32m/tmp/ipykernel_555402/2988642824.py\u001b[0m in \u001b[0;36m<module>\u001b[0;34m\u001b[0m\n\u001b[1;32m      2\u001b[0m \u001b[0mnext\u001b[0m\u001b[0;34m(\u001b[0m\u001b[0ml\u001b[0m\u001b[0;34m)\u001b[0m\u001b[0;34m\u001b[0m\u001b[0;34m\u001b[0m\u001b[0m\n\u001b[1;32m      3\u001b[0m \u001b[0mnext\u001b[0m\u001b[0;34m(\u001b[0m\u001b[0ml\u001b[0m\u001b[0;34m)\u001b[0m\u001b[0;34m\u001b[0m\u001b[0;34m\u001b[0m\u001b[0m\n\u001b[0;32m----> 4\u001b[0;31m \u001b[0mnext\u001b[0m\u001b[0;34m(\u001b[0m\u001b[0ml\u001b[0m\u001b[0;34m)\u001b[0m \u001b[0;31m#Once the items inside the colleection gets completed, it stops iterating!\u001b[0m\u001b[0;34m\u001b[0m\u001b[0;34m\u001b[0m\u001b[0m\n\u001b[0m",
      "\u001b[0;31mStopIteration\u001b[0m: "
     ]
    }
   ],
   "source": [
    "l = iter(list_x)\n",
    "next(l)\n",
    "next(l)\n",
    "next(l) #Once the items inside the colleection gets completed, it stops iterating! "
   ]
  },
  {
   "cell_type": "markdown",
   "id": "d4bb9c4d",
   "metadata": {},
   "source": [
    "What are Iterables?\n",
    "\n",
    "     Iterables are objects that can be iterated in iterations.\n",
    "     \n",
    "Iterable is an object which can be looped over or iterated over with the help of a for loop.\n",
    "\n",
    "Objects like lists, tuples, sets, dictionaries, strings, etc. are called iterables. In short and simpler terms, iterable is anything that you can loop over.\n",
    "\n",
    "In simpler words, iterable is a container that has data or values and we perform an iteration over it to get elements one by one. (Can traverse through all the given values one by one)\n",
    "\n",
    "\n",
    "Iterable has an in-built dunder method __iter__.\n",
    "\n",
    "\n",
    "An object is called an iterable if you can get an iterator out of it. (example) list is not an interator, iter(list), iter(dict)"
   ]
  },
  {
   "cell_type": "code",
   "execution_count": null,
   "id": "f3f39709",
   "metadata": {},
   "outputs": [],
   "source": []
  },
  {
   "cell_type": "code",
   "execution_count": null,
   "id": "88401394",
   "metadata": {},
   "outputs": [],
   "source": []
  },
  {
   "cell_type": "code",
   "execution_count": null,
   "id": "c6936946",
   "metadata": {},
   "outputs": [],
   "source": []
  },
  {
   "cell_type": "code",
   "execution_count": null,
   "id": "449b97b9",
   "metadata": {},
   "outputs": [],
   "source": []
  },
  {
   "cell_type": "code",
   "execution_count": null,
   "id": "4577840f",
   "metadata": {},
   "outputs": [],
   "source": []
  },
  {
   "cell_type": "code",
   "execution_count": null,
   "id": "ebf25ff7",
   "metadata": {},
   "outputs": [],
   "source": []
  },
  {
   "cell_type": "code",
   "execution_count": null,
   "id": "b3d5bc8e",
   "metadata": {},
   "outputs": [],
   "source": []
  }
 ],
 "metadata": {
  "kernelspec": {
   "display_name": "Python 3",
   "language": "python",
   "name": "python3"
  },
  "language_info": {
   "codemirror_mode": {
    "name": "ipython",
    "version": 3
   },
   "file_extension": ".py",
   "mimetype": "text/x-python",
   "name": "python",
   "nbconvert_exporter": "python",
   "pygments_lexer": "ipython3",
   "version": "3.8.8"
  }
 },
 "nbformat": 4,
 "nbformat_minor": 5
}
