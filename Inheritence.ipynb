{
 "cells": [
  {
   "cell_type": "markdown",
   "id": "a762fdcf",
   "metadata": {},
   "source": [
    "Python not only supports inheritance but multiple inheritance as well. Generally speaking, inheritance is the mechanism of deriving new classes from existing ones. \n",
    "\n",
    "By doing this, we get a hierarchy of classes. In most class-based object-oriented languages, an object created through inheritance (a \"child object\") acquires all, - though there are exceptions in some programming languages, - of the properties and behaviors of the parent object.\n",
    "\n",
    "Inheritance allows programmers to create classes that are built upon existing classes, and this enables a class created through inheritance to inherit the attributes and methods of the parent class.\n",
    "\n",
    "This means that inheritance supports code reusability. The methods or generally speaking the software inherited by a subclass is considered to be reused in the subclass. The relationships of objects or classes through inheritance give rise to a directed graph.\n",
    "\n",
    "The class from which a class inherits is called the parent or superclass. A class which inherits from a superclass is called a subclass, also called heir class or child class. Superclasses are sometimes called ancestors as well\n",
    "\n",
    "Syntax of Inheritance in Python\n",
    "\n",
    "class DerivedClassName(BaseClassName):\n",
    "    pass"
   ]
  },
  {
   "cell_type": "code",
   "execution_count": 4,
   "id": "5b945af1",
   "metadata": {},
   "outputs": [
    {
     "name": "stdout",
     "output_type": "stream",
     "text": [
      "HI MY NAME ISSS FLUX PAVILION!\n",
      "<__main__.Robot object at 0x7fc2b894aa30> <class '__main__.Robot'>\n",
      "<__main__.PhysicianRobot object at 0x7fc2b894ac70> <class '__main__.PhysicianRobot'>\n",
      "HI MY NAME ISSS THILIBAN\n"
     ]
    }
   ],
   "source": [
    "class Robot:\n",
    "    \n",
    "    def __init__(self,name):\n",
    "        self.name = name \n",
    "        \n",
    "    def say_hi(self):\n",
    "        print('HI MY NAME ISSS', self.name)\n",
    "        \n",
    "class PhysicianRobot(Robot): #This class doesnt have any methods/attributes still it prints and gets the say_hi\n",
    "    #as we inherit this to the base class Robot!!!! PhysicianRobot is a subclass of Robot!\n",
    "    \n",
    "    pass\n",
    "\n",
    "x = Robot('FLUX PAVILION!')\n",
    "x.say_hi()\n",
    "\n",
    "y = PhysicianRobot('THILIBAN') #Here the base class Robot got inherited to the child class!!!!\n",
    "\n",
    "print(x, type(x))\n",
    "print(y, type(y)) \n",
    "y.say_hi()"
   ]
  },
  {
   "cell_type": "code",
   "execution_count": 7,
   "id": "e3ce7e77",
   "metadata": {},
   "outputs": [
    {
     "data": {
      "text/plain": [
       "False"
      ]
     },
     "execution_count": 7,
     "metadata": {},
     "output_type": "execute_result"
    }
   ],
   "source": [
    "isinstance(100, float) #isinstance takes two variables, one is variable to check \n",
    "#and next one is what type it belongs to"
   ]
  },
  {
   "cell_type": "code",
   "execution_count": 8,
   "id": "32a79499",
   "metadata": {},
   "outputs": [
    {
     "data": {
      "text/plain": [
       "True"
      ]
     },
     "execution_count": 8,
     "metadata": {},
     "output_type": "execute_result"
    }
   ],
   "source": [
    "isinstance('flux',str)"
   ]
  },
  {
   "cell_type": "code",
   "execution_count": 15,
   "id": "9d07de48",
   "metadata": {},
   "outputs": [
    {
     "name": "stdout",
     "output_type": "stream",
     "text": [
      "True True\n",
      "False\n",
      "True\n",
      "False\n",
      "True\n",
      "True\n",
      "False\n"
     ]
    }
   ],
   "source": [
    "#Two check two instances! \n",
    "\n",
    "print(isinstance(x,Robot), isinstance(y,Robot))\n",
    "print(isinstance(x, PhysicianRobot))\n",
    "print(isinstance(y, PhysicianRobot))\n",
    "print(type(x) == type(y))\n",
    "print(type(x) == Robot)\n",
    "print(type(y) == PhysicianRobot)\n",
    "print(type(y) == Robot)"
   ]
  },
  {
   "cell_type": "code",
   "execution_count": 19,
   "id": "c7410c5d",
   "metadata": {},
   "outputs": [
    {
     "name": "stdout",
     "output_type": "stream",
     "text": [
      "True\n",
      "True\n",
      "True\n"
     ]
    }
   ],
   "source": [
    "class Appa:\n",
    "    pass \n",
    "\n",
    "class Thiliban(Appa):\n",
    "    pass\n",
    "\n",
    "class XXX(Thiliban):\n",
    "    pass\n",
    "\n",
    "a = XXX()\n",
    "\n",
    "print(isinstance(a,Thiliban))\n",
    "print(isinstance(a,Appa))\n",
    "print(isinstance(a,XXX))"
   ]
  },
  {
   "cell_type": "code",
   "execution_count": 24,
   "id": "44f9f087",
   "metadata": {},
   "outputs": [
    {
     "name": "stdout",
     "output_type": "stream",
     "text": [
      "False\n",
      "True\n",
      "True\n"
     ]
    }
   ],
   "source": [
    "class Appa_1:\n",
    "    pass \n",
    "\n",
    "class Thiliban_1:\n",
    "    pass\n",
    "\n",
    "class XXX_1(Appa_1):\n",
    "    pass\n",
    "\n",
    "b = XXX_1()\n",
    "print(isinstance(b,Thiliban_1)) #Since Thiliban_1 doesnt involve/doesnt get inherited from any, it returns False!\n",
    "print(isinstance(b,XXX_1))\n",
    "print(isinstance(b, Appa_1)) #But XXX_1 class got inherited from Appa_1!!! "
   ]
  },
  {
   "cell_type": "code",
   "execution_count": null,
   "id": "6c426e40",
   "metadata": {},
   "outputs": [],
   "source": [
    "#Overriding! "
   ]
  },
  {
   "cell_type": "code",
   "execution_count": 27,
   "id": "9ef8f3f0",
   "metadata": {},
   "outputs": [
    {
     "name": "stdout",
     "output_type": "stream",
     "text": [
      "HI FOLKS!, this is MENTALCORE!\n",
      "HAVE A NICE TIME!!!! PEACEEEEEEE!!\n"
     ]
    }
   ],
   "source": [
    "class Robot:\n",
    "    \n",
    "    def __init__(self,name):\n",
    "        self.name = name \n",
    "        \n",
    "    def say_hi(self): #method/function name is say_hi!\n",
    "        print('HI I AM', self.name)\n",
    "        \n",
    "class PhysicianRobotNew(Robot):\n",
    "    \n",
    "    def say_hi(self): #Here re-modified/defined the same function name with different contents! XD!!\n",
    "        #It is called overriding! We simply, modified the function! \n",
    "        \n",
    "        #A method from a parent class gets overridden by simply defining a method with the same name in the child class1!\n",
    "        \n",
    "        #Here PhysicianRobot_new is the child class and got inherited from the main/base class Robot!!\n",
    "        print('HI FOLKS!, this is', self.name)\n",
    "        print('HAVE A NICE TIME!!!! PEACEEEEEEE!!')\n",
    "        \n",
    "z = PhysicianRobotNew('MENTALCORE!')\n",
    "z.say_hi()"
   ]
  },
  {
   "cell_type": "code",
   "execution_count": 1,
   "id": "8aee2666",
   "metadata": {},
   "outputs": [],
   "source": [
    "import random"
   ]
  },
  {
   "cell_type": "code",
   "execution_count": 3,
   "id": "23ed56be",
   "metadata": {},
   "outputs": [
    {
     "name": "stdout",
     "output_type": "stream",
     "text": [
      "2 2\n",
      "3 4\n",
      "6 5\n",
      "3 3\n",
      "5 4\n"
     ]
    }
   ],
   "source": [
    "class Die(object):\n",
    "    \n",
    "    \"\"\"simulation generic die\"\"\"\n",
    "    \n",
    "    def __init__(self):\n",
    "        self.sides = 6\n",
    "        self.roll()\n",
    "        \n",
    "    def roll(self):\n",
    "        \"\"\"roll() -> number\n",
    "        Updates the die with a random doll!\"\"\"\n",
    "        self.value = 1+random.randrange(self.sides)\n",
    "        return self.value\n",
    "    \n",
    "    def getValue(self):\n",
    "        \"\"\"getValue() -> number\n",
    "        Return the last value set by roll()\"\"\"\n",
    "        return self.value\n",
    "    \n",
    "def main():\n",
    "    d1,d2 = Die(),Die()\n",
    "    for n in range(5):\n",
    "        print(d1.roll(),d2.roll())\n",
    "        \n",
    "main()\n",
    "        "
   ]
  },
  {
   "cell_type": "code",
   "execution_count": null,
   "id": "dc3c98cb",
   "metadata": {},
   "outputs": [],
   "source": []
  },
  {
   "cell_type": "code",
   "execution_count": null,
   "id": "0c6ec70a",
   "metadata": {},
   "outputs": [],
   "source": []
  },
  {
   "cell_type": "code",
   "execution_count": null,
   "id": "ddf8af23",
   "metadata": {},
   "outputs": [],
   "source": []
  },
  {
   "cell_type": "code",
   "execution_count": null,
   "id": "8e274e30",
   "metadata": {},
   "outputs": [],
   "source": []
  },
  {
   "cell_type": "code",
   "execution_count": null,
   "id": "c97e888f",
   "metadata": {},
   "outputs": [],
   "source": []
  },
  {
   "cell_type": "code",
   "execution_count": null,
   "id": "b76830c2",
   "metadata": {},
   "outputs": [],
   "source": []
  },
  {
   "cell_type": "code",
   "execution_count": null,
   "id": "3f2d2bb0",
   "metadata": {},
   "outputs": [],
   "source": []
  },
  {
   "cell_type": "code",
   "execution_count": null,
   "id": "54c79b1c",
   "metadata": {},
   "outputs": [],
   "source": []
  },
  {
   "cell_type": "code",
   "execution_count": null,
   "id": "df503a3d",
   "metadata": {},
   "outputs": [],
   "source": []
  },
  {
   "cell_type": "code",
   "execution_count": null,
   "id": "b0f998ee",
   "metadata": {},
   "outputs": [],
   "source": []
  },
  {
   "cell_type": "code",
   "execution_count": null,
   "id": "b588eab2",
   "metadata": {},
   "outputs": [],
   "source": []
  },
  {
   "cell_type": "code",
   "execution_count": null,
   "id": "ed8813e0",
   "metadata": {},
   "outputs": [],
   "source": []
  },
  {
   "cell_type": "code",
   "execution_count": null,
   "id": "903d091e",
   "metadata": {},
   "outputs": [],
   "source": []
  }
 ],
 "metadata": {
  "kernelspec": {
   "display_name": "Python 3",
   "language": "python",
   "name": "python3"
  },
  "language_info": {
   "codemirror_mode": {
    "name": "ipython",
    "version": 3
   },
   "file_extension": ".py",
   "mimetype": "text/x-python",
   "name": "python",
   "nbconvert_exporter": "python",
   "pygments_lexer": "ipython3",
   "version": "3.8.8"
  }
 },
 "nbformat": 4,
 "nbformat_minor": 5
}
