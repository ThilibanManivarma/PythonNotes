{
 "cells": [
  {
   "cell_type": "markdown",
   "id": "80e0eb42",
   "metadata": {},
   "source": [
    "Programming involves:\n",
    "\n",
    "    1) Understanding and formulating the problem\n",
    "    2) Designing an algorithm to solve the problem\n",
    "    3) Implementing the algorithm\n",
    "\n",
    "\n",
    "\n",
    "\n",
    "Machine code, also known as machine language, is the elemental language of computers. It is read by the computer's central processing unit (CPU), is composed of digital binary numbers and looks like a very long sequence of zeros and ones. Ultimately, the source code of every human-readable programming language must be translated to machine language by a compiler or an interpreter, because binary code is the only language that computer hardware can understand.\n",
    "\n",
    "Machine code is what the computer understands, but us writing machine code will be tedious.\n",
    "\n",
    "Interpreted Languages\n",
    "\n",
    "When you write a program in C/C++, you have to compile it. Compilation involves translating your human understandable code to machine understandable code, or Machine Code.\n",
    "\n",
    "Machine code is the base level form of instructions that can be directly executed by the CPU. \n",
    "\n",
    " Upon successful compilation, your code generates an executable file. Executing this file runs the operations in your code step by step.\n",
    " \n",
    "Human readable/code --> after compilation, it generated executable file --> "
   ]
  },
  {
   "cell_type": "markdown",
   "id": "f9d08349",
   "metadata": {},
   "source": [
    "    Python is an interpreted, high-level, general-purpose programming language. It is is dynamically typed and garbage-collected."
   ]
  },
  {
   "cell_type": "markdown",
   "id": "735ed73d",
   "metadata": {},
   "source": [
    "For the most part, Python is an interpreted language and not a compiled one, although compilation is a step. Python code, written in .py file is first compiled to what is called bytecode (discussed in detail further) which is stored with a .pyc or .pyo format.\n",
    "\n",
    "Python is called an interpreted language because it goes through an interpreter, which turns code you write into the language understood by your computer’s processor. Later on when you work on a project on your own computer, you will download and use the Python interpreter to be able to write Python code and execute it on your own!\n",
    "\n",
    "\n",
    "WHY PYTHON IS SLOWWWW??\n",
    "\n",
    "Now while the term is relative and argued a lot, the reason for being slow is because the interpreter has to do extra work to have the bytecode instruction translated into a form that can be executed on the machine. "
   ]
  },
  {
   "cell_type": "markdown",
   "id": "a42a5aac",
   "metadata": {},
   "source": [
    "In simple words, interpreted language means that it's every code is executed..I.e. it's output is generated directly without any compilation.\n",
    "\n",
    "Now in compilation, source code is first converted to object code and then to the machine code.\n",
    "\n",
    "But in interpreted language, every single line is converted to machine code directly. That's why Python is very slow, because it interpret one line at a time."
   ]
  },
  {
   "cell_type": "code",
   "execution_count": null,
   "id": "7a828170",
   "metadata": {},
   "outputs": [],
   "source": []
  },
  {
   "cell_type": "code",
   "execution_count": null,
   "id": "5956c87e",
   "metadata": {},
   "outputs": [],
   "source": []
  },
  {
   "cell_type": "code",
   "execution_count": null,
   "id": "b5962b18",
   "metadata": {},
   "outputs": [],
   "source": []
  },
  {
   "cell_type": "code",
   "execution_count": null,
   "id": "51dce8f7",
   "metadata": {},
   "outputs": [],
   "source": []
  },
  {
   "cell_type": "code",
   "execution_count": null,
   "id": "3fed8103",
   "metadata": {},
   "outputs": [],
   "source": []
  },
  {
   "cell_type": "code",
   "execution_count": null,
   "id": "9f53bd98",
   "metadata": {},
   "outputs": [],
   "source": []
  },
  {
   "cell_type": "code",
   "execution_count": null,
   "id": "5fb02a3d",
   "metadata": {},
   "outputs": [],
   "source": []
  },
  {
   "cell_type": "code",
   "execution_count": null,
   "id": "c1e7d85f",
   "metadata": {},
   "outputs": [],
   "source": []
  },
  {
   "cell_type": "code",
   "execution_count": null,
   "id": "8797bb4c",
   "metadata": {},
   "outputs": [],
   "source": []
  },
  {
   "cell_type": "code",
   "execution_count": null,
   "id": "f953ce2e",
   "metadata": {},
   "outputs": [],
   "source": []
  },
  {
   "cell_type": "code",
   "execution_count": null,
   "id": "94d2928f",
   "metadata": {},
   "outputs": [],
   "source": []
  }
 ],
 "metadata": {
  "kernelspec": {
   "display_name": "Python 3",
   "language": "python",
   "name": "python3"
  },
  "language_info": {
   "codemirror_mode": {
    "name": "ipython",
    "version": 3
   },
   "file_extension": ".py",
   "mimetype": "text/x-python",
   "name": "python",
   "nbconvert_exporter": "python",
   "pygments_lexer": "ipython3",
   "version": "3.8.8"
  }
 },
 "nbformat": 4,
 "nbformat_minor": 5
}
