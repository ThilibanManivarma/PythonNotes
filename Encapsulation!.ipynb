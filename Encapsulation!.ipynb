{
 "cells": [
  {
   "cell_type": "code",
   "execution_count": 2,
   "id": "c9552acd",
   "metadata": {},
   "outputs": [
    {
     "name": "stdout",
     "output_type": "stream",
     "text": [
      "flux is getting salary of 200\n",
      "flux is working on UMK\n"
     ]
    }
   ],
   "source": [
    "class Employee:\n",
    "    \n",
    "    def __init__(self,name, salary,project):\n",
    "        self.name = name \n",
    "        self.salary = salary\n",
    "        self.project = project \n",
    "        \n",
    "    def show(self):\n",
    "        print(self.name, 'is getting salary of', self.salary)\n",
    "        \n",
    "    def work(self):\n",
    "        print(self.name, 'is working on', self.project)\n",
    "    \n",
    "emp = Employee('flux',200,'UMK')\n",
    "\n",
    "emp.show()\n",
    "emp.work()\n",
    "    "
   ]
  },
  {
   "cell_type": "markdown",
   "id": "72f62b1c",
   "metadata": {},
   "source": [
    "Here you see the above written code, which is encapsulation where all the data and methods has been invoked as \n",
    "a one part! \n",
    "\n",
    "In this example, we create an Employee class by defining employee attributes such as name and salary as an instance variable and implementing behavior using work() and show() instance methods.\n",
    "\n",
    "Using encapsulation, we can hide an object’s internal representation from the outside. This is called information hiding. \n",
    "\n",
    "Also, encapsulation allows us to restrict accessing variables and methods directly and prevent accidental data modification by creating private data members and methods within a class.\n",
    "\n",
    "Encapsulation is a way to can restrict access to methods and variables from outside of class. \n",
    "\n",
    "Whenever we are working with the class and dealing with sensitive data, providing access to all variables used within the class is not a good choice.\n",
    "\n",
    "Encapsulation can be achieved by declaring the data members and methods of a class either as private or protected.\n",
    "\n",
    "But In Python, we don’t have direct access modifiers like public, private, and protected. We can achieve this by using single underscore and double underscores.\n",
    "\n",
    "Access modifiers limit access to the variables and methods of a class. Python provides three types of access modifiers private, public, and protected.\n",
    "\n",
    "    Public Member: Accessible anywhere from otside oclass.\n",
    "    Private Member: Accessible within the class\n",
    "    Protected Member: Accessible within the class and its sub-classes"
   ]
  },
  {
   "cell_type": "markdown",
   "id": "74881daf",
   "metadata": {},
   "source": [
    "# Public Member"
   ]
  },
  {
   "cell_type": "code",
   "execution_count": 2,
   "id": "ddbe5683",
   "metadata": {},
   "outputs": [
    {
     "name": "stdout",
     "output_type": "stream",
     "text": [
      "Name FLUXPAVILION! Salary 10000\n"
     ]
    }
   ],
   "source": [
    "class Employee: \n",
    "    \n",
    "    def __init__(self,name,salary):\n",
    "        #Public data members\n",
    "        self.name = name \n",
    "        self.salary = salary\n",
    "        \n",
    "    #public instance methods \n",
    "    \n",
    "    def show(self):\n",
    "        \n",
    "        print('Name', self.name, 'Salary', self.salary)\n",
    "        \n",
    "e1 = Employee('FLUXPAVILION!',10000)\n",
    "        \n",
    "e1.show()\n",
    "        \n",
    "    "
   ]
  },
  {
   "cell_type": "markdown",
   "id": "fce5b2a2",
   "metadata": {},
   "source": [
    "# Private Member\n",
    "\n",
    "We can protect variables in the class by marking them private. To define a private variable add two underscores as a prefix at the start of a variable name.\n",
    "\n",
    "Private members are accessible only within the class, and we can’t access them directly from the class objects."
   ]
  },
  {
   "cell_type": "code",
   "execution_count": 4,
   "id": "467c1a40",
   "metadata": {},
   "outputs": [
    {
     "name": "stdout",
     "output_type": "stream",
     "text": [
      "SALARY XXX\n"
     ]
    },
    {
     "ename": "AttributeError",
     "evalue": "'Employee_1' object has no attribute 'salary'",
     "output_type": "error",
     "traceback": [
      "\u001b[0;31m---------------------------------------------------------------------------\u001b[0m",
      "\u001b[0;31mAttributeError\u001b[0m                            Traceback (most recent call last)",
      "\u001b[0;32m/tmp/ipykernel_854661/1850592129.py\u001b[0m in \u001b[0;36m<module>\u001b[0;34m\u001b[0m\n\u001b[1;32m      8\u001b[0m \u001b[0;34m\u001b[0m\u001b[0m\n\u001b[1;32m      9\u001b[0m \u001b[0mprint\u001b[0m\u001b[0;34m(\u001b[0m\u001b[0;34m'SALARY'\u001b[0m\u001b[0;34m,\u001b[0m \u001b[0me2\u001b[0m\u001b[0;34m.\u001b[0m\u001b[0mname\u001b[0m\u001b[0;34m)\u001b[0m\u001b[0;34m\u001b[0m\u001b[0;34m\u001b[0m\u001b[0m\n\u001b[0;32m---> 10\u001b[0;31m \u001b[0mprint\u001b[0m\u001b[0;34m(\u001b[0m\u001b[0;34m'SALARY'\u001b[0m\u001b[0;34m,\u001b[0m \u001b[0me2\u001b[0m\u001b[0;34m.\u001b[0m\u001b[0msalary\u001b[0m\u001b[0;34m)\u001b[0m\u001b[0;34m\u001b[0m\u001b[0;34m\u001b[0m\u001b[0m\n\u001b[0m",
      "\u001b[0;31mAttributeError\u001b[0m: 'Employee_1' object has no attribute 'salary'"
     ]
    }
   ],
   "source": [
    "class Employee_1:\n",
    "    \n",
    "    def __init__(self,name,salary):\n",
    "        self.name = name #public data member!\n",
    "        self.__salary = salary #Double underscore in the prefix makes the variable as private! \n",
    "        \n",
    "e2 = Employee_1('XXX',101)\n",
    "\n",
    "print('SALARY', e2.name)\n",
    "print('SALARY', e2.salary)"
   ]
  },
  {
   "cell_type": "markdown",
   "id": "62d5c1a4",
   "metadata": {},
   "source": [
    "In the above example, the salary is a private variable. As you know, we can’t access the private variable from the outside of that class.\n",
    "\n",
    "We can access private members from outside of a class using the following two approaches\n",
    "\n",
    "    Create public method to access private members\n",
    "    Use name mangling\n",
    "\n",
    "Let’s see each one by one"
   ]
  },
  {
   "cell_type": "code",
   "execution_count": 9,
   "id": "8c567ef3",
   "metadata": {},
   "outputs": [
    {
     "name": "stdout",
     "output_type": "stream",
     "text": [
      "Name :  XXX Salary 101\n"
     ]
    }
   ],
   "source": [
    "class Employee_1:\n",
    "    \n",
    "    def __init__(self,name,salary):\n",
    "        self.name = name #public data member!\n",
    "        self.__salary = salary #Double underscore in the prefix makes the variable as private! \n",
    "        \n",
    "    #create the public method! \n",
    "    \n",
    "    def  show(self):\n",
    "        \n",
    "        #private data members can be accessed from a class! \n",
    "        print('Name : ', self.name, 'Salary', self.__salary)\n",
    "        \n",
    "        \n",
    "e2 = Employee_1('XXX',101)\n",
    "\n",
    "e2.show()\n",
    "#print('SALARY', e2.name)\n",
    "#print('SALARY', e2.salary)"
   ]
  },
  {
   "cell_type": "code",
   "execution_count": 14,
   "id": "a8194efa",
   "metadata": {},
   "outputs": [
    {
     "name": "stdout",
     "output_type": "stream",
     "text": [
      "101\n"
     ]
    }
   ],
   "source": [
    "#Can I try name mangling to access public data? WHATAA STUPIDD!! \n",
    "\n",
    "print(e2._Employee_1__salary) #WE CANT ACCESS PUBLIC DATA Using data mangling! "
   ]
  },
  {
   "cell_type": "code",
   "execution_count": 11,
   "id": "39dcb7c0",
   "metadata": {},
   "outputs": [
    {
     "ename": "AttributeError",
     "evalue": "'UMK' object has no attribute 'student'",
     "output_type": "error",
     "traceback": [
      "\u001b[0;31m---------------------------------------------------------------------------\u001b[0m",
      "\u001b[0;31mAttributeError\u001b[0m                            Traceback (most recent call last)",
      "\u001b[0;32m/tmp/ipykernel_854661/3799163930.py\u001b[0m in \u001b[0;36m<module>\u001b[0;34m\u001b[0m\n\u001b[1;32m      8\u001b[0m \u001b[0;34m\u001b[0m\u001b[0m\n\u001b[1;32m      9\u001b[0m \u001b[0mu\u001b[0m \u001b[0;34m=\u001b[0m \u001b[0mUMK\u001b[0m\u001b[0;34m(\u001b[0m\u001b[0;34m'THILIBAN'\u001b[0m\u001b[0;34m,\u001b[0m\u001b[0;36m4\u001b[0m\u001b[0;34m)\u001b[0m\u001b[0;34m\u001b[0m\u001b[0;34m\u001b[0m\u001b[0m\n\u001b[0;32m---> 10\u001b[0;31m \u001b[0mprint\u001b[0m\u001b[0;34m(\u001b[0m\u001b[0mu\u001b[0m\u001b[0;34m.\u001b[0m\u001b[0mstudent\u001b[0m\u001b[0;34m,\u001b[0m \u001b[0mu\u001b[0m\u001b[0;34m.\u001b[0m\u001b[0myear\u001b[0m\u001b[0;34m)\u001b[0m\u001b[0;34m\u001b[0m\u001b[0;34m\u001b[0m\u001b[0m\n\u001b[0m",
      "\u001b[0;31mAttributeError\u001b[0m: 'UMK' object has no attribute 'student'"
     ]
    }
   ],
   "source": [
    "#Name mangling is one of the ways to access private members! \n",
    "\n",
    "class UMK:\n",
    "    \n",
    "    def __init__(self,student,year):\n",
    "        self.__student = student \n",
    "        self.__year = year \n",
    "        \n",
    "u = UMK('THILIBAN',4)\n",
    "print(u.student, u.year) #Since both of data are private! we cant access!!!! "
   ]
  },
  {
   "cell_type": "code",
   "execution_count": 13,
   "id": "c4487d77",
   "metadata": {},
   "outputs": [
    {
     "name": "stdout",
     "output_type": "stream",
     "text": [
      "THILIBAN\n",
      "4\n"
     ]
    }
   ],
   "source": [
    "print(u._UMK__student)\n",
    "print(u._UMK__year) #Here is the way of accessing private data members, its called data mangling!!!\n",
    "#<instance_name>._<class_name>.__<Attribute>!!! "
   ]
  },
  {
   "cell_type": "markdown",
   "id": "7b13b69b",
   "metadata": {},
   "source": [
    "Here you see the above written code, which is encapsulation where all the data and methods has been invoked as \n",
    "a one part! \n",
    "\n",
    "In this example, we create an Employee class by defining employee attributes such as name and salary as an instance variable and implementing behavior using work() and show() instance methods.\n",
    "\n",
    "Using encapsulation, we can hide an object’s internal representation from the outside. This is called information hiding. \n",
    "\n",
    "Also, encapsulation allows us to restrict accessing variables and methods directly and prevent accidental data modification by creating private data members and methods within a class."
   ]
  },
  {
   "cell_type": "markdown",
   "id": "28a3894a",
   "metadata": {},
   "source": [
    " #Protected member are accessible withing the class and also avialble to its sub-classes! To use it we should use \n",
    "    #single underscore in the prefix of data!\n",
    "    \n",
    "    Proctecd member in inheritance."
   ]
  },
  {
   "cell_type": "code",
   "execution_count": 20,
   "id": "7efebc57",
   "metadata": {},
   "outputs": [
    {
     "name": "stdout",
     "output_type": "stream",
     "text": [
      "Employee name  FLUXXXXX!!!!\n",
      "project name is NLP\n",
      "NLP\n"
     ]
    }
   ],
   "source": [
    "#Base class!\n",
    "class Company:\n",
    "    \n",
    "    \n",
    "    def __init__(self):\n",
    "        #Protected member! \n",
    "        self._project = 'NLP'\n",
    "     \n",
    "#Child class! \n",
    "class Employee(Company):\n",
    "    \n",
    "    def __init__(self,name):\n",
    "        self.name = name \n",
    "        Company.__init__(self)\n",
    "        \n",
    "    def show(self):\n",
    "        print('Employee name ', self.name)\n",
    "        print('project name is', self._project)\n",
    "        \n",
    "c = Employee('FLUXXXXX!!!!')\n",
    "c.show()\n",
    "\n",
    "\n",
    "print(c._project)"
   ]
  },
  {
   "cell_type": "code",
   "execution_count": null,
   "id": "4604aeff",
   "metadata": {},
   "outputs": [],
   "source": [
    " #Protected member are accessible withing the class and also avialble to its sub-classes! To use it we should use \n",
    "    #single underscore in the prefix of data!\n",
    "    \n",
    "    Proctecd member in inheritance."
   ]
  },
  {
   "cell_type": "markdown",
   "id": "3087bf65",
   "metadata": {},
   "source": [
    "pillar’ of OOP known as encapsulation\n",
    "\n",
    "\n",
    "there are times in OOP when you do not want to expose your attributes directly. For example, you might not want someone else to modify your attributes directly (maybe you want to ensure that the values are legal). Or you want to embellish your attributes before allowing someone to access it (i.e. putting on some makeup). Sort of like you putting on a face mask before going out, in case someone passes a certain virus to you! Therefore, you should not make these attributes publicly accessible to others. This is what encapsulation is - only exposing what is necessary, and hiding things that are not!"
   ]
  },
  {
   "cell_type": "code",
   "execution_count": null,
   "id": "322ea27a",
   "metadata": {},
   "outputs": [],
   "source": [
    "class EvilBoss:\n",
    "    \n",
    "    def destroy(self, hero): #hero is an attribute of the class name EvilBoss! \n",
    "        hero.health = 0\n",
    "        hero.attack = 0\n",
    "        \n",
    "#Here all the variables and methods are public and can be accessed anywhere inside and outside of the class! "
   ]
  },
  {
   "cell_type": "code",
   "execution_count": 2,
   "id": "662f6f0b",
   "metadata": {},
   "outputs": [
    {
     "name": "stdout",
     "output_type": "stream",
     "text": [
      "Beauty\n",
      "Average\n"
     ]
    }
   ],
   "source": [
    "class VainPerson:\n",
    "    \n",
    "    def __init__(self,name):\n",
    "        self.name = name \n",
    "        \n",
    "lovely_person = VainPerson('Beauty')\n",
    "print(lovely_person.name)\n",
    "lovely_person.name = 'Average'\n",
    "print(lovely_person.name)"
   ]
  },
  {
   "cell_type": "code",
   "execution_count": 10,
   "id": "6196cb88",
   "metadata": {},
   "outputs": [
    {
     "name": "stdout",
     "output_type": "stream",
     "text": [
      "FLUXPAVILION!\n"
     ]
    },
    {
     "ename": "AttributeError",
     "evalue": "'VainPerson1' object has no attribute 'name'",
     "output_type": "error",
     "traceback": [
      "\u001b[0;31m---------------------------------------------------------------------------\u001b[0m",
      "\u001b[0;31mAttributeError\u001b[0m                            Traceback (most recent call last)",
      "\u001b[0;32m/tmp/ipykernel_955536/1393657054.py\u001b[0m in \u001b[0;36m<module>\u001b[0;34m\u001b[0m\n\u001b[1;32m     14\u001b[0m \u001b[0mperson_2\u001b[0m \u001b[0;34m=\u001b[0m \u001b[0mVainPerson1\u001b[0m\u001b[0;34m(\u001b[0m\u001b[0;34m'FLUXPAVILION!'\u001b[0m\u001b[0;34m)\u001b[0m\u001b[0;34m\u001b[0m\u001b[0;34m\u001b[0m\u001b[0m\n\u001b[1;32m     15\u001b[0m \u001b[0mperson_2\u001b[0m\u001b[0;34m.\u001b[0m\u001b[0mprinter\u001b[0m\u001b[0;34m(\u001b[0m\u001b[0;34m)\u001b[0m\u001b[0;34m\u001b[0m\u001b[0;34m\u001b[0m\u001b[0m\n\u001b[0;32m---> 16\u001b[0;31m \u001b[0mprint\u001b[0m\u001b[0;34m(\u001b[0m\u001b[0mperson_2\u001b[0m\u001b[0;34m.\u001b[0m\u001b[0mname\u001b[0m\u001b[0;34m)\u001b[0m\u001b[0;34m\u001b[0m\u001b[0;34m\u001b[0m\u001b[0m\n\u001b[0m",
      "\u001b[0;31mAttributeError\u001b[0m: 'VainPerson1' object has no attribute 'name'"
     ]
    }
   ],
   "source": [
    "#To make the variable/attribue as an non public! \n",
    "\n",
    "class VainPerson1:\n",
    "    \n",
    "    def __init__(self,name):\n",
    "        self.__name = name \n",
    "        \n",
    "    def printer(self): #here printer is acting like getter method! \n",
    "        print(self.__name)\n",
    "        \n",
    "#person_1 = VainPerson1('FLUXXX')\n",
    "#print(person_1.name) #AttributeError: 'VainPerson1' object has no attribute 'name'\n",
    "\n",
    "person_2 = VainPerson1('FLUXPAVILION!')\n",
    "person_2.printer() #This method prints the self.__name! \n",
    "print(person_2.name)"
   ]
  },
  {
   "cell_type": "code",
   "execution_count": 12,
   "id": "9053eee7",
   "metadata": {},
   "outputs": [
    {
     "name": "stdout",
     "output_type": "stream",
     "text": [
      "FLUXPAVILION!\n"
     ]
    }
   ],
   "source": [
    "print(person_2._VainPerson1__name) #It is called name mangling to access private variable but it is not a good \n",
    "#practiceee!"
   ]
  },
  {
   "cell_type": "code",
   "execution_count": 18,
   "id": "79833200",
   "metadata": {},
   "outputs": [
    {
     "name": "stdout",
     "output_type": "stream",
     "text": [
      "1000\n"
     ]
    },
    {
     "ename": "AttributeError",
     "evalue": "type object 'Student' has no attribute 'name'",
     "output_type": "error",
     "traceback": [
      "\u001b[0;31m---------------------------------------------------------------------------\u001b[0m",
      "\u001b[0;31mAttributeError\u001b[0m                            Traceback (most recent call last)",
      "\u001b[0;32m/tmp/ipykernel_955536/2381853924.py\u001b[0m in \u001b[0;36m<module>\u001b[0;34m\u001b[0m\n\u001b[1;32m     14\u001b[0m \u001b[0mflux\u001b[0m\u001b[0;34m.\u001b[0m\u001b[0madd_credits\u001b[0m\u001b[0;34m(\u001b[0m\u001b[0;36m1000\u001b[0m\u001b[0;34m)\u001b[0m\u001b[0;34m\u001b[0m\u001b[0;34m\u001b[0m\u001b[0m\n\u001b[1;32m     15\u001b[0m \u001b[0mprint\u001b[0m\u001b[0;34m(\u001b[0m\u001b[0mflux\u001b[0m\u001b[0;34m.\u001b[0m\u001b[0mstudy_credits\u001b[0m\u001b[0;34m)\u001b[0m\u001b[0;34m\u001b[0m\u001b[0;34m\u001b[0m\u001b[0m\n\u001b[0;32m---> 16\u001b[0;31m \u001b[0mprint\u001b[0m\u001b[0;34m(\u001b[0m\u001b[0mStudent\u001b[0m\u001b[0;34m.\u001b[0m\u001b[0mname\u001b[0m\u001b[0;34m)\u001b[0m\u001b[0;34m\u001b[0m\u001b[0;34m\u001b[0m\u001b[0m\n\u001b[0m",
      "\u001b[0;31mAttributeError\u001b[0m: type object 'Student' has no attribute 'name'"
     ]
    }
   ],
   "source": [
    "class Student:\n",
    "    \n",
    "    def __init__(self,name : str, student_number: str):\n",
    "        \n",
    "        self.name = name \n",
    "        self.student_number = student_number\n",
    "        self.study_credits = 0 \n",
    "        \n",
    "    def add_credits(self, study_credits):\n",
    "        if study_credits > 0:\n",
    "            self.study_credits += study_credits\n",
    "            \n",
    "flux = Student('FLUX','1234')\n",
    "flux.add_credits(1000)\n",
    "print(flux.study_credits) \n",
    "print(Student.name)"
   ]
  },
  {
   "cell_type": "markdown",
   "id": "f44f9838",
   "metadata": {},
   "source": [
    "#Encapsulation!!!! Way to hide your things, codes, methods, variables, yes all the variables, methods implemented in the class can be accessible!! "
   ]
  },
  {
   "cell_type": "code",
   "execution_count": null,
   "id": "25d95a45",
   "metadata": {},
   "outputs": [],
   "source": [
    "class EvilBoss:\n",
    "    \n",
    "    def destroy(self,hero):\n",
    "        hero.health = 0\n",
    "        hero.attack = 0\n",
    "        \n",
    "        "
   ]
  },
  {
   "cell_type": "code",
   "execution_count": 2,
   "id": "5883ed5e",
   "metadata": {},
   "outputs": [
    {
     "name": "stdout",
     "output_type": "stream",
     "text": [
      "Beauty\n",
      "Average\n"
     ]
    }
   ],
   "source": [
    "class VainPerson:\n",
    "    \n",
    "    def __init__(self, name):\n",
    "        self.name = name \n",
    "        \n",
    "person_1 = VainPerson('Beauty')\n",
    "print(person_1.name) #here we can be able to access their names! \n",
    "person_2 = VainPerson('Average')\n",
    "print(person_2.name)"
   ]
  },
  {
   "cell_type": "code",
   "execution_count": 9,
   "id": "f3d8f52c",
   "metadata": {},
   "outputs": [
    {
     "name": "stdout",
     "output_type": "stream",
     "text": [
      "HELLO FLUX\n"
     ]
    },
    {
     "ename": "AttributeError",
     "evalue": "'VainPerson_2' object has no attribute '__name'",
     "output_type": "error",
     "traceback": [
      "\u001b[0;31m---------------------------------------------------------------------------\u001b[0m",
      "\u001b[0;31mAttributeError\u001b[0m                            Traceback (most recent call last)",
      "\u001b[0;32m/tmp/ipykernel_134211/877983127.py\u001b[0m in \u001b[0;36m<module>\u001b[0;34m\u001b[0m\n\u001b[1;32m      9\u001b[0m \u001b[0mv1\u001b[0m \u001b[0;34m=\u001b[0m \u001b[0mVainPerson_2\u001b[0m\u001b[0;34m(\u001b[0m\u001b[0;34m'FLUX'\u001b[0m\u001b[0;34m)\u001b[0m\u001b[0;34m\u001b[0m\u001b[0;34m\u001b[0m\u001b[0m\n\u001b[1;32m     10\u001b[0m \u001b[0mprint\u001b[0m\u001b[0;34m(\u001b[0m\u001b[0mv1\u001b[0m\u001b[0;34m.\u001b[0m\u001b[0mget_name\u001b[0m\u001b[0;34m(\u001b[0m\u001b[0;34m)\u001b[0m\u001b[0;34m)\u001b[0m\u001b[0;34m\u001b[0m\u001b[0;34m\u001b[0m\u001b[0m\n\u001b[0;32m---> 11\u001b[0;31m \u001b[0mprint\u001b[0m\u001b[0;34m(\u001b[0m\u001b[0mv1\u001b[0m\u001b[0;34m.\u001b[0m\u001b[0m__name\u001b[0m\u001b[0;34m)\u001b[0m\u001b[0;34m\u001b[0m\u001b[0;34m\u001b[0m\u001b[0m\n\u001b[0m",
      "\u001b[0;31mAttributeError\u001b[0m: 'VainPerson_2' object has no attribute '__name'"
     ]
    }
   ],
   "source": [
    "class VainPerson_2:\n",
    "    \n",
    "    def __init__(self, name):\n",
    "        self.__name = name \n",
    "        \n",
    "    def get_name(self):\n",
    "        return f'HELLO {self.__name}'\n",
    "    \n",
    "v1 = VainPerson_2('FLUX')\n",
    "print(v1.get_name())\n",
    "print(v1.__name)"
   ]
  },
  {
   "cell_type": "code",
   "execution_count": 13,
   "id": "e7335a1e",
   "metadata": {},
   "outputs": [
    {
     "ename": "AttributeError",
     "evalue": "'VainPersonX' object has no attribute '_VainPersonX__name'",
     "output_type": "error",
     "traceback": [
      "\u001b[0;31m---------------------------------------------------------------------------\u001b[0m",
      "\u001b[0;31mAttributeError\u001b[0m                            Traceback (most recent call last)",
      "\u001b[0;32m/tmp/ipykernel_134211/3924812281.py\u001b[0m in \u001b[0;36m<module>\u001b[0;34m\u001b[0m\n\u001b[1;32m     25\u001b[0m             \u001b[0;32mreturn\u001b[0m \u001b[0;32mFalse\u001b[0m\u001b[0;34m\u001b[0m\u001b[0;34m\u001b[0m\u001b[0m\n\u001b[1;32m     26\u001b[0m \u001b[0;34m\u001b[0m\u001b[0m\n\u001b[0;32m---> 27\u001b[0;31m \u001b[0mx1\u001b[0m \u001b[0;34m=\u001b[0m \u001b[0mVainPersonX\u001b[0m\u001b[0;34m(\u001b[0m\u001b[0;34m'fluxx'\u001b[0m\u001b[0;34m)\u001b[0m\u001b[0;34m\u001b[0m\u001b[0;34m\u001b[0m\u001b[0m\n\u001b[0m",
      "\u001b[0;32m/tmp/ipykernel_134211/3924812281.py\u001b[0m in \u001b[0;36m__init__\u001b[0;34m(self, name)\u001b[0m\n\u001b[1;32m      2\u001b[0m \u001b[0;34m\u001b[0m\u001b[0m\n\u001b[1;32m      3\u001b[0m     \u001b[0;32mdef\u001b[0m \u001b[0m__init__\u001b[0m\u001b[0;34m(\u001b[0m\u001b[0mself\u001b[0m\u001b[0;34m,\u001b[0m \u001b[0mname\u001b[0m\u001b[0;34m)\u001b[0m\u001b[0;34m:\u001b[0m\u001b[0;34m\u001b[0m\u001b[0;34m\u001b[0m\u001b[0m\n\u001b[0;32m----> 4\u001b[0;31m         \u001b[0mself\u001b[0m\u001b[0;34m.\u001b[0m\u001b[0mset_name\u001b[0m\u001b[0;34m(\u001b[0m\u001b[0mname\u001b[0m\u001b[0;34m)\u001b[0m\u001b[0;34m\u001b[0m\u001b[0;34m\u001b[0m\u001b[0m\n\u001b[0m\u001b[1;32m      5\u001b[0m \u001b[0;34m\u001b[0m\u001b[0m\n\u001b[1;32m      6\u001b[0m     \u001b[0;32mdef\u001b[0m \u001b[0mget_name\u001b[0m\u001b[0;34m(\u001b[0m\u001b[0mself\u001b[0m\u001b[0;34m)\u001b[0m\u001b[0;34m:\u001b[0m\u001b[0;34m\u001b[0m\u001b[0;34m\u001b[0m\u001b[0m\n",
      "\u001b[0;32m/tmp/ipykernel_134211/3924812281.py\u001b[0m in \u001b[0;36mset_name\u001b[0;34m(self, new_name)\u001b[0m\n\u001b[1;32m     12\u001b[0m \u001b[0;34m\u001b[0m\u001b[0m\n\u001b[1;32m     13\u001b[0m         \u001b[0;32melse\u001b[0m\u001b[0;34m:\u001b[0m\u001b[0;34m\u001b[0m\u001b[0;34m\u001b[0m\u001b[0m\n\u001b[0;32m---> 14\u001b[0;31m             \u001b[0;32mif\u001b[0m \u001b[0mself\u001b[0m\u001b[0;34m.\u001b[0m\u001b[0m__name\u001b[0m \u001b[0;32mis\u001b[0m \u001b[0;32mNone\u001b[0m\u001b[0;34m:\u001b[0m\u001b[0;34m\u001b[0m\u001b[0;34m\u001b[0m\u001b[0m\n\u001b[0m\u001b[1;32m     15\u001b[0m                 \u001b[0mself\u001b[0m\u001b[0;34m.\u001b[0m\u001b[0m__name\u001b[0m \u001b[0;34m=\u001b[0m \u001b[0;34m'FLUXX'\u001b[0m\u001b[0;34m\u001b[0m\u001b[0;34m\u001b[0m\u001b[0m\n\u001b[1;32m     16\u001b[0m \u001b[0;34m\u001b[0m\u001b[0m\n",
      "\u001b[0;31mAttributeError\u001b[0m: 'VainPersonX' object has no attribute '_VainPersonX__name'"
     ]
    }
   ],
   "source": [
    "class VainPersonX:\n",
    "    \n",
    "    def __init__(self, name):\n",
    "        self.set_name(name)\n",
    "        \n",
    "    def get_name(self):\n",
    "        return f'heyy boyy {self.__name}'\n",
    "        \n",
    "    def set_name(self, new_name):\n",
    "        if self.likes_name(new_name):\n",
    "            self.__name = new_name.upper()\n",
    "            \n",
    "        else:\n",
    "            if self.__name is None:\n",
    "                self.__name = 'FLUXX'\n",
    "                \n",
    "            else:\n",
    "                print('IDK')\n",
    "                \n",
    "    def likes_name(self,name):\n",
    "        if name.upper() in ['fluxx','victoria','oliwia']:\n",
    "            return True\n",
    "        \n",
    "        else:\n",
    "            return False \n",
    "        \n",
    "x1 = VainPersonX('fluxx')"
   ]
  },
  {
   "cell_type": "code",
   "execution_count": 31,
   "id": "f0d6434c",
   "metadata": {},
   "outputs": [],
   "source": [
    "class VainPerson:\n",
    "    \n",
    "    def __init__(self,name): #It comes here! !\n",
    "        self.set_name(name)\n",
    "        \n",
    "    def get_name(self):\n",
    "        return f'your most honourable excellency {self.__name}'\n",
    "    \n",
    "    def set_name(self, new_name):\n",
    "        \n",
    "        if self.likes_name(new_name):\n",
    "            self.__name = new_name.upper()\n",
    "            \n",
    "        else:\n",
    "            if self.__name is None:\n",
    "                self.__name = 'JOSIAH'\n",
    "                \n",
    "            else:\n",
    "                print(' I DONT LIKE THE NAME')\n",
    "                \n",
    "    def likes_name(self, name):\n",
    "        \n",
    "        if name.upper() in ['FLUX','THILIBAN','JAMES','EDWARD']:\n",
    "            return True\n",
    "        \n",
    "        else:\n",
    "            return False \n",
    "        \n",
    "        "
   ]
  },
  {
   "cell_type": "code",
   "execution_count": 32,
   "id": "d1526b3e",
   "metadata": {},
   "outputs": [
    {
     "name": "stdout",
     "output_type": "stream",
     "text": [
      "your most honourable excellency EDWARD\n"
     ]
    }
   ],
   "source": [
    "p1 = VainPerson('edward')\n",
    "print(p1.get_name())"
   ]
  },
  {
   "cell_type": "code",
   "execution_count": 33,
   "id": "08c2d38b",
   "metadata": {},
   "outputs": [
    {
     "name": "stdout",
     "output_type": "stream",
     "text": [
      " I DONT LIKE THE NAME\n",
      "your most honourable excellency EDWARD\n"
     ]
    }
   ],
   "source": [
    "p1.set_name('xxx')\n",
    "print(p1.get_name())"
   ]
  },
  {
   "cell_type": "code",
   "execution_count": 34,
   "id": "1fc72d8a",
   "metadata": {},
   "outputs": [
    {
     "name": "stdout",
     "output_type": "stream",
     "text": [
      "your most honourable excellency JAMES\n"
     ]
    }
   ],
   "source": [
    "p1.set_name('james')\n",
    "print(p1.get_name())"
   ]
  },
  {
   "cell_type": "code",
   "execution_count": 35,
   "id": "fe5b6914",
   "metadata": {},
   "outputs": [
    {
     "name": "stdout",
     "output_type": "stream",
     "text": [
      "your most honourable excellency JAMES\n"
     ]
    }
   ],
   "source": [
    "p1.__name = 'YYY'\n",
    "print(p1.get_name())"
   ]
  },
  {
   "cell_type": "code",
   "execution_count": 36,
   "id": "cb9f5268",
   "metadata": {},
   "outputs": [
    {
     "data": {
      "text/plain": [
       "True"
      ]
     },
     "execution_count": 36,
     "metadata": {},
     "output_type": "execute_result"
    }
   ],
   "source": [
    "p2 = VainPerson('edward')\n",
    "p2.likes_name('edward')"
   ]
  },
  {
   "cell_type": "code",
   "execution_count": 37,
   "id": "634f5e96",
   "metadata": {},
   "outputs": [
    {
     "data": {
      "text/plain": [
       "'your most honourable excellency EDWARD'"
      ]
     },
     "execution_count": 37,
     "metadata": {},
     "output_type": "execute_result"
    }
   ],
   "source": [
    "p2.get_name()"
   ]
  },
  {
   "cell_type": "code",
   "execution_count": 38,
   "id": "cd3bcd12",
   "metadata": {},
   "outputs": [
    {
     "name": "stdout",
     "output_type": "stream",
     "text": [
      " I DONT LIKE THE NAME\n"
     ]
    }
   ],
   "source": [
    "p2.set_name('fluxxx')"
   ]
  },
  {
   "cell_type": "code",
   "execution_count": null,
   "id": "f47aabc0",
   "metadata": {},
   "outputs": [],
   "source": []
  },
  {
   "cell_type": "code",
   "execution_count": null,
   "id": "51d56884",
   "metadata": {},
   "outputs": [],
   "source": []
  },
  {
   "cell_type": "code",
   "execution_count": null,
   "id": "6699fdf5",
   "metadata": {},
   "outputs": [],
   "source": []
  },
  {
   "cell_type": "code",
   "execution_count": null,
   "id": "9117b13a",
   "metadata": {},
   "outputs": [],
   "source": []
  }
 ],
 "metadata": {
  "kernelspec": {
   "display_name": "Python 3",
   "language": "python",
   "name": "python3"
  },
  "language_info": {
   "codemirror_mode": {
    "name": "ipython",
    "version": 3
   },
   "file_extension": ".py",
   "mimetype": "text/x-python",
   "name": "python",
   "nbconvert_exporter": "python",
   "pygments_lexer": "ipython3",
   "version": "3.8.8"
  }
 },
 "nbformat": 4,
 "nbformat_minor": 5
}
