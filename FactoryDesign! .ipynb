{
 "cells": [
  {
   "cell_type": "code",
   "execution_count": 1,
   "metadata": {},
   "outputs": [
    {
     "data": {
      "text/plain": [
       "' FACTORY DESIGN!!!! '"
      ]
     },
     "execution_count": 1,
     "metadata": {},
     "output_type": "execute_result"
    }
   ],
   "source": [
    "\"\"\" FACTORY DESIGN!!!! \"\"\""
   ]
  },
  {
   "cell_type": "code",
   "execution_count": 5,
   "metadata": {},
   "outputs": [
    {
     "name": "stdout",
     "output_type": "stream",
     "text": [
      "A\n",
      "B\n"
     ]
    }
   ],
   "source": [
    "class A(object):\n",
    "    \n",
    "    def __init__(self):\n",
    "        pass\n",
    "    \n",
    "    def print(self):\n",
    "        print(\"A\")\n",
    "          \n",
    "class B(object):\n",
    "    \n",
    "    def __init__(self):\n",
    "        pass\n",
    "    \n",
    "    def print(self):\n",
    "        print(\"B\")\n",
    "        \n",
    "        \n",
    "#syntax of creating the factor design pattern for classes!\n",
    "\n",
    "def get(obj = ''):\n",
    "    objs = dict(a=A(), b=B()) #here keys are a,b and the values are A() B() both are objects! \n",
    "    return objs[obj]\n",
    "\n",
    "a = get('a')\n",
    "a.print()\n",
    "\n",
    "b = get('b')\n",
    "b.print()"
   ]
  },
  {
   "cell_type": "code",
   "execution_count": 6,
   "metadata": {},
   "outputs": [
    {
     "name": "stdout",
     "output_type": "stream",
     "text": [
      "I AM METHOD A \n",
      "I AM METHOD B\n"
     ]
    }
   ],
   "source": [
    "class A(object):\n",
    "    \n",
    "    def __init__(self):\n",
    "        pass\n",
    "    \n",
    "    def methodA(self):\n",
    "        print(\"I AM METHOD A \")\n",
    "          \n",
    "class B(object):\n",
    "    \n",
    "    def __init__(self):\n",
    "        pass\n",
    "    \n",
    "    def methodB(self):\n",
    "        print(\"I AM METHOD B\")\n",
    "        \n",
    "        \n",
    "#syntax of creating the factor design pattern for classes!\n",
    "\n",
    "def get(obj = ''):\n",
    "    objs = dict(a=A(), b=B()) #here keys are a,b and the values are A() B() both are objects! \n",
    "    return objs[obj]\n",
    "\n",
    "a = get('a')\n",
    "a.methodA()\n",
    "\n",
    "b = get('b')\n",
    "b.methodB()"
   ]
  },
  {
   "cell_type": "code",
   "execution_count": null,
   "metadata": {},
   "outputs": [],
   "source": []
  }
 ],
 "metadata": {
  "kernelspec": {
   "display_name": "Python 3",
   "language": "python",
   "name": "python3"
  },
  "language_info": {
   "codemirror_mode": {
    "name": "ipython",
    "version": 3
   },
   "file_extension": ".py",
   "mimetype": "text/x-python",
   "name": "python",
   "nbconvert_exporter": "python",
   "pygments_lexer": "ipython3",
   "version": "3.8.3"
  }
 },
 "nbformat": 4,
 "nbformat_minor": 4
}
