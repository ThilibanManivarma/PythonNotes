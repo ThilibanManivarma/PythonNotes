{
 "cells": [
  {
   "cell_type": "markdown",
   "id": "8999a692",
   "metadata": {},
   "source": [
    "Opening and closing files: This includes how to open and close files using the open() and close() functions, and how to use context managers (with statement) to automatically close files.\n",
    "\n",
    "Reading and writing files: This includes how to read and write files using the read(), readline(), readlines(), write(), and writelines() methods.\n",
    "\n",
    "File modes: This includes the different modes in which files can be opened (r, w, a, x, b, and t), and how to use them to control file access and behavior.\n",
    "\n",
    "File objects and methods: This includes the different methods and properties available on file objects, such as seek(), tell(), flush(), and isatty().\n",
    "\n",
    "File paths and directories: This includes how to work with file paths and directories using the os.path module, and how to create, move, and delete files and directories using the os module.\n",
    "\n",
    "Binary files and encoding: This includes how to work with binary files and how to specify encoding when working with text files.\n",
    "\n",
    "Exception handling: This includes how to handle errors and exceptions that can occur when working with files, such as FileNotFoundError, IOError, PermissionError, and ValueError.\n",
    "\n",
    "Best practices: This includes best practices for working with files, such as using context managers to ensure files are closed properly, using absolute file paths, and being mindful of file permissions and security."
   ]
  },
  {
   "cell_type": "markdown",
   "id": "ecd5afb4",
   "metadata": {},
   "source": [
    "#file handling! \n",
    "\n",
    "<variable_to_save> = open(<file_name>, mode)\n",
    "<variable>.write('<write_something>')\n",
    "<variable>.close()\n",
    "    \n",
    "    \n",
    "<variable> = open(<define_a_path>, <mode>)\n",
    "    \n",
    "    \n",
    "#different_modes \n",
    "    \n",
    "r - read - To read an exsisting file! \n",
    "w - Write something to an exsistin file if not it creates the file and writes!\n",
    "a - append - method allows us to write something to the file which is already exsisted! It wont overwrite on the exissting file!"
   ]
  },
  {
   "cell_type": "code",
   "execution_count": null,
   "id": "ab02ac6e",
   "metadata": {},
   "outputs": [],
   "source": []
  },
  {
   "cell_type": "code",
   "execution_count": 1,
   "id": "b4dde29e",
   "metadata": {},
   "outputs": [],
   "source": [
    "file = open('flux.txt','w') #Normal way of opening, closing a file! \n",
    "file.write('hello world')\n",
    "file.close()"
   ]
  },
  {
   "cell_type": "code",
   "execution_count": 5,
   "id": "98113490",
   "metadata": {},
   "outputs": [],
   "source": [
    "#Using context manager! \n",
    "\n",
    "with open('flux2.txt','w') as f:\n",
    "    f.write('Hello world')\n",
    "    "
   ]
  },
  {
   "cell_type": "code",
   "execution_count": 6,
   "id": "ccd08b3c",
   "metadata": {},
   "outputs": [
    {
     "name": "stdout",
     "output_type": "stream",
     "text": [
      "3.15\n",
      "           987\n",
      "                        264\n"
     ]
    }
   ],
   "source": [
    "with open('pi_digits.txt') as f: #Lets say you have the files ready and you need to read about it!\n",
    "    contents = f.read()\n",
    "    \n",
    "print(contents) "
   ]
  },
  {
   "cell_type": "code",
   "execution_count": 17,
   "id": "12709f7b",
   "metadata": {},
   "outputs": [
    {
     "name": "stdout",
     "output_type": "stream",
     "text": [
      "3.15\n",
      "           987\n",
      "                        264\n"
     ]
    }
   ],
   "source": [
    "#rstrip() --> method removes/strips any whitespace from characters from the right side of a string! \n",
    "\n",
    "with open('pi_digits.txt') as f1: #Lets say you have the files ready and you need to read about it!\n",
    "    contents = f1.read()\n",
    "    print(contents.strip())"
   ]
  },
  {
   "cell_type": "code",
   "execution_count": 18,
   "id": "956faa35",
   "metadata": {},
   "outputs": [
    {
     "data": {
      "text/plain": [
       "'ddddddddddddddd'"
      ]
     },
     "execution_count": 18,
     "metadata": {},
     "output_type": "execute_result"
    }
   ],
   "source": [
    "'      ddddddddddddddd  '.strip()"
   ]
  },
  {
   "cell_type": "code",
   "execution_count": 15,
   "id": "5c4fb065",
   "metadata": {},
   "outputs": [
    {
     "data": {
      "text/plain": [
       "'                  ddddddddddddddd'"
      ]
     },
     "execution_count": 15,
     "metadata": {},
     "output_type": "execute_result"
    }
   ],
   "source": [
    "'                  ddddddddddddddd  '.rstrip()#it removes whitespaces from right side! "
   ]
  },
  {
   "cell_type": "code",
   "execution_count": 14,
   "id": "35bf2951",
   "metadata": {},
   "outputs": [
    {
     "data": {
      "text/plain": [
       "'ddddddddddddddd  '"
      ]
     },
     "execution_count": 14,
     "metadata": {},
     "output_type": "execute_result"
    }
   ],
   "source": [
    "'                  ddddddddddddddd  '.lstrip() #it removes whitespaces from left side! "
   ]
  },
  {
   "cell_type": "code",
   "execution_count": 22,
   "id": "23a834c4",
   "metadata": {},
   "outputs": [
    {
     "name": "stdout",
     "output_type": "stream",
     "text": [
      "3.15\n",
      "\n",
      "           987\n",
      "\n",
      "                        264\n"
     ]
    }
   ],
   "source": [
    "filename = 'pi_digits.txt'\n",
    "\n",
    "with open(filename) as f2:\n",
    "    for line in f2:\n",
    "        print(line)"
   ]
  },
  {
   "cell_type": "code",
   "execution_count": 23,
   "id": "e7751f51",
   "metadata": {},
   "outputs": [
    {
     "name": "stdout",
     "output_type": "stream",
     "text": [
      "3.15\n",
      "987\n",
      "264\n"
     ]
    }
   ],
   "source": [
    "filename = 'pi_digits.txt'\n",
    "\n",
    "with open(filename) as f2:\n",
    "    for line in f2:\n",
    "        print(line.strip())"
   ]
  },
  {
   "cell_type": "code",
   "execution_count": 28,
   "id": "421343e0",
   "metadata": {},
   "outputs": [
    {
     "data": {
      "text/plain": [
       "['3.15', '987', '264']"
      ]
     },
     "execution_count": 28,
     "metadata": {},
     "output_type": "execute_result"
    }
   ],
   "source": [
    "with open(filename) as f3:\n",
    "    lines = f3.readlines()\n",
    "    \n",
    "    linesx = [i.strip() for i in lines] #it just removed a whitespace from the strings! \n",
    "    \n",
    "linesx"
   ]
  },
  {
   "cell_type": "code",
   "execution_count": 37,
   "id": "82db84b5",
   "metadata": {},
   "outputs": [],
   "source": [
    "#Writing a file!  #mode - w\n",
    "\n",
    "file = 'programming.txt'\n",
    "\n",
    "with open(file,'w') as f5:\n",
    "    f5.write(\"I love programming \\n\") #\\n it shows a new line! \n",
    "    f5.write(\"I love create new games\\n\")"
   ]
  },
  {
   "cell_type": "code",
   "execution_count": 38,
   "id": "ed53ecb1",
   "metadata": {},
   "outputs": [],
   "source": [
    "#Mode - append - a \n",
    "with open('programming.txt','a') as f6:\n",
    "    f6.write('I also love finding meaning in large datasets \\n')"
   ]
  },
  {
   "cell_type": "markdown",
   "id": "603b7be4",
   "metadata": {},
   "source": [
    "10-3. Guest: Write a program that prompts the user for their name. When they\n",
    "respond, write their name to a file called guest.txt.\n",
    "\n",
    "10-4. Guest Book: Write a while loop that prompts users for their name. When\n",
    "they enter their name, print a greeting to the screen and add a line recording\n",
    "their visit in a file called guest_book.txt. Make sure each entry appears on a\n",
    "new line in the file.\n",
    "\n",
    "10-5. Programming Poll: Write a while loop that asks people why they like\n",
    "programming. Each time someone enters a reason, add their reason to a file\n",
    "that stores all the responses."
   ]
  },
  {
   "cell_type": "code",
   "execution_count": 39,
   "id": "48cb3b7f",
   "metadata": {},
   "outputs": [
    {
     "name": "stdout",
     "output_type": "stream",
     "text": [
      "what is your name?flux\n"
     ]
    }
   ],
   "source": [
    "with open('guest.txt','w') as x:\n",
    "    x.write(input('what is your name?'))\n",
    "    \n"
   ]
  },
  {
   "cell_type": "code",
   "execution_count": 49,
   "id": "102a1726",
   "metadata": {},
   "outputs": [
    {
     "name": "stdout",
     "output_type": "stream",
     "text": [
      "Enter 'quit' when you are finished! \n",
      "whats your name?a\n",
      "Hi a, you ve been added to the guest book\n",
      "whats your name?b\n",
      "Hi b, you ve been added to the guest book\n",
      "whats your name?c\n",
      "Hi c, you ve been added to the guest book\n",
      "whats your name?d\n",
      "Hi d, you ve been added to the guest book\n",
      "whats your name?e\n",
      "Hi e, you ve been added to the guest book\n",
      "whats your name?f\n",
      "Hi f, you ve been added to the guest book\n",
      "whats your name?quit\n"
     ]
    }
   ],
   "source": [
    "print(\"Enter 'quit' when you are finished! \")\n",
    "\n",
    "while True:\n",
    "    \n",
    "    name = input('whats your name?')\n",
    "    \n",
    "    if name == 'quit':\n",
    "        break\n",
    "        \n",
    "    else:\n",
    "        with open('guest_book.txt','a') as f:\n",
    "            f.write(f'{name}\\n')\n",
    "            \n",
    "        print(f'Hi {name}, you ve been added to the guest book')"
   ]
  },
  {
   "cell_type": "code",
   "execution_count": 53,
   "id": "51faeeac",
   "metadata": {},
   "outputs": [
    {
     "name": "stdout",
     "output_type": "stream",
     "text": [
      "whats your name a\n",
      "whats your name b\n",
      "whats your name c\n"
     ]
    }
   ],
   "source": [
    "i = 0 \n",
    "\n",
    "while i < 3:\n",
    "    with open('guest_2.txt','a') as x3:\n",
    "        name = input('whats your name ')\n",
    "        x3.write(f'{name} \\n')\n",
    "        \n",
    "        i += 1"
   ]
  },
  {
   "cell_type": "markdown",
   "id": "3e5eb9b6",
   "metadata": {},
   "source": [
    "10-5. Programming Poll: Write a while loop that asks people why they like\n",
    "programming. Each time someone enters a reason, add their reason to a file\n",
    "that stores all the responses."
   ]
  },
  {
   "cell_type": "code",
   "execution_count": 54,
   "id": "7f43c76b",
   "metadata": {},
   "outputs": [
    {
     "name": "stdout",
     "output_type": "stream",
     "text": [
      "whats your name?james\n",
      "whats your opinion about it?its good \n",
      "whats your name?flux\n",
      "whats your opinion about it?not bad\n",
      "whats your name?alex\n",
      "whats your opinion about it?yeah its not bad\n",
      "whats your name?xxx\n",
      "whats your opinion about it?cool\n",
      "whats your name?jjj\n",
      "whats your opinion about it?hard\n"
     ]
    }
   ],
   "source": [
    "with open('programming_poll.txt','a') as x4:\n",
    "    i = 0\n",
    "    while i < 5:\n",
    "        \n",
    "        name = input('whats your name?')\n",
    "        opinion = input('whats your opinion about it?')\n",
    "        \n",
    "        x4.write(f'{name} : {opinion} \\n')\n",
    "        \n",
    "        i += 1"
   ]
  },
  {
   "cell_type": "code",
   "execution_count": 55,
   "id": "a48305c5",
   "metadata": {},
   "outputs": [],
   "source": [
    "import os"
   ]
  },
  {
   "cell_type": "code",
   "execution_count": 56,
   "id": "86946e67",
   "metadata": {},
   "outputs": [],
   "source": [
    "file_name = 'hey'\n",
    "exe = '.txt'\n",
    "\n",
    "for i in range(5):\n",
    "    full_name = file_name + str(i+1) + exe\n",
    "    \n",
    "    with open(full_name,'w') as f1:\n",
    "        f1.write(f'hey I am file number {i+1}.')\n",
    "    \n",
    "    "
   ]
  },
  {
   "cell_type": "code",
   "execution_count": 60,
   "id": "f8b54626",
   "metadata": {},
   "outputs": [],
   "source": [
    "with open('fluxpavilion.txt') as x:\n",
    "    line1 = x.readline() #Method reads one line at once! \n",
    "    line2 = x.readline()"
   ]
  },
  {
   "cell_type": "code",
   "execution_count": 59,
   "id": "785b191a",
   "metadata": {},
   "outputs": [
    {
     "data": {
      "text/plain": [
       "'hey I am flux pavilion and I would like to let you know that I could produce\\n'"
      ]
     },
     "execution_count": 59,
     "metadata": {},
     "output_type": "execute_result"
    }
   ],
   "source": [
    "line1"
   ]
  },
  {
   "cell_type": "code",
   "execution_count": 61,
   "id": "fccf8f46",
   "metadata": {},
   "outputs": [
    {
     "data": {
      "text/plain": [
       "'dubstep music and would like to hear more from you!\\n'"
      ]
     },
     "execution_count": 61,
     "metadata": {},
     "output_type": "execute_result"
    }
   ],
   "source": [
    "line2"
   ]
  },
  {
   "cell_type": "code",
   "execution_count": null,
   "id": "312e81e8",
   "metadata": {},
   "outputs": [],
   "source": []
  },
  {
   "cell_type": "code",
   "execution_count": null,
   "id": "0811ab3a",
   "metadata": {},
   "outputs": [],
   "source": []
  },
  {
   "cell_type": "code",
   "execution_count": null,
   "id": "cb2f99b9",
   "metadata": {},
   "outputs": [],
   "source": []
  },
  {
   "cell_type": "code",
   "execution_count": null,
   "id": "8a3b3a27",
   "metadata": {},
   "outputs": [],
   "source": []
  },
  {
   "cell_type": "code",
   "execution_count": null,
   "id": "487d4a92",
   "metadata": {},
   "outputs": [],
   "source": []
  },
  {
   "cell_type": "code",
   "execution_count": null,
   "id": "6c535b11",
   "metadata": {},
   "outputs": [],
   "source": []
  },
  {
   "cell_type": "code",
   "execution_count": null,
   "id": "f5e11b56",
   "metadata": {},
   "outputs": [],
   "source": []
  },
  {
   "cell_type": "code",
   "execution_count": null,
   "id": "c2c0564b",
   "metadata": {},
   "outputs": [],
   "source": []
  },
  {
   "cell_type": "code",
   "execution_count": null,
   "id": "ba9cf964",
   "metadata": {},
   "outputs": [],
   "source": []
  },
  {
   "cell_type": "code",
   "execution_count": null,
   "id": "8236a959",
   "metadata": {},
   "outputs": [],
   "source": []
  },
  {
   "cell_type": "code",
   "execution_count": null,
   "id": "9779282d",
   "metadata": {},
   "outputs": [],
   "source": []
  },
  {
   "cell_type": "code",
   "execution_count": null,
   "id": "370d96d8",
   "metadata": {},
   "outputs": [],
   "source": []
  },
  {
   "cell_type": "code",
   "execution_count": null,
   "id": "96a7bd96",
   "metadata": {},
   "outputs": [],
   "source": []
  },
  {
   "cell_type": "code",
   "execution_count": null,
   "id": "c8d15506",
   "metadata": {},
   "outputs": [],
   "source": []
  },
  {
   "cell_type": "code",
   "execution_count": null,
   "id": "0b3a6539",
   "metadata": {},
   "outputs": [],
   "source": []
  },
  {
   "cell_type": "code",
   "execution_count": null,
   "id": "6a62dbb8",
   "metadata": {},
   "outputs": [],
   "source": []
  },
  {
   "cell_type": "code",
   "execution_count": null,
   "id": "9ee1a81e",
   "metadata": {},
   "outputs": [],
   "source": []
  },
  {
   "cell_type": "code",
   "execution_count": null,
   "id": "30992f81",
   "metadata": {},
   "outputs": [],
   "source": []
  },
  {
   "cell_type": "code",
   "execution_count": null,
   "id": "0f9e19b9",
   "metadata": {},
   "outputs": [],
   "source": []
  },
  {
   "cell_type": "code",
   "execution_count": null,
   "id": "f2ab45da",
   "metadata": {},
   "outputs": [],
   "source": []
  },
  {
   "cell_type": "code",
   "execution_count": null,
   "id": "3abdea31",
   "metadata": {},
   "outputs": [],
   "source": []
  },
  {
   "cell_type": "code",
   "execution_count": null,
   "id": "bcad3a30",
   "metadata": {},
   "outputs": [],
   "source": []
  },
  {
   "cell_type": "code",
   "execution_count": null,
   "id": "48b9375f",
   "metadata": {},
   "outputs": [],
   "source": []
  },
  {
   "cell_type": "code",
   "execution_count": null,
   "id": "5e52cf2a",
   "metadata": {},
   "outputs": [],
   "source": []
  },
  {
   "cell_type": "code",
   "execution_count": null,
   "id": "6fc0419c",
   "metadata": {},
   "outputs": [],
   "source": []
  },
  {
   "cell_type": "code",
   "execution_count": null,
   "id": "68a81fed",
   "metadata": {},
   "outputs": [],
   "source": []
  }
 ],
 "metadata": {
  "kernelspec": {
   "display_name": "Python 3",
   "language": "python",
   "name": "python3"
  },
  "language_info": {
   "codemirror_mode": {
    "name": "ipython",
    "version": 3
   },
   "file_extension": ".py",
   "mimetype": "text/x-python",
   "name": "python",
   "nbconvert_exporter": "python",
   "pygments_lexer": "ipython3",
   "version": "3.8.8"
  }
 },
 "nbformat": 4,
 "nbformat_minor": 5
}
