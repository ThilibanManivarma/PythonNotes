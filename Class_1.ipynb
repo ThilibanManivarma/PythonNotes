{
 "cells": [
  {
   "cell_type": "code",
   "execution_count": 4,
   "id": "3a24c492",
   "metadata": {},
   "outputs": [
    {
     "data": {
      "text/plain": [
       "100"
      ]
     },
     "execution_count": 4,
     "metadata": {},
     "output_type": "execute_result"
    }
   ],
   "source": [
    "class Cat:\n",
    "    \n",
    "    def __init__(self,catName, catAge, catColor):\n",
    "        self.name = catName\n",
    "        self.age = catAge\n",
    "        self.color = catColor\n",
    "        \n",
    "    def setName(self,catName):\n",
    "        self.name = catName\n",
    "        \n",
    "    def setAge(self, catAge):\n",
    "        self.age = catAge\n",
    "        \n",
    "    def setColor(self, catColor):\n",
    "        self.color = catColor\n",
    "        \n",
    "    def getName(self):\n",
    "        return self.name \n",
    "    \n",
    "    def getAge(self):\n",
    "        return self.age \n",
    "    \n",
    "    def getColor(self):\n",
    "        return self.color \n",
    "    \n",
    "    \n",
    "c = Cat('FLUX',10, 'RED')\n",
    "c.getAge()\n",
    "c.setAge(100)\n",
    "c.getAge()"
   ]
  },
  {
   "cell_type": "code",
   "execution_count": null,
   "id": "afd58570",
   "metadata": {},
   "outputs": [],
   "source": []
  },
  {
   "cell_type": "code",
   "execution_count": null,
   "id": "e8a2f0e4",
   "metadata": {},
   "outputs": [],
   "source": []
  },
  {
   "cell_type": "code",
   "execution_count": null,
   "id": "198af835",
   "metadata": {},
   "outputs": [],
   "source": []
  },
  {
   "cell_type": "code",
   "execution_count": null,
   "id": "5b76e7c8",
   "metadata": {},
   "outputs": [],
   "source": []
  },
  {
   "cell_type": "code",
   "execution_count": null,
   "id": "466710c1",
   "metadata": {},
   "outputs": [],
   "source": []
  },
  {
   "cell_type": "code",
   "execution_count": null,
   "id": "2fd0466a",
   "metadata": {},
   "outputs": [],
   "source": []
  },
  {
   "cell_type": "code",
   "execution_count": null,
   "id": "554e0594",
   "metadata": {},
   "outputs": [],
   "source": []
  },
  {
   "cell_type": "code",
   "execution_count": null,
   "id": "b5d9daca",
   "metadata": {},
   "outputs": [],
   "source": []
  },
  {
   "cell_type": "code",
   "execution_count": null,
   "id": "0ef52955",
   "metadata": {},
   "outputs": [],
   "source": []
  },
  {
   "cell_type": "code",
   "execution_count": null,
   "id": "e19f3171",
   "metadata": {},
   "outputs": [],
   "source": []
  }
 ],
 "metadata": {
  "kernelspec": {
   "display_name": "Python 3",
   "language": "python",
   "name": "python3"
  },
  "language_info": {
   "codemirror_mode": {
    "name": "ipython",
    "version": 3
   },
   "file_extension": ".py",
   "mimetype": "text/x-python",
   "name": "python",
   "nbconvert_exporter": "python",
   "pygments_lexer": "ipython3",
   "version": "3.8.8"
  }
 },
 "nbformat": 4,
 "nbformat_minor": 5
}
