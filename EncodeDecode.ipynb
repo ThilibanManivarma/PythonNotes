{
 "cells": [
  {
   "cell_type": "code",
   "execution_count": 1,
   "id": "d3a1ae19",
   "metadata": {},
   "outputs": [
    {
     "name": "stdout",
     "output_type": "stream",
     "text": [
      "<class 'str'>\n"
     ]
    }
   ],
   "source": [
    "name = 'thiliban'\n",
    "print(type(name))"
   ]
  },
  {
   "cell_type": "code",
   "execution_count": 2,
   "id": "4e4bad90",
   "metadata": {},
   "outputs": [
    {
     "name": "stdout",
     "output_type": "stream",
     "text": [
      "<class 'bytes'>\n"
     ]
    }
   ],
   "source": [
    "name_x = b'flux pavilion'\n",
    "print(type(name_x))"
   ]
  },
  {
   "cell_type": "code",
   "execution_count": 3,
   "id": "87471313",
   "metadata": {},
   "outputs": [
    {
     "name": "stdout",
     "output_type": "stream",
     "text": [
      "116\n",
      "104\n",
      "105\n",
      "108\n",
      "105\n",
      "98\n",
      "97\n",
      "110\n"
     ]
    }
   ],
   "source": [
    "for i in name:\n",
    "    print(ord(i))"
   ]
  },
  {
   "cell_type": "code",
   "execution_count": 9,
   "id": "63c42ec4",
   "metadata": {},
   "outputs": [
    {
     "name": "stdout",
     "output_type": "stream",
     "text": [
      "<class 'bytes'>\n"
     ]
    }
   ],
   "source": [
    "x = 'python is not easy as we looked'.encode('utf-8')\n",
    "print(type(x))"
   ]
  },
  {
   "cell_type": "code",
   "execution_count": 10,
   "id": "bd64910e",
   "metadata": {},
   "outputs": [
    {
     "name": "stdout",
     "output_type": "stream",
     "text": [
      "<class 'str'>\n"
     ]
    }
   ],
   "source": [
    "x = x.decode()\n",
    "print(type(x))"
   ]
  },
  {
   "cell_type": "markdown",
   "id": "40727084",
   "metadata": {},
   "source": [
    "As the name suggests, \n",
    "\n",
    "Decoding is used to convert a byte string to a normal text which is human readable form whereas Encoding is used to convert the raw string to byte string! \n",
    "\n",
    "Decoding is normally used to do operation on the text data and the information on the text, but Encoding can be used when we want to upload the file in computer memory and transfer over network, embeded in data bases and websites! since all of them are in bytes! \n",
    "\n"
   ]
  },
  {
   "cell_type": "code",
   "execution_count": 12,
   "id": "5cecfe2b",
   "metadata": {},
   "outputs": [
    {
     "name": "stdout",
     "output_type": "stream",
     "text": [
      "b'flux suba' 9\n",
      "b'flux suba' 9\n",
      "b'flux suba' 9\n"
     ]
    }
   ],
   "source": [
    "#Different encoding metrics! \n",
    "\n",
    "string = 'flux suba'\n",
    "print(string.encode('ascii'),len(string))\n",
    "print(string.encode('latin1'),len(string))\n",
    "print(string.encode('utf-8'),len(string))"
   ]
  },
  {
   "cell_type": "code",
   "execution_count": 14,
   "id": "ec750918",
   "metadata": {},
   "outputs": [
    {
     "name": "stdout",
     "output_type": "stream",
     "text": [
      "b'\\xff\\xfef\\x00l\\x00u\\x00x\\x00 \\x00s\\x00u\\x00b\\x00a\\x00' 20\n"
     ]
    }
   ],
   "source": [
    "print(string.encode('utf-16'),len(string.encode('utf-16')))"
   ]
  },
  {
   "cell_type": "code",
   "execution_count": null,
   "id": "491a190e",
   "metadata": {},
   "outputs": [],
   "source": []
  },
  {
   "cell_type": "code",
   "execution_count": null,
   "id": "dac33a67",
   "metadata": {},
   "outputs": [],
   "source": []
  },
  {
   "cell_type": "code",
   "execution_count": null,
   "id": "85121557",
   "metadata": {},
   "outputs": [],
   "source": []
  },
  {
   "cell_type": "code",
   "execution_count": null,
   "id": "0454123e",
   "metadata": {},
   "outputs": [],
   "source": []
  },
  {
   "cell_type": "code",
   "execution_count": null,
   "id": "79dd637b",
   "metadata": {},
   "outputs": [],
   "source": []
  },
  {
   "cell_type": "code",
   "execution_count": null,
   "id": "eb54ee0d",
   "metadata": {},
   "outputs": [],
   "source": []
  },
  {
   "cell_type": "code",
   "execution_count": null,
   "id": "98cfa6b3",
   "metadata": {},
   "outputs": [],
   "source": []
  },
  {
   "cell_type": "code",
   "execution_count": null,
   "id": "a82b3113",
   "metadata": {},
   "outputs": [],
   "source": []
  },
  {
   "cell_type": "code",
   "execution_count": null,
   "id": "80640258",
   "metadata": {},
   "outputs": [],
   "source": []
  },
  {
   "cell_type": "code",
   "execution_count": null,
   "id": "412d8c17",
   "metadata": {},
   "outputs": [],
   "source": []
  },
  {
   "cell_type": "code",
   "execution_count": null,
   "id": "21d5164c",
   "metadata": {},
   "outputs": [],
   "source": []
  },
  {
   "cell_type": "code",
   "execution_count": null,
   "id": "622c1f58",
   "metadata": {},
   "outputs": [],
   "source": []
  }
 ],
 "metadata": {
  "kernelspec": {
   "display_name": "Python 3",
   "language": "python",
   "name": "python3"
  },
  "language_info": {
   "codemirror_mode": {
    "name": "ipython",
    "version": 3
   },
   "file_extension": ".py",
   "mimetype": "text/x-python",
   "name": "python",
   "nbconvert_exporter": "python",
   "pygments_lexer": "ipython3",
   "version": "3.8.8"
  }
 },
 "nbformat": 4,
 "nbformat_minor": 5
}
