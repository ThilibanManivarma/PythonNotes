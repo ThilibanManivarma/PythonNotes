{
 "cells": [
  {
   "cell_type": "raw",
   "id": "abec94c7",
   "metadata": {},
   "source": [
    "#InterableObject is nothing but it is a storage factory to save data elements, object is set be called iterable\n",
    "if it is having a capacity to be stored, object produces one result at a time in the context of an iteration too like a for loo, for loop is explicity working as an iterator! "
   ]
  },
  {
   "cell_type": "code",
   "execution_count": 3,
   "id": "a3d3f89e",
   "metadata": {},
   "outputs": [
    {
     "name": "stdout",
     "output_type": "stream",
     "text": [
      "0 1 2 3 4 5 6 7 8 9 10 "
     ]
    },
    {
     "data": {
      "text/plain": [
       "['__annotations__',\n",
       " '__call__',\n",
       " '__class__',\n",
       " '__closure__',\n",
       " '__code__',\n",
       " '__defaults__',\n",
       " '__delattr__',\n",
       " '__dict__',\n",
       " '__dir__',\n",
       " '__doc__',\n",
       " '__eq__',\n",
       " '__format__',\n",
       " '__ge__',\n",
       " '__get__',\n",
       " '__getattribute__',\n",
       " '__globals__',\n",
       " '__gt__',\n",
       " '__hash__',\n",
       " '__init__',\n",
       " '__init_subclass__',\n",
       " '__kwdefaults__',\n",
       " '__le__',\n",
       " '__lt__',\n",
       " '__module__',\n",
       " '__name__',\n",
       " '__ne__',\n",
       " '__new__',\n",
       " '__qualname__',\n",
       " '__reduce__',\n",
       " '__reduce_ex__',\n",
       " '__repr__',\n",
       " '__setattr__',\n",
       " '__sizeof__',\n",
       " '__str__',\n",
       " '__subclasshook__']"
      ]
     },
     "execution_count": 3,
     "metadata": {},
     "output_type": "execute_result"
    }
   ],
   "source": [
    "def looping(x):\n",
    "    for i in range(x):\n",
    "        print(i, end = \" \")\n",
    "        \n",
    "looping(11)\n",
    "dir(looping)"
   ]
  },
  {
   "cell_type": "code",
   "execution_count": null,
   "id": "10bfaeca",
   "metadata": {},
   "outputs": [],
   "source": [
    "iterable is refer to an object that supports iter method and next method as well! "
   ]
  },
  {
   "cell_type": "code",
   "execution_count": 5,
   "id": "6f0694f8",
   "metadata": {},
   "outputs": [
    {
     "name": "stdout",
     "output_type": "stream",
     "text": [
      "def looping(x):\n",
      "    for i in range(x):\n",
      "        print(i, end = \" \")\n",
      "        \n",
      "looping(11)\n",
      "dir(looping)\n"
     ]
    }
   ],
   "source": [
    "print(open('script2.py').read())"
   ]
  },
  {
   "cell_type": "code",
   "execution_count": 11,
   "id": "9bb6e68b",
   "metadata": {},
   "outputs": [
    {
     "data": {
      "text/plain": [
       "'def looping(x):\\n    for i in range(x):\\n        print(i, end = \" \")\\n        \\nlooping(11)\\ndir(looping)'"
      ]
     },
     "execution_count": 11,
     "metadata": {},
     "output_type": "execute_result"
    }
   ],
   "source": [
    "file = open('script2.py').read()\n",
    "file"
   ]
  },
  {
   "cell_type": "code",
   "execution_count": 10,
   "id": "819f5f22",
   "metadata": {},
   "outputs": [
    {
     "data": {
      "text/plain": [
       "'def looping(x):\\n'"
      ]
     },
     "execution_count": 10,
     "metadata": {},
     "output_type": "execute_result"
    }
   ],
   "source": [
    "file1 = open('script2.py').readline()\n",
    "file1"
   ]
  },
  {
   "cell_type": "code",
   "execution_count": null,
   "id": "f741ea36",
   "metadata": {},
   "outputs": [],
   "source": [
    "#Even reading a file and it follows next method when we read the lines of a file using read method! "
   ]
  },
  {
   "cell_type": "code",
   "execution_count": 14,
   "id": "76019954",
   "metadata": {},
   "outputs": [
    {
     "name": "stdout",
     "output_type": "stream",
     "text": [
      "DEF LOOPING(X):\n",
      "     FOR I IN RANGE(X):\n",
      "         PRINT(I, END = \" \")\n",
      "         \n",
      " LOOPING(11)\n",
      " DIR(LOOPING) "
     ]
    }
   ],
   "source": [
    "for i in open('script2.py'):\n",
    "    print(i.upper(), end = \" \")"
   ]
  },
  {
   "cell_type": "code",
   "execution_count": 16,
   "id": "37899551",
   "metadata": {},
   "outputs": [
    {
     "name": "stdout",
     "output_type": "stream",
     "text": [
      "DEF LOOPING(X):\n",
      "     FOR I IN RANGE(X):\n",
      "         PRINT(I, END = \" \")\n",
      "         \n",
      " LOOPING(11)\n",
      " DIR(LOOPING) "
     ]
    }
   ],
   "source": [
    "for line in open('script2.py').readlines():\n",
    "    print(line.upper(), end = \" \")\n",
    "    \n"
   ]
  },
  {
   "cell_type": "raw",
   "id": "d522df1d",
   "metadata": {},
   "source": [
    " \"readlines\" technique still works but is not considered the best practice today and\n",
    "performs poorly in terms of memory usage. It is not a good way of using in real world problems! "
   ]
  },
  {
   "cell_type": "code",
   "execution_count": 21,
   "id": "addbc81a",
   "metadata": {},
   "outputs": [
    {
     "name": "stdout",
     "output_type": "stream",
     "text": [
      "DEF LOOPING(X):\n",
      "    FOR I IN RANGE(X):\n",
      "        PRINT(I, END = \" \")\n",
      "        \n",
      "LOOPING(11)\n",
      "DIR(LOOPING)"
     ]
    }
   ],
   "source": [
    "#Using a while loop to open a file! \n",
    "f = open('script2.py')\n",
    "while True:\n",
    "    line = f.readline()\n",
    "    if not line: break\n",
    "    print(line.upper(), end = \"\")"
   ]
  },
  {
   "cell_type": "code",
   "execution_count": 22,
   "id": "472b76fc",
   "metadata": {},
   "outputs": [
    {
     "data": {
      "text/plain": [
       "['_CHUNK_SIZE',\n",
       " '__class__',\n",
       " '__del__',\n",
       " '__delattr__',\n",
       " '__dict__',\n",
       " '__dir__',\n",
       " '__doc__',\n",
       " '__enter__',\n",
       " '__eq__',\n",
       " '__exit__',\n",
       " '__format__',\n",
       " '__ge__',\n",
       " '__getattribute__',\n",
       " '__gt__',\n",
       " '__hash__',\n",
       " '__init__',\n",
       " '__init_subclass__',\n",
       " '__iter__',\n",
       " '__le__',\n",
       " '__lt__',\n",
       " '__ne__',\n",
       " '__new__',\n",
       " '__next__',\n",
       " '__reduce__',\n",
       " '__reduce_ex__',\n",
       " '__repr__',\n",
       " '__setattr__',\n",
       " '__sizeof__',\n",
       " '__str__',\n",
       " '__subclasshook__',\n",
       " '_checkClosed',\n",
       " '_checkReadable',\n",
       " '_checkSeekable',\n",
       " '_checkWritable',\n",
       " '_finalizing',\n",
       " 'buffer',\n",
       " 'close',\n",
       " 'closed',\n",
       " 'detach',\n",
       " 'encoding',\n",
       " 'errors',\n",
       " 'fileno',\n",
       " 'flush',\n",
       " 'isatty',\n",
       " 'line_buffering',\n",
       " 'mode',\n",
       " 'name',\n",
       " 'newlines',\n",
       " 'read',\n",
       " 'readable',\n",
       " 'readline',\n",
       " 'readlines',\n",
       " 'reconfigure',\n",
       " 'seek',\n",
       " 'seekable',\n",
       " 'tell',\n",
       " 'truncate',\n",
       " 'writable',\n",
       " 'write',\n",
       " 'write_through',\n",
       " 'writelines']"
      ]
     },
     "execution_count": 22,
     "metadata": {},
     "output_type": "execute_result"
    }
   ],
   "source": [
    "#How does iteration works! iter and next methods! \n",
    "f = open('script2.py')\n",
    "dir(f) #Dir is the fucntion to check the methods one function has! open method has both iter and next method! "
   ]
  },
  {
   "cell_type": "code",
   "execution_count": 26,
   "id": "01a393fb",
   "metadata": {},
   "outputs": [
    {
     "ename": "StopIteration",
     "evalue": "",
     "output_type": "error",
     "traceback": [
      "\u001b[0;31m---------------------------------------------------------------------------\u001b[0m",
      "\u001b[0;31mStopIteration\u001b[0m                             Traceback (most recent call last)",
      "\u001b[0;32m/tmp/ipykernel_22630/2625325207.py\u001b[0m in \u001b[0;36m<module>\u001b[0;34m\u001b[0m\n\u001b[1;32m      1\u001b[0m \u001b[0mf\u001b[0m\u001b[0;34m.\u001b[0m\u001b[0m__next__\u001b[0m\u001b[0;34m(\u001b[0m\u001b[0;34m)\u001b[0m\u001b[0;34m\u001b[0m\u001b[0;34m\u001b[0m\u001b[0m\n\u001b[0;32m----> 2\u001b[0;31m \u001b[0mf\u001b[0m\u001b[0;34m.\u001b[0m\u001b[0m__next__\u001b[0m\u001b[0;34m(\u001b[0m\u001b[0;34m)\u001b[0m\u001b[0;34m\u001b[0m\u001b[0;34m\u001b[0m\u001b[0m\n\u001b[0m\u001b[1;32m      3\u001b[0m \u001b[0mf\u001b[0m\u001b[0;34m.\u001b[0m\u001b[0m__next__\u001b[0m\u001b[0;34m(\u001b[0m\u001b[0;34m)\u001b[0m\u001b[0;34m\u001b[0m\u001b[0;34m\u001b[0m\u001b[0m\n\u001b[1;32m      4\u001b[0m \u001b[0mf\u001b[0m\u001b[0;34m.\u001b[0m\u001b[0m__next__\u001b[0m\u001b[0;34m(\u001b[0m\u001b[0;34m)\u001b[0m\u001b[0;34m\u001b[0m\u001b[0;34m\u001b[0m\u001b[0m\n\u001b[1;32m      5\u001b[0m \u001b[0mf\u001b[0m\u001b[0;34m.\u001b[0m\u001b[0m__next__\u001b[0m\u001b[0;34m(\u001b[0m\u001b[0;34m)\u001b[0m\u001b[0;34m\u001b[0m\u001b[0;34m\u001b[0m\u001b[0m\n",
      "\u001b[0;31mStopIteration\u001b[0m: "
     ]
    }
   ],
   "source": [
    "f.__next__()\n",
    "f.__next__()\n",
    "f.__next__()\n",
    "f.__next__()\n",
    "f.__next__() #once the \n",
    "f.__next__()"
   ]
  },
  {
   "cell_type": "code",
   "execution_count": 27,
   "id": "edadc53e",
   "metadata": {},
   "outputs": [
    {
     "ename": "StopIteration",
     "evalue": "",
     "output_type": "error",
     "traceback": [
      "\u001b[0;31m---------------------------------------------------------------------------\u001b[0m",
      "\u001b[0;31mStopIteration\u001b[0m                             Traceback (most recent call last)",
      "\u001b[0;32m/tmp/ipykernel_22630/4256387510.py\u001b[0m in \u001b[0;36m<module>\u001b[0;34m\u001b[0m\n\u001b[0;32m----> 1\u001b[0;31m \u001b[0mnext\u001b[0m\u001b[0;34m(\u001b[0m\u001b[0mf\u001b[0m\u001b[0;34m)\u001b[0m\u001b[0;34m\u001b[0m\u001b[0;34m\u001b[0m\u001b[0m\n\u001b[0m",
      "\u001b[0;31mStopIteration\u001b[0m: "
     ]
    }
   ],
   "source": [
    "next(f)"
   ]
  },
  {
   "cell_type": "code",
   "execution_count": 29,
   "id": "65632f9b",
   "metadata": {},
   "outputs": [
    {
     "data": {
      "text/plain": [
       "'def looping(x):\\n'"
      ]
     },
     "execution_count": 29,
     "metadata": {},
     "output_type": "execute_result"
    }
   ],
   "source": [
    "file_new = open('script2.py') #A new object being created and the moment we implement open, we will see next and iter\n",
    "#Methods! \n",
    "next(file_new)"
   ]
  },
  {
   "cell_type": "code",
   "execution_count": 30,
   "id": "2c9b2006",
   "metadata": {},
   "outputs": [
    {
     "data": {
      "text/plain": [
       "1"
      ]
     },
     "execution_count": 30,
     "metadata": {},
     "output_type": "execute_result"
    }
   ],
   "source": [
    "x1 = [1,2,3]\n",
    "i1 = iter(x1)\n",
    "next(i1)"
   ]
  },
  {
   "cell_type": "code",
   "execution_count": null,
   "id": "db5d8c86",
   "metadata": {},
   "outputs": [],
   "source": [
    "x2 = [1,2,3]\n",
    "i2 = iter(x1)"
   ]
  },
  {
   "cell_type": "code",
   "execution_count": null,
   "id": "e840e149",
   "metadata": {},
   "outputs": [],
   "source": [
    "#Even if the objects like list, range, set, string"
   ]
  },
  {
   "cell_type": "code",
   "execution_count": 31,
   "id": "4bc9b797",
   "metadata": {},
   "outputs": [
    {
     "name": "stdout",
     "output_type": "stream",
     "text": [
      "1 2 3 "
     ]
    }
   ],
   "source": [
    "l = [1,2,3]\n",
    "for i in l:\n",
    "    print(i, end = \" \") #Here for loop, interanlly calls iter, __next__() methods to execute! "
   ]
  },
  {
   "cell_type": "code",
   "execution_count": 35,
   "id": "4c71aca3",
   "metadata": {},
   "outputs": [
    {
     "name": "stdout",
     "output_type": "stream",
     "text": [
      "1 2 3 "
     ]
    }
   ],
   "source": [
    "I = iter(l)\n",
    "while True:\n",
    "    \n",
    "    try:\n",
    "        x = next(I)\n",
    "        print(x, end = \" \")\n",
    "        \n",
    "    except StopIteration:\n",
    "        break\n",
    "    \n",
    "    "
   ]
  },
  {
   "cell_type": "code",
   "execution_count": 36,
   "id": "fb96ac52",
   "metadata": {},
   "outputs": [
    {
     "name": "stdout",
     "output_type": "stream",
     "text": [
      "<range_iterator object at 0x7f15a045a870>\n",
      "<range_iterator object at 0x7f15a045aa20>\n",
      "<range_iterator object at 0x7f15a045aea0>\n",
      "<range_iterator object at 0x7f15a045c240>\n",
      "<range_iterator object at 0x7f15a045ce40>\n"
     ]
    }
   ],
   "source": [
    "for i in range(1,6):\n",
    "    x = iter(range(1,2))\n",
    "    print(x)"
   ]
  },
  {
   "cell_type": "code",
   "execution_count": 37,
   "id": "1d92a1b6",
   "metadata": {},
   "outputs": [
    {
     "data": {
      "text/plain": [
       "['__bool__',\n",
       " '__class__',\n",
       " '__contains__',\n",
       " '__delattr__',\n",
       " '__dir__',\n",
       " '__doc__',\n",
       " '__eq__',\n",
       " '__format__',\n",
       " '__ge__',\n",
       " '__getattribute__',\n",
       " '__getitem__',\n",
       " '__gt__',\n",
       " '__hash__',\n",
       " '__init__',\n",
       " '__init_subclass__',\n",
       " '__iter__',\n",
       " '__le__',\n",
       " '__len__',\n",
       " '__lt__',\n",
       " '__ne__',\n",
       " '__new__',\n",
       " '__reduce__',\n",
       " '__reduce_ex__',\n",
       " '__repr__',\n",
       " '__reversed__',\n",
       " '__setattr__',\n",
       " '__sizeof__',\n",
       " '__str__',\n",
       " '__subclasshook__',\n",
       " 'count',\n",
       " 'index',\n",
       " 'start',\n",
       " 'step',\n",
       " 'stop']"
      ]
     },
     "execution_count": 37,
     "metadata": {},
     "output_type": "execute_result"
    }
   ],
   "source": [
    "dir(range(1,1))"
   ]
  },
  {
   "cell_type": "code",
   "execution_count": 39,
   "id": "eec60b43",
   "metadata": {},
   "outputs": [
    {
     "data": {
      "text/plain": [
       "{'thiliban': 'suba', 'flux': 'josuha'}"
      ]
     },
     "execution_count": 39,
     "metadata": {},
     "output_type": "execute_result"
    }
   ],
   "source": [
    "d = {}\n",
    "d['thiliban'] = 'suba'\n",
    "d['flux'] = 'josuha'\n",
    "d"
   ]
  },
  {
   "cell_type": "code",
   "execution_count": 40,
   "id": "724c86ed",
   "metadata": {},
   "outputs": [
    {
     "name": "stdout",
     "output_type": "stream",
     "text": [
      "('thiliban', 'suba')\n",
      "('flux', 'josuha')\n"
     ]
    }
   ],
   "source": [
    "for key in d.items():\n",
    "    print(key)"
   ]
  },
  {
   "cell_type": "code",
   "execution_count": 42,
   "id": "523cc8aa",
   "metadata": {},
   "outputs": [
    {
     "name": "stdout",
     "output_type": "stream",
     "text": [
      "thiliban suba\n",
      "flux josuha\n"
     ]
    }
   ],
   "source": [
    "for key in d.keys():\n",
    "    print(key, d[key])"
   ]
  },
  {
   "cell_type": "code",
   "execution_count": null,
   "id": "8eb2cf12",
   "metadata": {},
   "outputs": [],
   "source": [
    "#Understand that files, other physical sequences like list, string, tuple, dict are using Iterators! \n",
    "#"
   ]
  },
  {
   "cell_type": "code",
   "execution_count": 43,
   "id": "90adc10d",
   "metadata": {},
   "outputs": [
    {
     "data": {
      "text/plain": [
       "'thiliban'"
      ]
     },
     "execution_count": 43,
     "metadata": {},
     "output_type": "execute_result"
    }
   ],
   "source": [
    "I1 = iter(d)\n",
    "next(I1)"
   ]
  },
  {
   "cell_type": "code",
   "execution_count": 48,
   "id": "e49f8149",
   "metadata": {},
   "outputs": [
    {
     "name": "stdout",
     "output_type": "stream",
     "text": [
      "['def looping(x):\\n', '    for i in range(x):\\n', '        print(i, end = \" \")\\n', '        \\n', 'looping(11)\\n', 'dir(looping)']\n",
      "6\n"
     ]
    }
   ],
   "source": [
    "files_listcomp = [i for i in open('script2.py')]\n",
    "print(files_listcomp)\n",
    "print(len(files_listcomp))"
   ]
  },
  {
   "cell_type": "code",
   "execution_count": 53,
   "id": "d6182056",
   "metadata": {},
   "outputs": [
    {
     "data": {
      "text/plain": [
       "['def looping(x):',\n",
       " 'for i in range(x):',\n",
       " 'print(i, end = \" \")',\n",
       " '',\n",
       " 'looping(11)',\n",
       " 'dir(looping)']"
      ]
     },
     "execution_count": 53,
     "metadata": {},
     "output_type": "execute_result"
    }
   ],
   "source": [
    "#To remove the spaces in the line, we do like this! \n",
    "file_contents = [i.strip() for i in open('script2.py')]\n",
    "file_contents"
   ]
  },
  {
   "cell_type": "code",
   "execution_count": null,
   "id": "ad541243",
   "metadata": {},
   "outputs": [],
   "source": [
    "#readline is function method, it takes out each line of the file and put them in the list! "
   ]
  },
  {
   "cell_type": "code",
   "execution_count": 51,
   "id": "ff41f012",
   "metadata": {},
   "outputs": [
    {
     "data": {
      "text/plain": [
       "['Hi my name is thiliban and I would like to know that I am gonna be teaching\\n',\n",
       " 'python to the people! ']"
      ]
     },
     "execution_count": 51,
     "metadata": {},
     "output_type": "execute_result"
    }
   ],
   "source": [
    "file = [i for i in open('thiliban.txt')]\n",
    "file"
   ]
  },
  {
   "cell_type": "code",
   "execution_count": 52,
   "id": "e21797d2",
   "metadata": {},
   "outputs": [
    {
     "data": {
      "text/plain": [
       "['thiliban is one of the students of NCU', ' He is doing PhD in Biophysics']"
      ]
     },
     "execution_count": 52,
     "metadata": {},
     "output_type": "execute_result"
    }
   ],
   "source": [
    "'thiliban is one of the students of NCU. He is doing PhD in Biophysics'.split('.')"
   ]
  },
  {
   "cell_type": "markdown",
   "id": "020daeec",
   "metadata": {},
   "source": [
    "#Iterations! \n",
    "\n",
    "An interable object is that has the physical storage to store items, and returns the object once at a time! "
   ]
  },
  {
   "cell_type": "code",
   "execution_count": 1,
   "id": "2e63db9b",
   "metadata": {},
   "outputs": [
    {
     "name": "stdout",
     "output_type": "stream",
     "text": [
      "Help on class list in module builtins:\n",
      "\n",
      "class list(object)\n",
      " |  list(iterable=(), /)\n",
      " |  \n",
      " |  Built-in mutable sequence.\n",
      " |  \n",
      " |  If no argument is given, the constructor creates a new empty list.\n",
      " |  The argument must be an iterable if specified.\n",
      " |  \n",
      " |  Methods defined here:\n",
      " |  \n",
      " |  __add__(self, value, /)\n",
      " |      Return self+value.\n",
      " |  \n",
      " |  __contains__(self, key, /)\n",
      " |      Return key in self.\n",
      " |  \n",
      " |  __delitem__(self, key, /)\n",
      " |      Delete self[key].\n",
      " |  \n",
      " |  __eq__(self, value, /)\n",
      " |      Return self==value.\n",
      " |  \n",
      " |  __ge__(self, value, /)\n",
      " |      Return self>=value.\n",
      " |  \n",
      " |  __getattribute__(self, name, /)\n",
      " |      Return getattr(self, name).\n",
      " |  \n",
      " |  __getitem__(...)\n",
      " |      x.__getitem__(y) <==> x[y]\n",
      " |  \n",
      " |  __gt__(self, value, /)\n",
      " |      Return self>value.\n",
      " |  \n",
      " |  __iadd__(self, value, /)\n",
      " |      Implement self+=value.\n",
      " |  \n",
      " |  __imul__(self, value, /)\n",
      " |      Implement self*=value.\n",
      " |  \n",
      " |  __init__(self, /, *args, **kwargs)\n",
      " |      Initialize self.  See help(type(self)) for accurate signature.\n",
      " |  \n",
      " |  __iter__(self, /)\n",
      " |      Implement iter(self).\n",
      " |  \n",
      " |  __le__(self, value, /)\n",
      " |      Return self<=value.\n",
      " |  \n",
      " |  __len__(self, /)\n",
      " |      Return len(self).\n",
      " |  \n",
      " |  __lt__(self, value, /)\n",
      " |      Return self<value.\n",
      " |  \n",
      " |  __mul__(self, value, /)\n",
      " |      Return self*value.\n",
      " |  \n",
      " |  __ne__(self, value, /)\n",
      " |      Return self!=value.\n",
      " |  \n",
      " |  __repr__(self, /)\n",
      " |      Return repr(self).\n",
      " |  \n",
      " |  __reversed__(self, /)\n",
      " |      Return a reverse iterator over the list.\n",
      " |  \n",
      " |  __rmul__(self, value, /)\n",
      " |      Return value*self.\n",
      " |  \n",
      " |  __setitem__(self, key, value, /)\n",
      " |      Set self[key] to value.\n",
      " |  \n",
      " |  __sizeof__(self, /)\n",
      " |      Return the size of the list in memory, in bytes.\n",
      " |  \n",
      " |  append(self, object, /)\n",
      " |      Append object to the end of the list.\n",
      " |  \n",
      " |  clear(self, /)\n",
      " |      Remove all items from list.\n",
      " |  \n",
      " |  copy(self, /)\n",
      " |      Return a shallow copy of the list.\n",
      " |  \n",
      " |  count(self, value, /)\n",
      " |      Return number of occurrences of value.\n",
      " |  \n",
      " |  extend(self, iterable, /)\n",
      " |      Extend list by appending elements from the iterable.\n",
      " |  \n",
      " |  index(self, value, start=0, stop=9223372036854775807, /)\n",
      " |      Return first index of value.\n",
      " |      \n",
      " |      Raises ValueError if the value is not present.\n",
      " |  \n",
      " |  insert(self, index, object, /)\n",
      " |      Insert object before index.\n",
      " |  \n",
      " |  pop(self, index=-1, /)\n",
      " |      Remove and return item at index (default last).\n",
      " |      \n",
      " |      Raises IndexError if list is empty or index is out of range.\n",
      " |  \n",
      " |  remove(self, value, /)\n",
      " |      Remove first occurrence of value.\n",
      " |      \n",
      " |      Raises ValueError if the value is not present.\n",
      " |  \n",
      " |  reverse(self, /)\n",
      " |      Reverse *IN PLACE*.\n",
      " |  \n",
      " |  sort(self, /, *, key=None, reverse=False)\n",
      " |      Sort the list in ascending order and return None.\n",
      " |      \n",
      " |      The sort is in-place (i.e. the list itself is modified) and stable (i.e. the\n",
      " |      order of two equal elements is maintained).\n",
      " |      \n",
      " |      If a key function is given, apply it once to each list item and sort them,\n",
      " |      ascending or descending, according to their function values.\n",
      " |      \n",
      " |      The reverse flag can be set to sort in descending order.\n",
      " |  \n",
      " |  ----------------------------------------------------------------------\n",
      " |  Static methods defined here:\n",
      " |  \n",
      " |  __new__(*args, **kwargs) from builtins.type\n",
      " |      Create and return a new object.  See help(type) for accurate signature.\n",
      " |  \n",
      " |  ----------------------------------------------------------------------\n",
      " |  Data and other attributes defined here:\n",
      " |  \n",
      " |  __hash__ = None\n",
      "\n"
     ]
    }
   ],
   "source": [
    "help(list)"
   ]
  },
  {
   "cell_type": "code",
   "execution_count": 4,
   "id": "37bae53c",
   "metadata": {},
   "outputs": [
    {
     "data": {
      "text/plain": [
       "1"
      ]
     },
     "execution_count": 4,
     "metadata": {},
     "output_type": "execute_result"
    }
   ],
   "source": [
    "a = [1,2,3,4,5]\n",
    "#next(a) #LIST IS ITERABLE! not an interator! \n",
    "\n",
    "#We can make list as an interator by applying a function iter()\n",
    "\n",
    "a = iter(a)\n",
    "next(a)\n",
    "... #no it became a iterator! \n",
    "\n",
    "iterables are objects like list, str, set, file, dict! it will be an interator as soon as we apply iter() to it! "
   ]
  },
  {
   "cell_type": "code",
   "execution_count": 5,
   "id": "9917aa7e",
   "metadata": {},
   "outputs": [
    {
     "data": {
      "text/plain": [
       "'a'"
      ]
     },
     "execution_count": 5,
     "metadata": {},
     "output_type": "execute_result"
    }
   ],
   "source": [
    "xxxx = {'a' : 1, 'b' : 2}\n",
    "xxxx = iter(xxxx)\n",
    "next(xxxx)"
   ]
  },
  {
   "cell_type": "code",
   "execution_count": null,
   "id": "fb10a1f6",
   "metadata": {},
   "outputs": [],
   "source": []
  },
  {
   "cell_type": "code",
   "execution_count": null,
   "id": "deb9ea4c",
   "metadata": {},
   "outputs": [],
   "source": []
  },
  {
   "cell_type": "code",
   "execution_count": null,
   "id": "b45d1da0",
   "metadata": {},
   "outputs": [],
   "source": []
  },
  {
   "cell_type": "code",
   "execution_count": null,
   "id": "682e1e44",
   "metadata": {},
   "outputs": [],
   "source": []
  },
  {
   "cell_type": "code",
   "execution_count": null,
   "id": "cb3bcdcd",
   "metadata": {},
   "outputs": [],
   "source": []
  }
 ],
 "metadata": {
  "kernelspec": {
   "display_name": "Python 3",
   "language": "python",
   "name": "python3"
  },
  "language_info": {
   "codemirror_mode": {
    "name": "ipython",
    "version": 3
   },
   "file_extension": ".py",
   "mimetype": "text/x-python",
   "name": "python",
   "nbconvert_exporter": "python",
   "pygments_lexer": "ipython3",
   "version": "3.8.8"
  }
 },
 "nbformat": 4,
 "nbformat_minor": 5
}
