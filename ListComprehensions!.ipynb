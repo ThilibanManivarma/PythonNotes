{
 "cells": [
  {
   "cell_type": "code",
   "execution_count": 1,
   "id": "c8a93772",
   "metadata": {},
   "outputs": [],
   "source": [
    "def length(x):\n",
    "    return len(x)\n"
   ]
  },
  {
   "cell_type": "code",
   "execution_count": 2,
   "id": "aa3a87ae",
   "metadata": {},
   "outputs": [
    {
     "data": {
      "text/plain": [
       "[8, 4, 12, 4]"
      ]
     },
     "execution_count": 2,
     "metadata": {},
     "output_type": "execute_result"
    }
   ],
   "source": [
    "names = ['thiliban', 'xxxx', 'fluxpavilion', 'yyyy']\n",
    "len_names = [length(i) for i in names]\n",
    "len_names"
   ]
  },
  {
   "cell_type": "raw",
   "id": "47cc9ddd",
   "metadata": {},
   "source": [
    "According to the python developers, list comprehensions are most readable and maintanable, we can also create a list, dictionary using list comprehension, dictionary comprehension,. instead of square brackets if we use () we can able to use of generators!\n",
    "\n",
    "Inside the list comprehension we can also use of expressions, we can able to use the arithmetic contribution, functions, other operations! \n",
    "\n",
    "[ <expression> <for loop> <if condition>] --> this is one of the complicated syntax! as we go deep, we can also able to use nested for loop inside of square brackets! \n",
    "\n",
    "We\n"
   ]
  },
  {
   "cell_type": "code",
   "execution_count": 3,
   "id": "1127894d",
   "metadata": {},
   "outputs": [],
   "source": [
    "def string_check(x):\n",
    "    if type(x) is str:\n",
    "        return True\n",
    "    else : return False\n",
    "    "
   ]
  },
  {
   "cell_type": "code",
   "execution_count": 4,
   "id": "b61117d0",
   "metadata": {},
   "outputs": [
    {
     "data": {
      "text/plain": [
       "True"
      ]
     },
     "execution_count": 4,
     "metadata": {},
     "output_type": "execute_result"
    }
   ],
   "source": [
    "type('flux') == str"
   ]
  },
  {
   "cell_type": "code",
   "execution_count": 5,
   "id": "ab31fded",
   "metadata": {},
   "outputs": [
    {
     "data": {
      "text/plain": [
       "str"
      ]
     },
     "execution_count": 5,
     "metadata": {},
     "output_type": "execute_result"
    }
   ],
   "source": [
    "type('flux')"
   ]
  },
  {
   "cell_type": "markdown",
   "id": "e9dce500",
   "metadata": {},
   "source": []
  },
  {
   "cell_type": "code",
   "execution_count": 6,
   "id": "e4dede22",
   "metadata": {},
   "outputs": [],
   "source": [
    "names = ['thiliban', 'xxxx', 'fluxpavilion', 'arijthsingh', 1, 2]"
   ]
  },
  {
   "cell_type": "code",
   "execution_count": 7,
   "id": "7caebb77",
   "metadata": {},
   "outputs": [
    {
     "data": {
      "text/plain": [
       "[True, True, True, True, False, False]"
      ]
     },
     "execution_count": 7,
     "metadata": {},
     "output_type": "execute_result"
    }
   ],
   "source": [
    "string_check = [string_check(i) for i in names]\n",
    "string_check"
   ]
  },
  {
   "cell_type": "code",
   "execution_count": 8,
   "id": "0d67d707",
   "metadata": {},
   "outputs": [],
   "source": [
    "def palindrome(x):\n",
    "    if x == x[::-1]:\n",
    "        \n",
    "        return True\n",
    "    else:\n",
    "        return False\n",
    "        "
   ]
  },
  {
   "cell_type": "code",
   "execution_count": 9,
   "id": "90c78e1c",
   "metadata": {},
   "outputs": [
    {
     "data": {
      "text/plain": [
       "False"
      ]
     },
     "execution_count": 9,
     "metadata": {},
     "output_type": "execute_result"
    }
   ],
   "source": [
    "palindrome('dad')\n",
    "palindrome('vikatakavi')"
   ]
  },
  {
   "cell_type": "code",
   "execution_count": 10,
   "id": "ce8aa50e",
   "metadata": {},
   "outputs": [
    {
     "data": {
      "text/plain": [
       "['dad', 'mom', 'dod', 'xxx']"
      ]
     },
     "execution_count": 10,
     "metadata": {},
     "output_type": "execute_result"
    }
   ],
   "source": [
    "words = ['dad','mom','vikatakavi','dod','xxx']\n",
    "palindrom_check = [word for word in words if palindrome(word)]\n",
    "palindrom_check"
   ]
  },
  {
   "cell_type": "code",
   "execution_count": 12,
   "id": "3efe88d3",
   "metadata": {},
   "outputs": [
    {
     "name": "stdout",
     "output_type": "stream",
     "text": [
      "t h i l i b a n "
     ]
    }
   ],
   "source": [
    "for i in 'thiliban' : print(i, end = \" \")"
   ]
  },
  {
   "cell_type": "code",
   "execution_count": 13,
   "id": "47f22a4f",
   "metadata": {},
   "outputs": [
    {
     "name": "stdout",
     "output_type": "stream",
     "text": [
      "1 4 9 16 25 36 49 64 81 100 "
     ]
    }
   ],
   "source": [
    "for i in range(1,11): print(i*i, end = \" \")"
   ]
  },
  {
   "cell_type": "code",
   "execution_count": 15,
   "id": "60d66eb3",
   "metadata": {},
   "outputs": [
    {
     "data": {
      "text/plain": [
       "['tt',\n",
       " 'th',\n",
       " 'ti',\n",
       " 'tl',\n",
       " 'ti',\n",
       " 'tb',\n",
       " 'ta',\n",
       " 'tn',\n",
       " 'ht',\n",
       " 'hh',\n",
       " 'hi',\n",
       " 'hl',\n",
       " 'hi',\n",
       " 'hb',\n",
       " 'ha',\n",
       " 'hn',\n",
       " 'it',\n",
       " 'ih',\n",
       " 'ii',\n",
       " 'il',\n",
       " 'ii',\n",
       " 'ib',\n",
       " 'ia',\n",
       " 'in',\n",
       " 'lt',\n",
       " 'lh',\n",
       " 'li',\n",
       " 'll',\n",
       " 'li',\n",
       " 'lb',\n",
       " 'la',\n",
       " 'ln',\n",
       " 'it',\n",
       " 'ih',\n",
       " 'ii',\n",
       " 'il',\n",
       " 'ii',\n",
       " 'ib',\n",
       " 'ia',\n",
       " 'in',\n",
       " 'bt',\n",
       " 'bh',\n",
       " 'bi',\n",
       " 'bl',\n",
       " 'bi',\n",
       " 'bb',\n",
       " 'ba',\n",
       " 'bn',\n",
       " 'at',\n",
       " 'ah',\n",
       " 'ai',\n",
       " 'al',\n",
       " 'ai',\n",
       " 'ab',\n",
       " 'aa',\n",
       " 'an',\n",
       " 'nt',\n",
       " 'nh',\n",
       " 'ni',\n",
       " 'nl',\n",
       " 'ni',\n",
       " 'nb',\n",
       " 'na',\n",
       " 'nn']"
      ]
     },
     "execution_count": 15,
     "metadata": {},
     "output_type": "execute_result"
    }
   ],
   "source": [
    "[i+j for i in 'thiliban' for j in 'thiliban']"
   ]
  },
  {
   "cell_type": "markdown",
   "id": "6663fdf7",
   "metadata": {},
   "source": [
    "#SYNTAX for List comprehension, nested ones.\n",
    "\n",
    "[ expression for target1 in iterable1 if condition1\n",
    "for target2 in iterable2 if condition2 ...\n",
    "for targetN in iterableN if conditionN ]"
   ]
  },
  {
   "cell_type": "code",
   "execution_count": 23,
   "id": "56becfcf",
   "metadata": {},
   "outputs": [
    {
     "data": {
      "text/plain": [
       "[[2, 6], [2, 8], [2, 10], [4, 6], [4, 8], [4, 10]]"
      ]
     },
     "execution_count": 23,
     "metadata": {},
     "output_type": "execute_result"
    }
   ],
   "source": [
    "[[i, j] for i in [1,2,3,4,5] if i%2 == 0 for j in [6,7,8,9,10] if j%2 == 0 ] #NESTED FOR LOOP and IF STATEMENTS!!!"
   ]
  },
  {
   "cell_type": "code",
   "execution_count": 24,
   "id": "25e6e67f",
   "metadata": {},
   "outputs": [
    {
     "data": {
      "text/plain": [
       "[0, 2, 4, 6, 8]"
      ]
     },
     "execution_count": 24,
     "metadata": {},
     "output_type": "execute_result"
    }
   ],
   "source": [
    "[i for i in range(10) if i%2 == 0]"
   ]
  },
  {
   "cell_type": "code",
   "execution_count": 25,
   "id": "b1ec104e",
   "metadata": {},
   "outputs": [
    {
     "data": {
      "text/plain": [
       "[0, 2, 4, 6, 8]"
      ]
     },
     "execution_count": 25,
     "metadata": {},
     "output_type": "execute_result"
    }
   ],
   "source": [
    "list(filter(lambda x : x % 2 == 0, range(10)))"
   ]
  },
  {
   "cell_type": "code",
   "execution_count": 27,
   "id": "0e2a0334",
   "metadata": {},
   "outputs": [
    {
     "name": "stdout",
     "output_type": "stream",
     "text": [
      "[0, 2, 4, 6, 8]\n"
     ]
    }
   ],
   "source": [
    "res = []\n",
    "for x in range(10):\n",
    "    if x % 2 == 0:\n",
    "        res.append(x)\n",
    "        \n",
    "print(res)"
   ]
  },
  {
   "cell_type": "code",
   "execution_count": 28,
   "id": "af29a986",
   "metadata": {},
   "outputs": [
    {
     "data": {
      "text/plain": [
       "[0, 4, 16, 36, 64]"
      ]
     },
     "execution_count": 28,
     "metadata": {},
     "output_type": "execute_result"
    }
   ],
   "source": [
    "#HOW TO USE MAP and FILTER together as one line/function! \n",
    "\n",
    "list(map((lambda x : x**2), filter((lambda x : x%2 == 0), range(10))))"
   ]
  },
  {
   "cell_type": "code",
   "execution_count": null,
   "id": "1925517b",
   "metadata": {},
   "outputs": [],
   "source": []
  },
  {
   "cell_type": "code",
   "execution_count": null,
   "id": "4343215b",
   "metadata": {},
   "outputs": [],
   "source": []
  },
  {
   "cell_type": "code",
   "execution_count": null,
   "id": "7957d2b9",
   "metadata": {},
   "outputs": [],
   "source": []
  },
  {
   "cell_type": "code",
   "execution_count": null,
   "id": "7da106b1",
   "metadata": {},
   "outputs": [],
   "source": []
  }
 ],
 "metadata": {
  "kernelspec": {
   "display_name": "Python 3",
   "language": "python",
   "name": "python3"
  },
  "language_info": {
   "codemirror_mode": {
    "name": "ipython",
    "version": 3
   },
   "file_extension": ".py",
   "mimetype": "text/x-python",
   "name": "python",
   "nbconvert_exporter": "python",
   "pygments_lexer": "ipython3",
   "version": "3.8.8"
  }
 },
 "nbformat": 4,
 "nbformat_minor": 5
}
