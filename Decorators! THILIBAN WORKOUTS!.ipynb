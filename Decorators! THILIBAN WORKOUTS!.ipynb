{
 "cells": [
  {
   "cell_type": "code",
   "execution_count": 11,
   "metadata": {},
   "outputs": [
    {
     "name": "stdout",
     "output_type": "stream",
     "text": [
      "hi thiliban! thiliban\n"
     ]
    }
   ],
   "source": [
    "def outer(expr):\n",
    "    def add(func):\n",
    "        def inner():\n",
    "            return func() + expr\n",
    "        \n",
    "        return inner\n",
    "    return add\n",
    "        \n",
    "\n",
    "@outer('thiliban')\n",
    "def basic():\n",
    "    return 'hi thiliban! '\n",
    "\n",
    "print(basic())\n"
   ]
  },
  {
   "cell_type": "code",
   "execution_count": null,
   "metadata": {},
   "outputs": [],
   "source": [
    "#PARATERMIZED DECORATOR !\n",
    "\n",
    "def decorators(*args,**kwargs):\n",
    "    def inner(func):\n",
    "        \n",
    "        \"\"\"operation\"\"\"\n",
    "        \n",
    "    return \n",
    "return \n",
    "\n",
    "\n",
    "#noramfunc we want to decorate ! \n",
    "@decorators('parameters! ')\n",
    "def basic():\n",
    "    return \"\"\"\"\"\""
   ]
  },
  {
   "cell_type": "code",
   "execution_count": 13,
   "metadata": {},
   "outputs": [
    {
     "name": "stdout",
     "output_type": "stream",
     "text": [
      "35\n"
     ]
    }
   ],
   "source": [
    "def decor(s):\n",
    "    def inner(func):\n",
    "        return func() + s\n",
    "        \n",
    "    return inner\n",
    "\n",
    "@decor(10)\n",
    "def add():\n",
    "    x = 10 \n",
    "    y = 15\n",
    "    \n",
    "    z = x + y \n",
    "    return z\n",
    "\n",
    "print(add)"
   ]
  },
  {
   "cell_type": "code",
   "execution_count": 19,
   "metadata": {},
   "outputs": [
    {
     "name": "stdout",
     "output_type": "stream",
     "text": [
      "running register(<function f1 at 0x00000000080FE670>)\n",
      "registry [<function f1 at 0x00000000080FE670>]\n",
      "running f1()\n"
     ]
    }
   ],
   "source": [
    "#normal ones!\n",
    "registery = []\n",
    "\n",
    "def register(func):\n",
    "    print('running register(%s)'%func)\n",
    "    registery.append(func)\n",
    "    return func\n",
    "    \n",
    "@register\n",
    "def f1():\n",
    "    print('running f1()')\n",
    "    \n",
    "\n",
    "print('registry',registery)\n",
    "f1()\n"
   ]
  },
  {
   "cell_type": "code",
   "execution_count": null,
   "metadata": {},
   "outputs": [],
   "source": []
  }
 ],
 "metadata": {
  "kernelspec": {
   "display_name": "Python 3",
   "language": "python",
   "name": "python3"
  },
  "language_info": {
   "codemirror_mode": {
    "name": "ipython",
    "version": 3
   },
   "file_extension": ".py",
   "mimetype": "text/x-python",
   "name": "python",
   "nbconvert_exporter": "python",
   "pygments_lexer": "ipython3",
   "version": "3.8.3"
  }
 },
 "nbformat": 4,
 "nbformat_minor": 4
}
