{
 "cells": [
  {
   "cell_type": "code",
   "execution_count": 2,
   "metadata": {},
   "outputs": [
    {
     "name": "stdout",
     "output_type": "stream",
     "text": [
      "3\n"
     ]
    }
   ],
   "source": [
    "#nested function! \n",
    "#functions are objects! \n",
    "def outter(): #functions \n",
    "    x = 3 \n",
    "    def inner(): #nested fuvction and it can use nonlocal variable ! enclosed scope ! \n",
    "        print(x)\n",
    "    inner() # calling the insdie fucnction under the outter functions! \n",
    "#inner() --- nested fucntions cant be called outside of the fucntionS ! \n",
    "outter()"
   ]
  },
  {
   "cell_type": "code",
   "execution_count": 10,
   "metadata": {
    "scrolled": true
   },
   "outputs": [
    {
     "name": "stdout",
     "output_type": "stream",
     "text": [
      "hi subaflux !! \n"
     ]
    },
    {
     "data": {
      "text/plain": [
       "<function __main__.f()>"
      ]
     },
     "execution_count": 10,
     "metadata": {},
     "output_type": "execute_result"
    }
   ],
   "source": [
    "#FUNCTIONS ARE objects! \n",
    "def f():\n",
    "    print('hi subaflux !! ')\n",
    "    \n",
    "f1 = f() #fucntions are assigned to the variavble, here fucnctions are working as OBJECTS !\n",
    "#if we call the fuction without () --- > it will give the reference memory address ! \n",
    "f\n"
   ]
  },
  {
   "cell_type": "code",
   "execution_count": 18,
   "metadata": {},
   "outputs": [
    {
     "name": "stdout",
     "output_type": "stream",
     "text": [
      "5\n"
     ]
    }
   ],
   "source": [
    "#closure! \n",
    "def outer():\n",
    "    x = 3 \n",
    "    def inner():\n",
    "        y = 2\n",
    "        nonlocal x\n",
    "        result = x + y\n",
    "        return result\n",
    "    \n",
    "    return inner\n",
    "#without paranthesis inner --- its reference to the inner fuction! \n",
    "\n",
    "a  = outer()\n",
    "# a is implicity an inner function here ! but if we call inner() outside it will show an error! \n",
    "print(a())\n",
    "\n",
    "#here we can access the local variable y ! outside the fuction with the help of CLOSURE procesS! \n"
   ]
  },
  {
   "cell_type": "code",
   "execution_count": 22,
   "metadata": {},
   "outputs": [
    {
     "name": "stdout",
     "output_type": "stream",
     "text": [
      "hello\n"
     ]
    }
   ],
   "source": [
    "def outerr():\n",
    "    msg = 'hello'\n",
    "    def innerr():\n",
    "        print(msg)\n",
    "    return innerr\n",
    "    \n",
    "x = outerr()\n",
    "x()\n"
   ]
  },
  {
   "cell_type": "code",
   "execution_count": null,
   "metadata": {},
   "outputs": [],
   "source": [
    "#when do we rely on the CLOSURE function! \n",
    "1) it should be used when we use nested function! \n",
    "2) Nested function should have the enclosing scope ! \n",
    "\n",
    "uses :\n",
    "    1) it can avoid global variable !\n",
    "    2) data hiding\n",
    "    3) let us implement the decorators! \n",
    "    "
   ]
  }
 ],
 "metadata": {
  "kernelspec": {
   "display_name": "Python 3",
   "language": "python",
   "name": "python3"
  },
  "language_info": {
   "codemirror_mode": {
    "name": "ipython",
    "version": 3
   },
   "file_extension": ".py",
   "mimetype": "text/x-python",
   "name": "python",
   "nbconvert_exporter": "python",
   "pygments_lexer": "ipython3",
   "version": "3.8.3"
  }
 },
 "nbformat": 4,
 "nbformat_minor": 4
}
