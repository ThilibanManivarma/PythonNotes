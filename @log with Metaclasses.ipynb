{
 "cells": [
  {
   "cell_type": "code",
   "execution_count": 14,
   "metadata": {},
   "outputs": [
    {
     "name": "stdout",
     "output_type": "stream",
     "text": [
      "hello! \n"
     ]
    }
   ],
   "source": [
    "try:\n",
    "    import datetime\n",
    "    import os \n",
    "    import sys\n",
    "    import logging\n",
    "    \n",
    "except Exception as e:\n",
    "    print(\" some modules are missing! {}\".format(e))\n",
    "    \n",
    "class Meta(type):\n",
    "    \"\"\" Meta Class \"\"\"\n",
    "    def __call__(cls,*args,**kwargs):\n",
    "        instance = super(Meta,cls).__call__(*args,**kwargs)\n",
    "        return instance\n",
    "    \n",
    "    def __init__(cls,name,base,attr):\n",
    "        super(Meta,cls).__init__(name,base,attr)\n",
    "    \n",
    "#log fucntion creation! \n",
    "\n",
    "\n",
    "\n",
    "class log(object):\n",
    "    def __init__(self,func):\n",
    "        self.func = func\n",
    "        \n",
    "    def __call__(self,*args,**kwargs):\n",
    "        \n",
    "        \"\"\" wrapper function \"\"\"\n",
    "        \n",
    "        start = datetime.datetime.now()         #start_time! \n",
    "        Tem = self.func(*args,**kwargs)    #call_function! \n",
    "        FunName = self.func.__name__     #get fucn name! \n",
    "        end = datetime.datetime.now()   #end time! \n",
    "        \n",
    "        \n",
    "        message = \"\"\"\n",
    "                    Function : {}\n",
    "                    Exceution time : {}\n",
    "                    Address : {}\n",
    "                    Memory : {}\n",
    "                    Date : {}\n",
    "                    \n",
    "                    \"\"\".format(FunName,end-start,self.func.__name__,sys.getsizeof(self.func),start)\n",
    "        \n",
    "        cwd = os.getcwd()\n",
    "        folder = 'Logs'\n",
    "        newpath = os.path.join(cwd,folder)\n",
    "        \n",
    "        try:\n",
    "            \n",
    "            \"\"\"try to create a folder \"\"\"\n",
    "\n",
    "            os.mkdir(newpath)\n",
    "            \n",
    "        except:\n",
    "            \"\"\"Directory already exsist\"\"\"\n",
    "            \n",
    "            logging.basicConfig(filename='{}/log.log'.format(newpath),level=logging.DEBUG)\n",
    "            logging.debug(message)\n",
    "            \n",
    "        return Tem #return the function! \n",
    "    \n",
    "class Test(metaclass =Meta):\n",
    "    \n",
    "    def __init__(self,*args,**kwargs):\n",
    "        pass\n",
    "    \n",
    "    @log\n",
    "    def methodA():\n",
    "        print('hello! ')\n",
    "        return '1111'\n",
    "    \n",
    "if __name__ == \"__main__\":\n",
    "    \n",
    "    obj = Test()\n",
    "    obj.methodA()\n",
    "        "
   ]
  },
  {
   "cell_type": "code",
   "execution_count": null,
   "metadata": {},
   "outputs": [],
   "source": []
  }
 ],
 "metadata": {
  "kernelspec": {
   "display_name": "Python 3",
   "language": "python",
   "name": "python3"
  },
  "language_info": {
   "codemirror_mode": {
    "name": "ipython",
    "version": 3
   },
   "file_extension": ".py",
   "mimetype": "text/x-python",
   "name": "python",
   "nbconvert_exporter": "python",
   "pygments_lexer": "ipython3",
   "version": "3.8.3"
  }
 },
 "nbformat": 4,
 "nbformat_minor": 4
}
