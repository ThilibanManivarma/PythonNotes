{
 "cells": [
  {
   "cell_type": "code",
   "execution_count": 6,
   "metadata": {},
   "outputs": [
    {
     "name": "stdout",
     "output_type": "stream",
     "text": [
      "inner\n",
      "inner\n"
     ]
    }
   ],
   "source": [
    "def outer():\n",
    "    x = 3\n",
    "    def inner():\n",
    "        y = 3\n",
    "        result = x + y\n",
    "        return result\n",
    "    return inner #here outer fuction return another function! \n",
    "\n",
    "a = outer()\n",
    "print(a.__name__)\n",
    "\n",
    "b = outer() # here a, b variable name give to the fuction ! function names are reference ! we can assign many names to function! \n",
    "print(b.__name__)"
   ]
  },
  {
   "cell_type": "code",
   "execution_count": 7,
   "metadata": {},
   "outputs": [],
   "source": [
    "#python everything is an object! \n",
    " "
   ]
  },
  {
   "cell_type": "code",
   "execution_count": 8,
   "metadata": {},
   "outputs": [
    {
     "name": "stdout",
     "output_type": "stream",
     "text": [
      "hi i am fucn two and i will cal func one \n",
      "hi i am fucn one\n"
     ]
    }
   ],
   "source": [
    "def function1():\n",
    "    print('hi i am fucn one')\n",
    "    \n",
    "def function2(func): #assign one parameter here! \n",
    "    print('hi i am fucn two and i will cal func one ')\n",
    "    func() #here i am calling the parameter ! \n",
    "    \n",
    "function2(function1) # here i am passing a function as parameter ! \n",
    "    \n",
    "    \n",
    "    "
   ]
  },
  {
   "cell_type": "code",
   "execution_count": 6,
   "metadata": {},
   "outputs": [
    {
     "name": "stdout",
     "output_type": "stream",
     "text": [
      "good morning\n",
      "GOOD MORNING\n"
     ]
    }
   ],
   "source": [
    "def str_upper(func):\n",
    "    def inner(): # so no parameetr inside the fucnction!\n",
    "        \n",
    "        str1 = func()\n",
    "        return str1.upper()\n",
    "\n",
    "    return inner\n",
    "        \n",
    "\n",
    "def print_str(): #no parameter here \n",
    "    return 'good morning' #if we want to change this string to somethinh withourt affecting this\n",
    "\n",
    "print(print_str())\n",
    "d = str_upper(print_str) #passing the print_str fuction as argument here! \n",
    "print(d())"
   ]
  },
  {
   "cell_type": "code",
   "execution_count": 7,
   "metadata": {},
   "outputs": [],
   "source": [
    "#above is not the way to decorate! "
   ]
  },
  {
   "cell_type": "code",
   "execution_count": 9,
   "metadata": {},
   "outputs": [
    {
     "name": "stdout",
     "output_type": "stream",
     "text": [
      "GOOD MORN\n"
     ]
    }
   ],
   "source": [
    "def str_upper(func):\n",
    "    def inner():\n",
    "        str1 = func()\n",
    "        return str1.upper()\n",
    "    \n",
    "    return inner\n",
    "\n",
    "@str_upper  #here i am decorating it with @___decorator_Name_____\n",
    "def print_str(): #no parameter here \n",
    "    return 'good morn'\n",
    "\n",
    "#s = str_upper(print_str)\n",
    "#print(s())\n",
    "#both the lines of code is giving the same results! \n",
    "\n",
    "print(print_str())"
   ]
  },
  {
   "cell_type": "code",
   "execution_count": 26,
   "metadata": {},
   "outputs": [
    {
     "name": "stdout",
     "output_type": "stream",
     "text": [
      "0.0\n"
     ]
    }
   ],
   "source": [
    "def model(func):\n",
    "    def inner(a,b):\n",
    "        if b == 0:\n",
    "            a,b = b,a\n",
    "            return func(a,b)\n",
    "        else:\n",
    "            return func(a,b)\n",
    "    return inner\n",
    "\n",
    "@model\n",
    "def divide(a,b):\n",
    "    return a/b\n",
    "\n",
    "#print(divide(4,2))\n",
    "print(divide(4,0))"
   ]
  },
  {
   "cell_type": "code",
   "execution_count": 28,
   "metadata": {},
   "outputs": [],
   "source": [
    "#decorators ! \n",
    "#3 steps ! \n",
    "#1) creating a decorator is tricky! need to take a function as parameter!\n",
    "#2) add functionality to the fuction! \n",
    "#3) fucntion need to return another fucntion! "
   ]
  },
  {
   "cell_type": "code",
   "execution_count": 38,
   "metadata": {},
   "outputs": [
    {
     "name": "stdout",
     "output_type": "stream",
     "text": [
      "SUBA THILIBAN! \n"
     ]
    }
   ],
   "source": [
    "def outer(func): #decorator function! 1) take the fuction as parameter ! func is function reference \n",
    "    def inner():\n",
    "        str1 = func()\n",
    "        return str1.upper() # add fuctionality to the function! \n",
    "    \n",
    "    return inner #here we have nested function! thats y we return both the function! \n",
    "\n",
    "@outer      #decoratig here!\n",
    "def print_str():\n",
    "    return 'suba thiliban! '\n",
    "\n",
    "print(print_str())"
   ]
  },
  {
   "cell_type": "code",
   "execution_count": 39,
   "metadata": {},
   "outputs": [
    {
     "name": "stdout",
     "output_type": "stream",
     "text": [
      "['GOOD', 'MORNING']\n"
     ]
    }
   ],
   "source": [
    "#multiple decorators ! ! on single fucntion! \n",
    "#if we want to do multiple operation to one function! we can do that !\n",
    "def upper(func):\n",
    "    def inner():\n",
    "        str1 = func()\n",
    "        return str1.upper()\n",
    "    \n",
    "    return inner\n",
    "\n",
    "def split(func):\n",
    "    def wrapper():\n",
    "        str2 = func()\n",
    "        return str2.split()\n",
    "    \n",
    "    return wrapper\n",
    "\n",
    "@split\n",
    "@upper #multiple decorators can be assinged by this one by one! upper can be done in first then split! \n",
    "def ordinary(): \n",
    "    return 'good morning'\n",
    "\n",
    "\n",
    "print(ordinary())\n",
    "\n",
    " "
   ]
  },
  {
   "cell_type": "code",
   "execution_count": 42,
   "metadata": {},
   "outputs": [
    {
     "name": "stdout",
     "output_type": "stream",
     "text": [
      " first  second hello second  first \n"
     ]
    }
   ],
   "source": [
    "def upper(func):\n",
    "    def inner():\n",
    "        return ' first ' + func() + ' first '\n",
    "    return inner\n",
    "\n",
    "def split(func):\n",
    "    def wrapper():\n",
    "        return ' second '  + func() + ' second '\n",
    "    return wrapper\n",
    "\n",
    "@upper #second\n",
    "@split #first\n",
    "def ordinary():\n",
    "    return 'hello'\n",
    "\n",
    "print(ordinary())"
   ]
  },
  {
   "cell_type": "code",
   "execution_count": 2,
   "metadata": {},
   "outputs": [
    {
     "name": "stdout",
     "output_type": "stream",
     "text": [
      "good morning suba thiliban\n"
     ]
    }
   ],
   "source": [
    "#decorators has parameters! \n",
    "#if u want to pass the parameter inside the decorator we have to create the one more function and pass the expression inside! \n",
    "def outer(expr): #extra fuction is added in order to make the parameter to the decorator!  #outer fucntion! \n",
    "    def add(func): \n",
    "        def inner():\n",
    "            return func() + expr\n",
    "        \n",
    "        return inner\n",
    "    return add\n",
    "\n",
    "@outer('thiliban')\n",
    "def ordinary():\n",
    "    return 'good morning suba '\n",
    "\n",
    "print(ordinary())\n"
   ]
  },
  {
   "cell_type": "code",
   "execution_count": 49,
   "metadata": {},
   "outputs": [
    {
     "name": "stdout",
     "output_type": "stream",
     "text": [
      "2.0\n",
      "give proper input\n"
     ]
    }
   ],
   "source": [
    "#general_decorators! in multiple functionS!\n",
    "\n",
    "def div_decor(func):\n",
    "    def inner(*args):\n",
    "        list1 = []\n",
    "        list1 = args[1:] #index from one to ....\n",
    "        for i in list1:\n",
    "            if i == 0:\n",
    "                return 'give proper input'\n",
    "        return func(*args)\n",
    "    return inner\n",
    "\n",
    "\n",
    "@div_decor\n",
    "def divide(a,b):\n",
    "    return a/b\n",
    "\n",
    "@div_decor\n",
    "def div2(a,b,c):\n",
    "    return a/b/c\n",
    "\n",
    "print(divide(4,2))\n",
    "print(div2(10,0,4))"
   ]
  },
  {
   "cell_type": "code",
   "execution_count": 51,
   "metadata": {},
   "outputs": [
    {
     "name": "stdout",
     "output_type": "stream",
     "text": [
      "HELLO\n",
      "inner\n"
     ]
    }
   ],
   "source": [
    "#decorators3\n",
    "def decorator(func):\n",
    "    def inner():\n",
    "        str1 = func()\n",
    "        return str1.upper()\n",
    "    \n",
    "    return inner\n",
    "\n",
    "@decorator\n",
    "def ordinary():\n",
    "    return 'hello'\n",
    "\n",
    "print(ordinary())\n",
    "print(ordinary.__name__) #it belongs to the nested inner function! \n",
    "#here we i call the name method to see ! it shows inner class! it hids the original data of function greed! \n",
    "#data hiding is there! \n"
   ]
  },
  {
   "cell_type": "code",
   "execution_count": 52,
   "metadata": {},
   "outputs": [
    {
     "name": "stdout",
     "output_type": "stream",
     "text": [
      "HELLO\n",
      "ordinary\n"
     ]
    }
   ],
   "source": [
    "#to resolove the data hiding and\n",
    "import functools\n",
    "def decorator(func):\n",
    "    @functools.wraps(func) #its aa decorator, it copies the lost data from undecorated function or original function to decorator closure so it allows the original function name\n",
    "    def inner(): \n",
    "        str1 = func()\n",
    "        return str1.upper()\n",
    "    \n",
    "    return inner\n",
    "\n",
    "@decorator\n",
    "def ordinary():\n",
    "    return 'hello'\n",
    "\n",
    "print(ordinary())\n",
    "print(ordinary.__name__)"
   ]
  },
  {
   "cell_type": "code",
   "execution_count": 67,
   "metadata": {},
   "outputs": [],
   "source": [
    "#use decorators to methods of classes too! \n",
    "def check_name(method):#name as method! \n",
    "    def inner(name_ref): \n",
    "        if name_ref.name == 'flux':\n",
    "            print('even my name is also same ! ')\n",
    "            \n",
    "        else:\n",
    "            method(name_ref)\n",
    "            \n",
    "    return inner\n",
    "\n",
    "\n",
    "class Print(object):\n",
    "    def __init__(self,name):\n",
    "        self.name = name \n",
    "    \n",
    "    @check_name\n",
    "    def printt(self): #self is a instance of the class/ parameter ! \n",
    "        return ('entered user name is : ', self.name)\n",
    "    \n",
    "p = Print('fluxx')\n",
    "p.printt()"
   ]
  },
  {
   "cell_type": "code",
   "execution_count": 46,
   "metadata": {},
   "outputs": [
    {
     "name": "stdout",
     "output_type": "stream",
     "text": [
      "the name is  flux\n"
     ]
    },
    {
     "ename": "TypeError",
     "evalue": "'Printing' object is not callable",
     "output_type": "error",
     "traceback": [
      "\u001b[1;31m---------------------------------------------------------------------------\u001b[0m",
      "\u001b[1;31mTypeError\u001b[0m                                 Traceback (most recent call last)",
      "\u001b[1;32m<ipython-input-46-297ac927878a>\u001b[0m in \u001b[0;36m<module>\u001b[1;34m\u001b[0m\n\u001b[0;32m     10\u001b[0m \u001b[0mp1\u001b[0m \u001b[1;33m=\u001b[0m \u001b[0mPrinting\u001b[0m\u001b[1;33m(\u001b[0m\u001b[1;34m'flux'\u001b[0m\u001b[1;33m)\u001b[0m\u001b[1;33m\u001b[0m\u001b[1;33m\u001b[0m\u001b[0m\n\u001b[0;32m     11\u001b[0m \u001b[0mp1\u001b[0m\u001b[1;33m.\u001b[0m\u001b[0mname1\u001b[0m\u001b[1;33m(\u001b[0m\u001b[1;33m)\u001b[0m\u001b[1;33m\u001b[0m\u001b[1;33m\u001b[0m\u001b[0m\n\u001b[1;32m---> 12\u001b[1;33m \u001b[0mp1\u001b[0m\u001b[1;33m(\u001b[0m\u001b[1;33m)\u001b[0m\u001b[1;33m\u001b[0m\u001b[1;33m\u001b[0m\u001b[0m\n\u001b[0m\u001b[0;32m     13\u001b[0m \u001b[1;31m#p1() -- it will show error !and we cant call this object! with fucntion!\u001b[0m\u001b[1;33m\u001b[0m\u001b[1;33m\u001b[0m\u001b[1;33m\u001b[0m\u001b[0m\n",
      "\u001b[1;31mTypeError\u001b[0m: 'Printing' object is not callable"
     ]
    }
   ],
   "source": [
    "#__Call__method is used to call a fucntion with the help of  object in fuction form\n",
    "\n",
    "class Printing():\n",
    "    def __init__(self,name):\n",
    "        self.name = name\n",
    "        \n",
    "    def name1(self):\n",
    "        print('the name is ', self.name)\n",
    "    \n",
    "p1 = Printing('flux')\n",
    "p1.name1()\n",
    "p1()\n",
    "#p1() -- it will show error !and we cant call this object! with fucntion! \n"
   ]
  },
  {
   "cell_type": "code",
   "execution_count": 77,
   "metadata": {},
   "outputs": [
    {
     "name": "stdout",
     "output_type": "stream",
     "text": [
      "the name is  flux\n"
     ]
    }
   ],
   "source": [
    "class Printing():\n",
    "    def __init__(self,name):\n",
    "        self.name = name\n",
    "        \n",
    "    def __call__(self): #__call__ method!\n",
    "        print('the name is ', self.name)\n",
    "    \n",
    "p1 = Printing('flux')\n",
    "p1()"
   ]
  },
  {
   "cell_type": "code",
   "execution_count": 80,
   "metadata": {},
   "outputs": [
    {
     "name": "stdout",
     "output_type": "stream",
     "text": [
      "GOOD MORNING\n"
     ]
    }
   ],
   "source": [
    "class Decorator(): #class decorator! \n",
    "    def __init__(self,func):\n",
    "        self.func = func\n",
    "        \n",
    "    def __call__(self):\n",
    "        str1 = self.func()\n",
    "        return str1.upper()\n",
    "\n",
    "@Decorator\n",
    "def string():\n",
    "    return  'good morning'\n",
    "\n",
    "\n",
    "print(string())"
   ]
  },
  {
   "cell_type": "code",
   "execution_count": 91,
   "metadata": {},
   "outputs": [
    {
     "name": "stdout",
     "output_type": "stream",
     "text": [
      "1.0\n",
      "0.03333333333333333\n"
     ]
    }
   ],
   "source": [
    "class Check():\n",
    "    def __init__(self,func):\n",
    "        self.func = func\n",
    "        \n",
    "    def __call__(self,*args,**kwargs):\n",
    "        list1 = []\n",
    "        list1 = args[1:]\n",
    "        for i in list1:\n",
    "            if i == 0:\n",
    "                return 'you cant divide change the input! '\n",
    "            else:\n",
    "                return self.func(*args,**kwargs)\n",
    "            \n",
    "            \n",
    "@Check\n",
    "def div(a,b):\n",
    "    return a/b\n",
    "@Check\n",
    "def div1(a,b,c):\n",
    "    return a/b/c\n",
    "\n",
    "\n",
    "\n",
    "print(div(10,10))\n",
    "print(div1(1,10,3))"
   ]
  },
  {
   "cell_type": "code",
   "execution_count": 92,
   "metadata": {},
   "outputs": [],
   "source": [
    "#functools.wraps to get the hided data from the original fucntion! "
   ]
  },
  {
   "cell_type": "code",
   "execution_count": 99,
   "metadata": {},
   "outputs": [
    {
     "name": "stdout",
     "output_type": "stream",
     "text": [
      "fluxsuba got grade A\n"
     ]
    }
   ],
   "source": [
    "#property decorator! \n",
    "#class method as attribute! \n",
    "\n",
    "class Student():\n",
    "    def __init__(self,name,grade): #one mthod thats INITIALIZATION METHOD\n",
    "        self.name = name\n",
    "        self.grade = grade\n",
    "        self.msg = self.name + ' got grade ' + self.grade\n",
    "        \n",
    "    \n",
    "s = Student('fluxsuba','A')\n",
    "#print(\"name is : \", s.name)\n",
    "#print(s.grade)\n",
    "#print(s.msg)\n",
    "s.grade = 'b'\n",
    "s.name = 'suba'\n",
    "print(s.msg) #here we cant change the actrual parameters what we have intizlized! \n",
    "#if the case to change we have to make it as changeable attribute! \n",
    "\n",
    "\n",
    "        \n",
    "    "
   ]
  },
  {
   "cell_type": "code",
   "execution_count": 108,
   "metadata": {},
   "outputs": [
    {
     "name": "stdout",
     "output_type": "stream",
     "text": [
      "flux got grade CCC\n"
     ]
    }
   ],
   "source": [
    "class Student():\n",
    "    def __init__(self,name,grade): #one mthod thats INITIALIZATION METHOD\n",
    "        self.name = name\n",
    "        self.grade = grade\n",
    "        \n",
    "    @property\n",
    "    def msg(self):\n",
    "        return self.name + ' got grade ' + self.grade\n",
    "    \n",
    "s = Student('flux','B')\n",
    "#print(s.msg())\n",
    "#s.grade = 'A'\n",
    "s.grade = 'CCC'\n",
    "print(s.msg) #if we use print(s.msg()) -- it will show error! \n",
    "#property decorator aloows us to use a method as attribute ! "
   ]
  },
  {
   "cell_type": "code",
   "execution_count": 113,
   "metadata": {},
   "outputs": [
    {
     "name": "stdout",
     "output_type": "stream",
     "text": [
      "suba got grade A\n",
      "['thilibansubashini', 'got', 'grade', 'A+']\n",
      "thilibansubashini\n",
      "A+\n"
     ]
    }
   ],
   "source": [
    "#we cant change the print statements directly ! so use setter getter method in property decorator! \n",
    "\n",
    "#setter method is allow us to set the value!\n",
    "#getter is to get/return the value!\n",
    "\n",
    "class Student():\n",
    "    def __init__(self,name,grade): #one mthod thats INITIALIZATION METHOD\n",
    "        self.name = name\n",
    "        self.grade = grade\n",
    "        \n",
    "\n",
    "    def msg(self):\n",
    "        return self.name + ' got grade ' + self.grade\n",
    "    \n",
    "    def setter(self,msg):\n",
    "        sent = msg.split(\" \")\n",
    "        print(sent)\n",
    "        self.name = sent[0]\n",
    "        self.grade = sent[-1]\n",
    "        \n",
    "        \n",
    "s = Student('suba', 'A')\n",
    "print(s.msg())\n",
    "s.setter('thilibansubashini got grade A+')\n",
    "print(s.name)\n",
    "print(s.grade)"
   ]
  },
  {
   "cell_type": "code",
   "execution_count": 115,
   "metadata": {},
   "outputs": [
    {
     "name": "stdout",
     "output_type": "stream",
     "text": [
      "['flux', 'got', 'grade', 'F']\n",
      "flux\n",
      "F\n"
     ]
    }
   ],
   "source": [
    "\n",
    "class Student():\n",
    "    def __init__(self,name,grade): #one mthod thats INITIALIZATION METHOD\n",
    "        self.name = name\n",
    "        self.grade = grade\n",
    "        \n",
    "    @property\n",
    "    def msg(self):\n",
    "        return self.name + ' got grade ' + self.grade\n",
    "    \n",
    "    @msg.setter\n",
    "    def msg(self,msg):\n",
    "        sent = msg.split(\" \")\n",
    "        print(sent)\n",
    "        self.name = sent[0]\n",
    "        self.grade = sent[-1]\n",
    "        \n",
    "        \n",
    "s = Student('suba', 'A')\n",
    "#print(s.msg())\n",
    "s.msg = 'flux got grade F'  #here we use getter method method as property to MSG beacuse we wanted to change that ! \n",
    "print(s.name)\n",
    "print(s.grade)"
   ]
  },
  {
   "cell_type": "code",
   "execution_count": 5,
   "metadata": {},
   "outputs": [
    {
     "name": "stdout",
     "output_type": "stream",
     "text": [
      "400\n",
      "66.66666666666666 %\n",
      "83.33333333333334\n"
     ]
    }
   ],
   "source": [
    "class Student():\n",
    "    def __init__(self,marks):\n",
    "        self.marks = marks \n",
    "        \n",
    "    def per(self):\n",
    "        return (self.marks/600)  * 100\n",
    "    \n",
    "s = Student(400)\n",
    "print(s.marks)\n",
    "print(s.per(),\"%\")\n",
    "s.marks = 500\n",
    "print(s.per())"
   ]
  },
  {
   "cell_type": "code",
   "execution_count": 8,
   "metadata": {},
   "outputs": [
    {
     "name": "stdout",
     "output_type": "stream",
     "text": [
      "100\n"
     ]
    }
   ],
   "source": [
    "#just take this moment! if many of the students want to change the name once they log in ! we have to set the variable\n",
    "#marks as private ! __marks like that so that we can get and set the variable! \n",
    "\n",
    "class Student():\n",
    "    def __init__(self,marks):\n",
    "        self.__marks = marks \n",
    "        \n",
    "    def per(self):\n",
    "        return (self.marks/600)  * 100\n",
    "    \n",
    "    def setter(self,value): #to set the value we use this method and we have to store it in one variable! \n",
    "        self.__marks = value\n",
    "        \n",
    "    def getter(self):\n",
    "        return self.__marks\n",
    "    \n",
    "s = Student(400)\n",
    "s.setter(100)\n",
    "print(s.getter()) #setter and getter methods are way to achieve DATA ENCAPSULATION! \n",
    "#so every time we change we need to use setter getter method to do! its way tougher than anything! "
   ]
  },
  {
   "cell_type": "code",
   "execution_count": 14,
   "metadata": {},
   "outputs": [
    {
     "name": "stdout",
     "output_type": "stream",
     "text": [
      "getting the calue  33.33333333333333\n",
      "setting the value  getting the calue  500\n",
      "getting the calue  83.33333333333334\n"
     ]
    }
   ],
   "source": [
    "#using property decorator to change the values We put in !\n",
    "#no usage of setter getter here ! \n",
    "\n",
    "class Student():\n",
    "    def __init__(self,marks):\n",
    "        self.__marks = marks \n",
    "        \n",
    "    def per(self):\n",
    "        return (self.marks/600)  * 100\n",
    "    \n",
    "    @property\n",
    "    def marks(self):\n",
    "        print('getting the calue ', end =  \" \")\n",
    "        return self.__marks\n",
    "    \n",
    "    @marks.setter\n",
    "    def marks(self,value): \n",
    "        print('setting the value ', end = \" \")\n",
    "        self.__marks = value\n",
    "\n",
    "s = Student(200)\n",
    "print(s.per())\n",
    "\n",
    "s.marks = 500\n",
    "print(s.marks) #here we are not using GETTTER SETTER METOD ! \n",
    "print(s.per())\n",
    "    \n",
    "   "
   ]
  },
  {
   "cell_type": "code",
   "execution_count": 19,
   "metadata": {},
   "outputs": [
    {
     "name": "stdout",
     "output_type": "stream",
     "text": [
      "cant set the value\n",
      "getting the value  400\n",
      "getting the value  66.66666666666666\n"
     ]
    }
   ],
   "source": [
    "class Student():\n",
    "    def __init__(self,marks):\n",
    "        self.__marks = marks \n",
    "        \n",
    "    def per(self):\n",
    "        return (self.marks/600)  * 100\n",
    "    \n",
    "    @property\n",
    "    def marks(self):\n",
    "        print('getting the value ', end =  \" \")\n",
    "        return self.__marks\n",
    "    \n",
    "    @marks.setter\n",
    "    def marks(self,value): \n",
    "        if value<0 or value>600:\n",
    "            print('cant set the value')\n",
    "        else:\n",
    "            print('setting the value', value)\n",
    "            self.__marks = value\n",
    "            \n",
    "s = Student(400)\n",
    "s.marks = 601\n",
    "print(s.marks)\n",
    "print(s.per())"
   ]
  },
  {
   "cell_type": "code",
   "execution_count": 21,
   "metadata": {},
   "outputs": [
    {
     "name": "stdout",
     "output_type": "stream",
     "text": [
      "setting the value 300\n",
      "getting the value  300\n",
      "getting the value  50.0\n"
     ]
    }
   ],
   "source": [
    "#property method is having GET SET DEL DOC\n",
    "\n",
    "\n",
    "class Student():\n",
    "    def __init__(self,marks):\n",
    "        self.__marks = marks \n",
    "        \n",
    "    def per(self):\n",
    "        return (self.marks/600)  * 100\n",
    "    \n",
    " \n",
    "    def getter(self):\n",
    "        print('getting the value ', end =  \" \")\n",
    "        return self.__marks\n",
    "    \n",
    " \n",
    "    def setter(self,value): \n",
    "        if value<0 or value>600:\n",
    "            print('cant set the value')\n",
    "        else:\n",
    "            print('setting the value', value)\n",
    "            self.__marks = value\n",
    "            \n",
    "            \n",
    "    marks = property(getter,setter) #here we used property !! further details help('property')\n",
    "             \n",
    "s = Student(400)\n",
    "s.marks = 300\n",
    "print(s.marks)\n",
    "print(s.per())"
   ]
  },
  {
   "cell_type": "code",
   "execution_count": 27,
   "metadata": {},
   "outputs": [
    {
     "name": "stdout",
     "output_type": "stream",
     "text": [
      "object 1 : \n",
      "flux\n",
      "23\n",
      "flux 23\n",
      "xyz\n",
      "xyz\n",
      "******************\n",
      "object 2: \n",
      "suba\n",
      "24\n",
      "suba 24\n",
      "xyz\n"
     ]
    }
   ],
   "source": [
    "#class method \n",
    "class Students():\n",
    "    college_name = 'xyz' #class variable ! outside the method and inside the class! \n",
    "    def __init__(self,name,age): #instance variable! #self is object itself! \n",
    "        self.name = name #inside the method !\n",
    "        self.age = age \n",
    "        \n",
    "    def msg(self): #intance mthod! instance method because it can access their instance variable ! \n",
    "        return self.name  + \" \" + self.age\n",
    "\n",
    "    \n",
    "    \n",
    "#client_site_code here where users enter the names and all the details !     \n",
    "print('object 1 : ')\n",
    "s1 = Students('flux','23')\n",
    "print(s1.name)\n",
    "print(s1.age)\n",
    "print(s1.msg())\n",
    "print(s1.college_name)\n",
    "print(Students.college_name) #college name accessed by both objects and class name ! \n",
    "\n",
    "print(\"******************\")\n",
    "\n",
    "print('object 2: ')\n",
    "s2 = Students('suba','24')\n",
    "print(s2.name)\n",
    "print(s2.age)\n",
    "print(s2.msg())\n",
    "print(s2.college_name)"
   ]
  },
  {
   "cell_type": "code",
   "execution_count": 28,
   "metadata": {},
   "outputs": [],
   "source": [
    "#classs varaivale can be accessed all the objects we create  of the class! "
   ]
  },
  {
   "cell_type": "code",
   "execution_count": null,
   "metadata": {},
   "outputs": [],
   "source": [
    "#class method ! has \"cls\" not \"self\" -- to use this one we use class mthod decorators! \n",
    "class ....\n",
    "@classmethod!\n",
    "def ....(cls):"
   ]
  },
  {
   "cell_type": "code",
   "execution_count": 31,
   "metadata": {},
   "outputs": [
    {
     "name": "stdout",
     "output_type": "stream",
     "text": [
      "3\n",
      "3\n"
     ]
    }
   ],
   "source": [
    "class Student():\n",
    "    counter = 0 #class variable! \n",
    "    def __init__(self,name,marks):\n",
    "        self.name = name\n",
    "        self.marks = marks \n",
    "        Student.counter += 1 \n",
    "        \n",
    "    def msg(self):\n",
    "        print(self.name + ' got grade ' + self.marks)\n",
    "    \n",
    "    @classmethod #this classmethod can be accessed/called  by clasname or objectname ! #decorator\n",
    "    def object_count(cls): #cls \n",
    "        return cls.counter\n",
    "    \n",
    "s1 = Student('suba','23')\n",
    "s2 = Student('flux','22')\n",
    "s2 = Student('shini','22')\n",
    "print(Student.object_count()) #by classname it gets accessed \n",
    "print(s1.object_count())#by object it gets accessed \n"
   ]
  },
  {
   "cell_type": "code",
   "execution_count": 36,
   "metadata": {},
   "outputs": [
    {
     "name": "stdout",
     "output_type": "stream",
     "text": [
      "flux got grade 16.666666666666664\n"
     ]
    }
   ],
   "source": [
    "class Student():\n",
    "\n",
    "    def __init__(self,name,marks):\n",
    "        self.name = name\n",
    "        self.marks = marks \n",
    "   \n",
    "        \n",
    "    def msg(self):\n",
    "        print(self.name + ' got grade ' + self.marks)\n",
    "        \n",
    "    \n",
    "s = Students('sia','93')\n",
    "marks = '100'\n",
    "name = 'flux'\n",
    "marks1 = str((int(marks)/600)*100)\n",
    "s2 = Student(name,marks1)\n",
    "s2.msg() #if u want to create for another student will do the same steps what we have done!\n"
   ]
  },
  {
   "cell_type": "code",
   "execution_count": 37,
   "metadata": {},
   "outputs": [
    {
     "name": "stdout",
     "output_type": "stream",
     "text": [
      "flux got grade 16.666666666666664\n"
     ]
    }
   ],
   "source": [
    "class Student():\n",
    "\n",
    "    def __init__(self,name,marks):\n",
    "        self.name = name\n",
    "        self.marks = marks \n",
    "   \n",
    "        \n",
    "    def msg(self):\n",
    "        print(self.name + ' got grade ' + self.marks)\n",
    "        \n",
    "     \n",
    "    @classmethod\n",
    "    def get_per(cls,name,marks):\n",
    "        return cls(name,str((int(marks)/600)*100))\n",
    "        \n",
    "    \n",
    "    \n",
    "    \n",
    "s = Students('sia','93')\n",
    "marks = '100'\n",
    "name = 'flux'\n",
    "#marks1 = str((int(marks)/600)*100)\n",
    "s2 = Student.get_per(name,marks)\n",
    "s2.msg() #if u want to create for another student will do the same steps what we have done!"
   ]
  },
  {
   "cell_type": "code",
   "execution_count": 41,
   "metadata": {},
   "outputs": [
    {
     "name": "stdout",
     "output_type": "stream",
     "text": [
      "belongs to school\n",
      "dont belongs to school\n"
     ]
    }
   ],
   "source": [
    "#static_method! \n",
    "#instance method we have self as a first parameter and its an object iteself! \n",
    "# and class method we have cls keyword ! \n",
    "#static method we dont need to mention any keywords like that! \n",
    "#will create the static method inside the class! \n",
    "#@static_method! \n",
    "\n",
    "class Students():\n",
    "  \n",
    "    def __init__(self,name,marks):\n",
    "        self.name = name \n",
    "        self.marks = marks \n",
    "        \n",
    "    def msg(self): \n",
    "        return self.name  + \" \" + self.marks\n",
    "    \n",
    "    \n",
    "    @classmethod\n",
    "    def get_per(cls,name,marks):\n",
    "        return cls(name,str((int(marks)/600)*100))\n",
    "    \n",
    "    \n",
    "    #static_method!\n",
    "    @staticmethod #its called by CLASSNAME\n",
    "    def get_age(age):\n",
    "        if age < 17:\n",
    "            print('belongs to school')\n",
    "\n",
    "        else:\n",
    "            print('dont belongs to school')\n",
    "\n",
    " \n",
    "s1 = Students('flux','10')\n",
    "Students.get_age(16)\n",
    "s1.get_age(119)"
   ]
  },
  {
   "cell_type": "code",
   "execution_count": 42,
   "metadata": {},
   "outputs": [],
   "source": [
    "#check the difference btw static and class methods! \n"
   ]
  },
  {
   "cell_type": "code",
   "execution_count": 4,
   "metadata": {},
   "outputs": [
    {
     "name": "stdout",
     "output_type": "stream",
     "text": [
      "hello\n",
      "hello\n"
     ]
    }
   ],
   "source": [
    "#Python has an interesting feature called decorators to add functionality to an existing code.\n",
    "#This is also called metaprogramming because a part of the program tries to modify another part of the program at compile time.\n",
    "\n",
    "def string():\n",
    "    return 'hello'\n",
    "    \n",
    "first = string()\n",
    "second  = first \n",
    "print(first) \n",
    "print(second) #both first and second are objects! "
   ]
  },
  {
   "cell_type": "code",
   "execution_count": null,
   "metadata": {},
   "outputs": [],
   "source": [
    "#Functions can be passed as arguments to another function.\n",
    "\n",
    "def decora(func):\n",
    "    def inner():\n",
    "        y = \n",
    "\n",
    "def integer():\n",
    "    x = 1 \n",
    "    return x + 1"
   ]
  },
  {
   "cell_type": "code",
   "execution_count": 4,
   "metadata": {},
   "outputs": [
    {
     "ename": "NameError",
     "evalue": "name 'time' is not defined",
     "output_type": "error",
     "traceback": [
      "\u001b[1;31m---------------------------------------------------------------------------\u001b[0m",
      "\u001b[1;31mNameError\u001b[0m                                 Traceback (most recent call last)",
      "\u001b[1;32m<ipython-input-4-58543a95b3fd>\u001b[0m in \u001b[0;36m<module>\u001b[1;34m\u001b[0m\n\u001b[0;32m     11\u001b[0m     \u001b[0mprint\u001b[0m\u001b[1;33m(\u001b[0m\u001b[0mend\u001b[0m\u001b[1;33m-\u001b[0m\u001b[0mstart\u001b[0m\u001b[1;33m)\u001b[0m\u001b[1;33m\u001b[0m\u001b[1;33m\u001b[0m\u001b[0m\n\u001b[0;32m     12\u001b[0m \u001b[1;33m\u001b[0m\u001b[0m\n\u001b[1;32m---> 13\u001b[1;33m \u001b[0mcalculate_time\u001b[0m\u001b[1;33m(\u001b[0m\u001b[0madd_numbers\u001b[0m\u001b[1;33m)\u001b[0m\u001b[1;33m\u001b[0m\u001b[1;33m\u001b[0m\u001b[0m\n\u001b[0m",
      "\u001b[1;32m<ipython-input-4-58543a95b3fd>\u001b[0m in \u001b[0;36mcalculate_time\u001b[1;34m(func)\u001b[0m\n\u001b[0;32m      6\u001b[0m \u001b[1;33m\u001b[0m\u001b[0m\n\u001b[0;32m      7\u001b[0m \u001b[1;32mdef\u001b[0m \u001b[0mcalculate_time\u001b[0m\u001b[1;33m(\u001b[0m\u001b[0mfunc\u001b[0m\u001b[1;33m)\u001b[0m\u001b[1;33m:\u001b[0m\u001b[1;33m\u001b[0m\u001b[1;33m\u001b[0m\u001b[0m\n\u001b[1;32m----> 8\u001b[1;33m     \u001b[0mstart\u001b[0m \u001b[1;33m=\u001b[0m \u001b[0mtime\u001b[0m\u001b[1;33m.\u001b[0m\u001b[0mtime\u001b[0m\u001b[1;33m(\u001b[0m\u001b[1;33m)\u001b[0m\u001b[1;33m\u001b[0m\u001b[1;33m\u001b[0m\u001b[0m\n\u001b[0m\u001b[0;32m      9\u001b[0m     \u001b[0mprint\u001b[0m\u001b[1;33m(\u001b[0m\u001b[0mfunc\u001b[0m\u001b[1;33m(\u001b[0m\u001b[1;36m10\u001b[0m\u001b[1;33m,\u001b[0m\u001b[1;36m5\u001b[0m\u001b[1;33m)\u001b[0m\u001b[1;33m)\u001b[0m\u001b[1;33m\u001b[0m\u001b[1;33m\u001b[0m\u001b[0m\n\u001b[0;32m     10\u001b[0m     \u001b[0mend\u001b[0m \u001b[1;33m=\u001b[0m \u001b[0mtime\u001b[0m\u001b[1;33m.\u001b[0m\u001b[0mtime\u001b[0m\u001b[1;33m(\u001b[0m\u001b[1;33m)\u001b[0m\u001b[1;33m\u001b[0m\u001b[1;33m\u001b[0m\u001b[0m\n",
      "\u001b[1;31mNameError\u001b[0m: name 'time' is not defined"
     ]
    }
   ],
   "source": [
    "def add_numbers(x,y):\n",
    "    return x+y\n",
    "\n",
    "def subtract_numbers(x,y):\n",
    "    return x-y\n",
    "\n",
    "def calculate_time(func):\n",
    "    start = time.time()\n",
    "    print(func(10,5))\n",
    "    end = time.time()\n",
    "    print(end-start)\n",
    "    \n",
    "calculate_time(add_numbers)"
   ]
  },
  {
   "cell_type": "code",
   "execution_count": null,
   "metadata": {},
   "outputs": [],
   "source": []
  }
 ],
 "metadata": {
  "kernelspec": {
   "display_name": "Python 3",
   "language": "python",
   "name": "python3"
  },
  "language_info": {
   "codemirror_mode": {
    "name": "ipython",
    "version": 3
   },
   "file_extension": ".py",
   "mimetype": "text/x-python",
   "name": "python",
   "nbconvert_exporter": "python",
   "pygments_lexer": "ipython3",
   "version": "3.8.3"
  }
 },
 "nbformat": 4,
 "nbformat_minor": 4
}
