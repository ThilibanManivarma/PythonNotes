{
 "cells": [
  {
   "cell_type": "code",
   "execution_count": 3,
   "metadata": {},
   "outputs": [
    {
     "name": "stdout",
     "output_type": "stream",
     "text": [
      "flux\n",
      "Damiel\n",
      "D\n",
      "C\n"
     ]
    }
   ],
   "source": [
    "class Student(object):\n",
    "    \n",
    "    def __init__(self,name,grade):\n",
    "        self.name = name\n",
    "        self.grade = grade\n",
    "        \n",
    "kitty = Student('flux','D')\n",
    "daniel = Student('Damiel', 'C')\n",
    "print(kitty.name) #self.name --- here self is for name KITTY AND DANIEL! \n",
    "print(daniel.name)\n",
    "print(kitty.grade) \n",
    "print(daniel.grade)"
   ]
  },
  {
   "cell_type": "markdown",
   "metadata": {},
   "source": [
    "# claver programmer has multiple sections for python and its gonna be the LIT and I am doing this now to make my python skills stronger!! LETS DOOOO THISSSSSSSSSSSSSSSSS!"
   ]
  },
  {
   "cell_type": "markdown",
   "metadata": {},
   "source": [
    "# code academy! 01"
   ]
  },
  {
   "cell_type": "code",
   "execution_count": 4,
   "metadata": {},
   "outputs": [
    {
     "name": "stdout",
     "output_type": "stream",
     "text": [
      "hello fluxsuba!\n"
     ]
    }
   ],
   "source": [
    "print('hello fluxsuba!')"
   ]
  },
  {
   "cell_type": "code",
   "execution_count": 5,
   "metadata": {},
   "outputs": [],
   "source": [
    "#variables!\n",
    "a = 1\n",
    "name = 'flux'\n",
    "floats = 0.1\n"
   ]
  },
  {
   "cell_type": "code",
   "execution_count": 6,
   "metadata": {},
   "outputs": [],
   "source": [
    "#true false! \n",
    "a = True\n",
    "b = False"
   ]
  },
  {
   "cell_type": "code",
   "execution_count": 8,
   "metadata": {},
   "outputs": [
    {
     "name": "stdout",
     "output_type": "stream",
     "text": [
      "3\n"
     ]
    }
   ],
   "source": [
    "my_int = 7\n",
    "my_int = 3\n",
    "print(my_int)"
   ]
  },
  {
   "cell_type": "code",
   "execution_count": 9,
   "metadata": {},
   "outputs": [
    {
     "name": "stdout",
     "output_type": "stream",
     "text": [
      "12\n"
     ]
    }
   ],
   "source": [
    "def func():\n",
    "    eggs = 12\n",
    "\n",
    "    print(eggs)\n",
    "func()"
   ]
  },
  {
   "cell_type": "code",
   "execution_count": 10,
   "metadata": {},
   "outputs": [],
   "source": [
    "#WHITESPACE___INDENTATION! \n"
   ]
  },
  {
   "cell_type": "code",
   "execution_count": 13,
   "metadata": {},
   "outputs": [
    {
     "name": "stdout",
     "output_type": "stream",
     "text": [
      "54.63\n"
     ]
    }
   ],
   "source": [
    "meal = 44.50\n",
    "tax = .0675\n",
    "tip = 15/100.0\n",
    "\n",
    "meal = meal + (meal * tax)\n",
    "total = meal + (meal * tip)\n",
    "\n",
    "print('%.2f'%total)\n"
   ]
  },
  {
   "cell_type": "code",
   "execution_count": 5,
   "metadata": {},
   "outputs": [
    {
     "name": "stdout",
     "output_type": "stream",
     "text": [
      "u\n"
     ]
    }
   ],
   "source": [
    "x = 'flux'[2]\n",
    "print(x)"
   ]
  },
  {
   "cell_type": "code",
   "execution_count": 6,
   "metadata": {},
   "outputs": [
    {
     "data": {
      "text/plain": [
       "'5'"
      ]
     },
     "execution_count": 6,
     "metadata": {},
     "output_type": "execute_result"
    }
   ],
   "source": [
    "#str it converts the variable into string! \n",
    "x = 5\n",
    "y =str(x)\n",
    "y"
   ]
  },
  {
   "cell_type": "markdown",
   "metadata": {},
   "source": [
    "# # code academy! 02"
   ]
  },
  {
   "cell_type": "code",
   "execution_count": 10,
   "metadata": {},
   "outputs": [
    {
     "name": "stdout",
     "output_type": "stream",
     "text": [
      "hello the two names are flux and suba \n"
     ]
    }
   ],
   "source": [
    "string1 = 'flux' # %s   %(s1)\n",
    "string2 ='suba'\n",
    "add = print('hello the two names are %s and %s '%(string1,string2))\n",
    "add"
   ]
  },
  {
   "cell_type": "code",
   "execution_count": 14,
   "metadata": {},
   "outputs": [
    {
     "name": "stdout",
     "output_type": "stream",
     "text": [
      "hello flux and suba\n"
     ]
    }
   ],
   "source": [
    "n1 = 'flux'\n",
    "n2 = 'suba'\n",
    "print('hello %s and %s'%(n1,n2))"
   ]
  },
  {
   "cell_type": "code",
   "execution_count": 15,
   "metadata": {},
   "outputs": [
    {
     "name": "stdout",
     "output_type": "stream",
     "text": [
      "2020-09-02 15:36:00.195222\n"
     ]
    }
   ],
   "source": [
    "from datetime import datetime\n",
    "print(datetime.now())"
   ]
  },
  {
   "cell_type": "code",
   "execution_count": 16,
   "metadata": {},
   "outputs": [
    {
     "data": {
      "text/plain": [
       "datetime.datetime(2020, 9, 2, 15, 36, 40, 544530)"
      ]
     },
     "execution_count": 16,
     "metadata": {},
     "output_type": "execute_result"
    }
   ],
   "source": [
    "past = datetime.now()\n",
    "past"
   ]
  },
  {
   "cell_type": "code",
   "execution_count": 17,
   "metadata": {},
   "outputs": [
    {
     "data": {
      "text/plain": [
       "datetime.timedelta(seconds=26, microseconds=335506)"
      ]
     },
     "execution_count": 17,
     "metadata": {},
     "output_type": "execute_result"
    }
   ],
   "source": [
    "datetime.now() - past #it checks the different btw old and newy modified one! "
   ]
  },
  {
   "cell_type": "code",
   "execution_count": 26,
   "metadata": {},
   "outputs": [
    {
     "name": "stdout",
     "output_type": "stream",
     "text": [
      "date is 2/9/2020\n"
     ]
    }
   ],
   "source": [
    "now = datetime.now() #string substitution! \n",
    "year = now.year\n",
    "month = now.month\n",
    "data = now.day\n",
    "print('date is %s/%s/%s'%(data,month,year))"
   ]
  },
  {
   "cell_type": "code",
   "execution_count": 42,
   "metadata": {},
   "outputs": [
    {
     "name": "stdout",
     "output_type": "stream",
     "text": [
      "15\n",
      "9\n",
      "57\n"
     ]
    }
   ],
   "source": [
    "#in this ! \n",
    "now = datetime.now()\n",
    "hour = datetime.hour\n",
    "sec = datetime.second\n",
    "mins = datetime.minute\n",
    "print('%s'%(now.hour))\n",
    "print('%s'%(now.second))\n",
    "print('%s'%(now.minute))"
   ]
  },
  {
   "cell_type": "code",
   "execution_count": 44,
   "metadata": {},
   "outputs": [
    {
     "data": {
      "text/plain": [
       "False"
      ]
     },
     "execution_count": 44,
     "metadata": {},
     "output_type": "execute_result"
    }
   ],
   "source": [
    "True and False"
   ]
  },
  {
   "cell_type": "code",
   "execution_count": 45,
   "metadata": {},
   "outputs": [
    {
     "data": {
      "text/plain": [
       "True"
      ]
     },
     "execution_count": 45,
     "metadata": {},
     "output_type": "execute_result"
    }
   ],
   "source": [
    "True or False"
   ]
  },
  {
   "cell_type": "code",
   "execution_count": 46,
   "metadata": {},
   "outputs": [
    {
     "data": {
      "text/plain": [
       "False"
      ]
     },
     "execution_count": 46,
     "metadata": {},
     "output_type": "execute_result"
    }
   ],
   "source": [
    "False and False"
   ]
  },
  {
   "cell_type": "code",
   "execution_count": 47,
   "metadata": {},
   "outputs": [
    {
     "data": {
      "text/plain": [
       "False"
      ]
     },
     "execution_count": 47,
     "metadata": {},
     "output_type": "execute_result"
    }
   ],
   "source": [
    "True or True\n",
    "True or False\n",
    "False or True \n",
    "False or False"
   ]
  },
  {
   "cell_type": "code",
   "execution_count": 50,
   "metadata": {},
   "outputs": [
    {
     "data": {
      "text/plain": [
       "True"
      ]
     },
     "execution_count": 50,
     "metadata": {},
     "output_type": "execute_result"
    }
   ],
   "source": [
    "not True is False"
   ]
  },
  {
   "cell_type": "code",
   "execution_count": 51,
   "metadata": {},
   "outputs": [
    {
     "data": {
      "text/plain": [
       "False"
      ]
     },
     "execution_count": 51,
     "metadata": {},
     "output_type": "execute_result"
    }
   ],
   "source": [
    "True is False"
   ]
  },
  {
   "cell_type": "code",
   "execution_count": 52,
   "metadata": {},
   "outputs": [
    {
     "data": {
      "text/plain": [
       "True"
      ]
     },
     "execution_count": 52,
     "metadata": {},
     "output_type": "execute_result"
    }
   ],
   "source": [
    "False is False"
   ]
  },
  {
   "cell_type": "code",
   "execution_count": 53,
   "metadata": {},
   "outputs": [
    {
     "data": {
      "text/plain": [
       "True"
      ]
     },
     "execution_count": 53,
     "metadata": {},
     "output_type": "execute_result"
    }
   ],
   "source": [
    "True is True "
   ]
  },
  {
   "cell_type": "markdown",
   "metadata": {},
   "source": [
    "# Codecademy Python Tutorial #22\n"
   ]
  },
  {
   "cell_type": "code",
   "execution_count": 10,
   "metadata": {},
   "outputs": [
    {
     "name": "stdout",
     "output_type": "stream",
     "text": [
      "f l u x f l u x f l u x f l u x \n",
      "\n",
      "s\n",
      "u\n",
      "b\n",
      "a\n"
     ]
    }
   ],
   "source": [
    "#for loop ! \n",
    "x = 'flux'\n",
    "for i in x:\n",
    "    for j in x:\n",
    "        print(j, end = \" \")\n",
    "        \n",
    "print('\\n')\n",
    "        \n",
    "y = 'suba'\n",
    "for i in y:\n",
    "    print(i)"
   ]
  },
  {
   "cell_type": "code",
   "execution_count": 17,
   "metadata": {},
   "outputs": [
    {
     "name": "stdout",
     "output_type": "stream",
     "text": [
      "['cycing', 'playing', 'dancing']\n"
     ]
    }
   ],
   "source": [
    "hobbies = []\n",
    "\n",
    "my_hobbies = ['cycing','playing','dancing']\n",
    "for i in my_hobbies:\n",
    "    hobbies.append(i)\n",
    "    \n",
    "print(hobbies)\n"
   ]
  },
  {
   "cell_type": "code",
   "execution_count": 19,
   "metadata": {},
   "outputs": [
    {
     "name": "stdout",
     "output_type": "stream",
     "text": [
      "what is ur fav hobbies ? dance\n",
      "dance\n"
     ]
    }
   ],
   "source": [
    "hobby = []\n",
    "\n",
    "hobbies = input('what is ur fav hobbies ? ')\n",
    "\n",
    "for i in range(len(hobby)):\n",
    "    hobby.append(hobbies[i])\n",
    "    \n",
    "print(hobbies)\n",
    "    "
   ]
  },
  {
   "cell_type": "code",
   "execution_count": 22,
   "metadata": {},
   "outputs": [
    {
     "name": "stdout",
     "output_type": "stream",
     "text": [
      "what is ur fav hobbies ? ds\n",
      "what is ur fav hobbies ? dsa\n",
      "what is ur fav hobbies ? ds\n",
      "['ds', 'dsa', 'ds']\n"
     ]
    }
   ],
   "source": [
    "hobby = []\n",
    "\n",
    "\n",
    "\n",
    "for i in range(3):\n",
    "    hobbies = input('what is ur fav hobbies ? ')\n",
    "    hobby.append(hobbies)\n",
    "    \n",
    "print(hobby)\n",
    "    "
   ]
  },
  {
   "cell_type": "code",
   "execution_count": 23,
   "metadata": {},
   "outputs": [
    {
     "name": "stdout",
     "output_type": "stream",
     "text": [
      "t h i l i b a n "
     ]
    }
   ],
   "source": [
    "x = 'thiliban'\n",
    "for i in x:\n",
    "    print(i, end = \" \")"
   ]
  },
  {
   "cell_type": "code",
   "execution_count": 27,
   "metadata": {},
   "outputs": [
    {
     "ename": "SyntaxError",
     "evalue": "cannot assign to literal (<ipython-input-27-ab91857721e5>, line 4)",
     "output_type": "error",
     "traceback": [
      "\u001b[1;36m  File \u001b[1;32m\"<ipython-input-27-ab91857721e5>\"\u001b[1;36m, line \u001b[1;32m4\u001b[0m\n\u001b[1;33m    x[i], 'a' = 'a' , x[i]\u001b[0m\n\u001b[1;37m    ^\u001b[0m\n\u001b[1;31mSyntaxError\u001b[0m\u001b[1;31m:\u001b[0m cannot assign to literal\n"
     ]
    }
   ],
   "source": [
    "x = 'suba'\n",
    "for i in range(len(x)):\n",
    "    if x[i] == 's':\n",
    "        x[i], 'a' = 'a' , x[i]\n",
    "        \n",
    "print(x)"
   ]
  },
  {
   "cell_type": "code",
   "execution_count": 38,
   "metadata": {},
   "outputs": [
    {
     "name": "stdout",
     "output_type": "stream",
     "text": [
      "f l u x x x\n",
      "f l u x x\n"
     ]
    }
   ],
   "source": [
    "xxx = 'fluxx'\n",
    "for i in xxx:\n",
    "    print(i, end = \" \")\n",
    "    \n",
    "a =print(i)\n",
    "#b = list(a)\n",
    "list(xxx)\n",
    "print(\" \".join(list(xxx)))"
   ]
  },
  {
   "cell_type": "code",
   "execution_count": 55,
   "metadata": {},
   "outputs": [
    {
     "name": "stdout",
     "output_type": "stream",
     "text": [
      "aame\n"
     ]
    }
   ],
   "source": [
    "c ='name'\n",
    "for i in range(len(c)):\n",
    "    if c[i] == 'n':\n",
    "        c = c.replace(c[i],'a')\n",
    "        print(c)\n",
    "        break\n",
    "        \n",
    "    else:\n",
    "        print('its okay')\n",
    "        \n",
    "        \n"
   ]
  },
  {
   "cell_type": "code",
   "execution_count": 61,
   "metadata": {},
   "outputs": [
    {
     "name": "stdout",
     "output_type": "stream",
     "text": [
      "a u b a a "
     ]
    }
   ],
   "source": [
    "x = 'subaa'\n",
    "for i in x:\n",
    "    if i == 's':\n",
    "        print('a',end =\" \")\n",
    "        \n",
    "    else:\n",
    "        print(i, end = \" \")\n",
    "        \n"
   ]
  },
  {
   "cell_type": "code",
   "execution_count": 62,
   "metadata": {},
   "outputs": [
    {
     "name": "stdout",
     "output_type": "stream",
     "text": [
      "[1, 4, 9, 16, 25]\n"
     ]
    }
   ],
   "source": [
    "list1 = [1,2,3,4,5]\n",
    "squared = []\n",
    "\n",
    "for i in list1:\n",
    "    squared.append(i*i)\n",
    "    \n",
    "print(squared)"
   ]
  },
  {
   "cell_type": "code",
   "execution_count": null,
   "metadata": {},
   "outputs": [],
   "source": []
  }
 ],
 "metadata": {
  "kernelspec": {
   "display_name": "Python 3",
   "language": "python",
   "name": "python3"
  },
  "language_info": {
   "codemirror_mode": {
    "name": "ipython",
    "version": 3
   },
   "file_extension": ".py",
   "mimetype": "text/x-python",
   "name": "python",
   "nbconvert_exporter": "python",
   "pygments_lexer": "ipython3",
   "version": "3.8.3"
  }
 },
 "nbformat": 4,
 "nbformat_minor": 4
}
