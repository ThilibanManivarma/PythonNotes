{
 "cells": [
  {
   "cell_type": "markdown",
   "id": "919cb62b",
   "metadata": {},
   "source": [
    "# Why exception?\n",
    "\n",
    "When you write a code and it works good, when you start executing this by giving inputs, it will not show the results or there will be an error due to wrong inputs or when you try to open a file in wrong path or try to divide a number by zero or many..\n",
    "\n",
    "so these are the reasons above which might cause errors.. \n",
    "\n",
    "python raise exceptions when it encounters errors during execution..\n",
    "\n",
    "What are the Errors and Exceptions in Python?\n",
    "\n",
    "Syntax Error.\n",
    "Errors occurring at run-time or Exceptions.\n",
    "\n",
    "1. Syntax Errors\n",
    "Syntax Errors, also known as parsing errors, occur when the parser identifies an incorrect statement. In simple words, a syntax error occurs when the proper structure or syntax of the programming language is not followed.\n",
    "\n",
    "2. Exceptions (when the code is right but it fails to execute while giving an input etc.....)\n",
    "Exceptions occur during run-time. Python raises an exception when your code has the correct syntax but encounters a run-time issue that it cannot handle.\n",
    "\n",
    "An exception is a kind of error that occurs at runtime. Exceptions are different from errors as some of them can be dealt with without the program crashing. \n",
    "\n",
    "example,\n",
    "\n",
    "For instance, if you write a program to divide two numbers from a user. You must ensure that the denominator is not 0 as a number divided by zero is not defined. But rather than the user’s input crashing your program, you could raise an exception that warns the user about the denominator being a non-zero number.\n",
    "\n",
    "\"General errors such as syntax errors cannot be dealt with in such a manner as the program is bound to crash when encounterer\"\n",
    "Syntax errors cant be dealt using exception!!!!!!!!!!!!!!!!!!!"
   ]
  },
  {
   "cell_type": "markdown",
   "id": "c8735b29",
   "metadata": {},
   "source": [
    "# Common Exceptions in Python\n",
    "\n",
    "AssertionError: This is raise when an assert statement is not true\n",
    "AttributeError: This is raised when the assignment of a reference or attribute fails. \n",
    "FloatingPointError: This is raised when a floating-point operation fails.\n",
    "ImportError: This is raised when the module you want to import is not found\n",
    "IndexError: This is raised when the index of an iterators runs out of range\n",
    "MemoryError: This is raised when your system runs out of memory. Maybe in an infinite loop for instance. \n",
    "NameError: This is raised when a variable to be used is not defined\n",
    "ValueError: This is raised when a function receives an incorrect value as an argument even if the datatype was correct\n",
    "ZeroDivisionError: This is raised when the denominator of a division operation is zero. "
   ]
  },
  {
   "cell_type": "markdown",
   "id": "0b771e68",
   "metadata": {},
   "source": [
    "# Why Using Exceptions is Important\n",
    "\n",
    "1)With errors, you can set apart error handling codes from normal code\n",
    "2)It prevents your code from crashing completely\n",
    "3)It makes your code readable by others\n",
    "4)It guides the programmer on the kind of inputs to expect from the end-users\n",
    "5)You can raise your exception using the raise statement "
   ]
  },
  {
   "cell_type": "code",
   "execution_count": null,
   "id": "f0c4fb92",
   "metadata": {},
   "outputs": [],
   "source": [
    "#Using the Try and Except Statements to Handle Exceptions "
   ]
  },
  {
   "cell_type": "code",
   "execution_count": 2,
   "id": "2153f3d1",
   "metadata": {},
   "outputs": [
    {
     "name": "stdout",
     "output_type": "stream",
     "text": [
      "Enter the numerator: 2\n",
      "Enter the denominator: 0\n"
     ]
    },
    {
     "ename": "ZeroDivisionError",
     "evalue": "float division by zero",
     "output_type": "error",
     "traceback": [
      "\u001b[1;31m---------------------------------------------------------------------------\u001b[0m",
      "\u001b[1;31mZeroDivisionError\u001b[0m                         Traceback (most recent call last)",
      "\u001b[1;32m~\\AppData\\Local\\Temp/ipykernel_22788/1715034836.py\u001b[0m in \u001b[0;36m<module>\u001b[1;34m\u001b[0m\n\u001b[0;32m      3\u001b[0m \u001b[0mb\u001b[0m \u001b[1;33m=\u001b[0m \u001b[0mfloat\u001b[0m\u001b[1;33m(\u001b[0m\u001b[0minput\u001b[0m\u001b[1;33m(\u001b[0m\u001b[1;34m'Enter the denominator: '\u001b[0m\u001b[1;33m)\u001b[0m\u001b[1;33m)\u001b[0m\u001b[1;33m\u001b[0m\u001b[1;33m\u001b[0m\u001b[0m\n\u001b[0;32m      4\u001b[0m \u001b[1;33m\u001b[0m\u001b[0m\n\u001b[1;32m----> 5\u001b[1;33m \u001b[0mresult\u001b[0m \u001b[1;33m=\u001b[0m \u001b[0ma\u001b[0m \u001b[1;33m/\u001b[0m \u001b[0mb\u001b[0m\u001b[1;33m\u001b[0m\u001b[1;33m\u001b[0m\u001b[0m\n\u001b[0m\u001b[0;32m      6\u001b[0m \u001b[1;33m\u001b[0m\u001b[0m\n\u001b[0;32m      7\u001b[0m \u001b[0mprint\u001b[0m\u001b[1;33m(\u001b[0m\u001b[1;34mf\"{a} / {b} = {result}\"\u001b[0m\u001b[1;33m)\u001b[0m\u001b[1;33m\u001b[0m\u001b[1;33m\u001b[0m\u001b[0m\n",
      "\u001b[1;31mZeroDivisionError\u001b[0m: float division by zero"
     ]
    }
   ],
   "source": [
    "#the program divides a by b\n",
    "a = float(input('Enter the numerator: '))\n",
    "b = float(input('Enter the denominator: '))\n",
    " \n",
    "result = a / b\n",
    " \n",
    "print(f\"{a} / {b} = {result}\") \n",
    "print('Done with the program') #When program works perfectly, it prints everything from the start to end! \n",
    "#But when it finds an error while runnning time, it stops abruptly!!\n"
   ]
  },
  {
   "cell_type": "markdown",
   "id": "48f2c0fc",
   "metadata": {},
   "source": [
    "#It throws an error. Notice that the last line of code ‘Done with the program’ was not printed. This means that the code has stopped abruptly at the point where the exception was encountered.\n",
    "\n",
    "#In reality, this is not a good way of writing codes as a user’s error can completely mar the code from performing any task. In reality, a good program needs to be runned even when the users give wrong inputs! if it doesnt it is not the good program!"
   ]
  },
  {
   "cell_type": "code",
   "execution_count": 5,
   "id": "82bcec5b",
   "metadata": {},
   "outputs": [
    {
     "name": "stdout",
     "output_type": "stream",
     "text": [
      "Enter the numerator?1\n",
      "Enter the denominator?32\n",
      "1.0/32.0=0.03125\n",
      "Done with the program\n"
     ]
    }
   ],
   "source": [
    "#Try block, should contain the code you write!\n",
    "\n",
    "#except Exception block should contain the error box! here we can also write a message we would like to show it to users! \n",
    "\n",
    "#Now lets handle the code \"division by numbers!\"\n",
    "\n",
    "a = float(input('Enter the numerator?'))\n",
    "b = float(input('Enter the denominator?'))\n",
    "\n",
    "try: #Always do put the code you want to try! \n",
    "    result = a/b\n",
    "    print(f'{a}/{b}={result}')\n",
    "    \n",
    "except Exception as e: #Exception and we can define the error! \n",
    "    \n",
    "    print(e) #Defined exception error will be printed here! \n",
    "    print()\n",
    "    print('Please provide a non zero digit to fix this error')\n",
    "    \n",
    "print('Done with the program') \n",
    "\n",
    "#By doing these try and exception block would save the entire code to run fully! "
   ]
  },
  {
   "cell_type": "code",
   "execution_count": null,
   "id": "ba638527",
   "metadata": {},
   "outputs": [],
   "source": [
    "#This shows that the code was run completely even with the error. --> power of exception ! "
   ]
  },
  {
   "cell_type": "code",
   "execution_count": null,
   "id": "4bc42565",
   "metadata": {},
   "outputs": [],
   "source": [
    "#Also we can specify what the error is, if you know the error already! "
   ]
  },
  {
   "cell_type": "code",
   "execution_count": 9,
   "id": "57c29d4e",
   "metadata": {},
   "outputs": [
    {
     "name": "stdout",
     "output_type": "stream",
     "text": [
      "Enter the numerator: 01\n",
      "Enter the denominator: 0\n",
      "Please enter a non-zero digit to fix this error\n",
      "Done with the program\n"
     ]
    }
   ],
   "source": [
    "a = float(input('Enter the numerator: '))\n",
    "b = float(input('Enter the denominator: '))\n",
    " \n",
    "try:\n",
    "    result = a / b\n",
    "    print(f\"{a} / {b} = {result}\")\n",
    "\n",
    "except ZeroDivisionError:\n",
    "    print('Please enter a non-zero digit to fix this error')\n",
    "\n",
    "print('Done with the program')"
   ]
  },
  {
   "cell_type": "markdown",
   "id": "7513a196",
   "metadata": {},
   "source": [
    "#Using the Finally Statement \n",
    "\n",
    "Codes that you want to get run whether or not an error was encountered are placed in the finally block. It doesnt care about what the code should be in finally block, it runs everytime when there is an error or not !\n",
    "\n",
    "example, where could it be helpful?\n",
    "\n",
    "For instance, if you are dealing with a file or database and you want such a database to be closed as the last step. The code should be placed in the finally block. \n",
    "\n",
    "In our previous examples, the last line of code where we printed ‘Done with the program’ can be placed in a finally block because we want this code to be run no matter what. Let us tweak the code further. "
   ]
  },
  {
   "cell_type": "code",
   "execution_count": 26,
   "id": "8a48a7c2",
   "metadata": {},
   "outputs": [
    {
     "name": "stdout",
     "output_type": "stream",
     "text": [
      "Enter the numerator: 1\n",
      "Enter the denominator: 23a\n"
     ]
    },
    {
     "ename": "ValueError",
     "evalue": "could not convert string to float: '23a'",
     "output_type": "error",
     "traceback": [
      "\u001b[1;31m---------------------------------------------------------------------------\u001b[0m",
      "\u001b[1;31mValueError\u001b[0m                                Traceback (most recent call last)",
      "\u001b[1;32m~\\AppData\\Local\\Temp/ipykernel_22788/3347727280.py\u001b[0m in \u001b[0;36m<module>\u001b[1;34m\u001b[0m\n\u001b[0;32m      1\u001b[0m \u001b[1;31m#the program divides a by b\u001b[0m\u001b[1;33m\u001b[0m\u001b[1;33m\u001b[0m\u001b[1;33m\u001b[0m\u001b[0m\n\u001b[0;32m      2\u001b[0m \u001b[0ma\u001b[0m \u001b[1;33m=\u001b[0m \u001b[0mfloat\u001b[0m\u001b[1;33m(\u001b[0m\u001b[0minput\u001b[0m\u001b[1;33m(\u001b[0m\u001b[1;34m'Enter the numerator: '\u001b[0m\u001b[1;33m)\u001b[0m\u001b[1;33m)\u001b[0m\u001b[1;33m\u001b[0m\u001b[1;33m\u001b[0m\u001b[0m\n\u001b[1;32m----> 3\u001b[1;33m \u001b[0mb\u001b[0m \u001b[1;33m=\u001b[0m \u001b[0mfloat\u001b[0m\u001b[1;33m(\u001b[0m\u001b[0minput\u001b[0m\u001b[1;33m(\u001b[0m\u001b[1;34m'Enter the denominator: '\u001b[0m\u001b[1;33m)\u001b[0m\u001b[1;33m)\u001b[0m\u001b[1;33m\u001b[0m\u001b[1;33m\u001b[0m\u001b[0m\n\u001b[0m\u001b[0;32m      4\u001b[0m \u001b[1;33m\u001b[0m\u001b[0m\n\u001b[0;32m      5\u001b[0m \u001b[1;32mtry\u001b[0m\u001b[1;33m:\u001b[0m\u001b[1;33m\u001b[0m\u001b[1;33m\u001b[0m\u001b[0m\n",
      "\u001b[1;31mValueError\u001b[0m: could not convert string to float: '23a'"
     ]
    }
   ],
   "source": [
    "#the program divides a by b\n",
    "a = float(input('Enter the numerator: '))\n",
    "b = float(input('Enter the denominator: '))\n",
    "\n",
    "try:\n",
    "    a = int(a)\n",
    "    b = int(b)\n",
    "        \n",
    "except ValueError:\n",
    "            \n",
    "    print('please dont give string input')\n",
    "\n",
    "try:\n",
    "    result = a / b\n",
    "    print(f\"{a} / {b} = {result}\")\n",
    "\n",
    "except ZeroDivisionError:\n",
    "    print('Please enter a non-zero digit to fix this error')\n",
    "\n",
    "finally:\n",
    "    print('Done with the program')"
   ]
  },
  {
   "cell_type": "code",
   "execution_count": 16,
   "id": "895f0065",
   "metadata": {},
   "outputs": [
    {
     "data": {
      "text/plain": [
       "False"
      ]
     },
     "execution_count": 16,
     "metadata": {},
     "output_type": "execute_result"
    }
   ],
   "source": [
    "not isinstance(10,int)"
   ]
  },
  {
   "cell_type": "code",
   "execution_count": 23,
   "id": "cc7a02fe",
   "metadata": {},
   "outputs": [
    {
     "ename": "ValueError",
     "evalue": "invalid literal for int() with base 10: '123a'",
     "output_type": "error",
     "traceback": [
      "\u001b[1;31m---------------------------------------------------------------------------\u001b[0m",
      "\u001b[1;31mValueError\u001b[0m                                Traceback (most recent call last)",
      "\u001b[1;32m~\\AppData\\Local\\Temp/ipykernel_22788/2686540347.py\u001b[0m in \u001b[0;36m<module>\u001b[1;34m\u001b[0m\n\u001b[1;32m----> 1\u001b[1;33m \u001b[0mint\u001b[0m\u001b[1;33m(\u001b[0m\u001b[1;34m'123a'\u001b[0m\u001b[1;33m)\u001b[0m\u001b[1;33m\u001b[0m\u001b[1;33m\u001b[0m\u001b[0m\n\u001b[0m",
      "\u001b[1;31mValueError\u001b[0m: invalid literal for int() with base 10: '123a'"
     ]
    }
   ],
   "source": [
    "int('123a')"
   ]
  },
  {
   "cell_type": "code",
   "execution_count": 40,
   "id": "6bfbc84f",
   "metadata": {},
   "outputs": [
    {
     "name": "stdout",
     "output_type": "stream",
     "text": [
      "Enter the numerator: 1\n",
      "Enter the denominator: a2\n",
      "invalid literal for int() with base 10: 'a2'\n",
      "Please give us int\n",
      "Done with the program\n"
     ]
    }
   ],
   "source": [
    "try:\n",
    "    a = int(input('Enter the numerator: '))\n",
    "    b = int(input('Enter the denominator: '))\n",
    "    \n",
    "    a = int(a)\n",
    "    b = int(b)\n",
    "    \n",
    "    result = a / b\n",
    "    print(f\"{a} / {b} = {result}\")\n",
    "\n",
    "except ValueError as e:\n",
    "    \n",
    "    print(e)\n",
    "    print('Please give us int')\n",
    "    \n",
    "except ZeroDivisionError as e:\n",
    "    \n",
    "    print(e)\n",
    "    print('Please enter a non-zero digit to fix this error')\n",
    "    \n",
    "\n",
    "finally:\n",
    "    print('Done with the program')"
   ]
  },
  {
   "cell_type": "code",
   "execution_count": 7,
   "id": "0e419df1",
   "metadata": {},
   "outputs": [
    {
     "name": "stdout",
     "output_type": "stream",
     "text": [
      "p y t h o n i s g o o d hey it doesnt have the index\n",
      "\n",
      "pythonisgoodhey\n"
     ]
    }
   ],
   "source": [
    "string_1 = 'pythonisgood'\n",
    "for I in string_1:\n",
    "    print(I,end=' ')\n",
    "\n",
    "try:\n",
    "    print(string_1[100])\n",
    "    \n",
    "except Exception as e:\n",
    "    print('hey it doesnt have the index')\n",
    "    \n",
    "new_string = 'hey'\n",
    "for i in new_string:\n",
    "    string_1 += i\n",
    "    \n",
    "print()\n",
    "print(string_1)"
   ]
  },
  {
   "cell_type": "code",
   "execution_count": 8,
   "id": "15cb04d6",
   "metadata": {},
   "outputs": [
    {
     "ename": "IndexError",
     "evalue": "list index out of range",
     "output_type": "error",
     "traceback": [
      "\u001b[1;31m---------------------------------------------------------------------------\u001b[0m",
      "\u001b[1;31mIndexError\u001b[0m                                Traceback (most recent call last)",
      "\u001b[1;32m~\\AppData\\Local\\Temp/ipykernel_14868/616547069.py\u001b[0m in \u001b[0;36m<module>\u001b[1;34m\u001b[0m\n\u001b[0;32m      1\u001b[0m \u001b[0mls\u001b[0m \u001b[1;33m=\u001b[0m \u001b[1;33m[\u001b[0m\u001b[1;34m'List Item 0'\u001b[0m\u001b[1;33m,\u001b[0m \u001b[1;34m'List Item 1'\u001b[0m\u001b[1;33m,\u001b[0m \u001b[1;34m'List Item 2'\u001b[0m\u001b[1;33m]\u001b[0m\u001b[1;33m\u001b[0m\u001b[1;33m\u001b[0m\u001b[0m\n\u001b[1;32m----> 2\u001b[1;33m \u001b[0mprint\u001b[0m\u001b[1;33m(\u001b[0m\u001b[0mls\u001b[0m\u001b[1;33m[\u001b[0m\u001b[1;36m3\u001b[0m\u001b[1;33m]\u001b[0m\u001b[1;33m)\u001b[0m\u001b[1;33m\u001b[0m\u001b[1;33m\u001b[0m\u001b[0m\n\u001b[0m",
      "\u001b[1;31mIndexError\u001b[0m: list index out of range"
     ]
    }
   ],
   "source": [
    "ls = ['List Item 0', 'List Item 1', 'List Item 2']\n",
    "print(ls[3])"
   ]
  },
  {
   "cell_type": "code",
   "execution_count": 9,
   "id": "1f9a7c1b",
   "metadata": {},
   "outputs": [],
   "source": [
    "ls = ['List Item 0', 'List Item 1', 'List Item 2']\n",
    "try:\n",
    "\n",
    "    print(ls[3]) #See here even though the code is wrong, I mean you cant access the 3rd index. Since its out of index! \n",
    "except:\n",
    "\n",
    "    pass #Exception handles this and doesnt show the error! \n",
    "\n",
    "#However, as opposed to causing the script to stop, this error instead caused the exception clause to run"
   ]
  },
  {
   "cell_type": "raw",
   "id": "964f2568",
   "metadata": {},
   "source": [
    "# https://rowannicholls.github.io/python/advanced/error_handling.html\n",
    "    \n",
    "https://towardsdatascience.com/exception-handling-in-python-from-basic-to-advanced-then-tricks-9b495619730a"
   ]
  },
  {
   "cell_type": "markdown",
   "id": "a7c6dd9e",
   "metadata": {},
   "source": [
    "1) Syntax for handling exceptions using try, except, else, and finally statements\n",
    "2) Types of built-in exceptions in Python, such as ValueError, TypeError, and KeyError\n",
    "3) Raising your own exceptions using the raise statement\n",
    "4) Handling multiple exceptions using multiple except statements or a tuple of exceptions\n",
    "5) Using the else block to execute code when no exceptions occur\n",
    "6) Using the finally block to execute code regardless of whether an exception occurs or not\n",
    "7) Exception handling in nested try-except blocks\n",
    "8) Creating custom exception classes by inheriting from the Exception class or its subclasses\n",
    "9) Handling exceptions in functions and methods\n",
    "10) Best practices for exception handling, such as avoiding bare except clauses and logging exceptions."
   ]
  },
  {
   "cell_type": "code",
   "execution_count": null,
   "id": "cab863e1",
   "metadata": {},
   "outputs": [],
   "source": [
    "#To be able to use raise, you need to understand the syntax! \n",
    "\n",
    "\n",
    "#raise ExceptionType(ARGS) --> Inside you could pass any comments you want!!!!"
   ]
  },
  {
   "cell_type": "code",
   "execution_count": 4,
   "id": "667ee884",
   "metadata": {},
   "outputs": [
    {
     "name": "stdout",
     "output_type": "stream",
     "text": [
      "error b cant be zero, you cant divide a number by zero!\n"
     ]
    }
   ],
   "source": [
    "def divison(a,b):\n",
    "    \n",
    "    \"\"\"It is just a simple divison function\"\"\"\n",
    "    \n",
    "    if b == 0:\n",
    "        raise ValueError(\"b cant be zero, you cant divide a number by zero!\")\n",
    "        \n",
    "    return a/b\n",
    "        \n",
    "    \n",
    "try:\n",
    "    result = divison(10,0)\n",
    "    \n",
    "except Exception as e:\n",
    "    print('error', str(e))\n",
    "    \n",
    "else:\n",
    "    print(result)"
   ]
  },
  {
   "cell_type": "code",
   "execution_count": 5,
   "id": "393f89c4",
   "metadata": {},
   "outputs": [],
   "source": [
    "def bmi(wt,ht):\n",
    "    \"\"\"a simple function to compute BMI\"\"\"\n",
    "    \n",
    "    if wt <= 0 or ht <= 0:\n",
    "        raise ValueError(\"weight and height cant be negative!\")\n",
    "        \n",
    "    return wt/(ht**2) "
   ]
  },
  {
   "cell_type": "code",
   "execution_count": 7,
   "id": "1bf4ebea",
   "metadata": {},
   "outputs": [
    {
     "ename": "ValueError",
     "evalue": "weight and height cant be negative!",
     "output_type": "error",
     "traceback": [
      "\u001b[1;31m---------------------------------------------------------------------------\u001b[0m",
      "\u001b[1;31mValueError\u001b[0m                                Traceback (most recent call last)",
      "\u001b[1;32m~\\AppData\\Local\\Temp/ipykernel_7212/489288907.py\u001b[0m in \u001b[0;36m<module>\u001b[1;34m\u001b[0m\n\u001b[1;32m----> 1\u001b[1;33m \u001b[0mbmi\u001b[0m\u001b[1;33m(\u001b[0m\u001b[1;33m-\u001b[0m\u001b[1;36m10\u001b[0m\u001b[1;33m,\u001b[0m\u001b[1;36m20\u001b[0m\u001b[1;33m)\u001b[0m\u001b[1;33m\u001b[0m\u001b[1;33m\u001b[0m\u001b[0m\n\u001b[0m",
      "\u001b[1;32m~\\AppData\\Local\\Temp/ipykernel_7212/3641624860.py\u001b[0m in \u001b[0;36mbmi\u001b[1;34m(wt, ht)\u001b[0m\n\u001b[0;32m      3\u001b[0m \u001b[1;33m\u001b[0m\u001b[0m\n\u001b[0;32m      4\u001b[0m     \u001b[1;32mif\u001b[0m \u001b[0mwt\u001b[0m \u001b[1;33m<=\u001b[0m \u001b[1;36m0\u001b[0m \u001b[1;32mor\u001b[0m \u001b[0mht\u001b[0m \u001b[1;33m<=\u001b[0m \u001b[1;36m0\u001b[0m\u001b[1;33m:\u001b[0m\u001b[1;33m\u001b[0m\u001b[1;33m\u001b[0m\u001b[0m\n\u001b[1;32m----> 5\u001b[1;33m         \u001b[1;32mraise\u001b[0m \u001b[0mValueError\u001b[0m\u001b[1;33m(\u001b[0m\u001b[1;34m\"weight and height cant be negative!\"\u001b[0m\u001b[1;33m)\u001b[0m\u001b[1;33m\u001b[0m\u001b[1;33m\u001b[0m\u001b[0m\n\u001b[0m\u001b[0;32m      6\u001b[0m \u001b[1;33m\u001b[0m\u001b[0m\n\u001b[0;32m      7\u001b[0m     \u001b[1;32mreturn\u001b[0m \u001b[0mwt\u001b[0m\u001b[1;33m/\u001b[0m\u001b[1;33m(\u001b[0m\u001b[0mht\u001b[0m\u001b[1;33m**\u001b[0m\u001b[1;36m2\u001b[0m\u001b[1;33m)\u001b[0m\u001b[1;33m\u001b[0m\u001b[1;33m\u001b[0m\u001b[0m\n",
      "\u001b[1;31mValueError\u001b[0m: weight and height cant be negative!"
     ]
    }
   ],
   "source": [
    "bmi(-10,20) #By doing the raise exception, you could make your own comments to be printed in error! \n",
    "\n",
    "#Since we are not using try except block we do see the error explicitly, and it got ended! "
   ]
  },
  {
   "cell_type": "code",
   "execution_count": 8,
   "id": "5af8fcb1",
   "metadata": {},
   "outputs": [
    {
     "name": "stdout",
     "output_type": "stream",
     "text": [
      "Error weight and height cant be negative!\n"
     ]
    }
   ],
   "source": [
    "try:\n",
    "    bmi(1.754,-100)\n",
    "    \n",
    "except Exception as e:\n",
    "    print('Error', str(e))\n",
    "    \n",
    "else:\n",
    "    print('BMI', bmi)"
   ]
  },
  {
   "cell_type": "code",
   "execution_count": 2,
   "id": "914fe1ed",
   "metadata": {},
   "outputs": [],
   "source": [
    "def div1(a,b):\n",
    "    return a/b\n",
    "\n",
    "def str2int(strx):\n",
    "    return int(strx)"
   ]
  },
  {
   "cell_type": "code",
   "execution_count": 17,
   "id": "a7e3f7cf",
   "metadata": {},
   "outputs": [
    {
     "name": "stdout",
     "output_type": "stream",
     "text": [
      "what number is on your mind?aadf\n",
      "Somethign went wrong  invalid literal for int() with base 10: 'aadf'\n"
     ]
    }
   ],
   "source": [
    "#How to use else block in exception handling?\n",
    "\n",
    "try:\n",
    "    name = input('what number is on your mind?')\n",
    "    converter = int(name)\n",
    "    \n",
    "        \n",
    "    \n",
    "except Exception as e:\n",
    "    print('Somethign went wrong ', e)\n",
    "    \n",
    "else:\n",
    "    if converter >= 100:\n",
    "        print('The number must be greater than or equal to 100')\n",
    "        \n",
    "    elif converter <= 0:\n",
    "        print('the number must be either equal to zero or negative number!')\n",
    "    \n",
    "        \n",
    "    "
   ]
  },
  {
   "cell_type": "code",
   "execution_count": 10,
   "id": "85437d9e",
   "metadata": {},
   "outputs": [],
   "source": [
    "#How to use multiple exception! \n",
    "\n",
    "def multiple_exceptions(a,b,strx):\n",
    "\n",
    "    try:\n",
    "        result = div1(a,b)\n",
    "        number = str2int(strx)\n",
    "        \n",
    "    except ZeroDivisionError:\n",
    "        print('You cant divide a number by zero!')\n",
    "        \n",
    "    except ValueError: \n",
    "        print('Invalid number format!')\n",
    "        \n",
    "    except Exception as e:\n",
    "        print('something went wrong ', e)\n",
    "        \n",
    "    else:\n",
    "        print('div result ', result)\n",
    "        print('str2int', number)\n",
    "        \n",
    "    finally:\n",
    "        print('Hey I am done!')"
   ]
  },
  {
   "cell_type": "markdown",
   "id": "355481d0",
   "metadata": {},
   "source": [
    "Else block will be executed when there is no exception during try block! "
   ]
  },
  {
   "cell_type": "code",
   "execution_count": 14,
   "id": "8fee7aee",
   "metadata": {},
   "outputs": [
    {
     "name": "stdout",
     "output_type": "stream",
     "text": [
      "Invalid number format!\n",
      "Hey I am done!\n",
      "div result  0.9090909090909091\n",
      "str2int 123\n",
      "Hey I am done!\n"
     ]
    }
   ],
   "source": [
    "multiple_exceptions(10,11,'xxx')\n",
    "multiple_exceptions(10,11,'123')"
   ]
  },
  {
   "cell_type": "code",
   "execution_count": 18,
   "id": "f2f7e411",
   "metadata": {},
   "outputs": [],
   "source": [
    "import os "
   ]
  },
  {
   "cell_type": "code",
   "execution_count": 25,
   "id": "e9e9a5e2",
   "metadata": {},
   "outputs": [
    {
     "name": "stdout",
     "output_type": "stream",
     "text": [
      "enter the file name?11\n",
      "An error occured  file doesnt exsist!\n",
      "Yebba!! program is over! \n"
     ]
    }
   ],
   "source": [
    "try:\n",
    "    filename = input('enter the file name?')\n",
    "    \n",
    "    if not os.path.exists(filename):\n",
    "        \n",
    "        raise ValueError(\"file doesnt exsist!\")\n",
    "        \n",
    "    with open(filename, 'r') as file:\n",
    "        contents = file.read()\n",
    "        \n",
    "        try:\n",
    "            number = int(contents)\n",
    "            \n",
    "        except ValueError:\n",
    "            raise ValueError('Invalid content')\n",
    "            \n",
    "        else:\n",
    "            result = 100/number\n",
    "            \n",
    "except(ValueError, OSError) as e:\n",
    "    print('An error occured ', e)\n",
    "    \n",
    "except Exception as e:\n",
    "    print('Something went down ', e)\n",
    "    \n",
    "else:\n",
    "    print('Result ', result)\n",
    "    \n",
    "finally:\n",
    "    print('Yebba!! program is over! ')\n",
    "            \n",
    "            "
   ]
  },
  {
   "cell_type": "markdown",
   "id": "9222c71d",
   "metadata": {},
   "source": [
    "#So the conclusion is....\n",
    "\n",
    "1) Try to use \"try-except\" block explicitly to catch errors! \n",
    "2) Whenever possible, use specific exceptions to get the error precisely, instead of calling all exceptions.\n",
    "3) You can also think of using nested try-except block if needed!, it makes the code harder to read and understand! \n",
    "4) Use finally block in the place where it is required to use, else dont use it! It doesnt affect even when it catches an exception or not! \n",
    "5) else block can be executed when it catches no exception! "
   ]
  },
  {
   "cell_type": "markdown",
   "id": "9dd1f23b",
   "metadata": {},
   "source": [
    "Finally block get printed/executed even when the program cathces error or not! so it might be useful in file opening, closing by using open() method ---> If you dont close the file, it might leak the contents! so it is better to use finally block to close the file when you feel forgeting, also think about website opening and you do some operations on it! you must close it after finishing the work, else it is not safe! similarly FB opening in some random computers, you have to logout else you might get trapped by someone! isnt it??!! sooooo finally will be useful at some cases! "
   ]
  },
  {
   "cell_type": "code",
   "execution_count": 29,
   "id": "de3ecc5d",
   "metadata": {},
   "outputs": [
    {
     "name": "stdout",
     "output_type": "stream",
     "text": [
      "Result is  1e-18\n",
      "File has been closed! you are safe\n"
     ]
    }
   ],
   "source": [
    "try:\n",
    "    filex = open('dummy.txt','r')\n",
    "    content = int(filex.read())\n",
    "    #content = filex.read() --> Uncomment this, you will get an error! \n",
    "    result = 100 / content\n",
    "    print(\"Result is \", result)\n",
    "    \n",
    "except TypeError:\n",
    "    raise TypeError(\"we cant divide the content as string! \")\n",
    "    \n",
    "except (ValueError, ZeroDivisionError) as e:\n",
    "    print(\"An error occured \", e)\n",
    "    \n",
    "finally:\n",
    "    filex.close()\n",
    "    print('File has been closed! you are safe')"
   ]
  },
  {
   "cell_type": "code",
   "execution_count": null,
   "id": "02b5b841",
   "metadata": {},
   "outputs": [],
   "source": []
  },
  {
   "cell_type": "code",
   "execution_count": null,
   "id": "dc869aaf",
   "metadata": {},
   "outputs": [],
   "source": []
  },
  {
   "cell_type": "code",
   "execution_count": null,
   "id": "3c0f0373",
   "metadata": {},
   "outputs": [],
   "source": []
  },
  {
   "cell_type": "code",
   "execution_count": null,
   "id": "91d02330",
   "metadata": {},
   "outputs": [],
   "source": []
  },
  {
   "cell_type": "code",
   "execution_count": null,
   "id": "a0b26f5c",
   "metadata": {},
   "outputs": [],
   "source": []
  },
  {
   "cell_type": "code",
   "execution_count": null,
   "id": "b859d5ef",
   "metadata": {},
   "outputs": [],
   "source": []
  },
  {
   "cell_type": "code",
   "execution_count": null,
   "id": "669a03a8",
   "metadata": {},
   "outputs": [],
   "source": []
  },
  {
   "cell_type": "code",
   "execution_count": null,
   "id": "f7836ee4",
   "metadata": {},
   "outputs": [],
   "source": []
  },
  {
   "cell_type": "code",
   "execution_count": null,
   "id": "dcaa4870",
   "metadata": {},
   "outputs": [],
   "source": []
  },
  {
   "cell_type": "code",
   "execution_count": null,
   "id": "11a6be78",
   "metadata": {},
   "outputs": [],
   "source": []
  },
  {
   "cell_type": "code",
   "execution_count": null,
   "id": "4d4b18bd",
   "metadata": {},
   "outputs": [],
   "source": []
  },
  {
   "cell_type": "code",
   "execution_count": null,
   "id": "54091d0e",
   "metadata": {},
   "outputs": [],
   "source": []
  },
  {
   "cell_type": "code",
   "execution_count": null,
   "id": "ff213467",
   "metadata": {},
   "outputs": [],
   "source": []
  },
  {
   "cell_type": "code",
   "execution_count": null,
   "id": "37b7d383",
   "metadata": {},
   "outputs": [],
   "source": []
  },
  {
   "cell_type": "code",
   "execution_count": null,
   "id": "2c1f0fe4",
   "metadata": {},
   "outputs": [],
   "source": []
  },
  {
   "cell_type": "code",
   "execution_count": null,
   "id": "53c38493",
   "metadata": {},
   "outputs": [],
   "source": []
  },
  {
   "cell_type": "code",
   "execution_count": null,
   "id": "b95a6370",
   "metadata": {},
   "outputs": [],
   "source": []
  },
  {
   "cell_type": "code",
   "execution_count": null,
   "id": "dac11bfb",
   "metadata": {},
   "outputs": [],
   "source": []
  },
  {
   "cell_type": "code",
   "execution_count": null,
   "id": "1d902879",
   "metadata": {},
   "outputs": [],
   "source": []
  },
  {
   "cell_type": "code",
   "execution_count": null,
   "id": "e2986e61",
   "metadata": {},
   "outputs": [],
   "source": []
  },
  {
   "cell_type": "code",
   "execution_count": null,
   "id": "5b8ee2c1",
   "metadata": {},
   "outputs": [],
   "source": []
  },
  {
   "cell_type": "code",
   "execution_count": null,
   "id": "b9a2d488",
   "metadata": {},
   "outputs": [],
   "source": []
  },
  {
   "cell_type": "code",
   "execution_count": null,
   "id": "eff06b59",
   "metadata": {},
   "outputs": [],
   "source": []
  },
  {
   "cell_type": "code",
   "execution_count": null,
   "id": "4325d16f",
   "metadata": {},
   "outputs": [],
   "source": []
  },
  {
   "cell_type": "code",
   "execution_count": null,
   "id": "e83120f2",
   "metadata": {},
   "outputs": [],
   "source": []
  },
  {
   "cell_type": "code",
   "execution_count": null,
   "id": "d4a82023",
   "metadata": {},
   "outputs": [],
   "source": []
  },
  {
   "cell_type": "code",
   "execution_count": null,
   "id": "5bcfe028",
   "metadata": {},
   "outputs": [],
   "source": []
  },
  {
   "cell_type": "code",
   "execution_count": null,
   "id": "68cc083d",
   "metadata": {},
   "outputs": [],
   "source": []
  },
  {
   "cell_type": "code",
   "execution_count": null,
   "id": "380e1dd5",
   "metadata": {},
   "outputs": [],
   "source": []
  },
  {
   "cell_type": "code",
   "execution_count": null,
   "id": "5995a468",
   "metadata": {},
   "outputs": [],
   "source": []
  },
  {
   "cell_type": "code",
   "execution_count": null,
   "id": "62e97c32",
   "metadata": {},
   "outputs": [],
   "source": []
  },
  {
   "cell_type": "code",
   "execution_count": null,
   "id": "ba55fb3d",
   "metadata": {},
   "outputs": [],
   "source": []
  },
  {
   "cell_type": "code",
   "execution_count": null,
   "id": "e26986d9",
   "metadata": {},
   "outputs": [],
   "source": []
  },
  {
   "cell_type": "code",
   "execution_count": null,
   "id": "b4a778de",
   "metadata": {},
   "outputs": [],
   "source": []
  },
  {
   "cell_type": "code",
   "execution_count": null,
   "id": "0b53377c",
   "metadata": {},
   "outputs": [],
   "source": []
  },
  {
   "cell_type": "code",
   "execution_count": null,
   "id": "0ec71d67",
   "metadata": {},
   "outputs": [],
   "source": []
  },
  {
   "cell_type": "code",
   "execution_count": null,
   "id": "51b1ca76",
   "metadata": {},
   "outputs": [],
   "source": []
  },
  {
   "cell_type": "code",
   "execution_count": null,
   "id": "d7cbcede",
   "metadata": {},
   "outputs": [],
   "source": []
  },
  {
   "cell_type": "code",
   "execution_count": null,
   "id": "29d2dd5a",
   "metadata": {},
   "outputs": [],
   "source": []
  },
  {
   "cell_type": "code",
   "execution_count": null,
   "id": "6565ee55",
   "metadata": {},
   "outputs": [],
   "source": []
  },
  {
   "cell_type": "code",
   "execution_count": null,
   "id": "e65026ff",
   "metadata": {},
   "outputs": [],
   "source": []
  },
  {
   "cell_type": "code",
   "execution_count": null,
   "id": "a4a2b5b4",
   "metadata": {},
   "outputs": [],
   "source": []
  },
  {
   "cell_type": "code",
   "execution_count": null,
   "id": "ee108ce5",
   "metadata": {},
   "outputs": [],
   "source": []
  },
  {
   "cell_type": "code",
   "execution_count": null,
   "id": "68e55498",
   "metadata": {},
   "outputs": [],
   "source": []
  },
  {
   "cell_type": "code",
   "execution_count": null,
   "id": "4e1f3288",
   "metadata": {},
   "outputs": [],
   "source": []
  }
 ],
 "metadata": {
  "kernelspec": {
   "display_name": "Python 3",
   "language": "python",
   "name": "python3"
  },
  "language_info": {
   "codemirror_mode": {
    "name": "ipython",
    "version": 3
   },
   "file_extension": ".py",
   "mimetype": "text/x-python",
   "name": "python",
   "nbconvert_exporter": "python",
   "pygments_lexer": "ipython3",
   "version": "3.8.8"
  }
 },
 "nbformat": 4,
 "nbformat_minor": 5
}
