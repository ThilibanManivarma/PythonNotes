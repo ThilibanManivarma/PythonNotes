{
 "cells": [
  {
   "cell_type": "markdown",
   "id": "49c8277b",
   "metadata": {},
   "source": [
    "Currying is the tech to minimize/break down the huge functions into small pieces! "
   ]
  },
  {
   "cell_type": "code",
   "execution_count": null,
   "id": "3e4c21b2",
   "metadata": {},
   "outputs": [],
   "source": [
    "h(x) = g(f(x))"
   ]
  },
  {
   "cell_type": "code",
   "execution_count": null,
   "id": "6e8b01b7",
   "metadata": {},
   "outputs": [],
   "source": [
    "def compose(g,f):\n",
    "    def h(x):\n",
    "        return g(f(x))\n",
    "    return h\n",
    "\n"
   ]
  },
  {
   "cell_type": "code",
   "execution_count": null,
   "id": "57b542d2",
   "metadata": {},
   "outputs": [],
   "source": []
  },
  {
   "cell_type": "code",
   "execution_count": null,
   "id": "7649f84f",
   "metadata": {},
   "outputs": [],
   "source": []
  },
  {
   "cell_type": "code",
   "execution_count": null,
   "id": "de36a54b",
   "metadata": {},
   "outputs": [],
   "source": []
  },
  {
   "cell_type": "code",
   "execution_count": null,
   "id": "53907c6d",
   "metadata": {},
   "outputs": [],
   "source": []
  },
  {
   "cell_type": "code",
   "execution_count": null,
   "id": "5a1f1d4a",
   "metadata": {},
   "outputs": [],
   "source": []
  },
  {
   "cell_type": "code",
   "execution_count": null,
   "id": "f93a0b73",
   "metadata": {},
   "outputs": [],
   "source": []
  }
 ],
 "metadata": {
  "kernelspec": {
   "display_name": "Python 3",
   "language": "python",
   "name": "python3"
  },
  "language_info": {
   "codemirror_mode": {
    "name": "ipython",
    "version": 3
   },
   "file_extension": ".py",
   "mimetype": "text/x-python",
   "name": "python",
   "nbconvert_exporter": "python",
   "pygments_lexer": "ipython3",
   "version": "3.8.8"
  }
 },
 "nbformat": 4,
 "nbformat_minor": 5
}
