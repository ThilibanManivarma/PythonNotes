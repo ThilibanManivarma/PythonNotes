{
 "cells": [
  {
   "cell_type": "code",
   "execution_count": 14,
   "id": "b7e3407f",
   "metadata": {},
   "outputs": [
    {
     "name": "stdout",
     "output_type": "stream",
     "text": [
      "fluxpavilion\n"
     ]
    },
    {
     "ename": "KeyboardInterrupt",
     "evalue": "",
     "output_type": "error",
     "traceback": [
      "\u001b[0;31m---------------------------------------------------------------------------\u001b[0m",
      "\u001b[0;31mKeyboardInterrupt\u001b[0m                         Traceback (most recent call last)",
      "\u001b[0;32m/tmp/ipykernel_312566/93833515.py\u001b[0m in \u001b[0;36m<module>\u001b[0;34m\u001b[0m\n\u001b[1;32m      4\u001b[0m \u001b[0;32mwhile\u001b[0m \u001b[0mline\u001b[0m \u001b[0;34m!=\u001b[0m \u001b[0;34m'END'\u001b[0m\u001b[0;34m:\u001b[0m\u001b[0;34m\u001b[0m\u001b[0;34m\u001b[0m\u001b[0m\n\u001b[1;32m      5\u001b[0m     \u001b[0margs\u001b[0m \u001b[0;34m=\u001b[0m \u001b[0mline\u001b[0m\u001b[0;34m.\u001b[0m\u001b[0msplit\u001b[0m\u001b[0;34m(\u001b[0m\u001b[0;34m\"->\"\u001b[0m\u001b[0;34m)\u001b[0m\u001b[0;34m\u001b[0m\u001b[0;34m\u001b[0m\u001b[0m\n\u001b[0;32m----> 6\u001b[0;31m     \u001b[0mcommand\u001b[0m \u001b[0;34m=\u001b[0m \u001b[0margs\u001b[0m\u001b[0;34m[\u001b[0m\u001b[0;36m0\u001b[0m\u001b[0;34m]\u001b[0m\u001b[0;34m\u001b[0m\u001b[0;34m\u001b[0m\u001b[0m\n\u001b[0m\u001b[1;32m      7\u001b[0m     \u001b[0mroad\u001b[0m \u001b[0;34m=\u001b[0m \u001b[0margs\u001b[0m\u001b[0;34m[\u001b[0m\u001b[0;36m0\u001b[0m\u001b[0;34m]\u001b[0m\u001b[0;34m[\u001b[0m\u001b[0;36m1\u001b[0m\u001b[0;34m]\u001b[0m\u001b[0;34m\u001b[0m\u001b[0;34m\u001b[0m\u001b[0m\n\u001b[1;32m      8\u001b[0m \u001b[0;34m\u001b[0m\u001b[0m\n",
      "\u001b[0;31mKeyboardInterrupt\u001b[0m: "
     ]
    }
   ],
   "source": [
    "line = input()\n",
    "dict_x = {}\n",
    "\n",
    "while line != 'END':\n",
    "    args = line.split(\"->\")\n",
    "    command = args[0]\n",
    "    road = args[0][1]\n",
    "    "
   ]
  },
  {
   "cell_type": "code",
   "execution_count": 4,
   "id": "8a11c33a",
   "metadata": {},
   "outputs": [
    {
     "name": "stdout",
     "output_type": "stream",
     "text": [
      "WELCOME THILIBAN!\n",
      "HEYY THILI ARE YOU HERE!! \n",
      "HELLOOO!!\n"
     ]
    }
   ],
   "source": [
    "def outter(x):\n",
    "    \n",
    "    def inner():\n",
    "        print('WELCOME THILIBAN!')\n",
    "        x()\n",
    "        print('HELLOOO!!')\n",
    "        \n",
    "    return inner\n",
    "\n",
    "\n",
    "def call_thiliban():\n",
    "    print('HEYY THILI ARE YOU HERE!! ')\n",
    "    \n",
    "    \n",
    "o = outter(call_thiliban) #Here you see the syntax / way of implementing decorators! \n",
    "o()"
   ]
  },
  {
   "cell_type": "code",
   "execution_count": 6,
   "id": "7ddedd4b",
   "metadata": {},
   "outputs": [
    {
     "name": "stdout",
     "output_type": "stream",
     "text": [
      "WELCOME THILIBAN!\n",
      "YOO FLUXX IS HERE!\n",
      "HELLOOO!!\n"
     ]
    }
   ],
   "source": [
    "@outter #THIS IS HOW WE SHOULD IMPLEMENT DECORATOR! and efficient way! \n",
    "def flux_calling():\n",
    "    print('YOO FLUXX IS HERE!')\n",
    "\n",
    "flux_calling()"
   ]
  },
  {
   "cell_type": "code",
   "execution_count": 16,
   "id": "ff83bc58",
   "metadata": {},
   "outputs": [
    {
     "name": "stdout",
     "output_type": "stream",
     "text": [
      "HII THIS IS OUTER FUNCTIONNN!! \n",
      " DECORATOR IS STARTED WORKING flux Before calling greeing\n",
      "HEYY THERE!! flux\n",
      "DECORATOR JOB ENDS!  After calling  greeing\n",
      "fun2\n"
     ]
    }
   ],
   "source": [
    "def fun1(funvar): #here funvar is a variable that takes function as variable! \n",
    "    print('HII THIS IS OUTER FUNCTIONNN!! ')\n",
    "    \n",
    "    def fun2(x):\n",
    "        \n",
    "        print(' DECORATOR IS STARTED WORKING', x, 'Before calling', funvar.__name__)\n",
    "        funvar(x)\n",
    "        print('DECORATOR JOB ENDS! ', 'After calling ', funvar.__name__)\n",
    "        \n",
    "    return fun2\n",
    "        \n",
    "@fun1\n",
    "def greeing(x): #THIS IS HOW A NORMAL and STANDARD way of DECORATOR calling looks like! \n",
    "    print(\"HEYY THERE!!\", x)\n",
    "    \n",
    "greeing('flux')\n",
    "    \n",
    "print(greeing.__name__)\n",
    "    "
   ]
  },
  {
   "cell_type": "code",
   "execution_count": 19,
   "id": "a21011a8",
   "metadata": {},
   "outputs": [
    {
     "name": "stdout",
     "output_type": "stream",
     "text": [
      "hi name flux_thili\n",
      "flux_thili\n"
     ]
    }
   ],
   "source": [
    "def flux_thili():\n",
    "    \n",
    "    print('hi', 'name', flux_thili.__name__)\n",
    "    \n",
    "flux_thili()\n",
    "\n",
    "print(flux_thili.__name__)"
   ]
  },
  {
   "cell_type": "code",
   "execution_count": 20,
   "id": "122364e0",
   "metadata": {},
   "outputs": [
    {
     "ename": "NameError",
     "evalue": "name 'main' is not defined",
     "output_type": "error",
     "traceback": [
      "\u001b[0;31m---------------------------------------------------------------------------\u001b[0m",
      "\u001b[0;31mNameError\u001b[0m                                 Traceback (most recent call last)",
      "\u001b[0;32m/tmp/ipykernel_338821/217905245.py\u001b[0m in \u001b[0;36m<module>\u001b[0;34m\u001b[0m\n\u001b[1;32m      1\u001b[0m \u001b[0;32mif\u001b[0m \u001b[0m__name__\u001b[0m \u001b[0;34m==\u001b[0m \u001b[0;34m'__main__'\u001b[0m\u001b[0;34m:\u001b[0m\u001b[0;34m\u001b[0m\u001b[0;34m\u001b[0m\u001b[0m\n\u001b[0;32m----> 2\u001b[0;31m     \u001b[0mmain\u001b[0m\u001b[0;34m(\u001b[0m\u001b[0;34m)\u001b[0m\u001b[0;34m\u001b[0m\u001b[0;34m\u001b[0m\u001b[0m\n\u001b[0m",
      "\u001b[0;31mNameError\u001b[0m: name 'main' is not defined"
     ]
    }
   ],
   "source": [
    "if __name__ == '__main__':\n",
    "    main()"
   ]
  },
  {
   "cell_type": "code",
   "execution_count": 36,
   "id": "7b0de97b",
   "metadata": {},
   "outputs": [
    {
     "name": "stdout",
     "output_type": "stream",
     "text": [
      "__main__\n"
     ]
    }
   ],
   "source": [
    "def caluclate_tax(price, tax):\n",
    "    return price * tax \n",
    "\n",
    "def print_billing_doc():\n",
    "    tax_rate = 0.1\n",
    "    produts = [{'name':'BOOK', 'price': 100},\n",
    "              {'name': 'PEN', 'price': 5}]\n",
    "    \n",
    "    print(f'Name\\tPrice\\Tax')\n",
    "          \n",
    "    for i in produts:\n",
    "        tax = caluclate_tax(i['price'], tax_rate)\n",
    "        print(f\"{i['name']}\\t{i['price']}\\t{tax}\")    \n",
    "            #print(f\"{i['name']} \\t{i['price']} \\t{tax}\")\n",
    "            #print(f\"{i['name']}\\t{i['price']}\\t{tax}\")\n",
    "          #print(tax)\n",
    "        \n",
    "print(__name__)"
   ]
  },
  {
   "cell_type": "code",
   "execution_count": null,
   "id": "b98ec58b",
   "metadata": {},
   "outputs": [],
   "source": []
  },
  {
   "cell_type": "code",
   "execution_count": null,
   "id": "29e68944",
   "metadata": {},
   "outputs": [],
   "source": []
  },
  {
   "cell_type": "code",
   "execution_count": null,
   "id": "0bf7b815",
   "metadata": {},
   "outputs": [],
   "source": []
  },
  {
   "cell_type": "code",
   "execution_count": null,
   "id": "33247f7a",
   "metadata": {},
   "outputs": [],
   "source": []
  },
  {
   "cell_type": "code",
   "execution_count": null,
   "id": "3908007a",
   "metadata": {},
   "outputs": [],
   "source": []
  },
  {
   "cell_type": "code",
   "execution_count": null,
   "id": "415c52fc",
   "metadata": {},
   "outputs": [],
   "source": []
  },
  {
   "cell_type": "code",
   "execution_count": null,
   "id": "bbe59296",
   "metadata": {},
   "outputs": [],
   "source": []
  }
 ],
 "metadata": {
  "kernelspec": {
   "display_name": "Python 3",
   "language": "python",
   "name": "python3"
  },
  "language_info": {
   "codemirror_mode": {
    "name": "ipython",
    "version": 3
   },
   "file_extension": ".py",
   "mimetype": "text/x-python",
   "name": "python",
   "nbconvert_exporter": "python",
   "pygments_lexer": "ipython3",
   "version": "3.8.8"
  }
 },
 "nbformat": 4,
 "nbformat_minor": 5
}
