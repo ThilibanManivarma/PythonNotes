{
 "cells": [
  {
   "cell_type": "markdown",
   "id": "36878313",
   "metadata": {},
   "source": [
    "# Topics to be covered\n",
    "\n",
    "1) classes \n",
    "2) objects \n",
    "3) Inheritence \n",
    "4) Attributes \n",
    "5) Methods "
   ]
  },
  {
   "cell_type": "markdown",
   "id": "5f030cfd",
   "metadata": {},
   "source": [
    "Everything in python are objects! Functions, Classes are objects too! \n",
    "\n",
    "Since Python is an object-oriented programming language, everything in Python is an object, every integer, string, list, and function."
   ]
  },
  {
   "cell_type": "code",
   "execution_count": 1,
   "id": "31303fed",
   "metadata": {},
   "outputs": [
    {
     "name": "stdout",
     "output_type": "stream",
     "text": [
      "fluxpavilion <class 'str'>\n"
     ]
    }
   ],
   "source": [
    "xxx = 'fluxpavilion'\n",
    "print(xxx,type(xxx)) #See here variable xxx here is a class belongs to str! \n",
    "\n",
    "#similarly we do have strings, lists, dictionaries and so on!  these all are built-in classes and all are \n",
    "#starts with lowercase! "
   ]
  },
  {
   "cell_type": "markdown",
   "id": "f215e1f7",
   "metadata": {},
   "source": [
    "xxx. ---> it could show us how many methods does this class string has!"
   ]
  },
  {
   "cell_type": "markdown",
   "id": "ffae247f",
   "metadata": {},
   "source": [
    "Python is an amazing language and it has the property in object oriented way and functionality way too! it shows the versality of python! We have four concepts here, encapsulation and abstraction, inheritence, polymorphism! \n",
    "\n",
    "In other programming languages, python is similar working language, it needs class to use/create objects!\n",
    "\n",
    "A class is collection of instance variables and related methods that define a particular object type! \n",
    "\n",
    "Class is behaving like a template/map/, it is like a grinder/blender. You could always put different ingredients to it and it gives us the product here! \n",
    "\n",
    "d1 = ClassName(<set_properties>) \n",
    "\n",
    "here d1 is instance of the class! "
   ]
  },
  {
   "cell_type": "markdown",
   "id": "619d3c6b",
   "metadata": {},
   "source": [
    "Classes - Class is a collection of an object of the same type. \n",
    "\n",
    "For example, lets say dog is our class and species from different countries are objects ( which are same animals but different species ) belonging to the class! \n",
    "\n",
    "Objects - Objects is basically a constituent or member of a class! example, German Shepherd is the species which is object and belonging to the class! \n",
    "\n",
    "Methods - Methods aka Functions, class contains several functions and it does something! We can access the function through objects after creating an object.! "
   ]
  },
  {
   "cell_type": "markdown",
   "id": "ced3e2f5",
   "metadata": {},
   "source": [
    "#class keyword to create the class! class name should be end with () ---> RULE 1\n",
    "\n",
    "#first dunder method aka magic methods! For initialization! as we know that def is to define the method!       \n",
    "        \n",
    "#As we notice above, as soon as you create a class, it gives an indendation and it comes down! \n",
    "    \n",
    "#inside the init method, we could add some attributes/parameters! \n",
    "\n",
    "#Self is a keyword, responsible for connecting those attributes to our class which is pokemon here! \n"
   ]
  },
  {
   "cell_type": "markdown",
   "id": "10b41e44",
   "metadata": {},
   "source": [
    "#As a beginner, you need to know only these 2 not more than that, once you are comfortable with it, learn others!!\n",
    "#Encapsulation and Polymorphism! These two I am not taking it but I can tell what it is ..............\n",
    "\n",
    "Python is polymorphic. This means that a single operator, function, or class method in Python can have multiple uses.\n",
    "\n",
    "Encapsulation in Python describes the concept of bundling data and methods within a single unit. So, for example, when you create a class, it means you are implementing encapsulation. A class is an example of encapsulation as it binds all the data members (instance variables) and methods into a single unit."
   ]
  },
  {
   "cell_type": "markdown",
   "id": "928b4f71",
   "metadata": {},
   "source": [
    "self is used to represent the instance of the class, with this keyword we can access the attributes and methods of the class! \n",
    "\n",
    "SELF represents the instance of class. This handy keyword allows you to access variables, attributes, and methods of a defined class in Python.\n",
    "\n",
    "However, the self parameter must always be the first parameter of any class function, regardless of the name chosen. So instead of self, you could use “Mine” or “Ours” or anything else.\n",
    "\n",
    "we added the class constructor (_init_). This class constructor allows us to create instances of Fruits that have two attributes, namely, color and type."
   ]
  },
  {
   "cell_type": "code",
   "execution_count": 2,
   "id": "dc428368",
   "metadata": {},
   "outputs": [
    {
     "ename": "SyntaxError",
     "evalue": "invalid syntax (2172102759.py, line 3)",
     "output_type": "error",
     "traceback": [
      "\u001b[0;36m  File \u001b[0;32m\"/tmp/ipykernel_3716357/2172102759.py\"\u001b[0;36m, line \u001b[0;32m3\u001b[0m\n\u001b[0;31m    class <class_name>(Capital_letter):\u001b[0m\n\u001b[0m          ^\u001b[0m\n\u001b[0;31mSyntaxError\u001b[0m\u001b[0;31m:\u001b[0m invalid syntax\n"
     ]
    }
   ],
   "source": [
    "#Yes this is the overall syntax of class we need to remember! \n",
    "\n",
    "class <class_name>(Capital_letter):\n",
    "    \n",
    "    <class_variable>\n",
    "    \n",
    "    def <instance_initialization>(self, <paramters>):\n",
    "        <defining the instance attributes>\n",
    "        \n",
    "    def <method_1>:\n",
    "        \n",
    "    def <method_2>:\n",
    "        \n",
    "    ......\n",
    "    \n",
    "    \n",
    "    ........\n",
    "    \n",
    "    \n",
    "    It goes onnn.........\n",
    "    \n",
    "<instance_creation>\n",
    "<instance> = <calling_the_class>\n",
    "<Accession is done to instance>\n",
    "\n"
   ]
  },
  {
   "cell_type": "code",
   "execution_count": 3,
   "id": "858bc0b0",
   "metadata": {},
   "outputs": [
    {
     "data": {
      "text/plain": [
       "100"
      ]
     },
     "execution_count": 3,
     "metadata": {},
     "output_type": "execute_result"
    }
   ],
   "source": [
    "#Class dummy example! \n",
    "#Why you need to name a class name in capitals, because it is always good to differentiate it from other function\n",
    "#names, it looks stand alone.\n",
    "\n",
    "#Dont give paranthese unless you want to use inheritence\n",
    "\n",
    "#class childclass(parent_class):\n",
    "\n",
    "class Dummy:\n",
    "    \n",
    "    classvariable = 100\n",
    "    \n",
    "    def __init__(self,x):\n",
    "        self.x = x\n",
    "        \n",
    "    def greetings(self):\n",
    "        return 'Hi da'\n",
    "    \n",
    "    def leaving(self):\n",
    "        print('hi da bye!')\n",
    "        print(self.classvariable) #Here you could see the class variable can be used here! \n",
    "    \n",
    "d = Dummy(100)\n",
    "d.classvariable"
   ]
  },
  {
   "cell_type": "code",
   "execution_count": 4,
   "id": "462383a9",
   "metadata": {},
   "outputs": [
    {
     "name": "stdout",
     "output_type": "stream",
     "text": [
      "hi da bye!\n",
      "100\n"
     ]
    }
   ],
   "source": [
    "d.leaving()"
   ]
  },
  {
   "cell_type": "code",
   "execution_count": 5,
   "id": "e1c0900a",
   "metadata": {},
   "outputs": [],
   "source": [
    "d1 = Dummy(100)\n",
    "d2 = Dummy(200)\n",
    "d3 = Dummy(300)"
   ]
  },
  {
   "cell_type": "code",
   "execution_count": 6,
   "id": "d7963c91",
   "metadata": {},
   "outputs": [
    {
     "name": "stdout",
     "output_type": "stream",
     "text": [
      "<class '__main__.Dummy'> <__main__.Dummy object at 0x7f21945d23d0>\n"
     ]
    }
   ],
   "source": [
    "print(type(d1),d1) #see here d1 is an object here! "
   ]
  },
  {
   "cell_type": "code",
   "execution_count": 7,
   "id": "57ac6efe",
   "metadata": {},
   "outputs": [
    {
     "ename": "SyntaxError",
     "evalue": "invalid syntax (1712541518.py, line 33)",
     "output_type": "error",
     "traceback": [
      "\u001b[0;36m  File \u001b[0;32m\"/tmp/ipykernel_3716357/1712541518.py\"\u001b[0;36m, line \u001b[0;32m33\u001b[0m\n\u001b[0;31m    pk1. #dot is the way to access or interact with the methods and attributes!!\u001b[0m\n\u001b[0m         ^\u001b[0m\n\u001b[0;31mSyntaxError\u001b[0m\u001b[0;31m:\u001b[0m invalid syntax\n"
     ]
    }
   ],
   "source": [
    "class Pokemon(): \n",
    "    \n",
    "    #Attributes which are defined called Class varibles ! \n",
    "    \n",
    "    def __init__(self,name,Type,health): \n",
    "        \n",
    "        #Here we create the attributes under instance creation, so called instance attributes!\n",
    "        \n",
    "        self.name = name \n",
    "        self.Type = Type\n",
    "        self.health = health #all the attributes got initialized here! \n",
    "        \n",
    "    def attack(self):\n",
    "        print('OhhhhYushhhhhhhhhhhhhh! AttackkkkkK!')\n",
    "        \n",
    "    def dodge(self):\n",
    "        print('Pikachu DODGEEEEEEEEEEEEEEEEEE!!')\n",
    "        \n",
    "    def evolve(self):\n",
    "        print('Evolving to RaichuuuuuuuuuuuuuuU!!')\n",
    "        \n",
    "        \n",
    "#As of now, class Pokemon has 3 methods ( attack, dodge, evolve ), and it has three parameters name, Type, health! \n",
    "        \n",
    "#Now it is time to create the objects through class we created above! \n",
    "\n",
    "pk1 = Pokemon('Flux','Electric',100)\n",
    "\n",
    "print(type(pk1), pk1)  #here we could see what is the type of pk1! \n",
    "\n",
    "#Accessing attributes through the objects! \n",
    "\n",
    "pk1. #dot is the way to access or interact with the methods and attributes!! "
   ]
  },
  {
   "cell_type": "code",
   "execution_count": 8,
   "id": "5287373e",
   "metadata": {},
   "outputs": [
    {
     "ename": "NameError",
     "evalue": "name 'pk1' is not defined",
     "output_type": "error",
     "traceback": [
      "\u001b[0;31m---------------------------------------------------------------------------\u001b[0m",
      "\u001b[0;31mNameError\u001b[0m                                 Traceback (most recent call last)",
      "\u001b[0;32m/tmp/ipykernel_3716357/626886689.py\u001b[0m in \u001b[0;36m<module>\u001b[0;34m\u001b[0m\n\u001b[0;32m----> 1\u001b[0;31m \u001b[0mprint\u001b[0m\u001b[0;34m(\u001b[0m\u001b[0mpk1\u001b[0m\u001b[0;34m.\u001b[0m\u001b[0mname\u001b[0m\u001b[0;34m)\u001b[0m \u001b[0;31m#Since we already updated our attributes to the object pk1, it is done already!\u001b[0m\u001b[0;34m\u001b[0m\u001b[0;34m\u001b[0m\u001b[0m\n\u001b[0m",
      "\u001b[0;31mNameError\u001b[0m: name 'pk1' is not defined"
     ]
    }
   ],
   "source": [
    "print(pk1.name) #Since we already updated our attributes to the object pk1, it is done already! "
   ]
  },
  {
   "cell_type": "code",
   "execution_count": 9,
   "id": "fdfa12f3",
   "metadata": {},
   "outputs": [
    {
     "ename": "NameError",
     "evalue": "name 'pk1' is not defined",
     "output_type": "error",
     "traceback": [
      "\u001b[0;31m---------------------------------------------------------------------------\u001b[0m",
      "\u001b[0;31mNameError\u001b[0m                                 Traceback (most recent call last)",
      "\u001b[0;32m/tmp/ipykernel_3716357/3096932362.py\u001b[0m in \u001b[0;36m<module>\u001b[0;34m\u001b[0m\n\u001b[1;32m      1\u001b[0m \u001b[0;31m#We can also change the attribute name!\u001b[0m\u001b[0;34m\u001b[0m\u001b[0;34m\u001b[0m\u001b[0;34m\u001b[0m\u001b[0m\n\u001b[1;32m      2\u001b[0m \u001b[0;34m\u001b[0m\u001b[0m\n\u001b[0;32m----> 3\u001b[0;31m \u001b[0mpk1\u001b[0m\u001b[0;34m.\u001b[0m\u001b[0mname\u001b[0m \u001b[0;34m=\u001b[0m \u001b[0;34m'fluxy'\u001b[0m\u001b[0;34m\u001b[0m\u001b[0;34m\u001b[0m\u001b[0m\n\u001b[0m",
      "\u001b[0;31mNameError\u001b[0m: name 'pk1' is not defined"
     ]
    }
   ],
   "source": [
    "#We can also change the attribute name! \n",
    "\n",
    "pk1.name = 'fluxy'\n"
   ]
  },
  {
   "cell_type": "code",
   "execution_count": 10,
   "id": "3ed4d4e6",
   "metadata": {},
   "outputs": [
    {
     "ename": "NameError",
     "evalue": "name 'pk1' is not defined",
     "output_type": "error",
     "traceback": [
      "\u001b[0;31m---------------------------------------------------------------------------\u001b[0m",
      "\u001b[0;31mNameError\u001b[0m                                 Traceback (most recent call last)",
      "\u001b[0;32m/tmp/ipykernel_3716357/512061023.py\u001b[0m in \u001b[0;36m<module>\u001b[0;34m\u001b[0m\n\u001b[0;32m----> 1\u001b[0;31m \u001b[0mprint\u001b[0m\u001b[0;34m(\u001b[0m\u001b[0mpk1\u001b[0m\u001b[0;34m.\u001b[0m\u001b[0mname\u001b[0m\u001b[0;34m,\u001b[0m\u001b[0mpk1\u001b[0m\u001b[0;34m.\u001b[0m\u001b[0mType\u001b[0m\u001b[0;34m,\u001b[0m\u001b[0mpk1\u001b[0m\u001b[0;34m.\u001b[0m\u001b[0mhealth\u001b[0m\u001b[0;34m)\u001b[0m \u001b[0;31m#see here name has been changed!\u001b[0m\u001b[0;34m\u001b[0m\u001b[0;34m\u001b[0m\u001b[0m\n\u001b[0m",
      "\u001b[0;31mNameError\u001b[0m: name 'pk1' is not defined"
     ]
    }
   ],
   "source": [
    "print(pk1.name,pk1.Type,pk1.health) #see here name has been changed! "
   ]
  },
  {
   "cell_type": "code",
   "execution_count": 11,
   "id": "7c2120e9",
   "metadata": {},
   "outputs": [
    {
     "ename": "NameError",
     "evalue": "name 'pk1' is not defined",
     "output_type": "error",
     "traceback": [
      "\u001b[0;31m---------------------------------------------------------------------------\u001b[0m",
      "\u001b[0;31mNameError\u001b[0m                                 Traceback (most recent call last)",
      "\u001b[0;32m/tmp/ipykernel_3716357/4106216068.py\u001b[0m in \u001b[0;36m<module>\u001b[0;34m\u001b[0m\n\u001b[1;32m      1\u001b[0m \u001b[0;31m#we also access the methods/functions through the objects!\u001b[0m\u001b[0;34m\u001b[0m\u001b[0;34m\u001b[0m\u001b[0;34m\u001b[0m\u001b[0m\n\u001b[0;32m----> 2\u001b[0;31m \u001b[0mpk1\u001b[0m\u001b[0;34m.\u001b[0m\u001b[0mattack\u001b[0m\u001b[0;34m(\u001b[0m\u001b[0;34m)\u001b[0m\u001b[0;34m\u001b[0m\u001b[0;34m\u001b[0m\u001b[0m\n\u001b[0m\u001b[1;32m      3\u001b[0m \u001b[0mpk1\u001b[0m\u001b[0;34m.\u001b[0m\u001b[0mdodge\u001b[0m\u001b[0;34m(\u001b[0m\u001b[0;34m)\u001b[0m\u001b[0;34m\u001b[0m\u001b[0;34m\u001b[0m\u001b[0m\n\u001b[1;32m      4\u001b[0m \u001b[0mpk1\u001b[0m\u001b[0;34m.\u001b[0m\u001b[0mevolve\u001b[0m\u001b[0;34m(\u001b[0m\u001b[0;34m)\u001b[0m \u001b[0;31m#since we are calling each methods, it shows up here!\u001b[0m\u001b[0;34m\u001b[0m\u001b[0;34m\u001b[0m\u001b[0m\n",
      "\u001b[0;31mNameError\u001b[0m: name 'pk1' is not defined"
     ]
    }
   ],
   "source": [
    "#we also access the methods/functions through the objects!\n",
    "pk1.attack()\n",
    "pk1.dodge()\n",
    "pk1.evolve() #since we are calling each methods, it shows up here! "
   ]
  },
  {
   "cell_type": "markdown",
   "id": "01b453e9",
   "metadata": {},
   "source": [
    "# Inheritence \n",
    "\n",
    "One of the key concepts in the OOPS is inheritence! Overall idea is, Being a child class, Inheritence is to get the common features from the parent class! "
   ]
  },
  {
   "cell_type": "code",
   "execution_count": 12,
   "id": "1e7e1f53",
   "metadata": {},
   "outputs": [
    {
     "data": {
      "text/plain": [
       "'4'"
      ]
     },
     "execution_count": 12,
     "metadata": {},
     "output_type": "execute_result"
    }
   ],
   "source": [
    "class Car(): #Here its parent class aka super class! Class under the superclass is called sub-class aka child class!\n",
    "    \n",
    "    def __init__(self,ndoors,nwheels,tailLight,headLight):\n",
    "        self.ndoors = ndoors\n",
    "        self.nwheels = nwheels\n",
    "        self.headLight = headLight\n",
    "        self.tailLight = tailLight\n",
    "        \n",
    "#here, we have a Car class which is parent class we know!\n",
    "\n",
    "class McLaren(Car): #Here McLaren is a parent class and it takes the features from the parent class called Car! \n",
    "    \n",
    "    def __init__(self,ndoors,nwheels,tailLight,headLight,Engine,wheel_drive):\n",
    "        Car.__init__(self,ndoors,nwheels,tailLight,headLight)\n",
    "        self.Engine = Engine\n",
    "        self.wheel_drive = wheel_drive\n",
    "        \n",
    "    def Drive(self):\n",
    "        print('I am driving a McLaren Model Car')\n",
    "        \n",
    "#As we see here McLaren is the class which inherits the features from Car class!\n",
    "\n",
    "mk1 = McLaren('4','4','yes','yes','V8','AWD')\n",
    "mk1.Engine\n",
    "mk1.nwheels\n",
    "\n",
    "#See that the features of Car can be accessed here in McLaren class!"
   ]
  },
  {
   "cell_type": "code",
   "execution_count": 13,
   "id": "57fc4e2d",
   "metadata": {},
   "outputs": [],
   "source": [
    "#Few onspot Exercies! \n",
    "#Create a class called Dog and it has two attributes and two methods called \"sit,roll_over!\" and create \n",
    "#objects and set the attributes to it! "
   ]
  },
  {
   "cell_type": "code",
   "execution_count": 14,
   "id": "e8ab9d20",
   "metadata": {},
   "outputs": [
    {
     "name": "stdout",
     "output_type": "stream",
     "text": [
      "<class '__main__.Dog'> <class '__main__.Dog'>\n",
      "Hey dog1 age is  15\n",
      "james rolled over\n",
      "Alex is now sitting\n"
     ]
    }
   ],
   "source": [
    "class Dog():\n",
    "    \n",
    "    def __init__(self,name,age):\n",
    "        \"\"\"Initialize name and age attributes!\"\"\"\n",
    "        self.name = name\n",
    "        self.age = age \n",
    "        \n",
    "    def sit(self):\n",
    "        \"\"\"Simulate a dog sitting in response to a command\"\"\"\n",
    "        print(f'{self.name} is now sitting')\n",
    "        \n",
    "    def roll_over(self):\n",
    "        \"\"\"simulate rolling over in a responce to a command\"\"\"\n",
    "        print(f'{self.name} rolled over')\n",
    "        \n",
    "dog1= Dog('james',15)\n",
    "dog2 = Dog('Alex',5) #here we created multiple instances! \n",
    "\n",
    "print(type(dog1),type(dog2)) #Here two instances has been created under the class \"DOG\" and respective attributes \n",
    "#are created!\n",
    "\n",
    "print('Hey dog1 age is ', dog1.age)\n",
    "        \n",
    "#you can also access the methods through these objects!\n",
    "dog1.roll_over()\n",
    "dog2.sit() #Here it calls the respective methods through the objects!\n"
   ]
  },
  {
   "cell_type": "markdown",
   "id": "8f5a4134",
   "metadata": {},
   "source": [
    "#OnSpot Excercises \n",
    "1) Make a restaurant class and it has initalization (__init__()) method and has two attributes name, cuisine type,\n",
    "and write a method and it describes what restaurant it is  and anther method open_res(), that says it is open.\n",
    "\n",
    "create an instance from the class restaurant and print two attributes and call both methods!  "
   ]
  },
  {
   "cell_type": "code",
   "execution_count": 15,
   "id": "ddc1f6c7",
   "metadata": {},
   "outputs": [
    {
     "ename": "TypeError",
     "evalue": "__init__() missing 2 required positional arguments: 'res_name' and 'cuisine_type'",
     "output_type": "error",
     "traceback": [
      "\u001b[0;31m---------------------------------------------------------------------------\u001b[0m",
      "\u001b[0;31mTypeError\u001b[0m                                 Traceback (most recent call last)",
      "\u001b[0;32m/tmp/ipykernel_3716357/2174009557.py\u001b[0m in \u001b[0;36m<module>\u001b[0;34m\u001b[0m\n\u001b[1;32m     13\u001b[0m \u001b[0;34m\u001b[0m\u001b[0m\n\u001b[1;32m     14\u001b[0m \u001b[0;34m\u001b[0m\u001b[0m\n\u001b[0;32m---> 15\u001b[0;31m \u001b[0mr1\u001b[0m \u001b[0;34m=\u001b[0m \u001b[0mRestaraunt\u001b[0m\u001b[0;34m(\u001b[0m\u001b[0;34m)\u001b[0m \u001b[0;31m#It gives error cuz we haven't provided the paramters !\u001b[0m\u001b[0;34m\u001b[0m\u001b[0;34m\u001b[0m\u001b[0m\n\u001b[0m",
      "\u001b[0;31mTypeError\u001b[0m: __init__() missing 2 required positional arguments: 'res_name' and 'cuisine_type'"
     ]
    }
   ],
   "source": [
    "class Restaraunt():\n",
    "    \n",
    "    def __init__(self,res_name,cuisine_type):\n",
    "        self.res_name = res_name\n",
    "        self.cuisine_type = cuisine_type\n",
    "        \n",
    "    def about_res(self):\n",
    "        print('Hey we are ', self.res_name)\n",
    "        print(f'We provide {self.cuisine_type} dishes here! Have a nice day!')\n",
    "        \n",
    "    def opening(self):\n",
    "        print(\"Hey we are opening, so please do come and spend good times with fam\")\n",
    "        \n",
    "    \n",
    "r1 = Restaraunt() #It gives error cuz we haven't provided the paramters !"
   ]
  },
  {
   "cell_type": "code",
   "execution_count": 16,
   "id": "4e2f93fe",
   "metadata": {},
   "outputs": [],
   "source": [
    "r1 = Restaraunt('Flux','Mexican')"
   ]
  },
  {
   "cell_type": "code",
   "execution_count": 17,
   "id": "dca28144",
   "metadata": {},
   "outputs": [
    {
     "name": "stdout",
     "output_type": "stream",
     "text": [
      "Hey we are  Flux\n",
      "We provide Mexican dishes here! Have a nice day!\n",
      "Hey we are opening, so please do come and spend good times with fam\n"
     ]
    }
   ],
   "source": [
    "r1.about_res()\n",
    "r1.opening()"
   ]
  },
  {
   "cell_type": "code",
   "execution_count": 18,
   "id": "0d28dacf",
   "metadata": {},
   "outputs": [
    {
     "name": "stdout",
     "output_type": "stream",
     "text": [
      "2019 Audi A4\n"
     ]
    }
   ],
   "source": [
    "class Car:\n",
    "    \n",
    "    \"\"\"a simple attempt to represnt a car\"\"\"\n",
    "    \n",
    "    def __init__(self,make,model,year):\n",
    "        \"\"\"initialize attributes to describe a car\"\"\"\n",
    "        \n",
    "        self.make = make\n",
    "        self.model = model\n",
    "        self.year = year\n",
    "        \n",
    "    def get_full_name(self):\n",
    "        \"\"\"return a neatly formatted full name\"\"\"\n",
    "        \n",
    "        long_name = f'{self.year} {self.make} {self.model}'\n",
    "        return long_name.title()\n",
    "    \n",
    "newcar = Car('audi','a4',2019)\n",
    "print(newcar.get_full_name()) \n",
    "#As we know that all the attributes can be acccessed through the instance we create from the class!~\n",
    "    \n",
    "        \n",
    "        "
   ]
  },
  {
   "cell_type": "code",
   "execution_count": 19,
   "id": "5a2cc90b",
   "metadata": {},
   "outputs": [
    {
     "name": "stdout",
     "output_type": "stream",
     "text": [
      "2020 Audi A45\n"
     ]
    }
   ],
   "source": [
    "#We can als set default value\n",
    "\n",
    "class Carx:\n",
    "    \n",
    "    def __init__(self,make,model,year):\n",
    "        \"\"\"initialize attributes to describe a car\"\"\"\n",
    "        \n",
    "        self.make = make \n",
    "        self.model = model\n",
    "        self.year = year\n",
    "        self.odometer_reading = 0 #Here we set a default value like we did in the function!\n",
    "        \n",
    "        \n",
    "    def get_full_name(self):\n",
    "        \"\"\"return a neatly formatted full name\"\"\"\n",
    "        \n",
    "        long_name = f'{self.year} {self.make} {self.model}'\n",
    "        return long_name.title()\n",
    "    \n",
    "    def reading_speed(self):\n",
    "        \"\"\"print a statement showing the car's mileage\"\"\"\n",
    "        \n",
    "        print(f'The car has {self.odometer_reading} miles on it')\n",
    "        \n",
    "        \n",
    "c1 = Carx('audi','a45',2020)\n",
    "print(c1.get_full_name())\n",
    "#print(c1.odometer_reading())"
   ]
  },
  {
   "cell_type": "code",
   "execution_count": 20,
   "id": "4dd31611",
   "metadata": {},
   "outputs": [
    {
     "name": "stdout",
     "output_type": "stream",
     "text": [
      "The car has 0 miles on it\n"
     ]
    }
   ],
   "source": [
    "c1.reading_speed() #now we see it works! "
   ]
  },
  {
   "cell_type": "code",
   "execution_count": 21,
   "id": "1ef1439b",
   "metadata": {},
   "outputs": [],
   "source": [
    "#We can also modify the attribute just like python variable setting! \n",
    "c2 = Carx('bmw','xxa',2020)\n"
   ]
  },
  {
   "cell_type": "code",
   "execution_count": 22,
   "id": "cf533cea",
   "metadata": {},
   "outputs": [
    {
     "name": "stdout",
     "output_type": "stream",
     "text": [
      "The car has 100 miles on it\n"
     ]
    }
   ],
   "source": [
    "c2.odometer_reading = 100\n",
    "c2.reading_speed() #see it changed! "
   ]
  },
  {
   "cell_type": "code",
   "execution_count": 23,
   "id": "03aac4ab",
   "metadata": {},
   "outputs": [
    {
     "name": "stdout",
     "output_type": "stream",
     "text": [
      "The car has 0 miles on it\n"
     ]
    }
   ],
   "source": [
    "#Modifying the attribute through the method we can have it in the class! \n",
    "\n",
    "class Cary:\n",
    "    \n",
    "    def __init__(self,make,model,year):\n",
    "        \"\"\"initialize attributes to describe a car\"\"\"\n",
    "        \n",
    "        self.make = make \n",
    "        self.model = model\n",
    "        self.year = year\n",
    "        self.odometer_reading = 0 #Here we set a default value like we did in the function!\n",
    "        \n",
    "        \n",
    "    def get_full_name(self):\n",
    "        \"\"\"return a neatly formatted full name\"\"\"\n",
    "        \n",
    "        long_name = f'{self.year} {self.make} {self.model}'\n",
    "        return long_name.title()\n",
    "    \n",
    "    def reading_speed(self):\n",
    "        \"\"\"print a statement showing the car's mileage\"\"\"\n",
    "        \n",
    "        print(f'The car has {self.odometer_reading} miles on it')\n",
    "        \n",
    "    def update_odometer(self,mileage):\n",
    "        \"\"\"it sets the odometer reading to the given value\"\"\"\n",
    "        \n",
    "        self.odometer_reading = mileage\n",
    "        \n",
    "        \n",
    "c3 = Cary('toyota','xcva',2300)\n",
    "c3.reading_speed() #Since we didnt set any new value it takes the default ones "
   ]
  },
  {
   "cell_type": "code",
   "execution_count": 24,
   "id": "928af911",
   "metadata": {},
   "outputs": [],
   "source": [
    "#We can also change the value through the method! \n",
    "\n",
    "c3.update_odometer(1000)"
   ]
  },
  {
   "cell_type": "code",
   "execution_count": 25,
   "id": "55f2cf44",
   "metadata": {},
   "outputs": [
    {
     "name": "stdout",
     "output_type": "stream",
     "text": [
      "The car has 1000 miles on it\n"
     ]
    }
   ],
   "source": [
    "c3.reading_speed() #See it got changed!"
   ]
  },
  {
   "cell_type": "markdown",
   "id": "cfcd0382",
   "metadata": {},
   "source": [
    "againg inheritence concepts!! \n",
    "\n",
    "the main aim of imheritence is just to create a relationship betweem two classes!, by doing this we can create \n",
    "a new class without making any changes to an already existing class\n",
    "\n",
    "1) We refer to the new class as the derived (child) class, and the class which it inherits is called the base (parent) class, A base class is also called a superclass. \n",
    "\n",
    "On otherhand we call the subclass/subtype.\n",
    "\n",
    "class baseClass:\n",
    "\n",
    "       <<<<>>>>>\n",
    "       \n",
    "class derivedClass(baseClass):\n",
    "\n",
    "       <<<<<>>>>>>\n",
    "       \n",
    "       "
   ]
  },
  {
   "cell_type": "code",
   "execution_count": 26,
   "id": "40e42442",
   "metadata": {},
   "outputs": [],
   "source": [
    "class shapes: \n",
    "    \n",
    "    def __init__(self,no_sides):\n",
    "        self.n = no_sides\n",
    "        self.sides = [0 for i in range(no_sides)]\n",
    "        \n",
    "    def takeSides(self):\n",
    "        self.sides = [float(input('enter side' + str(i+1) + \" : \")) for i in range(self.n)]\n",
    "        \n",
    "    def disSides(self):\n",
    "        for i in range(self.n):\n",
    "            print('Side', i+1, 'is', self.sides[i])\n",
    "            \n"
   ]
  },
  {
   "cell_type": "code",
   "execution_count": 27,
   "id": "beb6abd5",
   "metadata": {},
   "outputs": [],
   "source": [
    "c1 = shapes(10)"
   ]
  },
  {
   "cell_type": "code",
   "execution_count": 28,
   "id": "660c34a5",
   "metadata": {},
   "outputs": [
    {
     "name": "stdout",
     "output_type": "stream",
     "text": [
      "enter side1 : 1\n",
      "enter side2 : 2\n",
      "enter side3 : 3\n",
      "enter side4 : 4\n",
      "enter side5 : 5\n",
      "enter side6 : 6\n",
      "enter side7 : 7\n",
      "enter side8 : 8\n",
      "enter side9 : 9\n",
      "enter side10 : 10\n"
     ]
    }
   ],
   "source": [
    "c1.takeSides()"
   ]
  },
  {
   "cell_type": "code",
   "execution_count": 29,
   "id": "0efd3ba5",
   "metadata": {},
   "outputs": [
    {
     "name": "stdout",
     "output_type": "stream",
     "text": [
      "Side 1 is 1.0\n",
      "Side 2 is 2.0\n",
      "Side 3 is 3.0\n",
      "Side 4 is 4.0\n",
      "Side 5 is 5.0\n",
      "Side 6 is 6.0\n",
      "Side 7 is 7.0\n",
      "Side 8 is 8.0\n",
      "Side 9 is 9.0\n",
      "Side 10 is 10.0\n"
     ]
    }
   ],
   "source": [
    "c1.disSides()"
   ]
  },
  {
   "cell_type": "code",
   "execution_count": 30,
   "id": "d9788bcc",
   "metadata": {},
   "outputs": [],
   "source": [
    "class Market:\n",
    "    \n",
    "    def __init__(self, name, items, address):\n",
    "        self.name = name  #String \n",
    "        self.items = items  #list \n",
    "        self.address = address  #string \n",
    "        \n",
    "    def display(self):\n",
    "        print('hi my name is', self.name)\n",
    "        print('The items you ordered are', self.items)\n",
    "        print('Address is ', self.address)\n",
    "        "
   ]
  },
  {
   "cell_type": "code",
   "execution_count": 31,
   "id": "8dc9344b",
   "metadata": {},
   "outputs": [],
   "source": [
    "persion1 = Market('Dane',['a','b','c'],'Gagarina-27')"
   ]
  },
  {
   "cell_type": "code",
   "execution_count": 32,
   "id": "958061d1",
   "metadata": {},
   "outputs": [
    {
     "name": "stdout",
     "output_type": "stream",
     "text": [
      "hi my name is Dane\n",
      "The items you ordered are ['a', 'b', 'c']\n",
      "Address is  Gagarina-27\n"
     ]
    }
   ],
   "source": [
    "persion1.display()"
   ]
  },
  {
   "cell_type": "code",
   "execution_count": 33,
   "id": "b27c724b",
   "metadata": {},
   "outputs": [
    {
     "name": "stdout",
     "output_type": "stream",
     "text": [
      "Name is  XXX\n",
      "Class is  AU\n",
      "Toral score is  0\n"
     ]
    }
   ],
   "source": [
    "class Students:\n",
    "    \n",
    "    def __init__(self,name,classx):\n",
    "        \n",
    "        self.name = name \n",
    "        self.classx = classx\n",
    "        self.add = 0 #We can add this later after defining the score method, so that you can understand! \n",
    "\n",
    "    def score(self,*marks):\n",
    "        self.add = 0\n",
    "        for i in marks:\n",
    "            self.add += i\n",
    "        \n",
    "            \n",
    "    def display(self):\n",
    "        print('Name is ', self.name)\n",
    "        print('Class is ', self.classx)\n",
    "        print('Toral score is ', self.add)\n",
    "\n",
    "s1 = Students('XXX','AU')\n",
    "\n",
    "s1.display()"
   ]
  },
  {
   "cell_type": "code",
   "execution_count": 34,
   "id": "b89cdef7",
   "metadata": {},
   "outputs": [],
   "source": [
    "s1.score(10,20,30)"
   ]
  },
  {
   "cell_type": "code",
   "execution_count": 35,
   "id": "0b653bcf",
   "metadata": {},
   "outputs": [
    {
     "name": "stdout",
     "output_type": "stream",
     "text": [
      "Name is  XXX\n",
      "Class is  AU\n",
      "Toral score is  60\n"
     ]
    }
   ],
   "source": [
    "s1.display()"
   ]
  },
  {
   "cell_type": "code",
   "execution_count": 36,
   "id": "82be8049",
   "metadata": {},
   "outputs": [
    {
     "data": {
      "text/plain": [
       "30"
      ]
     },
     "execution_count": 36,
     "metadata": {},
     "output_type": "execute_result"
    }
   ],
   "source": [
    "#Simple example! \n",
    "\n",
    "class Add():\n",
    "    \n",
    "    def __init__(self,a,b):\n",
    "        self.a = a \n",
    "        self.b = b\n",
    "        \n",
    "    def display(self):\n",
    "        return self.a + self.b\n",
    "    \n",
    "a = Add(10,20)\n",
    "a.display()"
   ]
  },
  {
   "cell_type": "code",
   "execution_count": 37,
   "id": "0b1933a1",
   "metadata": {},
   "outputs": [
    {
     "data": {
      "text/plain": [
       "-10"
      ]
     },
     "execution_count": 37,
     "metadata": {},
     "output_type": "execute_result"
    }
   ],
   "source": [
    "class Minus:\n",
    "    \n",
    "    def __init__(self,c,d):\n",
    "        self.c = c\n",
    "        self.d = d\n",
    "        \n",
    "    def displaym(self):\n",
    "        return self.c - self.d\n",
    "    \n",
    "m1 = Minus(20,30)\n",
    "m1.displaym()"
   ]
  },
  {
   "cell_type": "code",
   "execution_count": 38,
   "id": "4a46244c",
   "metadata": {},
   "outputs": [
    {
     "data": {
      "text/plain": [
       "10000"
      ]
     },
     "execution_count": 38,
     "metadata": {},
     "output_type": "execute_result"
    }
   ],
   "source": [
    "#Inheritence example!! \n",
    "\n",
    "class Trainangle():\n",
    "    \n",
    "    def __init__(self,a,b,c):\n",
    "        self.a = a\n",
    "        self.b = b \n",
    "        self.c = c\n",
    "        \n",
    "    def area_t(self):\n",
    "        return (self.a * self.b * self.c)\n",
    "    \n",
    "class Square(Trainangle):\n",
    "    \n",
    "    def __init__(self,x):\n",
    "        self.x = x\n",
    "        \n",
    "    def area_s(self):\n",
    "        return self.x * self.x\n",
    "    \n",
    "\n",
    "s2 = Square(100)\n",
    "s2.area_s()"
   ]
  },
  {
   "cell_type": "code",
   "execution_count": 39,
   "id": "51440109",
   "metadata": {},
   "outputs": [
    {
     "ename": "TypeError",
     "evalue": "area_t() takes 1 positional argument but 4 were given",
     "output_type": "error",
     "traceback": [
      "\u001b[0;31m---------------------------------------------------------------------------\u001b[0m",
      "\u001b[0;31mTypeError\u001b[0m                                 Traceback (most recent call last)",
      "\u001b[0;32m/tmp/ipykernel_3716357/3994024466.py\u001b[0m in \u001b[0;36m<module>\u001b[0;34m\u001b[0m\n\u001b[0;32m----> 1\u001b[0;31m \u001b[0ms2\u001b[0m\u001b[0;34m.\u001b[0m\u001b[0marea_t\u001b[0m\u001b[0;34m(\u001b[0m\u001b[0;36m10\u001b[0m\u001b[0;34m,\u001b[0m\u001b[0;36m20\u001b[0m\u001b[0;34m,\u001b[0m\u001b[0;36m30\u001b[0m\u001b[0;34m)\u001b[0m\u001b[0;34m\u001b[0m\u001b[0;34m\u001b[0m\u001b[0m\n\u001b[0m",
      "\u001b[0;31mTypeError\u001b[0m: area_t() takes 1 positional argument but 4 were given"
     ]
    }
   ],
   "source": [
    "s2.area_t(10,20,30)"
   ]
  },
  {
   "cell_type": "code",
   "execution_count": 40,
   "id": "8f6c95bc",
   "metadata": {},
   "outputs": [
    {
     "name": "stdout",
     "output_type": "stream",
     "text": [
      "Inside Vehicle Class\n",
      "Inside car class\n"
     ]
    }
   ],
   "source": [
    "#Single inheritence!!!! \n",
    "#base class \n",
    "\n",
    "class Vehicle:\n",
    "    \n",
    "    def Vehicle_info(self):\n",
    "        print('Inside Vehicle Class')\n",
    "        \n",
    "class Car(Vehicle): #Here you could see the subclass inherited from Vehicle! \n",
    "\n",
    "    def car_info(self):\n",
    "        print('Inside car class')\n",
    "        \n",
    "c = Car() #Here instance c created through the child/sub class \"CAR\"\n",
    "c.Vehicle_info()\n",
    "c.car_info() #Here you can see the method from the Vehicle can be accessed here through the instance created from Car class!"
   ]
  },
  {
   "cell_type": "code",
   "execution_count": 41,
   "id": "07cec61b",
   "metadata": {},
   "outputs": [
    {
     "name": "stdout",
     "output_type": "stream",
     "text": [
      "Inside person class\n",
      "Name  Jessa Age  28\n",
      "Inside the company class\n",
      "Name: Google location: Atlanta\n",
      "Inside Employee class\n",
      "Salary :  12000 Skill: ML\n"
     ]
    }
   ],
   "source": [
    "#Multiple inheritence!! \n",
    "\n",
    "class Person: #parent class 1! \n",
    "    \n",
    "    def person_info(self,name,age):\n",
    "        print('Inside person class')\n",
    "        print('Name ', name, 'Age ', age)\n",
    "        \n",
    "    \n",
    "class Company: #parent class 2 \n",
    "    \n",
    "    def company_info(self,company_name,location):\n",
    "        print('Inside the company class')\n",
    "        print('Name:', company_name, 'location:', location)\n",
    "        \n",
    "        \n",
    "class Employee(Person, Company): #Here we do see that child class got inherited by two parent classes! \n",
    "    \n",
    "    def Employee_info(self,salary,skill):\n",
    "        print('Inside Employee class')\n",
    "        print('Salary : ', salary, 'Skill:', skill)\n",
    "        \n",
    "emp = Employee() #Here instance emp got created by Employee class and it has two inheritence by Person, Company! \n",
    "\n",
    "emp.person_info('Jessa',28)\n",
    "emp.company_info('Google','Atlanta')\n",
    "emp.Employee_info(12000,'ML')"
   ]
  },
  {
   "cell_type": "markdown",
   "id": "e7ed9bc8",
   "metadata": {},
   "source": [
    "#As a beginner, you need to know only these 2 not more than that, once you are comfortable with it, learn others!!\n",
    "#Encapsulation and Polymorphism! These two I am not taking it but I can tell what it is ..............\n",
    "\n",
    "Python is polymorphic. This means that a single operator, function, or class method in Python can have multiple uses.\n",
    "\n",
    "Encapsulation in Python describes the concept of bundling data and methods within a single unit. So, for example, when you create a class, it means you are implementing encapsulation. A class is an example of encapsulation as it binds all the data members (instance variables) and methods into a single unit."
   ]
  },
  {
   "cell_type": "markdown",
   "id": "9ba3abef",
   "metadata": {},
   "source": [
    "self is used to represent the instance of the class, with this keyword we can access the attributes and methods of the class! \n",
    "\n",
    "SELF represents the instance of class. This handy keyword allows you to access variables, attributes, and methods of a defined class in Python.\n",
    "\n",
    "However, the self parameter must always be the first parameter of any class function, regardless of the name chosen. So instead of self, you could use “Mine” or “Ours” or anything else.\n",
    "\n",
    "we added the class constructor (_init_). This class constructor allows us to create instances of Fruits that have two attributes, namely, color and type."
   ]
  },
  {
   "cell_type": "code",
   "execution_count": 42,
   "id": "7c6a9206",
   "metadata": {},
   "outputs": [],
   "source": [
    "class Damn:\n",
    "    \n",
    "    def __init__(flux,name,height):\n",
    "        flux.name = name \n",
    "        flux.height = height \n",
    "        \n",
    "    def methodx(xxx):\n",
    "        print(xxx.name, xxx.height)\n",
    "        \n",
    "d = Damn('FLUX',100) #Here d is acting as self keyword! To create an instance, we use self keyword!!"
   ]
  },
  {
   "cell_type": "code",
   "execution_count": 43,
   "id": "5fcb5c39",
   "metadata": {},
   "outputs": [
    {
     "name": "stdout",
     "output_type": "stream",
     "text": [
      "FLUX 100\n"
     ]
    }
   ],
   "source": [
    "d.methodx() #See here its done by doing the instance initialization by any name!!!"
   ]
  },
  {
   "cell_type": "markdown",
   "id": "211590cf",
   "metadata": {},
   "source": [
    "#Polymorphism defines the ability to take different forms, Polymorphism allows us to define methods in the child class with the same name as defined in their parent class! \n",
    "\n",
    "Polymorphism - poly(many), morphism(forms)!! \n",
    "\n",
    "It means that the same function name can be used for different types! "
   ]
  },
  {
   "cell_type": "code",
   "execution_count": 44,
   "id": "88274df2",
   "metadata": {},
   "outputs": [
    {
     "name": "stdout",
     "output_type": "stream",
     "text": [
      "Vegetable\n",
      "Red\n"
     ]
    }
   ],
   "source": [
    "class Tomato():\n",
    "    \n",
    "    def types(self):\n",
    "        print('Vegetable')\n",
    "        \n",
    "    def color(self):\n",
    "        print('Red')\n",
    "        \n",
    "class Apple(): #here you could see the methods name we used here are similar/same as the methods in tomato! \n",
    "    \n",
    "    def types(self):\n",
    "        print('Fruit')\n",
    "        \n",
    "    def color(self):\n",
    "        print('Red')\n",
    "        \n",
    "t1 = Tomato()\n",
    "t1.types()\n",
    "t1.color()"
   ]
  },
  {
   "cell_type": "code",
   "execution_count": 45,
   "id": "d9364cfa",
   "metadata": {},
   "outputs": [
    {
     "name": "stdout",
     "output_type": "stream",
     "text": [
      "Fruit\n",
      "Red\n"
     ]
    }
   ],
   "source": [
    "t2 = Apple()\n",
    "t2.types()\n",
    "t2.color()"
   ]
  },
  {
   "cell_type": "code",
   "execution_count": 46,
   "id": "8df10a40",
   "metadata": {},
   "outputs": [],
   "source": [
    "#Encapsulation in Python! "
   ]
  },
  {
   "cell_type": "markdown",
   "id": "13111a32",
   "metadata": {},
   "source": [
    "The process of wrapping up variables (attributes) and methods in a single entity is known as encapsulation,  as we see here class is behaving like a encapsulated tablet! for instance you could consider this as capsule tablet, where we coould see all the methods and attributes will be stored inside the magic box! \n",
    "\n",
    "It acts as a protective shield that puts restrictions while someones accessing the variables and methods directly! it can prevent accidental and unauthorized modification of data! \n",
    "\n",
    "#We have several access modifiers and that could prevent such accession! it limits to variables and functions of the class! \n",
    "\n",
    "We have private, public, protected! \n"
   ]
  },
  {
   "cell_type": "code",
   "execution_count": 47,
   "id": "46872313",
   "metadata": {},
   "outputs": [],
   "source": [
    "#When you dont explicity define what way of protection for accession.. python class takes it as public data member! "
   ]
  },
  {
   "cell_type": "code",
   "execution_count": 48,
   "id": "45cc8660",
   "metadata": {},
   "outputs": [
    {
     "name": "stdout",
     "output_type": "stream",
     "text": [
      "Project :  Python\n",
      "Flux\n",
      "Python\n"
     ]
    }
   ],
   "source": [
    "class Enscapsulation:\n",
    "    \n",
    "    #As we know it is constructor! \n",
    "    def __init__(self,name,project):\n",
    "        self.name = name \n",
    "        self.project = project \n",
    "        \n",
    "    def displayProject(self):\n",
    "        #accessing public data member! \n",
    "        print('Project : ', self.project)\n",
    "     \n",
    "    \n",
    "#e1 here is object\n",
    "e1 = Enscapsulation('Flux','Python')\n",
    "e1.displayProject() \n",
    "\n",
    "\n",
    "#How to access the instance variables, since we did not do any protectors to not to access! \n",
    "print(e1.name)\n",
    "print(e1.project) #here we see that we can access them through the objects! "
   ]
  },
  {
   "cell_type": "markdown",
   "id": "79d5f7c4",
   "metadata": {},
   "source": [
    "#Protected members!  -- are accessible within the class and also available to its sub-classes!! to Define a protected memember, prefix the member name with a single underscore!"
   ]
  },
  {
   "cell_type": "code",
   "execution_count": 49,
   "id": "1eea149e",
   "metadata": {},
   "outputs": [
    {
     "ename": "AttributeError",
     "evalue": "'Enscapsulation1' object has no attribute 'project'",
     "output_type": "error",
     "traceback": [
      "\u001b[0;31m---------------------------------------------------------------------------\u001b[0m",
      "\u001b[0;31mAttributeError\u001b[0m                            Traceback (most recent call last)",
      "\u001b[0;32m/tmp/ipykernel_3716357/3378056663.py\u001b[0m in \u001b[0;36m<module>\u001b[0;34m\u001b[0m\n\u001b[1;32m     13\u001b[0m \u001b[0;31m#e1 here is object\u001b[0m\u001b[0;34m\u001b[0m\u001b[0;34m\u001b[0m\u001b[0;34m\u001b[0m\u001b[0m\n\u001b[1;32m     14\u001b[0m \u001b[0me2\u001b[0m \u001b[0;34m=\u001b[0m \u001b[0mEnscapsulation1\u001b[0m\u001b[0;34m(\u001b[0m\u001b[0;34m'Flux'\u001b[0m\u001b[0;34m,\u001b[0m\u001b[0;34m'Python'\u001b[0m\u001b[0;34m)\u001b[0m\u001b[0;34m\u001b[0m\u001b[0;34m\u001b[0m\u001b[0m\n\u001b[0;32m---> 15\u001b[0;31m \u001b[0me2\u001b[0m\u001b[0;34m.\u001b[0m\u001b[0mdisplayProject\u001b[0m\u001b[0;34m(\u001b[0m\u001b[0;34m)\u001b[0m\u001b[0;34m\u001b[0m\u001b[0;34m\u001b[0m\u001b[0m\n\u001b[0m\u001b[1;32m     16\u001b[0m \u001b[0;34m\u001b[0m\u001b[0m\n\u001b[1;32m     17\u001b[0m \u001b[0;34m\u001b[0m\u001b[0m\n",
      "\u001b[0;32m/tmp/ipykernel_3716357/3378056663.py\u001b[0m in \u001b[0;36mdisplayProject\u001b[0;34m(self)\u001b[0m\n\u001b[1;32m      8\u001b[0m     \u001b[0;32mdef\u001b[0m \u001b[0mdisplayProject\u001b[0m\u001b[0;34m(\u001b[0m\u001b[0mself\u001b[0m\u001b[0;34m)\u001b[0m\u001b[0;34m:\u001b[0m\u001b[0;34m\u001b[0m\u001b[0;34m\u001b[0m\u001b[0m\n\u001b[1;32m      9\u001b[0m         \u001b[0;31m#accessing public data member!\u001b[0m\u001b[0;34m\u001b[0m\u001b[0;34m\u001b[0m\u001b[0;34m\u001b[0m\u001b[0m\n\u001b[0;32m---> 10\u001b[0;31m         \u001b[0mprint\u001b[0m\u001b[0;34m(\u001b[0m\u001b[0;34m'Project : '\u001b[0m\u001b[0;34m,\u001b[0m \u001b[0mself\u001b[0m\u001b[0;34m.\u001b[0m\u001b[0mproject\u001b[0m\u001b[0;34m)\u001b[0m\u001b[0;34m\u001b[0m\u001b[0;34m\u001b[0m\u001b[0m\n\u001b[0m\u001b[1;32m     11\u001b[0m \u001b[0;34m\u001b[0m\u001b[0m\n\u001b[1;32m     12\u001b[0m \u001b[0;34m\u001b[0m\u001b[0m\n",
      "\u001b[0;31mAttributeError\u001b[0m: 'Enscapsulation1' object has no attribute 'project'"
     ]
    }
   ],
   "source": [
    "class Enscapsulation1:\n",
    "    \n",
    "    #As we know it is constructor! \n",
    "    def __init__(self,name,project):\n",
    "        self._name = name \n",
    "        self._project = project \n",
    "        \n",
    "    def displayProject(self):\n",
    "        #accessing public data member! \n",
    "        print('Project : ', self.project)\n",
    "     \n",
    "    \n",
    "#e1 here is object\n",
    "e2 = Enscapsulation1('Flux','Python')\n",
    "e2.displayProject() \n",
    "\n",
    "\n",
    "#How to access the instance variables, since we did not do any protectors to not to access! \n",
    "print(e2.name)\n",
    "print(e2.project) #as you see here, it cant be accessed since we protected the variable! "
   ]
  },
  {
   "cell_type": "code",
   "execution_count": 50,
   "id": "df8aad64",
   "metadata": {},
   "outputs": [
    {
     "name": "stdout",
     "output_type": "stream",
     "text": [
      "Flux\n",
      "Python\n"
     ]
    }
   ],
   "source": [
    "print(e2._name)\n",
    "print(e2._project) #Now it got accessed here!"
   ]
  },
  {
   "cell_type": "code",
   "execution_count": 51,
   "id": "7bfe47e7",
   "metadata": {},
   "outputs": [],
   "source": [
    "#Private "
   ]
  },
  {
   "cell_type": "code",
   "execution_count": 52,
   "id": "94f3f130",
   "metadata": {},
   "outputs": [
    {
     "name": "stdout",
     "output_type": "stream",
     "text": [
      "Flux\n"
     ]
    },
    {
     "ename": "AttributeError",
     "evalue": "'Enscapsulation2' object has no attribute '__project'",
     "output_type": "error",
     "traceback": [
      "\u001b[0;31m---------------------------------------------------------------------------\u001b[0m",
      "\u001b[0;31mAttributeError\u001b[0m                            Traceback (most recent call last)",
      "\u001b[0;32m/tmp/ipykernel_3716357/172871463.py\u001b[0m in \u001b[0;36m<module>\u001b[0;34m\u001b[0m\n\u001b[1;32m     11\u001b[0m \u001b[0;34m\u001b[0m\u001b[0m\n\u001b[1;32m     12\u001b[0m \u001b[0mprint\u001b[0m\u001b[0;34m(\u001b[0m\u001b[0me3\u001b[0m\u001b[0;34m.\u001b[0m\u001b[0mname\u001b[0m\u001b[0;34m)\u001b[0m\u001b[0;34m\u001b[0m\u001b[0;34m\u001b[0m\u001b[0m\n\u001b[0;32m---> 13\u001b[0;31m \u001b[0mprint\u001b[0m\u001b[0;34m(\u001b[0m\u001b[0me3\u001b[0m\u001b[0;34m.\u001b[0m\u001b[0m__project\u001b[0m\u001b[0;34m)\u001b[0m \u001b[0;31m#look here, we cant access the private data member!\u001b[0m\u001b[0;34m\u001b[0m\u001b[0;34m\u001b[0m\u001b[0m\n\u001b[0m",
      "\u001b[0;31mAttributeError\u001b[0m: 'Enscapsulation2' object has no attribute '__project'"
     ]
    }
   ],
   "source": [
    "class Enscapsulation2:\n",
    "    \n",
    "    #As we know it is constructor! \n",
    "    def __init__(self,name,project):\n",
    "        self.name = name #Public data  \n",
    "        self.__project = project  #Private\n",
    "     \n",
    "    \n",
    "#e3 here is object\n",
    "e3 = Enscapsulation2('Flux','Python')\n",
    "\n",
    "print(e3.name)\n",
    "print(e3.__project) #look here, we cant access the private data member! "
   ]
  },
  {
   "cell_type": "code",
   "execution_count": 53,
   "id": "4242936e",
   "metadata": {},
   "outputs": [
    {
     "data": {
      "text/plain": [
       "'Python'"
      ]
     },
     "execution_count": 53,
     "metadata": {},
     "output_type": "execute_result"
    }
   ],
   "source": [
    "#We can access the private data member by doing this!\n",
    "#Here we use NAME MANGLING method to access the private member! \n",
    "#obj._<className>.__<identifier>\n",
    "e3._Enscapsulation2__project "
   ]
  }
 ],
 "metadata": {
  "kernelspec": {
   "display_name": "Python 3",
   "language": "python",
   "name": "python3"
  },
  "language_info": {
   "codemirror_mode": {
    "name": "ipython",
    "version": 3
   },
   "file_extension": ".py",
   "mimetype": "text/x-python",
   "name": "python",
   "nbconvert_exporter": "python",
   "pygments_lexer": "ipython3",
   "version": "3.8.8"
  }
 },
 "nbformat": 4,
 "nbformat_minor": 5
}
