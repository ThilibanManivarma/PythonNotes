{
 "cells": [
  {
   "cell_type": "markdown",
   "id": "36878313",
   "metadata": {},
   "source": [
    "# Topics to be covered\n",
    "\n",
    "1) classes \n",
    "2) objects \n",
    "3) Inheritence \n",
    "4) Attributes \n",
    "5) Methods "
   ]
  },
  {
   "cell_type": "markdown",
   "id": "619d3c6b",
   "metadata": {},
   "source": [
    "Classes - Class is a collection of an object of the same type. \n",
    "\n",
    "For example, lets say dog is our class and species from different countries are objects ( which are same animals but different species ) belonging to the class! \n",
    "\n",
    "Objects - Objects is basically a constituent or member of a class! example, German Shepherd is the species which is object and belonging to the class! \n",
    "\n",
    "Methods - Methods aka Functions, class contains several functions and it does something! We can access the function through objects after creating an object.! "
   ]
  },
  {
   "cell_type": "markdown",
   "id": "ced3e2f5",
   "metadata": {},
   "source": [
    "#class keyword to create the class! class name should be end with () ---> RULE 1\n",
    "\n",
    "#first dunder method aka magic methods! For initialization! as we know that def is to define the method!       \n",
    "        \n",
    "#As we notice above, as soon as you create a class, it gives an indendation and it comes down! \n",
    "    \n",
    "#inside the init method, we could add some attributes/parameters! \n",
    "\n",
    "#Self is a keyword, responsible for connecting those attributes to our class which is pokemon here! \n"
   ]
  },
  {
   "cell_type": "code",
   "execution_count": 2,
   "id": "57ac6efe",
   "metadata": {},
   "outputs": [
    {
     "name": "stdout",
     "output_type": "stream",
     "text": [
      "<class '__main__.Pokemon'> <__main__.Pokemon object at 0x7f6015436ee0>\n"
     ]
    }
   ],
   "source": [
    "class Pokemon(): \n",
    "    \n",
    "    def __init__(self,name,Type,health): \n",
    "        self.name = name \n",
    "        self.Type = Type\n",
    "        self.health = health #all the attributes got initialized here! \n",
    "        \n",
    "    def attack(self):\n",
    "        print('OhhhhYushhhhhhhhhhhhhh! AttackkkkkK!')\n",
    "        \n",
    "    def dodge(self):\n",
    "        print('Pikachu DODGEEEEEEEEEEEEEEEEEE!!')\n",
    "        \n",
    "    def evolve(self):\n",
    "        print('Evolving to RaichuuuuuuuuuuuuuuU!!')\n",
    "        \n",
    "        \n",
    "#As of now, class Pokemon has 3 methods ( attack, dodge, evolve ), and it has three parameters name, Type, health! \n",
    "        \n",
    "#Now it is time to create the objects through class we created above! \n",
    "\n",
    "pk1 = Pokemon('Flux','Electric',100)\n",
    "\n",
    "print(type(pk1), pk1)  #here we could see what is the type of pk1! \n",
    "\n",
    "#Accessing attributes through the objects! \n",
    "\n",
    "pk1. #dot is the way to access or interact with the methods and attributes!! "
   ]
  },
  {
   "cell_type": "code",
   "execution_count": 3,
   "id": "5287373e",
   "metadata": {},
   "outputs": [
    {
     "name": "stdout",
     "output_type": "stream",
     "text": [
      "Flux\n"
     ]
    }
   ],
   "source": [
    "print(pk1.name) #Since we already updated our attributes to the object pk1, it is done already! "
   ]
  },
  {
   "cell_type": "code",
   "execution_count": 4,
   "id": "fdfa12f3",
   "metadata": {},
   "outputs": [],
   "source": [
    "#We can also change the attribute name! \n",
    "\n",
    "pk1.name = 'fluxy'\n"
   ]
  },
  {
   "cell_type": "code",
   "execution_count": 5,
   "id": "3ed4d4e6",
   "metadata": {},
   "outputs": [
    {
     "name": "stdout",
     "output_type": "stream",
     "text": [
      "fluxy Electric 100\n"
     ]
    }
   ],
   "source": [
    "print(pk1.name,pk1.Type,pk1.health) #see here name has been changed! "
   ]
  },
  {
   "cell_type": "code",
   "execution_count": 8,
   "id": "7c2120e9",
   "metadata": {},
   "outputs": [
    {
     "name": "stdout",
     "output_type": "stream",
     "text": [
      "OhhhhYushhhhhhhhhhhhhh! AttackkkkkK!\n",
      "Pikachu DODGEEEEEEEEEEEEEEEEEE!!\n",
      "Evolving to RaichuuuuuuuuuuuuuuU!!\n"
     ]
    }
   ],
   "source": [
    "#we also access the methods/functions through the objects!\n",
    "pk1.attack()\n",
    "pk1.dodge()\n",
    "pk1.evolve() #since we are calling each methods, it shows up here! "
   ]
  },
  {
   "cell_type": "markdown",
   "id": "01b453e9",
   "metadata": {},
   "source": [
    "# Inheritence \n",
    "\n",
    "One of the key concepts in the OOPS is inheritence! Overall idea is, Being a child class, Inheritence is to get the common features from the parent class! "
   ]
  },
  {
   "cell_type": "code",
   "execution_count": 10,
   "id": "1e7e1f53",
   "metadata": {},
   "outputs": [
    {
     "data": {
      "text/plain": [
       "'4'"
      ]
     },
     "execution_count": 10,
     "metadata": {},
     "output_type": "execute_result"
    }
   ],
   "source": [
    "class Car(): #Here its parent class aka super class! Class under the superclass is called sub-class aka child class!\n",
    "    \n",
    "    def __init__(self,ndoors,nwheels,tailLight,headLight):\n",
    "        self.ndoors = ndoors\n",
    "        self.nwheels = nwheels\n",
    "        self.headLight = headLight\n",
    "        self.tailLight = tailLight\n",
    "        \n",
    "#here, we have a Car class which is parent class we know!\n",
    "\n",
    "class McLaren(Car): #Here McLaren is a parent class and it takes the features from the parent class called Car! \n",
    "    \n",
    "    def __init__(self,ndoors,nwheels,tailLight,headLight,Engine,wheel_drive):\n",
    "        Car.__init__(self,ndoors,nwheels,tailLight,headLight)\n",
    "        self.Engine = Engine\n",
    "        self.wheel_drive = wheel_drive\n",
    "        \n",
    "    def Drive(self):\n",
    "        print('I am driving a McLaren Model Car')\n",
    "        \n",
    "#As we see here McLaren is the class which inherits the features from Car class!\n",
    "\n",
    "mk1 = McLaren('4','4','yes','yes','V8','AWD')\n",
    "mk1.Engine\n",
    "mk1.nwheels\n",
    "\n",
    "#See that the features of Car can be accessed here in McLaren class!"
   ]
  },
  {
   "cell_type": "code",
   "execution_count": null,
   "id": "57fc4e2d",
   "metadata": {},
   "outputs": [],
   "source": [
    "#Few onspot Exercies! \n",
    "#Create a class called Dog and it has two attributes and two methods called \"sit,roll_over!\" and create \n",
    "#objects and set the attributes to it! "
   ]
  },
  {
   "cell_type": "code",
   "execution_count": 15,
   "id": "e8ab9d20",
   "metadata": {},
   "outputs": [
    {
     "name": "stdout",
     "output_type": "stream",
     "text": [
      "<class '__main__.Dog'> <class '__main__.Dog'>\n",
      "Hey dog1 age is  15\n",
      "james rolled over\n",
      "Alex is now sitting\n"
     ]
    }
   ],
   "source": [
    "class Dog():\n",
    "    \n",
    "    def __init__(self,name,age):\n",
    "        \"\"\"Initialize name and age attributes!\"\"\"\n",
    "        self.name = name\n",
    "        self.age = age \n",
    "        \n",
    "    def sit(self):\n",
    "        \"\"\"Simulate a dog sitting in response to a command\"\"\"\n",
    "        print(f'{self.name} is now sitting')\n",
    "        \n",
    "    def roll_over(self):\n",
    "        \"\"\"simulate rolling over in a responce to a command\"\"\"\n",
    "        print(f'{self.name} rolled over')\n",
    "        \n",
    "dog1= Dog('james',15)\n",
    "dog2 = Dog('Alex',5) #here we created multiple instances! \n",
    "\n",
    "print(type(dog1),type(dog2)) #Here two instances has been created under the class \"DOG\" and respective attributes \n",
    "#are created!\n",
    "\n",
    "print('Hey dog1 age is ', dog1.age)\n",
    "        \n",
    "#you can also access the methods through these objects!\n",
    "dog1.roll_over()\n",
    "dog2.sit() #Here it calls the respective methods through the objects!\n"
   ]
  },
  {
   "cell_type": "markdown",
   "id": "8f5a4134",
   "metadata": {},
   "source": [
    "#OnSpot Excercises \n",
    "1) Make a restaurant class and it has initalization (__init__()) method and has two attributes name, cuisine type,\n",
    "and write a method and it describes what restaurant it is  and anther method open_res(), that says it is open.\n",
    "\n",
    "create an instance from the class restaurant and print two attributes and call both methods!  "
   ]
  },
  {
   "cell_type": "code",
   "execution_count": 5,
   "id": "ddc1f6c7",
   "metadata": {},
   "outputs": [
    {
     "ename": "TypeError",
     "evalue": "__init__() missing 2 required positional arguments: 'res_name' and 'cuisine_type'",
     "output_type": "error",
     "traceback": [
      "\u001b[0;31m---------------------------------------------------------------------------\u001b[0m",
      "\u001b[0;31mTypeError\u001b[0m                                 Traceback (most recent call last)",
      "\u001b[0;32m/tmp/ipykernel_3686420/2174009557.py\u001b[0m in \u001b[0;36m<module>\u001b[0;34m\u001b[0m\n\u001b[1;32m     13\u001b[0m \u001b[0;34m\u001b[0m\u001b[0m\n\u001b[1;32m     14\u001b[0m \u001b[0;34m\u001b[0m\u001b[0m\n\u001b[0;32m---> 15\u001b[0;31m \u001b[0mr1\u001b[0m \u001b[0;34m=\u001b[0m \u001b[0mRestaraunt\u001b[0m\u001b[0;34m(\u001b[0m\u001b[0;34m)\u001b[0m \u001b[0;31m#It gives error cuz we haven't provided the paramters !\u001b[0m\u001b[0;34m\u001b[0m\u001b[0;34m\u001b[0m\u001b[0m\n\u001b[0m",
      "\u001b[0;31mTypeError\u001b[0m: __init__() missing 2 required positional arguments: 'res_name' and 'cuisine_type'"
     ]
    }
   ],
   "source": [
    "class Restaraunt():\n",
    "    \n",
    "    def __init__(self,res_name,cuisine_type):\n",
    "        self.res_name = res_name\n",
    "        self.cuisine_type = cuisine_type\n",
    "        \n",
    "    def about_res(self):\n",
    "        print('Hey we are ', self.res_name)\n",
    "        print(f'We provide {self.cuisine_type} dishes here! Have a nice day!')\n",
    "        \n",
    "    def opening(self):\n",
    "        print(\"Hey we are opening, so please do come and spend good times with fam\")\n",
    "        \n",
    "    \n",
    "r1 = Restaraunt() #It gives error cuz we haven't provided the paramters !"
   ]
  },
  {
   "cell_type": "code",
   "execution_count": 6,
   "id": "4e2f93fe",
   "metadata": {},
   "outputs": [],
   "source": [
    "r1 = Restaraunt('Flux','Mexican')"
   ]
  },
  {
   "cell_type": "code",
   "execution_count": 7,
   "id": "dca28144",
   "metadata": {},
   "outputs": [
    {
     "name": "stdout",
     "output_type": "stream",
     "text": [
      "Hey we are  Flux\n",
      "We provide Mexican dishes here! Have a nice day!\n",
      "Hey we are opening, so please do come and spend good times with fam\n"
     ]
    }
   ],
   "source": [
    "r1.about_res()\n",
    "r1.opening()"
   ]
  },
  {
   "cell_type": "code",
   "execution_count": 9,
   "id": "0d28dacf",
   "metadata": {},
   "outputs": [
    {
     "name": "stdout",
     "output_type": "stream",
     "text": [
      "2019 Audi A4\n"
     ]
    }
   ],
   "source": [
    "class Car:\n",
    "    \n",
    "    \"\"\"a simple attempt to represnt a car\"\"\"\n",
    "    \n",
    "    def __init__(self,make,model,year):\n",
    "        \"\"\"initialize attributes to describe a car\"\"\"\n",
    "        \n",
    "        self.make = make\n",
    "        self.model = model\n",
    "        self.year = year\n",
    "        \n",
    "    def get_full_name(self):\n",
    "        \"\"\"return a neatly formatted full name\"\"\"\n",
    "        \n",
    "        long_name = f'{self.year} {self.make} {self.model}'\n",
    "        return long_name.title()\n",
    "    \n",
    "newcar = Car('audi','a4',2019)\n",
    "print(newcar.get_full_name()) \n",
    "#As we know that all the attributes can be acccessed through the instance we create from the class!~\n",
    "    \n",
    "        \n",
    "        "
   ]
  },
  {
   "cell_type": "code",
   "execution_count": 18,
   "id": "5a2cc90b",
   "metadata": {},
   "outputs": [
    {
     "name": "stdout",
     "output_type": "stream",
     "text": [
      "2020 Audi A45\n"
     ]
    }
   ],
   "source": [
    "#We can als set default value\n",
    "\n",
    "class Carx:\n",
    "    \n",
    "    def __init__(self,make,model,year):\n",
    "        \"\"\"initialize attributes to describe a car\"\"\"\n",
    "        \n",
    "        self.make = make \n",
    "        self.model = model\n",
    "        self.year = year\n",
    "        self.odometer_reading = 0 #Here we set a default value like we did in the function!\n",
    "        \n",
    "        \n",
    "    def get_full_name(self):\n",
    "        \"\"\"return a neatly formatted full name\"\"\"\n",
    "        \n",
    "        long_name = f'{self.year} {self.make} {self.model}'\n",
    "        return long_name.title()\n",
    "    \n",
    "    def reading_speed(self):\n",
    "        \"\"\"print a statement showing the car's mileage\"\"\"\n",
    "        \n",
    "        print(f'The car has {self.odometer_reading} miles on it')\n",
    "        \n",
    "        \n",
    "c1 = Carx('audi','a45',2020)\n",
    "print(c1.get_full_name())\n",
    "#print(c1.odometer_reading())"
   ]
  },
  {
   "cell_type": "code",
   "execution_count": 19,
   "id": "4dd31611",
   "metadata": {},
   "outputs": [
    {
     "name": "stdout",
     "output_type": "stream",
     "text": [
      "The car has 0 miles on it\n"
     ]
    }
   ],
   "source": [
    "c1.reading_speed() #now we see it works! "
   ]
  },
  {
   "cell_type": "code",
   "execution_count": 21,
   "id": "1ef1439b",
   "metadata": {},
   "outputs": [],
   "source": [
    "#We can also modify the attribute just like python variable setting! \n",
    "c2 = Carx('bmw','xxa',2020)\n"
   ]
  },
  {
   "cell_type": "code",
   "execution_count": 22,
   "id": "cf533cea",
   "metadata": {},
   "outputs": [
    {
     "name": "stdout",
     "output_type": "stream",
     "text": [
      "The car has 100 miles on it\n"
     ]
    }
   ],
   "source": [
    "c2.odometer_reading = 100\n",
    "c2.reading_speed() #see it changed! "
   ]
  },
  {
   "cell_type": "code",
   "execution_count": 24,
   "id": "03aac4ab",
   "metadata": {},
   "outputs": [
    {
     "name": "stdout",
     "output_type": "stream",
     "text": [
      "The car has 0 miles on it\n"
     ]
    }
   ],
   "source": [
    "#Modifying the attribute through the method we can have it in the class! \n",
    "\n",
    "class Cary:\n",
    "    \n",
    "    def __init__(self,make,model,year):\n",
    "        \"\"\"initialize attributes to describe a car\"\"\"\n",
    "        \n",
    "        self.make = make \n",
    "        self.model = model\n",
    "        self.year = year\n",
    "        self.odometer_reading = 0 #Here we set a default value like we did in the function!\n",
    "        \n",
    "        \n",
    "    def get_full_name(self):\n",
    "        \"\"\"return a neatly formatted full name\"\"\"\n",
    "        \n",
    "        long_name = f'{self.year} {self.make} {self.model}'\n",
    "        return long_name.title()\n",
    "    \n",
    "    def reading_speed(self):\n",
    "        \"\"\"print a statement showing the car's mileage\"\"\"\n",
    "        \n",
    "        print(f'The car has {self.odometer_reading} miles on it')\n",
    "        \n",
    "    def update_odometer(self,mileage):\n",
    "        \"\"\"it sets the odometer reading to the given value\"\"\"\n",
    "        \n",
    "        self.odometer_reading = mileage\n",
    "        \n",
    "        \n",
    "c3 = Cary('toyota','xcva',2300)\n",
    "c3.reading_speed() #Since we didnt set any new value it takes the default ones "
   ]
  },
  {
   "cell_type": "code",
   "execution_count": 25,
   "id": "928af911",
   "metadata": {},
   "outputs": [],
   "source": [
    "#We can also change the value through the method! \n",
    "\n",
    "c3.update_odometer(1000)"
   ]
  },
  {
   "cell_type": "code",
   "execution_count": 26,
   "id": "55f2cf44",
   "metadata": {},
   "outputs": [
    {
     "name": "stdout",
     "output_type": "stream",
     "text": [
      "The car has 1000 miles on it\n"
     ]
    }
   ],
   "source": [
    "c3.reading_speed() #See it got changed!"
   ]
  },
  {
   "cell_type": "markdown",
   "id": "cfcd0382",
   "metadata": {},
   "source": [
    "againg inheritence concepts!! \n",
    "\n",
    "the main aim of imheritence is just to create a relationship betweem two classes!, by doing this we can create \n",
    "a new class without making any changes to an already existing class\n",
    "\n",
    "1) We refer to the new class as the derived (child) class, and the class which it inherits is called the base (parent) class, A base class is also called a superclass. \n",
    "\n",
    "On otherhand we call the subclass/subtype.\n",
    "\n",
    "class baseClass:\n",
    "\n",
    "       <<<<>>>>>\n",
    "       \n",
    "class derivedClass(baseClass):\n",
    "\n",
    "       <<<<<>>>>>>\n",
    "       \n",
    "       "
   ]
  },
  {
   "cell_type": "code",
   "execution_count": 27,
   "id": "40e42442",
   "metadata": {},
   "outputs": [],
   "source": [
    "class shapes:\n",
    "    \n",
    "    def __init__(self,no_sides):\n",
    "        self.n = no_sides\n",
    "        self.sides = [0 for i in range(no_sides)]\n",
    "        \n",
    "    def takeSides(self):\n",
    "        self.sides = [float(input('enter side' + str(i+1) + \" : \")) for i in range(self.n)]\n",
    "        \n",
    "    def disSides(self):\n",
    "        for i in range(self.n):\n",
    "            print('Side', i+1, 'is', self.sides[i])\n",
    "            \n"
   ]
  },
  {
   "cell_type": "code",
   "execution_count": 28,
   "id": "beb6abd5",
   "metadata": {},
   "outputs": [],
   "source": [
    "c1 = shapes(10)"
   ]
  },
  {
   "cell_type": "code",
   "execution_count": 29,
   "id": "660c34a5",
   "metadata": {},
   "outputs": [
    {
     "name": "stdout",
     "output_type": "stream",
     "text": [
      "enter side1 : 1\n",
      "enter side2 : 2\n",
      "enter side3 : 3\n",
      "enter side4 : 4\n",
      "enter side5 : 5\n",
      "enter side6 : 6\n",
      "enter side7 : 7\n",
      "enter side8 : 8\n",
      "enter side9 : 9\n",
      "enter side10 : 10\n"
     ]
    }
   ],
   "source": [
    "c1.takeSides()"
   ]
  },
  {
   "cell_type": "code",
   "execution_count": 30,
   "id": "0efd3ba5",
   "metadata": {},
   "outputs": [
    {
     "name": "stdout",
     "output_type": "stream",
     "text": [
      "Side 1 is 1.0\n",
      "Side 2 is 2.0\n",
      "Side 3 is 3.0\n",
      "Side 4 is 4.0\n",
      "Side 5 is 5.0\n",
      "Side 6 is 6.0\n",
      "Side 7 is 7.0\n",
      "Side 8 is 8.0\n",
      "Side 9 is 9.0\n",
      "Side 10 is 10.0\n"
     ]
    }
   ],
   "source": [
    "c1.disSides()"
   ]
  },
  {
   "cell_type": "code",
   "execution_count": null,
   "id": "d9788bcc",
   "metadata": {},
   "outputs": [],
   "source": [
    "class rec(shapes):\n",
    "    \n",
    "    def __init__(self):\n",
    "        shapes.__init__(self,3)\n",
    "        \n",
    "    def findArea(self):\n",
    "        a,b = self.sides\n",
    "        area = (a+b)*2\n",
    "        print('The area of the rectangle is ', area)"
   ]
  },
  {
   "cell_type": "code",
   "execution_count": null,
   "id": "8dc9344b",
   "metadata": {},
   "outputs": [],
   "source": []
  },
  {
   "cell_type": "code",
   "execution_count": null,
   "id": "958061d1",
   "metadata": {},
   "outputs": [],
   "source": []
  },
  {
   "cell_type": "code",
   "execution_count": null,
   "id": "b27c724b",
   "metadata": {},
   "outputs": [],
   "source": []
  },
  {
   "cell_type": "code",
   "execution_count": null,
   "id": "b89cdef7",
   "metadata": {},
   "outputs": [],
   "source": []
  },
  {
   "cell_type": "code",
   "execution_count": null,
   "id": "0b653bcf",
   "metadata": {},
   "outputs": [],
   "source": []
  },
  {
   "cell_type": "code",
   "execution_count": null,
   "id": "82be8049",
   "metadata": {},
   "outputs": [],
   "source": []
  },
  {
   "cell_type": "code",
   "execution_count": null,
   "id": "0b1933a1",
   "metadata": {},
   "outputs": [],
   "source": []
  },
  {
   "cell_type": "code",
   "execution_count": null,
   "id": "4a46244c",
   "metadata": {},
   "outputs": [],
   "source": []
  },
  {
   "cell_type": "code",
   "execution_count": null,
   "id": "51440109",
   "metadata": {},
   "outputs": [],
   "source": []
  },
  {
   "cell_type": "code",
   "execution_count": null,
   "id": "8f6c95bc",
   "metadata": {},
   "outputs": [],
   "source": []
  },
  {
   "cell_type": "code",
   "execution_count": null,
   "id": "07cec61b",
   "metadata": {},
   "outputs": [],
   "source": []
  },
  {
   "cell_type": "code",
   "execution_count": null,
   "id": "a3563a18",
   "metadata": {},
   "outputs": [],
   "source": []
  },
  {
   "cell_type": "code",
   "execution_count": null,
   "id": "f1c1a958",
   "metadata": {},
   "outputs": [],
   "source": []
  },
  {
   "cell_type": "code",
   "execution_count": null,
   "id": "e506506a",
   "metadata": {},
   "outputs": [],
   "source": []
  },
  {
   "cell_type": "code",
   "execution_count": null,
   "id": "087c3f7e",
   "metadata": {},
   "outputs": [],
   "source": []
  },
  {
   "cell_type": "code",
   "execution_count": null,
   "id": "79f10562",
   "metadata": {},
   "outputs": [],
   "source": []
  },
  {
   "cell_type": "code",
   "execution_count": null,
   "id": "9a133044",
   "metadata": {},
   "outputs": [],
   "source": []
  },
  {
   "cell_type": "code",
   "execution_count": null,
   "id": "3fe21e43",
   "metadata": {},
   "outputs": [],
   "source": []
  },
  {
   "cell_type": "code",
   "execution_count": null,
   "id": "c2212a45",
   "metadata": {},
   "outputs": [],
   "source": []
  },
  {
   "cell_type": "code",
   "execution_count": null,
   "id": "87b5a727",
   "metadata": {},
   "outputs": [],
   "source": []
  },
  {
   "cell_type": "code",
   "execution_count": null,
   "id": "6df62508",
   "metadata": {},
   "outputs": [],
   "source": []
  },
  {
   "cell_type": "code",
   "execution_count": null,
   "id": "9c64c722",
   "metadata": {},
   "outputs": [],
   "source": []
  },
  {
   "cell_type": "code",
   "execution_count": null,
   "id": "c6a7fdae",
   "metadata": {},
   "outputs": [],
   "source": []
  },
  {
   "cell_type": "code",
   "execution_count": null,
   "id": "cd0bd162",
   "metadata": {},
   "outputs": [],
   "source": []
  },
  {
   "cell_type": "code",
   "execution_count": null,
   "id": "182841ae",
   "metadata": {},
   "outputs": [],
   "source": []
  },
  {
   "cell_type": "code",
   "execution_count": null,
   "id": "fa7bc4db",
   "metadata": {},
   "outputs": [],
   "source": []
  },
  {
   "cell_type": "code",
   "execution_count": null,
   "id": "5287de01",
   "metadata": {},
   "outputs": [],
   "source": []
  },
  {
   "cell_type": "code",
   "execution_count": null,
   "id": "add45352",
   "metadata": {},
   "outputs": [],
   "source": []
  },
  {
   "cell_type": "code",
   "execution_count": null,
   "id": "5c1867f5",
   "metadata": {},
   "outputs": [],
   "source": []
  },
  {
   "cell_type": "code",
   "execution_count": null,
   "id": "e11b5732",
   "metadata": {},
   "outputs": [],
   "source": []
  },
  {
   "cell_type": "code",
   "execution_count": null,
   "id": "afae2e7a",
   "metadata": {},
   "outputs": [],
   "source": []
  },
  {
   "cell_type": "code",
   "execution_count": null,
   "id": "643f26c2",
   "metadata": {},
   "outputs": [],
   "source": []
  },
  {
   "cell_type": "code",
   "execution_count": null,
   "id": "f2a1d19a",
   "metadata": {},
   "outputs": [],
   "source": []
  },
  {
   "cell_type": "code",
   "execution_count": null,
   "id": "793e3ac0",
   "metadata": {},
   "outputs": [],
   "source": []
  },
  {
   "cell_type": "code",
   "execution_count": null,
   "id": "edb8ab3a",
   "metadata": {},
   "outputs": [],
   "source": []
  },
  {
   "cell_type": "code",
   "execution_count": null,
   "id": "08c363ee",
   "metadata": {},
   "outputs": [],
   "source": []
  },
  {
   "cell_type": "code",
   "execution_count": null,
   "id": "9ae206fc",
   "metadata": {},
   "outputs": [],
   "source": []
  },
  {
   "cell_type": "code",
   "execution_count": null,
   "id": "c2f75df1",
   "metadata": {},
   "outputs": [],
   "source": []
  },
  {
   "cell_type": "code",
   "execution_count": null,
   "id": "6f379e86",
   "metadata": {},
   "outputs": [],
   "source": []
  },
  {
   "cell_type": "code",
   "execution_count": null,
   "id": "e141151f",
   "metadata": {},
   "outputs": [],
   "source": []
  },
  {
   "cell_type": "code",
   "execution_count": null,
   "id": "d764fb7d",
   "metadata": {},
   "outputs": [],
   "source": []
  },
  {
   "cell_type": "code",
   "execution_count": null,
   "id": "30e80707",
   "metadata": {},
   "outputs": [],
   "source": []
  },
  {
   "cell_type": "code",
   "execution_count": null,
   "id": "5e087e48",
   "metadata": {},
   "outputs": [],
   "source": []
  },
  {
   "cell_type": "code",
   "execution_count": null,
   "id": "fd8330d2",
   "metadata": {},
   "outputs": [],
   "source": []
  },
  {
   "cell_type": "code",
   "execution_count": null,
   "id": "1a6f52d7",
   "metadata": {},
   "outputs": [],
   "source": []
  },
  {
   "cell_type": "code",
   "execution_count": null,
   "id": "7aa1e7c7",
   "metadata": {},
   "outputs": [],
   "source": []
  },
  {
   "cell_type": "code",
   "execution_count": null,
   "id": "7caf5dd9",
   "metadata": {},
   "outputs": [],
   "source": []
  },
  {
   "cell_type": "code",
   "execution_count": null,
   "id": "8841d366",
   "metadata": {},
   "outputs": [],
   "source": []
  },
  {
   "cell_type": "code",
   "execution_count": null,
   "id": "fb95b998",
   "metadata": {},
   "outputs": [],
   "source": []
  },
  {
   "cell_type": "code",
   "execution_count": null,
   "id": "5007bef3",
   "metadata": {},
   "outputs": [],
   "source": []
  },
  {
   "cell_type": "code",
   "execution_count": null,
   "id": "16eb814f",
   "metadata": {},
   "outputs": [],
   "source": []
  },
  {
   "cell_type": "code",
   "execution_count": null,
   "id": "1ded4e1b",
   "metadata": {},
   "outputs": [],
   "source": []
  },
  {
   "cell_type": "code",
   "execution_count": null,
   "id": "fc2b82ee",
   "metadata": {},
   "outputs": [],
   "source": []
  },
  {
   "cell_type": "code",
   "execution_count": null,
   "id": "b4bc4d3b",
   "metadata": {},
   "outputs": [],
   "source": []
  },
  {
   "cell_type": "code",
   "execution_count": null,
   "id": "e1e2e019",
   "metadata": {},
   "outputs": [],
   "source": []
  },
  {
   "cell_type": "code",
   "execution_count": null,
   "id": "3051b788",
   "metadata": {},
   "outputs": [],
   "source": []
  },
  {
   "cell_type": "code",
   "execution_count": null,
   "id": "1c13dfa9",
   "metadata": {},
   "outputs": [],
   "source": []
  }
 ],
 "metadata": {
  "kernelspec": {
   "display_name": "Python 3",
   "language": "python",
   "name": "python3"
  },
  "language_info": {
   "codemirror_mode": {
    "name": "ipython",
    "version": 3
   },
   "file_extension": ".py",
   "mimetype": "text/x-python",
   "name": "python",
   "nbconvert_exporter": "python",
   "pygments_lexer": "ipython3",
   "version": "3.8.8"
  }
 },
 "nbformat": 4,
 "nbformat_minor": 5
}
