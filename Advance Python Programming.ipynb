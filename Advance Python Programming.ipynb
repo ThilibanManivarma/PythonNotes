{
 "cells": [
  {
   "cell_type": "code",
   "execution_count": 2,
   "metadata": {},
   "outputs": [
    {
     "name": "stdout",
     "output_type": "stream",
     "text": [
      "<__main__.Test object at 0x0000000004D551C0>\n",
      "1\n"
     ]
    }
   ],
   "source": [
    "class Test(object):\n",
    "    def __init__(self, num =1 ):\n",
    "        self.num = num \n",
    "        \n",
    "if __name__ == \"__main__\":\n",
    "    obj = Test()\n",
    "    print(obj) #it prints address of the object!\n",
    "    print(obj.num)"
   ]
  },
  {
   "cell_type": "code",
   "execution_count": 3,
   "metadata": {},
   "outputs": [],
   "source": [
    "# _class ---> single and double underscore before the variable is PRIVATE \n",
    "# private attribute are accessed by getter and setters !"
   ]
  },
  {
   "cell_type": "code",
   "execution_count": 20,
   "metadata": {},
   "outputs": [
    {
     "name": "stdout",
     "output_type": "stream",
     "text": [
      "<__main__.Test object at 0x00000000080C1310>\n",
      "1\n",
      "122\n",
      "i am method A \n",
      "None\n",
      " i am static\n",
      "None\n",
      " i am static\n",
      "None\n",
      "class variable 100\n",
      "None\n"
     ]
    }
   ],
   "source": [
    "class Test(object):#class_classname ! \n",
    "    \n",
    "    myvar = 100 #class variable! \n",
    "    \n",
    "    def __init__(self, num =1 ): #constructor! \n",
    "        self.num = num\n",
    "        self.__numa = 122 #private instance variavle ! __ means protected ! with the help of GET SET method we can call! \n",
    "        \n",
    "    def get(self): # self is instance variable! ! \n",
    "        return self.__numa # accessing private variable! \n",
    "    \n",
    "    def set(self,num):\n",
    "        self.__numa = num\n",
    "    \n",
    "    @property  #now we can access this class withoout bracket wehen we call it ! if u use () it will show error \n",
    "    def methoda(self):\n",
    "        print('i am method A ')\n",
    "    \n",
    "    @staticmethod #we have to explicity define the STATICMETHOD !it doesnt not take any SELF INSTANCE! \n",
    "    def methodb(): #static doesnot take self keyword and it has empty! \n",
    "        print(' i am static')\n",
    "        \n",
    "    def classvar(cls): #class variable is only gets accessed with the help of CLASSMETHOD(cls)!!! \n",
    "        print('class variable {}'.format(cls.myvar))\n",
    "         \n",
    "if __name__ == \"__main__\":\n",
    "    obj = Test()\n",
    "    print(obj) #it prints address of the object!\n",
    "    print(obj.num)\n",
    "    #print(obj.__num)\n",
    "    print(obj.get())\n",
    "    print(obj.methoda)\n",
    "    print(obj.methodb()) #with the help of OBJECT AND CLASSNAME we can call the static method ! \n",
    "    \n",
    "    print(Test.methodb()) #another way of calling static method is by the help of CLASS NAME ! \n",
    "    print(obj.classvar())\n",
    "    #<__main__.Test object at 0x00000000080C1310> address of the class!  \n",
    "    #property! we can access any class! using property decorator!\n",
    "    #property decordator is only called with the help of OBJECT We create after creating the class! \n",
    "    \n",
    "    \n",
    "    \n",
    "    #in order to get rid off the address (<__main__.Test object at 0x00000000080C1310>) we use def __str__(self):\n",
    "    #                                                                                                 print('object test ! ')"
   ]
  },
  {
   "cell_type": "code",
   "execution_count": 1,
   "metadata": {},
   "outputs": [
    {
     "name": "stdout",
     "output_type": "stream",
     "text": [
      "<__main__.A object at 0x0000000004D37400>\n"
     ]
    }
   ],
   "source": [
    "#how can we create the class in 3 ways! \n",
    "#01 #old school method \n",
    "class A(object):\n",
    "    def __init__(self):\n",
    "        pass\n",
    "    \n",
    "a = A()\n",
    "print(a)"
   ]
  },
  {
   "cell_type": "code",
   "execution_count": 2,
   "metadata": {},
   "outputs": [
    {
     "name": "stdout",
     "output_type": "stream",
     "text": [
      "<__main__.B object at 0x00000000087EB6A0>\n"
     ]
    }
   ],
   "source": [
    "#02\n",
    "class B(object): #masterr level of creation of class!\n",
    "    def __call__(cls,*args,**kwargs): #cls can be self\n",
    "        return super(B,cls).__call__(cls,*args,**kwargs) #super keyword creates the instance of the class \n",
    "    #call method is implicity secretly calls NEW METHOD and INT method to create a class!\n",
    "    \n",
    "b = B()\n",
    "print(b)"
   ]
  },
  {
   "cell_type": "code",
   "execution_count": 7,
   "metadata": {},
   "outputs": [
    {
     "name": "stdout",
     "output_type": "stream",
     "text": [
      "creating a object\n",
      "creating instance of class\n",
      "<__main__.C object at 0x00000000083EF370>\n"
     ]
    }
   ],
   "source": [
    "#03 #this is college level of crreation of class!\n",
    "class C(object):\n",
    "    def __new__(cls,*args,**kwargs):\n",
    "        print('creating a object')\n",
    "        return super(C,cls).__new__(cls,*args,**kwargs)\n",
    "    \n",
    "    def __init__(self,*args,**kwargs):\n",
    "        print('creating instance of class')\n",
    "        return super(C,self).__init__(*args,**kwargs)\n",
    "    \n",
    "c = C()\n",
    "print(c)"
   ]
  },
  {
   "cell_type": "markdown",
   "metadata": {},
   "source": [
    "# METACLASS_CREATION! "
   ]
  },
  {
   "cell_type": "code",
   "execution_count": 2,
   "metadata": {},
   "outputs": [
    {
     "name": "stdout",
     "output_type": "stream",
     "text": [
      "<__main__.A object at 0x00000000078C3820>\n"
     ]
    }
   ],
   "source": [
    "#its not correct but just to understand the coonceptS! \n",
    "#create the BASE CLASS FIRST AND CHILD CLASS!\n",
    "#BASECLASS! #phd level of creation of clasS!\n",
    "class Meta(type):\n",
    "    def __new__(cls,*args,**kwargs):\n",
    "        return super(Meta,cls).__new__(cls,*args,**kwargs)\n",
    "    \n",
    "    def __init__(self,*args,**kwargs):\n",
    "        super(Meta,self).__init__(*args,**kwargs)\n",
    "        \n",
    "class A(metaclass = Meta):\n",
    "    def __init__(self):\n",
    "        pass\n",
    "    \n",
    "a = A()\n",
    "print(a)"
   ]
  },
  {
   "cell_type": "code",
   "execution_count": 4,
   "metadata": {},
   "outputs": [
    {
     "name": "stdout",
     "output_type": "stream",
     "text": [
      "<__main__.G object at 0x00000000078397C0>\n"
     ]
    }
   ],
   "source": [
    "class F(type): #baseclass! \n",
    "    def __new__(cls,*args,**kwargs):\n",
    "        return super(F,cls).__new__(cls,*args,**kwargs)\n",
    "    \n",
    "    def __init__(self,*args,**kwargs):\n",
    "        super(F,self).__init__(*args,**kwargs)\n",
    "        \n",
    "class G(metaclass = F):#child class that inherits BASE class!  \n",
    "    def __new__(cls,*args,**kwargs):\n",
    "        return super(G,cls).__new__(cls,*args,**kwargs)\n",
    "    \n",
    "    def __init__(self,*args,**kwargs):\n",
    "        super(G,self).__init__(*args,**kwargs)\n",
    "        \n",
    "g = G()\n",
    "print(g)\n"
   ]
  },
  {
   "cell_type": "code",
   "execution_count": 5,
   "metadata": {},
   "outputs": [
    {
     "name": "stdout",
     "output_type": "stream",
     "text": [
      "<__main__.Test object at 0x000000000783C550>\n",
      "flux\n"
     ]
    }
   ],
   "source": [
    "#__SLOTS__!! \n",
    "\n",
    "class Test(object):\n",
    "    def __init__(self):\n",
    "        pass\n",
    "    \n",
    "if __name__ == \"__main__\":\n",
    "    t = Test()\n",
    "    print(t)\n",
    "    #we can addd the attributes here itself duing runtime! on client code!\n",
    "    t.name = 'flux'\n",
    "    print(t.name) #but we didnt not specify at the instance creation at CONSTRUCTOR! "
   ]
  },
  {
   "cell_type": "markdown",
   "metadata": {},
   "source": [
    "# __slots___"
   ]
  },
  {
   "cell_type": "code",
   "execution_count": 14,
   "metadata": {},
   "outputs": [
    {
     "name": "stdout",
     "output_type": "stream",
     "text": [
      "<__main__.Test object at 0x000000000745DF10>\n"
     ]
    },
    {
     "ename": "AttributeError",
     "evalue": "'Test' object has no attribute 'age'",
     "output_type": "error",
     "traceback": [
      "\u001b[1;31m---------------------------------------------------------------------------\u001b[0m",
      "\u001b[1;31mAttributeError\u001b[0m                            Traceback (most recent call last)",
      "\u001b[1;32m<ipython-input-14-ad221fd59bb9>\u001b[0m in \u001b[0;36m<module>\u001b[1;34m\u001b[0m\n\u001b[0;32m     10\u001b[0m     \u001b[0mprint\u001b[0m\u001b[1;33m(\u001b[0m\u001b[0mt\u001b[0m\u001b[1;33m)\u001b[0m\u001b[1;33m\u001b[0m\u001b[1;33m\u001b[0m\u001b[0m\n\u001b[0;32m     11\u001b[0m     \u001b[1;31m#add any attribute to it!\u001b[0m\u001b[1;33m\u001b[0m\u001b[1;33m\u001b[0m\u001b[1;33m\u001b[0m\u001b[0m\n\u001b[1;32m---> 12\u001b[1;33m     \u001b[0mt\u001b[0m\u001b[1;33m.\u001b[0m\u001b[0mage\u001b[0m \u001b[1;33m=\u001b[0m \u001b[1;34m'10'\u001b[0m\u001b[1;33m\u001b[0m\u001b[1;33m\u001b[0m\u001b[0m\n\u001b[0m\u001b[0;32m     13\u001b[0m     \u001b[0mprint\u001b[0m\u001b[1;33m(\u001b[0m\u001b[0mt\u001b[0m\u001b[1;33m.\u001b[0m\u001b[0mage\u001b[0m\u001b[1;33m)\u001b[0m\u001b[1;33m\u001b[0m\u001b[1;33m\u001b[0m\u001b[0m\n\u001b[0;32m     14\u001b[0m \u001b[1;33m\u001b[0m\u001b[0m\n",
      "\u001b[1;31mAttributeError\u001b[0m: 'Test' object has no attribute 'age'"
     ]
    }
   ],
   "source": [
    "#we can add any no of attribute during runtime of python! to stop this we have to use __SLOTS__\n",
    "#in python all the varibales and attributes are saved as DICTIONORY! \n",
    "class Test(object):\n",
    "    \n",
    "    __slots__ = (\"name\") #here we used TUPULE ! we can also use LISTS! \n",
    "    def __init__(self,name):\n",
    "        self.name = name\n",
    "    \n",
    "if __name__ == \"__main__\":\n",
    "    t = Test(name = 'flux')\n",
    "    print(t)\n",
    "    #add any attribute to it!\n",
    "    t.age = '10'\n",
    "    print(t.age)\n",
    "    "
   ]
  },
  {
   "cell_type": "code",
   "execution_count": null,
   "metadata": {},
   "outputs": [],
   "source": []
  }
 ],
 "metadata": {
  "kernelspec": {
   "display_name": "Python 3",
   "language": "python",
   "name": "python3"
  },
  "language_info": {
   "codemirror_mode": {
    "name": "ipython",
    "version": 3
   },
   "file_extension": ".py",
   "mimetype": "text/x-python",
   "name": "python",
   "nbconvert_exporter": "python",
   "pygments_lexer": "ipython3",
   "version": "3.8.3"
  }
 },
 "nbformat": 4,
 "nbformat_minor": 4
}
