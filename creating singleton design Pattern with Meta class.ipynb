{
 "cells": [
  {
   "cell_type": "code",
   "execution_count": 2,
   "metadata": {},
   "outputs": [
    {
     "name": "stdout",
     "output_type": "stream",
     "text": [
      "<__main__.B object at 0x0000000004F56280>\n",
      "<__main__.B object at 0x0000000004D37E50>\n"
     ]
    }
   ],
   "source": [
    "class B(object):\n",
    "    def __init__(self):\n",
    "        pass\n",
    "    \n",
    "obj = B()\n",
    "print(obj)\n",
    "\n",
    "obj1 = B()\n",
    "print(obj1)#after running will be getting two different memory location/INSTANCE! its not the way to keep up! we have to make it simple!"
   ]
  },
  {
   "cell_type": "code",
   "execution_count": 3,
   "metadata": {},
   "outputs": [],
   "source": [
    "#SINGLETON! IS the method allow us to create the only one INSTANCE! "
   ]
  },
  {
   "cell_type": "code",
   "execution_count": 6,
   "metadata": {},
   "outputs": [
    {
     "name": "stdout",
     "output_type": "stream",
     "text": [
      "<__main__.A object at 0x000000000851DCD0>\n",
      "None\n"
     ]
    }
   ],
   "source": [
    "#singleton! \n",
    "class MetaClass(type):\n",
    "    \"\"\" This is singleton design creation pattern \"\"\"\n",
    "    \n",
    "    _instance = {}\n",
    "    \n",
    "    def __call__(cls,*args,**kwargs):\n",
    "        \"\"\"if instance already exists dont create \"\"\"\n",
    "        \n",
    "        if cls not in cls._instance:\n",
    "            cls._instance[cls] = super(MetaClass,cls).__call__(*args,**kwargs)\n",
    "            \n",
    "            return cls._instance[cls]\n",
    "        \n",
    "        \n",
    "class A(metaclass = MetaClass):\n",
    "    \n",
    "    def __init__(self):\n",
    "        pass\n",
    "    \n",
    "    \n",
    "obj = A()\n",
    "print(obj)\n",
    "obj1 = A()\n",
    "print(obj1)\n",
    "    "
   ]
  },
  {
   "cell_type": "code",
   "execution_count": null,
   "metadata": {},
   "outputs": [],
   "source": []
  },
  {
   "cell_type": "code",
   "execution_count": null,
   "metadata": {},
   "outputs": [],
   "source": []
  }
 ],
 "metadata": {
  "kernelspec": {
   "display_name": "Python 3",
   "language": "python",
   "name": "python3"
  },
  "language_info": {
   "codemirror_mode": {
    "name": "ipython",
    "version": 3
   },
   "file_extension": ".py",
   "mimetype": "text/x-python",
   "name": "python",
   "nbconvert_exporter": "python",
   "pygments_lexer": "ipython3",
   "version": "3.8.3"
  }
 },
 "nbformat": 4,
 "nbformat_minor": 4
}
