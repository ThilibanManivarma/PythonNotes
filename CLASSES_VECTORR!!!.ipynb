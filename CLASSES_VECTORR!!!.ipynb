{
 "cells": [
  {
   "cell_type": "code",
   "execution_count": null,
   "id": "4e1ebc03",
   "metadata": {},
   "outputs": [],
   "source": [
    "#Vector, initialization, str, add, mul, truediv, getitem"
   ]
  },
  {
   "cell_type": "code",
   "execution_count": 6,
   "id": "851f6f7a",
   "metadata": {},
   "outputs": [
    {
     "data": {
      "text/plain": [
       "<bound method Vector.__add__ of <__main__.Vector object at 0x7fd948c33070>>"
      ]
     },
     "execution_count": 6,
     "metadata": {},
     "output_type": "execute_result"
    }
   ],
   "source": [
    "from __future__ import annotations\n",
    "\n",
    "class Vector():\n",
    "    \n",
    "    def __init__(self,x,y,z) -> None: #initialization! -> To denote the type!  \n",
    "        self.x = x \n",
    "        self.y = y\n",
    "        self.z = z \n",
    "        \n",
    "    def __add__(self,other:Vector)-> Vector:#When adding two vectors, it should be vector! \n",
    "        x = self.x + other.x \n",
    "        y = self.y + other.y\n",
    "        z = self.z + other.z \n",
    "        return Vector(x,y,z)\n",
    "    \n",
    "    def __sub__(self,other:Vector)-> Vector:#When adding two vectors, it should be vector! \n",
    "        x = self.x - other.x \n",
    "        y = self.y - other.y\n",
    "        z = self.z - other.z \n",
    "        return Vector(x,y,z)\n",
    "        \n",
    "vector =  Vector(1,2,3)\n",
    "vector.__add__\n",
    "\n",
    "        \n",
    "    "
   ]
  },
  {
   "cell_type": "code",
   "execution_count": 43,
   "id": "e3f7f73b",
   "metadata": {},
   "outputs": [
    {
     "name": "stdout",
     "output_type": "stream",
     "text": [
      "[1,2]\n",
      "[3,4]\n",
      "addition, [4,6]\n",
      "vector multiplication by number [0.5,1.0]\n",
      "multiple,  11\n",
      "1\n",
      "5.0\n"
     ]
    }
   ],
   "source": [
    "class Vector():\n",
    "    \n",
    "    def __init__(self,x,y): #Initializatinn!! \n",
    "        self.x = x \n",
    "        self.y = y\n",
    "         \n",
    "    def __str__(self): #To represent the vector in a good/readable way! \n",
    "        return f'[{self.x},{self.y}]'\n",
    "    \n",
    "    def __add__(self,other): #It is operation overloading!! \n",
    "        return Vector(self.x + other.x, self.y + other.y)\n",
    "    \n",
    "    def __mul__(self, other):\n",
    "        \n",
    "        if isinstance(other, Vector):\n",
    "            return self.x * other.x + self.y * other.y\n",
    "            \n",
    "        else:\n",
    "            return Vector(self.x/other, self.y/other)\n",
    "        \n",
    "    def __rmul__(self, other):\n",
    "        \n",
    "        return Vector(self.x * other, self.y * other)\n",
    "    \n",
    "    __rmul__  = __mul__ #ALTERNATIVE ACTION!!!  #WHY DO WE USEE THIS!!! ?? \n",
    "    \n",
    "    def __truediv__(self,other):\n",
    "        if isinstance(other, Vector): #It checks out the \n",
    "            raise TypeError('YOU CANT DIVIDE VECTOR BY VECTOR! ')\n",
    "            \n",
    "        else:\n",
    "            return Vector(self.x/other, self.y/other)\n",
    "        \n",
    "    def __getitem__(self, index):\n",
    "        if index < 0: index += 2\n",
    "        if index == 0:\n",
    "            return self.x\n",
    "        if index == 1:\n",
    "            return self.y\n",
    "        \n",
    "        raise IndexError\n",
    "        \n",
    "    def __abs__(self):\n",
    "        return (self.x**2 + self.y**2)**.5\n",
    "    \n",
    "        \n",
    "    \n",
    "        \n",
    "    \n",
    "    \n",
    "    \n",
    "    \n",
    "v1 = Vector(1,2)\n",
    "print(v1)\n",
    "v2 = Vector(3,4)\n",
    "print(v2)\n",
    "\n",
    "v3 = v1 + v2  #\n",
    "print('addition,',v3)\n",
    "print('vector multiplication by number', v1*2)\n",
    "mul = v1 * v2\n",
    "print('multiple, ', mul) #It throws an error! \n",
    "\n",
    "print(v1[0])\n",
    "print(abs(v2))\n",
    "    "
   ]
  },
  {
   "cell_type": "code",
   "execution_count": 45,
   "id": "60a611b8",
   "metadata": {},
   "outputs": [
    {
     "name": "stdout",
     "output_type": "stream",
     "text": [
      "3\n"
     ]
    }
   ],
   "source": [
    "#HOW TO ADD TWO NUMBERS IN A SINGLE LINEE<< FUNNYYYY!!\n",
    "\n",
    "print(int.__add__(1,2))"
   ]
  },
  {
   "cell_type": "code",
   "execution_count": 21,
   "id": "0cbce79a",
   "metadata": {},
   "outputs": [
    {
     "data": {
      "text/plain": [
       "False"
      ]
     },
     "execution_count": 21,
     "metadata": {},
     "output_type": "execute_result"
    }
   ],
   "source": []
  },
  {
   "cell_type": "code",
   "execution_count": null,
   "id": "4bcc5b26",
   "metadata": {},
   "outputs": [],
   "source": []
  },
  {
   "cell_type": "code",
   "execution_count": null,
   "id": "f61e178c",
   "metadata": {},
   "outputs": [],
   "source": []
  },
  {
   "cell_type": "code",
   "execution_count": null,
   "id": "ff07d3b9",
   "metadata": {},
   "outputs": [],
   "source": []
  },
  {
   "cell_type": "code",
   "execution_count": 19,
   "id": "6b01894e",
   "metadata": {},
   "outputs": [
    {
     "data": {
      "text/plain": [
       "<__main__.Vector at 0x7fd949429ee0>"
      ]
     },
     "execution_count": 19,
     "metadata": {},
     "output_type": "execute_result"
    }
   ],
   "source": [
    "class Vector1:\n",
    "    \n",
    "    def __init__(self,x,y):\n",
    "        self.x = x \n",
    "        self.y = y\n",
    "        \n",
    "    def __add__(self,other): #It is operation overloading!! \n",
    "        return Vector(self.x + other.x, self.y + other.y)\n",
    "        \n",
    "v1 = Vector1(1,2)\n",
    "v2 = Vector1(4,5)\n",
    "\n",
    "v3 = v1 + v2 #THIS IS WHAT HAPPENS WHEN YOU DONT USE __str__ method!!!!!!!1\n",
    "v3\n"
   ]
  },
  {
   "cell_type": "code",
   "execution_count": null,
   "id": "d42c56db",
   "metadata": {},
   "outputs": [],
   "source": [
    "#CLASS FRACTION!!\n"
   ]
  },
  {
   "cell_type": "code",
   "execution_count": 2,
   "id": "2006e8be",
   "metadata": {},
   "outputs": [
    {
     "name": "stdout",
     "output_type": "stream",
     "text": [
      "<__main__.A object at 0x7fec0c519d00> <__main__.A object at 0x7fec0c519c10>\n",
      "False\n"
     ]
    }
   ],
   "source": [
    "class A:\n",
    "    a = 'thiliban!'\n",
    "    \n",
    "x = A()\n",
    "y = A()\n",
    "print(x,y)\n",
    "print(x == y)"
   ]
  },
  {
   "cell_type": "code",
   "execution_count": 3,
   "id": "4d28f326",
   "metadata": {},
   "outputs": [
    {
     "data": {
      "text/plain": [
       "'thiliban!'"
      ]
     },
     "execution_count": 3,
     "metadata": {},
     "output_type": "execute_result"
    }
   ],
   "source": [
    "x.a #A is a class variable ! it can be accessed through it is object! "
   ]
  },
  {
   "cell_type": "code",
   "execution_count": 4,
   "id": "d1f211dd",
   "metadata": {},
   "outputs": [
    {
     "ename": "NameError",
     "evalue": "name 'a' is not defined",
     "output_type": "error",
     "traceback": [
      "\u001b[0;31m---------------------------------------------------------------------------\u001b[0m",
      "\u001b[0;31mNameError\u001b[0m                                 Traceback (most recent call last)",
      "\u001b[0;32m/tmp/ipykernel_572909/1189138062.py\u001b[0m in \u001b[0;36m<module>\u001b[0;34m\u001b[0m\n\u001b[0;32m----> 1\u001b[0;31m \u001b[0mprint\u001b[0m\u001b[0;34m(\u001b[0m\u001b[0ma\u001b[0m\u001b[0;34m)\u001b[0m\u001b[0;34m\u001b[0m\u001b[0;34m\u001b[0m\u001b[0m\n\u001b[0m",
      "\u001b[0;31mNameError\u001b[0m: name 'a' is not defined"
     ]
    }
   ],
   "source": [
    "print(a) # a is a local variable it cant be accessed outside of space! "
   ]
  },
  {
   "cell_type": "code",
   "execution_count": 10,
   "id": "386dfb6b",
   "metadata": {},
   "outputs": [
    {
     "name": "stdout",
     "output_type": "stream",
     "text": [
      "<__main__.Thiliban object at 0x7febf510e700>\n",
      "10\n",
      "100\n",
      "10\n"
     ]
    }
   ],
   "source": [
    "class Thiliban:\n",
    "    \n",
    "    name = 'thiliban manivarma'\n",
    "    age = '10'\n",
    "    oor = 'poland'\n",
    "    \n",
    "t = Thiliban()\n",
    "print(t)\n",
    "print(t.age)\n",
    "t.age = 100\n",
    "print(t.age) #Instance variable! \n",
    "print(Thiliban.age) #Class variable!\n",
    "\n",
    "#Class variable can be changed by using the class name ! <class_name>.<class_variable"
   ]
  },
  {
   "cell_type": "code",
   "execution_count": 12,
   "id": "d92f8944",
   "metadata": {},
   "outputs": [
    {
     "data": {
      "text/plain": [
       "1000"
      ]
     },
     "execution_count": 12,
     "metadata": {},
     "output_type": "execute_result"
    }
   ],
   "source": [
    "Thiliban.age = 1000 #This is how change the class variable! \n"
   ]
  },
  {
   "cell_type": "code",
   "execution_count": 14,
   "id": "2541cc1c",
   "metadata": {},
   "outputs": [
    {
     "name": "stdout",
     "output_type": "stream",
     "text": [
      "{'age': 100}\n",
      "{'__module__': '__main__', 'name': 'thiliban manivarma', 'age': 1000, 'oor': 'poland', '__dict__': <attribute '__dict__' of 'Thiliban' objects>, '__weakref__': <attribute '__weakref__' of 'Thiliban' objects>, '__doc__': None}\n"
     ]
    }
   ],
   "source": [
    "print(t.__dict__)\n",
    "print(Thiliban.__dict__)"
   ]
  },
  {
   "cell_type": "code",
   "execution_count": null,
   "id": "22683d76",
   "metadata": {},
   "outputs": [],
   "source": [
    "#To find the variable used by class we can get them by applying __dict__ function on it!!!! "
   ]
  },
  {
   "cell_type": "code",
   "execution_count": 18,
   "id": "1aba35cf",
   "metadata": {},
   "outputs": [
    {
     "data": {
      "text/plain": [
       "__main__.Thiliban"
      ]
     },
     "execution_count": 18,
     "metadata": {},
     "output_type": "execute_result"
    }
   ],
   "source": [
    "t.__class__ "
   ]
  },
  {
   "cell_type": "code",
   "execution_count": 21,
   "id": "6997bbc5",
   "metadata": {},
   "outputs": [
    {
     "name": "stdout",
     "output_type": "stream",
     "text": [
      "DONT EVER SAY NEVER!\n",
      "STOP UNTIL YOU PROUD OF!! \n",
      "DANCE ALL NIGHT!!!\n",
      "1:\n",
      "DONT EVER SAY NEVER!\n",
      "2:\n",
      "STOP UNTIL YOU PROUD OF!! \n",
      "3:\n",
      "DANCE ALL NIGHT!!!\n"
     ]
    }
   ],
   "source": [
    "class Robot:\n",
    "    \n",
    "    three_points_to_rave = ('DONT EVER SAY NEVER!', 'STOP UNTIL YOU PROUD OF!! ', 'DANCE ALL NIGHT!!!')\n",
    "    \n",
    "    def __init__(self,name,build_year):\n",
    "        self.name = name \n",
    "        self.build_year = build_year\n",
    "        \n",
    "for i in Robot.three_points_to_rave: #Class attributes can be accessed through class name and instance of class! \n",
    "    print(i)\n",
    "    \n",
    "for a,b in enumerate(Robot.three_points_to_rave):\n",
    "    print(str(a+1) + \":\\n\" + b)"
   ]
  },
  {
   "cell_type": "code",
   "execution_count": 27,
   "id": "73ad2b89",
   "metadata": {},
   "outputs": [
    {
     "name": "stdout",
     "output_type": "stream",
     "text": [
      "Number of instances : 1\n",
      "Number of instances : 1\n"
     ]
    }
   ],
   "source": [
    "class C:\n",
    "    counter = 0 \n",
    "    \n",
    "    def __init__(self):\n",
    "        #counter += 1 \n",
    "        type(self).counter += 1\n",
    "        \n",
    "    def __del__(self):\n",
    "        #counter -= 1\n",
    "        type(self).counter -= 1\n",
    "        \n",
    "if __name__ == '__main__':\n",
    "    x = C()\n",
    "    print('Number of instances : ' + str(C.counter))\n",
    "    x = C()\n",
    "    print('Number of instances : ' + str(C.counter))\n",
    "    "
   ]
  },
  {
   "cell_type": "code",
   "execution_count": 23,
   "id": "210f8fc3",
   "metadata": {},
   "outputs": [
    {
     "ename": "NameError",
     "evalue": "name 'self' is not defined",
     "output_type": "error",
     "traceback": [
      "\u001b[0;31m---------------------------------------------------------------------------\u001b[0m",
      "\u001b[0;31mNameError\u001b[0m                                 Traceback (most recent call last)",
      "\u001b[0;32m/tmp/ipykernel_572909/2988195773.py\u001b[0m in \u001b[0;36m<module>\u001b[0;34m\u001b[0m\n\u001b[0;32m----> 1\u001b[0;31m \u001b[0mtype\u001b[0m\u001b[0;34m(\u001b[0m\u001b[0mself\u001b[0m\u001b[0;34m)\u001b[0m\u001b[0;34m\u001b[0m\u001b[0;34m\u001b[0m\u001b[0m\n\u001b[0m",
      "\u001b[0;31mNameError\u001b[0m: name 'self' is not defined"
     ]
    }
   ],
   "source": []
  },
  {
   "cell_type": "code",
   "execution_count": 33,
   "id": "1959de79",
   "metadata": {},
   "outputs": [
    {
     "name": "stdout",
     "output_type": "stream",
     "text": [
      "<class '__main__.Employee'>\n",
      "200\n"
     ]
    }
   ],
   "source": [
    "class Employee:\n",
    "    \n",
    "    def set_salary(self,value):\n",
    "        print(type(self))\n",
    "        self.salary = value \n",
    "        \n",
    "e = Employee() #E is the class instance ! \n",
    "e.set_salary(200) #as soon as we call the function! class instance goes to the class and finds the function/method \n",
    "#which was called! \n",
    "print(e.salary)\n",
    "\n",
    "#thats why self is instance itself!!! \n",
    "#e.set_salary(1000) ---> e belongs to the self, value 1000 sets to the value!"
   ]
  },
  {
   "cell_type": "code",
   "execution_count": null,
   "id": "06742360",
   "metadata": {},
   "outputs": [],
   "source": [
    "class XYZ:\n",
    "    \n",
    "    def __init__(self,a,b):\n",
    "        self.a, self.b = a,b\n",
    "      \n",
    "    def add(self):\n",
    "        r\n",
    "x = XYZ()\n"
   ]
  },
  {
   "cell_type": "code",
   "execution_count": 37,
   "id": "df368f2f",
   "metadata": {},
   "outputs": [
    {
     "name": "stdout",
     "output_type": "stream",
     "text": [
      "<class '__main__.Test'> <class '__main__.Test'>\n"
     ]
    }
   ],
   "source": [
    "class Test:\n",
    "    pass \n",
    "\n",
    "t = Test()\n",
    "type(t) is t.__class_ #TRUE!!!!_\n",
    "print(type(t), t.__class__)"
   ]
  },
  {
   "cell_type": "code",
   "execution_count": 40,
   "id": "3a6834d3",
   "metadata": {},
   "outputs": [
    {
     "data": {
      "text/plain": [
       "mappingproxy"
      ]
     },
     "execution_count": 40,
     "metadata": {},
     "output_type": "execute_result"
    }
   ],
   "source": [
    "type(Test.__dict__)"
   ]
  },
  {
   "cell_type": "code",
   "execution_count": 43,
   "id": "5065bcc7",
   "metadata": {},
   "outputs": [
    {
     "name": "stdout",
     "output_type": "stream",
     "text": [
      "1\n",
      "1\n"
     ]
    }
   ],
   "source": [
    "class I:\n",
    "    \n",
    "    counter = 0 \n",
    "    \n",
    "    def __init__(self):\n",
    "        self.counter += 1 \n",
    "        \n",
    "    def __del__(self):\n",
    "        self.counter -= 1\n",
    "        \n",
    "i = I()\n",
    "print(i.counter)\n",
    "i = I()\n",
    "print(i.counter)"
   ]
  },
  {
   "cell_type": "code",
   "execution_count": null,
   "id": "9fb0556c",
   "metadata": {},
   "outputs": [],
   "source": []
  },
  {
   "cell_type": "code",
   "execution_count": null,
   "id": "d748c413",
   "metadata": {},
   "outputs": [],
   "source": []
  },
  {
   "cell_type": "code",
   "execution_count": null,
   "id": "ff2d060b",
   "metadata": {},
   "outputs": [],
   "source": []
  },
  {
   "cell_type": "code",
   "execution_count": null,
   "id": "061984f5",
   "metadata": {},
   "outputs": [],
   "source": []
  },
  {
   "cell_type": "code",
   "execution_count": null,
   "id": "6c7201ee",
   "metadata": {},
   "outputs": [],
   "source": []
  }
 ],
 "metadata": {
  "kernelspec": {
   "display_name": "Python 3",
   "language": "python",
   "name": "python3"
  },
  "language_info": {
   "codemirror_mode": {
    "name": "ipython",
    "version": 3
   },
   "file_extension": ".py",
   "mimetype": "text/x-python",
   "name": "python",
   "nbconvert_exporter": "python",
   "pygments_lexer": "ipython3",
   "version": "3.8.8"
  }
 },
 "nbformat": 4,
 "nbformat_minor": 5
}
