{
 "cells": [
  {
   "cell_type": "code",
   "execution_count": 2,
   "metadata": {},
   "outputs": [
    {
     "name": "stdout",
     "output_type": "stream",
     "text": [
      "pair(1,2)\n",
      "pair(1,2)\n"
     ]
    }
   ],
   "source": [
    "#PS__you want to change the output produced by prinituing or viewing instancdes to something more sensible!\n",
    "\n",
    "class Pair(object):\n",
    "    def __init__(self,x,y):\n",
    "        self.x = x \n",
    "        self.y = y\n",
    "        \n",
    "    def __repr__(self):\n",
    "        return 'pair({0.x!r},{0.y!r})'.format(self)\n",
    "    \n",
    "    def __str__(self):\n",
    "        return 'pair({0.x!s},{0.y!s})'.format(self)\n",
    "    \n",
    "p = Pair(1,2)\n",
    "print(p.__repr__())\n",
    "print(p.__str__())\n",
    "        "
   ]
  },
  {
   "cell_type": "code",
   "execution_count": 10,
   "metadata": {},
   "outputs": [
    {
     "name": "stdout",
     "output_type": "stream",
     "text": [
      " hi name is thili, my color is black\n"
     ]
    }
   ],
   "source": [
    "class Dog(object):\n",
    "    def __init__(self,name,color):\n",
    "        self.name = name \n",
    "        self.color = color \n",
    "        \n",
    "    def __str__(self):\n",
    "        return f\"Hi my name is {self.name }\"\\\n",
    "                f\" my color is {self.color}\"\n",
    "    \n",
    "    def __repr__(self):\n",
    "        return f\" hi name is {self.name}, my color is {self.color}\"\n",
    "    \n",
    "#d = Dog(name='suba', color ='white')\n",
    "#print(d)\n",
    "d = Dog(name= 'thili',color ='black')\n",
    "print(repr(d))"
   ]
  },
  {
   "cell_type": "code",
   "execution_count": 13,
   "metadata": {},
   "outputs": [
    {
     "name": "stdout",
     "output_type": "stream",
     "text": [
      "Dog(name='thili', color='black')\n"
     ]
    }
   ],
   "source": [
    "class Dog(object):\n",
    "    def __init__(self,name,color):\n",
    "        self.name = name \n",
    "        self.color = color \n",
    "        \n",
    "    def __str__(self):\n",
    "        return f\"Dog(name='{self.name}', color='{self.color}')\"\n",
    "    \n",
    "    def __repr__(self):\n",
    "        return f\"Dog(name='{self.name}', color='{self.color}')\"\n",
    "    \n",
    "#d = Dog(name='suba', color ='white')\n",
    "#print(d)\n",
    "d = Dog(name= 'thili',color ='black')\n",
    "print(str(d))"
   ]
  },
  {
   "cell_type": "code",
   "execution_count": null,
   "metadata": {},
   "outputs": [],
   "source": [
    "#"
   ]
  }
 ],
 "metadata": {
  "kernelspec": {
   "display_name": "Python 3",
   "language": "python",
   "name": "python3"
  },
  "language_info": {
   "codemirror_mode": {
    "name": "ipython",
    "version": 3
   },
   "file_extension": ".py",
   "mimetype": "text/x-python",
   "name": "python",
   "nbconvert_exporter": "python",
   "pygments_lexer": "ipython3",
   "version": "3.8.3"
  }
 },
 "nbformat": 4,
 "nbformat_minor": 4
}
