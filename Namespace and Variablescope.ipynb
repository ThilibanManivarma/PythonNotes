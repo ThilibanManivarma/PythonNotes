{
 "cells": [
  {
   "cell_type": "code",
   "execution_count": 26,
   "metadata": {},
   "outputs": [
    {
     "name": "stdout",
     "output_type": "stream",
     "text": [
      "initially ['In', 'Out', '_', '_24', '_4', '_5', '_7', '__', '___', '__builtin__', '__builtins__', '__doc__', '__loader__', '__name__', '__package__', '__spec__', '_dh', '_i', '_i1', '_i10', '_i11', '_i12', '_i13', '_i14', '_i15', '_i16', '_i17', '_i18', '_i19', '_i2', '_i20', '_i21', '_i22', '_i23', '_i24', '_i25', '_i26', '_i3', '_i4', '_i5', '_i6', '_i7', '_i8', '_i9', '_ih', '_ii', '_iii', '_oh', 'exit', 'f1', 'fuction', 'get_ipython', 'inner', 'num', 'quit', 'x', 'x1', 'y']\n",
      "inside the function ['n']\n",
      "outside the function  ['In', 'Out', '_', '_24', '_4', '_5', '_7', '__', '___', '__builtin__', '__builtins__', '__doc__', '__loader__', '__name__', '__package__', '__spec__', '_dh', '_i', '_i1', '_i10', '_i11', '_i12', '_i13', '_i14', '_i15', '_i16', '_i17', '_i18', '_i19', '_i2', '_i20', '_i21', '_i22', '_i23', '_i24', '_i25', '_i26', '_i3', '_i4', '_i5', '_i6', '_i7', '_i8', '_i9', '_ih', '_ii', '_iii', '_oh', 'exit', 'f1', 'fuction', 'get_ipython', 'inner', 'num', 'quit', 'x', 'x1', 'y']\n"
     ]
    }
   ],
   "source": [
    "#variable_scope! local, global, builtin , encloseD!\n",
    "\n",
    "print('initially', dir())\n",
    "num = 20\n",
    "\n",
    "def f1():\n",
    "    n = 10 #n is the only variable we have inside that too called by fuction calling !outside of the fuction it wont be called! \n",
    "    print('inside the function', dir())\n",
    "    \n",
    "f1()\n",
    "print('outside the function ', dir())"
   ]
  },
  {
   "cell_type": "code",
   "execution_count": 27,
   "metadata": {},
   "outputs": [],
   "source": [
    "#x = 10 \n",
    "#y = 5 #global variable !\n",
    "x1 = 50\n",
    "def fuction():\n",
    "    x,y = 2,4 #local varibale \n",
    "    z = x+y #with the help of gloabl keyword we can access the global variable inside!! \n",
    "    return z \n",
    "\n",
    "#print(fuction())\n",
    "#print(x)   "
   ]
  },
  {
   "cell_type": "code",
   "execution_count": 31,
   "metadata": {},
   "outputs": [
    {
     "name": "stdout",
     "output_type": "stream",
     "text": [
      "11\n",
      "inside the fuction!  10\n",
      "outside the function  10\n"
     ]
    }
   ],
   "source": [
    "#local variable \n",
    "y = 10\n",
    "def inner():\n",
    "    x = 11 #local variable!, defined inside the function! availability of x ends as the programme ends! \n",
    "    print(x)\n",
    "    print('inside the fuction! ', y)\n",
    "   \n",
    "inner() \n",
    "print('outside the function ',y) "
   ]
  },
  {
   "cell_type": "code",
   "execution_count": 35,
   "metadata": {},
   "outputs": [
    {
     "name": "stdout",
     "output_type": "stream",
     "text": [
      "6\n"
     ]
    }
   ],
   "source": [
    "z = 5\n",
    "def inner1():\n",
    "    global z #global keyword is helping to access the global variable ! \n",
    "    z = z + 1\n",
    "    print(z)\n",
    "inner1()"
   ]
  },
  {
   "cell_type": "code",
   "execution_count": 38,
   "metadata": {},
   "outputs": [
    {
     "name": "stdout",
     "output_type": "stream",
     "text": [
      "x : 4\n",
      "y is :  10\n",
      "z is :  4\n",
      "z :  4\n"
     ]
    }
   ],
   "source": [
    "#nested function! \n",
    "y = 10 \n",
    "def outter(): #enclosing fucntion !\n",
    "    z = 4 #enclosing variable it is ! it can be called by non local keyword ! \n",
    "    def inner(): #nested fucntion! \n",
    "        x = 4\n",
    "        print('x :',x)\n",
    "        print('y is : ', y)\n",
    "        print('z is : ', z)\n",
    "        \n",
    "    inner()\n",
    "    print('z : ', z)\n",
    "    \n",
    "outter()"
   ]
  },
  {
   "cell_type": "code",
   "execution_count": 45,
   "metadata": {},
   "outputs": [
    {
     "name": "stdout",
     "output_type": "stream",
     "text": [
      "3\n",
      "x2 is  3\n"
     ]
    }
   ],
   "source": [
    "x1 = 1\n",
    "def ouuter():\n",
    "    x2 = 2\n",
    "    def innner():\n",
    "        nonlocal x2 #enclosing variable it is ! it can be called by non local keyword ! \n",
    "        x3 = 3 \n",
    "        x2 = x2 + 1\n",
    "        print(x3)\n",
    "        print('x2 is ', x2)\n",
    "    innner()\n",
    "ouuter()"
   ]
  },
  {
   "cell_type": "code",
   "execution_count": 54,
   "metadata": {},
   "outputs": [
    {
     "name": "stdout",
     "output_type": "stream",
     "text": [
      "x inside the fuction :  3\n",
      "nested variable  2\n",
      "x is  1\n"
     ]
    }
   ],
   "source": [
    "#variable with the same name ! \n",
    "#how its gonna work in the way!  \n",
    "x = 1\n",
    "def fucn1():\n",
    "    x = 2\n",
    "    def fucn2():\n",
    "        x = 3 \n",
    "        print('x inside the fuction : ', x )\n",
    "        \n",
    "    fucn2()\n",
    "    print('nested variable ', x)\n",
    "    \n",
    "fucn1()\n",
    "print('x is ',x)    \n"
   ]
  },
  {
   "cell_type": "code",
   "execution_count": 56,
   "metadata": {},
   "outputs": [
    {
     "name": "stdout",
     "output_type": "stream",
     "text": [
      "x inside the fuction :  1\n",
      "nested variable  1\n",
      "x is  1\n"
     ]
    }
   ],
   "source": [
    "#even though we have multiple x values how does python find when should choose the X?\n",
    "# it follows LEGB rule,, L - local, E - Enclosed, G - global , b - built in ! \n",
    "# this order python finds the variavle L ---> E --- > G ------> B\n",
    "x = 1 #global scope! \n",
    "def fucn1():\n",
    "    #x = 2 # enclosed scope\n",
    "    def fucn2():\n",
    "        #x = 3 # local scope \n",
    "        print('x inside the fuction : ', x )\n",
    "        \n",
    "    fucn2()\n",
    "    print('nested variable ', x)\n",
    "    \n",
    "fucn1()\n",
    "print('x is ',x)    \n"
   ]
  },
  {
   "cell_type": "code",
   "execution_count": null,
   "metadata": {},
   "outputs": [],
   "source": []
  }
 ],
 "metadata": {
  "kernelspec": {
   "display_name": "Python 3",
   "language": "python",
   "name": "python3"
  },
  "language_info": {
   "codemirror_mode": {
    "name": "ipython",
    "version": 3
   },
   "file_extension": ".py",
   "mimetype": "text/x-python",
   "name": "python",
   "nbconvert_exporter": "python",
   "pygments_lexer": "ipython3",
   "version": "3.8.3"
  }
 },
 "nbformat": 4,
 "nbformat_minor": 4
}
