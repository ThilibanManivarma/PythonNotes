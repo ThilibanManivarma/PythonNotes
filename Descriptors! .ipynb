{
 "cells": [
  {
   "cell_type": "code",
   "execution_count": 1,
   "metadata": {},
   "outputs": [
    {
     "name": "stdout",
     "output_type": "stream",
     "text": [
      "<__main__.Foo object at 0x0000000004D552B0>\n"
     ]
    }
   ],
   "source": [
    "class Foo(object):\n",
    "    \n",
    "    def __init__(self,name):\n",
    "        self._name = name  #priavte variable can be accessed through by getter setter method! \n",
    "\n",
    "    \n",
    "    @property         \n",
    "    def name(self):\n",
    "        return self.name\n",
    "    \n",
    "    @name.setter\n",
    "    def name(self,value):\n",
    "        self.name = value \n",
    "        \n",
    "if __name__ == '__main__':\n",
    "    obj = Foo(name = 'flux')\n",
    "    print(obj)\n",
    "            \n",
    "#here we used only one attribute but if we have 4 or 5 attributes how do we access and are u gonna write getter setter for alll \n",
    "#the 4 attributes cuz it will make us to write more code and code and we wanna prevent the code retypintg! "
   ]
  },
  {
   "cell_type": "code",
   "execution_count": 2,
   "metadata": {},
   "outputs": [],
   "source": [
    "#decorators should be used when we have private /protected variable ! \n"
   ]
  },
  {
   "cell_type": "code",
   "execution_count": 4,
   "metadata": {},
   "outputs": [
    {
     "name": "stdout",
     "output_type": "stream",
     "text": [
      "__set__\n",
      "<__main__.Foo object at 0x0000000007882D30>\n",
      "__get__\n",
      "<__main__.Foo object at 0x0000000007882D30>\n",
      "__set__\n",
      "__get__\n",
      "<__main__.Foo object at 0x0000000007882D30>\n"
     ]
    }
   ],
   "source": [
    "class Descriptors(object):\n",
    "    \n",
    "    def __init__(self,name = None):\n",
    "        self.name = name \n",
    "        \n",
    "    def __get__(self,instance,owner):\n",
    "        print('__get__')\n",
    "        return instance\n",
    "    \n",
    "    def __set__(self,instance,value):\n",
    "        print('__set__')\n",
    "        instance.__dict__[self.name] = value\n",
    "        \n",
    "        \n",
    "    def __delete__(self,instance):\n",
    "        print('__delete__')\n",
    "        \n",
    "        del instance.__dict__[self.name]\n",
    "        \n",
    "class Foo(Descriptors):\n",
    "    name = Descriptors()\n",
    "    \n",
    "if __name__ == '__main__':\n",
    "    obj = Foo(name = 'flux')\n",
    "    print(obj)\n",
    "    print(obj.name)\n",
    "    \n",
    "    obj.name = 'suba'\n",
    "    print(obj.name)\n",
    "    \n",
    "    "
   ]
  },
  {
   "cell_type": "markdown",
   "metadata": {},
   "source": [
    "# Definition of descriptor :\n",
    "Python descriptors are created to manage the attributes of different classes which use the object as reference. In descriptors we used three different methods that are __getters__(), __setters__(), and __delete__(). If any of those methods are defined for an object, it can be termed as a descriptor. Normally, Python uses methods like getters and setters to adjust the values on attributes without any spec  ial processing. It’s just a basic storage system. Sometimes, You might need to validate the values that are being assigned to a value. A descriptor is a mechanism behind properties, methods, static methods, class methods, and super()."
   ]
  },
  {
   "cell_type": "code",
   "execution_count": 12,
   "metadata": {},
   "outputs": [
    {
     "name": "stdout",
     "output_type": "stream",
     "text": [
      "__set__\n",
      "__get__\n",
      "suba\n",
      "__get__\n",
      "suba\n"
     ]
    }
   ],
   "source": [
    "class Descriptorss(object):\n",
    "    \n",
    "    def __init__(self,name = None):\n",
    "        self.name = name \n",
    "        \n",
    "    def __get__(self, instance, owner):\n",
    "        print('__get__')\n",
    "        return instance.__dict__[self.name]\n",
    "    \n",
    "    def __set__(self,instance,value):\n",
    "        print('__set__')\n",
    "        instance.__dict__[self.name] = value\n",
    "    \n",
    "    def __delete__(self,instance):\n",
    "        print('__delelet__')\n",
    "        del instance.__dict__[self.name]\n",
    "        \n",
    "    def __repr__(self):\n",
    "        return 'object descriptor {}'.format(self.name)\n",
    "    \n",
    "    \n",
    "class People(Descriptorss):\n",
    "    \n",
    "    name = Descriptorss() \n",
    "    \n",
    "    def MethodA(self):\n",
    "        print(self.name)\n",
    "        \n",
    "\n",
    "if __name__ == '__main__':\n",
    "    obj = People(name = 'suba')\n",
    "    print(obj.name)\n",
    "    obj.MethodA()\n",
    "    \n",
    "    \n",
    "    \n",
    "    "
   ]
  },
  {
   "cell_type": "code",
   "execution_count": null,
   "metadata": {},
   "outputs": [],
   "source": []
  }
 ],
 "metadata": {
  "kernelspec": {
   "display_name": "Python 3",
   "language": "python",
   "name": "python3"
  },
  "language_info": {
   "codemirror_mode": {
    "name": "ipython",
    "version": 3
   },
   "file_extension": ".py",
   "mimetype": "text/x-python",
   "name": "python",
   "nbconvert_exporter": "python",
   "pygments_lexer": "ipython3",
   "version": "3.8.3"
  }
 },
 "nbformat": 4,
 "nbformat_minor": 4
}
